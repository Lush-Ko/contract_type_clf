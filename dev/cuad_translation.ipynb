{
 "cells": [
  {
   "cell_type": "code",
   "execution_count": null,
   "id": "61319372",
   "metadata": {},
   "outputs": [],
   "source": [
    "!pip install googletrans==3.1.0a0"
   ]
  },
  {
   "cell_type": "code",
   "execution_count": 1,
   "id": "32f55007",
   "metadata": {},
   "outputs": [],
   "source": [
    "import os\n",
    "import json\n",
    "import re\n",
    "from tqdm import tqdm\n",
    "\n",
    "import fitz\n",
    "\n",
    "import googletrans\n",
    "import pandas as pd"
   ]
  },
  {
   "cell_type": "markdown",
   "id": "7f5ff650-ee1f-49fa-9249-b2caef884fe4",
   "metadata": {},
   "source": [
    "# Читаем данные Contract Understanding Atticus Dataset (CUAD)\n",
    "\n",
    "Оригинал доступен по [ссылке](https://zenodo.org/record/4595826)."
   ]
  },
  {
   "cell_type": "code",
   "execution_count": 6,
   "id": "c4d723e8",
   "metadata": {},
   "outputs": [],
   "source": [
    "with open('../data/CUAD_data/CUADv1.json') as f:\n",
    "    data = json.load(f)"
   ]
  },
  {
   "cell_type": "code",
   "execution_count": 15,
   "id": "9b0cd972",
   "metadata": {},
   "outputs": [],
   "source": [
    "texts = [example['paragraphs'][0]['context'] for example in data['data']]"
   ]
  },
  {
   "cell_type": "markdown",
   "id": "7c84443a-9b75-4f64-8bca-4789b69280da",
   "metadata": {},
   "source": [
    "Разбиваем тексты на абзацы, так как переводчик принимает только небольшие порции текста."
   ]
  },
  {
   "cell_type": "code",
   "execution_count": 16,
   "id": "5ccd1ce6",
   "metadata": {},
   "outputs": [],
   "source": [
    "texts_chunks = []\n",
    "for text in texts:\n",
    "    texts_chunks.append([chunk for chunk in text.split('\\n\\n') if chunk])"
   ]
  },
  {
   "cell_type": "code",
   "execution_count": 9,
   "id": "dde49431",
   "metadata": {},
   "outputs": [],
   "source": [
    "translator = googletrans.Translator()"
   ]
  },
  {
   "cell_type": "markdown",
   "id": "10508306-0d27-4183-ac47-db573846ab07",
   "metadata": {},
   "source": [
    "Переводим тексты по абзацам и добавляем пустые строки туда, откуда они были удалены"
   ]
  },
  {
   "cell_type": "code",
   "execution_count": null,
   "id": "db52d51d",
   "metadata": {
    "tags": []
   },
   "outputs": [],
   "source": [
    "results = []\n",
    "for i, text_chunks in tqdm(enumerate(texts_chunks)):\n",
    "    result = translator.translate(text_chunks, dest='ru', src='en')\n",
    "    translated_chunks = [chunk_result.text for chunk_result in result]\n",
    "    all_chunks = []\n",
    "    j = 0\n",
    "    for raw_chunk in texts[i].split('\\n\\n'):\n",
    "        if raw_chunk:\n",
    "            all_chunks.append(translated_chunks[j])\n",
    "            j+=1\n",
    "        else:\n",
    "            all_chunks.append('')\n",
    "    results.append('\\n\\n'.join(all_chunks))"
   ]
  },
  {
   "cell_type": "markdown",
   "id": "6c3e7090-955a-4fff-ac7a-31a27f6d6239",
   "metadata": {},
   "source": [
    "Добавляем данные по типу договоров"
   ]
  },
  {
   "cell_type": "code",
   "execution_count": 56,
   "id": "f325fecc-35c4-46bb-a260-54a2b71a705a",
   "metadata": {},
   "outputs": [
    {
     "name": "stderr",
     "output_type": "stream",
     "text": [
      "510it [01:10,  7.27it/s]\n"
     ]
    }
   ],
   "source": [
    "contract_types_ru = []\n",
    "contract_types_en = []\n",
    "for i, example in tqdm(enumerate(data['data'])):\n",
    "    contract_type = example['paragraphs'][0]['qas'][0]['answers'][0]['text']\n",
    "    contract_type_ru = translator.translate(contract_type, dest='ru', src='en').text\n",
    "    contract_types_ru.append(contract_type_ru)\n",
    "    contract_types_en.append(contract_type)"
   ]
  },
  {
   "cell_type": "markdown",
   "id": "50b8923e-c6dd-4d5d-b89f-b84100919a55",
   "metadata": {},
   "source": [
    "Сохраняем данные в табличном формате"
   ]
  },
  {
   "cell_type": "code",
   "execution_count": 58,
   "id": "fd061d47-2cf5-42b1-8d9a-f461295586ab",
   "metadata": {},
   "outputs": [],
   "source": [
    "pd_data = pd.DataFrame({'text_en': texts,\n",
    "                        'text_ru': results,\n",
    "                        'contract_types_en': contract_types_en,\n",
    "                        'contract_types_ru': contract_types_ru})"
   ]
  },
  {
   "cell_type": "markdown",
   "id": "0a21be0c",
   "metadata": {},
   "source": [
    "# Проставляем метки"
   ]
  },
  {
   "cell_type": "code",
   "execution_count": 2,
   "id": "a3e52267",
   "metadata": {},
   "outputs": [],
   "source": [
    "filename2class = {}\n",
    "for part_num in range(1, 4):\n",
    "    for classname in os.listdir(f'../data/CUAD_data/full_contract_pdf/Part_{\"I\"*part_num}'):\n",
    "        for filename in os.listdir(f'../data/CUAD_data/full_contract_pdf/Part_{\"I\"*part_num}/{classname}'):\n",
    "            clear_filename = filename.lower()\\\n",
    "                                     .split('.pdf')[0]\\\n",
    "                                     .strip()\\\n",
    "                                     .strip('-')\\\n",
    "                                     .replace('agreement_option ', '')\\\n",
    "                                     .replace('é', 'e')\n",
    "            clear_classname  = classname.split(' Agreement')[0]\\\n",
    "                                        .replace('Joint Venture _ Filing', 'Joint Venture')\\\n",
    "                                        .replace('Affiliate_Agreements', 'Affiliate')\\\n",
    "                                        .replace('License_Agreements', 'License')\\\n",
    "                                        .replace('Non_Compete_Non_Solicit', 'Non-Compete')\n",
    "            filename2class[clear_filename] = clear_classname"
   ]
  },
  {
   "cell_type": "code",
   "execution_count": 7,
   "id": "fb740626",
   "metadata": {},
   "outputs": [],
   "source": [
    "target = []\n",
    "\n",
    "for ex in data['data']:\n",
    "    clear_filename = ex['title'].lower()\\\n",
    "                                .strip()\\\n",
    "                                .strip('-')\\\n",
    "                                .replace('é', 'e')\n",
    "    target.append(filename2class[clear_filename])\n",
    "    \n",
    "pd_data['target'] = target"
   ]
  },
  {
   "cell_type": "code",
   "execution_count": 8,
   "id": "ff320b00-515c-46eb-a4af-42c1d43fc008",
   "metadata": {},
   "outputs": [
    {
     "data": {
      "text/html": [
       "<div>\n",
       "<style scoped>\n",
       "    .dataframe tbody tr th:only-of-type {\n",
       "        vertical-align: middle;\n",
       "    }\n",
       "\n",
       "    .dataframe tbody tr th {\n",
       "        vertical-align: top;\n",
       "    }\n",
       "\n",
       "    .dataframe thead th {\n",
       "        text-align: right;\n",
       "    }\n",
       "</style>\n",
       "<table border=\"1\" class=\"dataframe\">\n",
       "  <thead>\n",
       "    <tr style=\"text-align: right;\">\n",
       "      <th></th>\n",
       "      <th>text_en</th>\n",
       "      <th>text_ru</th>\n",
       "      <th>contract_types_en</th>\n",
       "      <th>contract_types_ru</th>\n",
       "      <th>target</th>\n",
       "    </tr>\n",
       "  </thead>\n",
       "  <tbody>\n",
       "    <tr>\n",
       "      <th>0</th>\n",
       "      <td>EXHIBIT 10.6\\n\\n                              ...</td>\n",
       "      <td>ПРИЛОЖЕНИЕ 10.6\\n\\nДИСТРИБЬЮТОРСКОЕ СОГЛАШЕНИЕ...</td>\n",
       "      <td>DISTRIBUTOR AGREEMENT</td>\n",
       "      <td>ДИСТРИБЬЮТОРСКОЕ СОГЛАШЕНИЕ</td>\n",
       "      <td>Distributor</td>\n",
       "    </tr>\n",
       "    <tr>\n",
       "      <th>1</th>\n",
       "      <td>Exhibit 10.26    CONFIDENTIAL TREATMENT HAS BE...</td>\n",
       "      <td>Приложение 10.26 БЫЛО ЗАПРОШЕНО СООТВЕТСТВИЕ К...</td>\n",
       "      <td>Promotion and Distribution Agreement</td>\n",
       "      <td>Соглашение о продвижении и распространении</td>\n",
       "      <td>Promotion</td>\n",
       "    </tr>\n",
       "    <tr>\n",
       "      <th>2</th>\n",
       "      <td>Exhibit 10.16 SUPPLY CONTRACT Contract No: Dat...</td>\n",
       "      <td>Приложение 10.16 КОНТРАКТ ПОСТАВКИ Контракт №:...</td>\n",
       "      <td>SUPPLY CONTRACT</td>\n",
       "      <td>ДОГОВОР ПОСТАВКИ</td>\n",
       "      <td>Supply</td>\n",
       "    </tr>\n",
       "    <tr>\n",
       "      <th>3</th>\n",
       "      <td>1                                             ...</td>\n",
       "      <td>1 Приложение 10.3\\n\\nя-на. (LOGO) www.i-on.com...</td>\n",
       "      <td>WEB SITE HOSTING AGREEMENT</td>\n",
       "      <td>СОГЛАШЕНИЕ О РАЗМЕЩЕНИИ ВЕБ-САЙТА</td>\n",
       "      <td>Hosting</td>\n",
       "    </tr>\n",
       "    <tr>\n",
       "      <th>4</th>\n",
       "      <td>Exhibit 1\\n\\nJOINT FILING AGREEMENT\\n\\nThe und...</td>\n",
       "      <td>Экспонат 1\\n\\nСОГЛАШЕНИЕ О СОВМЕСТНОЙ ПОДАЧЕ\\n...</td>\n",
       "      <td>JOINT FILING AGREEMENT</td>\n",
       "      <td>СОГЛАШЕНИЕ О СОВМЕСТНОЙ ПОДАЧЕ</td>\n",
       "      <td>Joint Venture</td>\n",
       "    </tr>\n",
       "  </tbody>\n",
       "</table>\n",
       "</div>"
      ],
      "text/plain": [
       "                                             text_en  \\\n",
       "0  EXHIBIT 10.6\\n\\n                              ...   \n",
       "1  Exhibit 10.26    CONFIDENTIAL TREATMENT HAS BE...   \n",
       "2  Exhibit 10.16 SUPPLY CONTRACT Contract No: Dat...   \n",
       "3  1                                             ...   \n",
       "4  Exhibit 1\\n\\nJOINT FILING AGREEMENT\\n\\nThe und...   \n",
       "\n",
       "                                             text_ru  \\\n",
       "0  ПРИЛОЖЕНИЕ 10.6\\n\\nДИСТРИБЬЮТОРСКОЕ СОГЛАШЕНИЕ...   \n",
       "1  Приложение 10.26 БЫЛО ЗАПРОШЕНО СООТВЕТСТВИЕ К...   \n",
       "2  Приложение 10.16 КОНТРАКТ ПОСТАВКИ Контракт №:...   \n",
       "3  1 Приложение 10.3\\n\\nя-на. (LOGO) www.i-on.com...   \n",
       "4  Экспонат 1\\n\\nСОГЛАШЕНИЕ О СОВМЕСТНОЙ ПОДАЧЕ\\n...   \n",
       "\n",
       "                      contract_types_en  \\\n",
       "0                 DISTRIBUTOR AGREEMENT   \n",
       "1  Promotion and Distribution Agreement   \n",
       "2                       SUPPLY CONTRACT   \n",
       "3            WEB SITE HOSTING AGREEMENT   \n",
       "4                JOINT FILING AGREEMENT   \n",
       "\n",
       "                            contract_types_ru         target  \n",
       "0                 ДИСТРИБЬЮТОРСКОЕ СОГЛАШЕНИЕ    Distributor  \n",
       "1  Соглашение о продвижении и распространении      Promotion  \n",
       "2                            ДОГОВОР ПОСТАВКИ         Supply  \n",
       "3           СОГЛАШЕНИЕ О РАЗМЕЩЕНИИ ВЕБ-САЙТА        Hosting  \n",
       "4              СОГЛАШЕНИЕ О СОВМЕСТНОЙ ПОДАЧЕ  Joint Venture  "
      ]
     },
     "execution_count": 8,
     "metadata": {},
     "output_type": "execute_result"
    }
   ],
   "source": [
    "pd_data.head()"
   ]
  },
  {
   "cell_type": "code",
   "execution_count": 39,
   "id": "912b2bb4-ec81-4821-986d-d42944389263",
   "metadata": {},
   "outputs": [],
   "source": [
    "pd_data.to_csv('../data/CUAD_data/translated_data.csv')"
   ]
  }
 ],
 "metadata": {
  "kernelspec": {
   "display_name": "Python 3 (ipykernel)",
   "language": "python",
   "name": "python3"
  },
  "language_info": {
   "codemirror_mode": {
    "name": "ipython",
    "version": 3
   },
   "file_extension": ".py",
   "mimetype": "text/x-python",
   "name": "python",
   "nbconvert_exporter": "python",
   "pygments_lexer": "ipython3",
   "version": "3.7.15"
  }
 },
 "nbformat": 4,
 "nbformat_minor": 5
}
