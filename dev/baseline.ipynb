{
 "cells": [
  {
   "cell_type": "code",
   "execution_count": 7,
   "id": "d3a48832",
   "metadata": {},
   "outputs": [
    {
     "name": "stdout",
     "output_type": "stream",
     "text": [
      "Requirement already satisfied: tika in c:\\users\\265375\\anaconda3\\lib\\site-packages (1.24)\n",
      "Requirement already satisfied: requests in c:\\users\\265375\\anaconda3\\lib\\site-packages (from tika) (2.28.1)\n",
      "Requirement already satisfied: setuptools in c:\\users\\265375\\anaconda3\\lib\\site-packages (from tika) (63.4.1)\n",
      "Requirement already satisfied: idna<4,>=2.5 in c:\\users\\265375\\anaconda3\\lib\\site-packages (from requests->tika) (3.3)\n",
      "Requirement already satisfied: certifi>=2017.4.17 in c:\\users\\265375\\anaconda3\\lib\\site-packages (from requests->tika) (2022.9.14)\n",
      "Requirement already satisfied: charset-normalizer<3,>=2 in c:\\users\\265375\\anaconda3\\lib\\site-packages (from requests->tika) (2.0.4)\n",
      "Requirement already satisfied: urllib3<1.27,>=1.21.1 in c:\\users\\265375\\anaconda3\\lib\\site-packages (from requests->tika) (1.26.11)\n",
      "Requirement already satisfied: razdel in c:\\users\\265375\\anaconda3\\lib\\site-packages (0.5.0)\n",
      "Collecting pymorphy2\n",
      "  Downloading pymorphy2-0.9.1-py3-none-any.whl (55 kB)\n",
      "     -------------------------------------- 55.5/55.5 kB 361.9 kB/s eta 0:00:00\n",
      "Collecting pymorphy2-dicts-ru<3.0,>=2.4\n",
      "  Downloading pymorphy2_dicts_ru-2.4.417127.4579844-py2.py3-none-any.whl (8.2 MB)\n",
      "     ---------------------------------------- 8.2/8.2 MB 8.8 MB/s eta 0:00:00\n",
      "Collecting docopt>=0.6\n",
      "  Downloading docopt-0.6.2.tar.gz (25 kB)\n",
      "  Preparing metadata (setup.py): started\n",
      "  Preparing metadata (setup.py): finished with status 'done'\n",
      "Collecting dawg-python>=0.7.1\n",
      "  Downloading DAWG_Python-0.7.2-py2.py3-none-any.whl (11 kB)\n",
      "Building wheels for collected packages: docopt\n",
      "  Building wheel for docopt (setup.py): started\n",
      "  Building wheel for docopt (setup.py): finished with status 'done'\n",
      "  Created wheel for docopt: filename=docopt-0.6.2-py2.py3-none-any.whl size=13706 sha256=f90120839f35568bde73340d12d285bcebd03e13c69c96855584ac025dc53dec\n",
      "  Stored in directory: c:\\users\\265375\\appdata\\local\\pip\\cache\\wheels\\70\\4a\\46\\1309fc853b8d395e60bafaf1b6df7845bdd82c95fd59dd8d2b\n",
      "Successfully built docopt\n",
      "Installing collected packages: pymorphy2-dicts-ru, docopt, dawg-python, pymorphy2\n",
      "Successfully installed dawg-python-0.7.2 docopt-0.6.2 pymorphy2-0.9.1 pymorphy2-dicts-ru-2.4.417127.4579844\n"
     ]
    }
   ],
   "source": [
    "!pip install tika\n",
    "!pip install razdel\n",
    "!pip install pymorphy2"
   ]
  },
  {
   "cell_type": "code",
   "execution_count": 3,
   "id": "b5756ae3",
   "metadata": {},
   "outputs": [],
   "source": [
    "import tika\n",
    "tika.initVM()"
   ]
  },
  {
   "cell_type": "code",
   "execution_count": 8,
   "id": "d01518b9",
   "metadata": {},
   "outputs": [],
   "source": [
    "import os\n",
    "import json\n",
    "import re\n",
    "\n",
    "import pandas as pd\n",
    "import numpy as np\n",
    "\n",
    "from sklearn.metrics import classification_report\n",
    "from sklearn.model_selection import StratifiedKFold, cross_validate\n",
    "from sklearn.feature_extraction.text import CountVectorizer, TfidfTransformer\n",
    "from sklearn.linear_model import LogisticRegression, LogisticRegressionCV\n",
    "from sklearn.pipeline import Pipeline, make_pipeline\n",
    "from sklearn.preprocessing import LabelEncoder\n",
    "\n",
    "from xgboost import XGBClassifier\n",
    "\n",
    "from razdel import tokenize\n",
    "from pymorphy2 import MorphAnalyzer\n",
    "\n",
    "\n",
    "# import fitz\n",
    "# import docx2txt"
   ]
  },
  {
   "cell_type": "markdown",
   "id": "90cce018",
   "metadata": {},
   "source": [
    "# Чтение файлов"
   ]
  },
  {
   "cell_type": "code",
   "execution_count": 9,
   "id": "1163c9a3",
   "metadata": {},
   "outputs": [],
   "source": [
    "from tika import parser\n",
    "\n",
    "def get_document_text(filepath):\n",
    "    doc_type = filepath.split('.')[-1]\n",
    "    if doc_type in ['doc', 'rtf', 'pdf', 'docx']:\n",
    "        text = parser.from_file(filepath)['content']\n",
    "    else:\n",
    "        print(f'File extention must be either pdf, rtf, doc or docx, got {doc_type}')\n",
    "    return text.strip()"
   ]
  },
  {
   "cell_type": "code",
   "execution_count": 13,
   "id": "ac6fdf1e",
   "metadata": {},
   "outputs": [],
   "source": [
    "datadir = 'C:/Users/265375/Desktop/Work/data/docs'"
   ]
  },
  {
   "cell_type": "code",
   "execution_count": 14,
   "id": "f63f0b17",
   "metadata": {},
   "outputs": [
    {
     "name": "stderr",
     "output_type": "stream",
     "text": [
      "2022-12-17 02:59:33,977 [MainThread  ] [INFO ]  Retrieving http://search.maven.org/remotecontent?filepath=org/apache/tika/tika-server/1.24/tika-server-1.24.jar to C:\\Users\\265375\\AppData\\Local\\Temp\\tika-server.jar.\n",
      "2022-12-17 02:59:42,189 [MainThread  ] [INFO ]  Retrieving http://search.maven.org/remotecontent?filepath=org/apache/tika/tika-server/1.24/tika-server-1.24.jar.md5 to C:\\Users\\265375\\AppData\\Local\\Temp\\tika-server.jar.md5.\n",
      "2022-12-17 02:59:44,199 [MainThread  ] [ERROR]  Unable to run java; is it installed?\n",
      "2022-12-17 02:59:44,200 [MainThread  ] [ERROR]  Failed to receive startup confirmation from startServer.\n",
      "2022-12-17 02:59:45,371 [MainThread  ] [ERROR]  Unable to run java; is it installed?\n",
      "2022-12-17 02:59:45,372 [MainThread  ] [ERROR]  Failed to receive startup confirmation from startServer.\n",
      "2022-12-17 02:59:46,528 [MainThread  ] [ERROR]  Unable to run java; is it installed?\n",
      "2022-12-17 02:59:46,528 [MainThread  ] [ERROR]  Failed to receive startup confirmation from startServer.\n",
      "2022-12-17 02:59:47,680 [MainThread  ] [ERROR]  Unable to run java; is it installed?\n",
      "2022-12-17 02:59:47,681 [MainThread  ] [ERROR]  Failed to receive startup confirmation from startServer.\n",
      "2022-12-17 02:59:48,856 [MainThread  ] [ERROR]  Unable to run java; is it installed?\n",
      "2022-12-17 02:59:48,857 [MainThread  ] [ERROR]  Failed to receive startup confirmation from startServer.\n",
      "2022-12-17 02:59:50,015 [MainThread  ] [ERROR]  Unable to run java; is it installed?\n",
      "2022-12-17 02:59:50,016 [MainThread  ] [ERROR]  Failed to receive startup confirmation from startServer.\n",
      "2022-12-17 02:59:51,169 [MainThread  ] [ERROR]  Unable to run java; is it installed?\n",
      "2022-12-17 02:59:51,170 [MainThread  ] [ERROR]  Failed to receive startup confirmation from startServer.\n",
      "2022-12-17 02:59:52,326 [MainThread  ] [ERROR]  Unable to run java; is it installed?\n",
      "2022-12-17 02:59:52,327 [MainThread  ] [ERROR]  Failed to receive startup confirmation from startServer.\n",
      "2022-12-17 02:59:53,482 [MainThread  ] [ERROR]  Unable to run java; is it installed?\n",
      "2022-12-17 02:59:53,483 [MainThread  ] [ERROR]  Failed to receive startup confirmation from startServer.\n",
      "2022-12-17 02:59:54,639 [MainThread  ] [ERROR]  Unable to run java; is it installed?\n",
      "2022-12-17 02:59:54,640 [MainThread  ] [ERROR]  Failed to receive startup confirmation from startServer.\n",
      "2022-12-17 02:59:55,815 [MainThread  ] [ERROR]  Unable to run java; is it installed?\n",
      "2022-12-17 02:59:55,816 [MainThread  ] [ERROR]  Failed to receive startup confirmation from startServer.\n",
      "2022-12-17 02:59:56,974 [MainThread  ] [ERROR]  Unable to run java; is it installed?\n",
      "2022-12-17 02:59:56,974 [MainThread  ] [ERROR]  Failed to receive startup confirmation from startServer.\n",
      "2022-12-17 02:59:58,146 [MainThread  ] [ERROR]  Unable to run java; is it installed?\n",
      "2022-12-17 02:59:58,146 [MainThread  ] [ERROR]  Failed to receive startup confirmation from startServer.\n",
      "2022-12-17 02:59:59,307 [MainThread  ] [ERROR]  Unable to run java; is it installed?\n",
      "2022-12-17 02:59:59,308 [MainThread  ] [ERROR]  Failed to receive startup confirmation from startServer.\n",
      "2022-12-17 03:00:00,466 [MainThread  ] [ERROR]  Unable to run java; is it installed?\n",
      "2022-12-17 03:00:00,467 [MainThread  ] [ERROR]  Failed to receive startup confirmation from startServer.\n",
      "2022-12-17 03:00:01,637 [MainThread  ] [ERROR]  Unable to run java; is it installed?\n",
      "2022-12-17 03:00:01,638 [MainThread  ] [ERROR]  Failed to receive startup confirmation from startServer.\n",
      "2022-12-17 03:00:02,792 [MainThread  ] [ERROR]  Unable to run java; is it installed?\n",
      "2022-12-17 03:00:02,793 [MainThread  ] [ERROR]  Failed to receive startup confirmation from startServer.\n",
      "2022-12-17 03:00:03,944 [MainThread  ] [ERROR]  Unable to run java; is it installed?\n",
      "2022-12-17 03:00:03,945 [MainThread  ] [ERROR]  Failed to receive startup confirmation from startServer.\n",
      "2022-12-17 03:00:05,098 [MainThread  ] [ERROR]  Unable to run java; is it installed?\n",
      "2022-12-17 03:00:05,099 [MainThread  ] [ERROR]  Failed to receive startup confirmation from startServer.\n",
      "2022-12-17 03:00:06,250 [MainThread  ] [ERROR]  Unable to run java; is it installed?\n",
      "2022-12-17 03:00:06,251 [MainThread  ] [ERROR]  Failed to receive startup confirmation from startServer.\n",
      "2022-12-17 03:00:07,404 [MainThread  ] [ERROR]  Unable to run java; is it installed?\n",
      "2022-12-17 03:00:07,406 [MainThread  ] [ERROR]  Failed to receive startup confirmation from startServer.\n",
      "2022-12-17 03:00:08,559 [MainThread  ] [ERROR]  Unable to run java; is it installed?\n",
      "2022-12-17 03:00:08,560 [MainThread  ] [ERROR]  Failed to receive startup confirmation from startServer.\n",
      "2022-12-17 03:00:09,731 [MainThread  ] [ERROR]  Unable to run java; is it installed?\n",
      "2022-12-17 03:00:09,733 [MainThread  ] [ERROR]  Failed to receive startup confirmation from startServer.\n",
      "2022-12-17 03:00:10,906 [MainThread  ] [ERROR]  Unable to run java; is it installed?\n",
      "2022-12-17 03:00:10,907 [MainThread  ] [ERROR]  Failed to receive startup confirmation from startServer.\n",
      "2022-12-17 03:00:12,060 [MainThread  ] [ERROR]  Unable to run java; is it installed?\n",
      "2022-12-17 03:00:12,061 [MainThread  ] [ERROR]  Failed to receive startup confirmation from startServer.\n",
      "2022-12-17 03:00:13,224 [MainThread  ] [ERROR]  Unable to run java; is it installed?\n",
      "2022-12-17 03:00:13,226 [MainThread  ] [ERROR]  Failed to receive startup confirmation from startServer.\n",
      "2022-12-17 03:00:14,418 [MainThread  ] [ERROR]  Unable to run java; is it installed?\n",
      "2022-12-17 03:00:14,418 [MainThread  ] [ERROR]  Failed to receive startup confirmation from startServer.\n",
      "2022-12-17 03:00:15,579 [MainThread  ] [ERROR]  Unable to run java; is it installed?\n",
      "2022-12-17 03:00:15,579 [MainThread  ] [ERROR]  Failed to receive startup confirmation from startServer.\n",
      "2022-12-17 03:00:16,731 [MainThread  ] [ERROR]  Unable to run java; is it installed?\n",
      "2022-12-17 03:00:16,731 [MainThread  ] [ERROR]  Failed to receive startup confirmation from startServer.\n",
      "2022-12-17 03:00:17,886 [MainThread  ] [ERROR]  Unable to run java; is it installed?\n",
      "2022-12-17 03:00:17,887 [MainThread  ] [ERROR]  Failed to receive startup confirmation from startServer.\n",
      "2022-12-17 03:00:19,061 [MainThread  ] [ERROR]  Unable to run java; is it installed?\n",
      "2022-12-17 03:00:19,062 [MainThread  ] [ERROR]  Failed to receive startup confirmation from startServer.\n",
      "2022-12-17 03:00:20,274 [MainThread  ] [ERROR]  Unable to run java; is it installed?\n",
      "2022-12-17 03:00:20,275 [MainThread  ] [ERROR]  Failed to receive startup confirmation from startServer.\n",
      "2022-12-17 03:00:21,447 [MainThread  ] [ERROR]  Unable to run java; is it installed?\n",
      "2022-12-17 03:00:21,448 [MainThread  ] [ERROR]  Failed to receive startup confirmation from startServer.\n",
      "2022-12-17 03:00:22,620 [MainThread  ] [ERROR]  Unable to run java; is it installed?\n",
      "2022-12-17 03:00:22,621 [MainThread  ] [ERROR]  Failed to receive startup confirmation from startServer.\n",
      "2022-12-17 03:00:23,782 [MainThread  ] [ERROR]  Unable to run java; is it installed?\n",
      "2022-12-17 03:00:23,783 [MainThread  ] [ERROR]  Failed to receive startup confirmation from startServer.\n",
      "2022-12-17 03:00:24,940 [MainThread  ] [ERROR]  Unable to run java; is it installed?\n",
      "2022-12-17 03:00:24,941 [MainThread  ] [ERROR]  Failed to receive startup confirmation from startServer.\n",
      "2022-12-17 03:00:26,099 [MainThread  ] [ERROR]  Unable to run java; is it installed?\n",
      "2022-12-17 03:00:26,100 [MainThread  ] [ERROR]  Failed to receive startup confirmation from startServer.\n",
      "2022-12-17 03:00:27,254 [MainThread  ] [ERROR]  Unable to run java; is it installed?\n",
      "2022-12-17 03:00:27,255 [MainThread  ] [ERROR]  Failed to receive startup confirmation from startServer.\n",
      "2022-12-17 03:00:28,426 [MainThread  ] [ERROR]  Unable to run java; is it installed?\n",
      "2022-12-17 03:00:28,427 [MainThread  ] [ERROR]  Failed to receive startup confirmation from startServer.\n",
      "2022-12-17 03:00:29,627 [MainThread  ] [ERROR]  Unable to run java; is it installed?\n",
      "2022-12-17 03:00:29,629 [MainThread  ] [ERROR]  Failed to receive startup confirmation from startServer.\n",
      "2022-12-17 03:00:30,784 [MainThread  ] [ERROR]  Unable to run java; is it installed?\n",
      "2022-12-17 03:00:30,785 [MainThread  ] [ERROR]  Failed to receive startup confirmation from startServer.\n"
     ]
    },
    {
     "name": "stderr",
     "output_type": "stream",
     "text": [
      "2022-12-17 03:00:31,935 [MainThread  ] [ERROR]  Unable to run java; is it installed?\n",
      "2022-12-17 03:00:31,936 [MainThread  ] [ERROR]  Failed to receive startup confirmation from startServer.\n",
      "2022-12-17 03:00:33,088 [MainThread  ] [ERROR]  Unable to run java; is it installed?\n",
      "2022-12-17 03:00:33,089 [MainThread  ] [ERROR]  Failed to receive startup confirmation from startServer.\n",
      "2022-12-17 03:00:34,240 [MainThread  ] [ERROR]  Unable to run java; is it installed?\n",
      "2022-12-17 03:00:34,241 [MainThread  ] [ERROR]  Failed to receive startup confirmation from startServer.\n",
      "2022-12-17 03:00:35,392 [MainThread  ] [ERROR]  Unable to run java; is it installed?\n",
      "2022-12-17 03:00:35,393 [MainThread  ] [ERROR]  Failed to receive startup confirmation from startServer.\n",
      "2022-12-17 03:00:36,546 [MainThread  ] [ERROR]  Unable to run java; is it installed?\n",
      "2022-12-17 03:00:36,547 [MainThread  ] [ERROR]  Failed to receive startup confirmation from startServer.\n",
      "2022-12-17 03:00:37,706 [MainThread  ] [ERROR]  Unable to run java; is it installed?\n",
      "2022-12-17 03:00:37,707 [MainThread  ] [ERROR]  Failed to receive startup confirmation from startServer.\n",
      "2022-12-17 03:00:38,859 [MainThread  ] [ERROR]  Unable to run java; is it installed?\n",
      "2022-12-17 03:00:38,860 [MainThread  ] [ERROR]  Failed to receive startup confirmation from startServer.\n",
      "2022-12-17 03:00:40,018 [MainThread  ] [ERROR]  Unable to run java; is it installed?\n",
      "2022-12-17 03:00:40,019 [MainThread  ] [ERROR]  Failed to receive startup confirmation from startServer.\n",
      "2022-12-17 03:00:41,182 [MainThread  ] [ERROR]  Unable to run java; is it installed?\n",
      "2022-12-17 03:00:41,183 [MainThread  ] [ERROR]  Failed to receive startup confirmation from startServer.\n",
      "2022-12-17 03:00:42,339 [MainThread  ] [ERROR]  Unable to run java; is it installed?\n",
      "2022-12-17 03:00:42,340 [MainThread  ] [ERROR]  Failed to receive startup confirmation from startServer.\n",
      "2022-12-17 03:00:43,500 [MainThread  ] [ERROR]  Unable to run java; is it installed?\n",
      "2022-12-17 03:00:43,501 [MainThread  ] [ERROR]  Failed to receive startup confirmation from startServer.\n",
      "2022-12-17 03:00:44,717 [MainThread  ] [ERROR]  Unable to run java; is it installed?\n",
      "2022-12-17 03:00:44,718 [MainThread  ] [ERROR]  Failed to receive startup confirmation from startServer.\n",
      "2022-12-17 03:00:45,883 [MainThread  ] [ERROR]  Unable to run java; is it installed?\n",
      "2022-12-17 03:00:45,884 [MainThread  ] [ERROR]  Failed to receive startup confirmation from startServer.\n",
      "2022-12-17 03:00:47,041 [MainThread  ] [ERROR]  Unable to run java; is it installed?\n",
      "2022-12-17 03:00:47,042 [MainThread  ] [ERROR]  Failed to receive startup confirmation from startServer.\n",
      "2022-12-17 03:00:48,197 [MainThread  ] [ERROR]  Unable to run java; is it installed?\n",
      "2022-12-17 03:00:48,197 [MainThread  ] [ERROR]  Failed to receive startup confirmation from startServer.\n",
      "2022-12-17 03:00:49,348 [MainThread  ] [ERROR]  Unable to run java; is it installed?\n",
      "2022-12-17 03:00:49,349 [MainThread  ] [ERROR]  Failed to receive startup confirmation from startServer.\n",
      "2022-12-17 03:00:50,502 [MainThread  ] [ERROR]  Unable to run java; is it installed?\n",
      "2022-12-17 03:00:50,503 [MainThread  ] [ERROR]  Failed to receive startup confirmation from startServer.\n",
      "2022-12-17 03:00:51,656 [MainThread  ] [ERROR]  Unable to run java; is it installed?\n",
      "2022-12-17 03:00:51,657 [MainThread  ] [ERROR]  Failed to receive startup confirmation from startServer.\n",
      "2022-12-17 03:00:52,809 [MainThread  ] [ERROR]  Unable to run java; is it installed?\n",
      "2022-12-17 03:00:52,809 [MainThread  ] [ERROR]  Failed to receive startup confirmation from startServer.\n",
      "2022-12-17 03:00:53,964 [MainThread  ] [ERROR]  Unable to run java; is it installed?\n",
      "2022-12-17 03:00:53,965 [MainThread  ] [ERROR]  Failed to receive startup confirmation from startServer.\n",
      "2022-12-17 03:00:55,118 [MainThread  ] [ERROR]  Unable to run java; is it installed?\n",
      "2022-12-17 03:00:55,119 [MainThread  ] [ERROR]  Failed to receive startup confirmation from startServer.\n",
      "2022-12-17 03:00:56,271 [MainThread  ] [ERROR]  Unable to run java; is it installed?\n",
      "2022-12-17 03:00:56,272 [MainThread  ] [ERROR]  Failed to receive startup confirmation from startServer.\n",
      "2022-12-17 03:00:57,425 [MainThread  ] [ERROR]  Unable to run java; is it installed?\n",
      "2022-12-17 03:00:57,426 [MainThread  ] [ERROR]  Failed to receive startup confirmation from startServer.\n",
      "2022-12-17 03:00:58,580 [MainThread  ] [ERROR]  Unable to run java; is it installed?\n",
      "2022-12-17 03:00:58,581 [MainThread  ] [ERROR]  Failed to receive startup confirmation from startServer.\n",
      "2022-12-17 03:00:59,737 [MainThread  ] [ERROR]  Unable to run java; is it installed?\n",
      "2022-12-17 03:00:59,738 [MainThread  ] [ERROR]  Failed to receive startup confirmation from startServer.\n",
      "2022-12-17 03:01:00,919 [MainThread  ] [ERROR]  Unable to run java; is it installed?\n",
      "2022-12-17 03:01:00,920 [MainThread  ] [ERROR]  Failed to receive startup confirmation from startServer.\n",
      "2022-12-17 03:01:02,086 [MainThread  ] [ERROR]  Unable to run java; is it installed?\n",
      "2022-12-17 03:01:02,087 [MainThread  ] [ERROR]  Failed to receive startup confirmation from startServer.\n",
      "2022-12-17 03:01:03,241 [MainThread  ] [ERROR]  Unable to run java; is it installed?\n",
      "2022-12-17 03:01:03,242 [MainThread  ] [ERROR]  Failed to receive startup confirmation from startServer.\n",
      "2022-12-17 03:01:04,393 [MainThread  ] [ERROR]  Unable to run java; is it installed?\n",
      "2022-12-17 03:01:04,394 [MainThread  ] [ERROR]  Failed to receive startup confirmation from startServer.\n",
      "2022-12-17 03:01:05,546 [MainThread  ] [ERROR]  Unable to run java; is it installed?\n",
      "2022-12-17 03:01:05,547 [MainThread  ] [ERROR]  Failed to receive startup confirmation from startServer.\n",
      "2022-12-17 03:01:06,698 [MainThread  ] [ERROR]  Unable to run java; is it installed?\n",
      "2022-12-17 03:01:06,699 [MainThread  ] [ERROR]  Failed to receive startup confirmation from startServer.\n",
      "2022-12-17 03:01:07,850 [MainThread  ] [ERROR]  Unable to run java; is it installed?\n",
      "2022-12-17 03:01:07,851 [MainThread  ] [ERROR]  Failed to receive startup confirmation from startServer.\n",
      "2022-12-17 03:01:09,004 [MainThread  ] [ERROR]  Unable to run java; is it installed?\n",
      "2022-12-17 03:01:09,005 [MainThread  ] [ERROR]  Failed to receive startup confirmation from startServer.\n",
      "2022-12-17 03:01:10,159 [MainThread  ] [ERROR]  Unable to run java; is it installed?\n",
      "2022-12-17 03:01:10,160 [MainThread  ] [ERROR]  Failed to receive startup confirmation from startServer.\n",
      "2022-12-17 03:01:11,313 [MainThread  ] [ERROR]  Unable to run java; is it installed?\n",
      "2022-12-17 03:01:11,314 [MainThread  ] [ERROR]  Failed to receive startup confirmation from startServer.\n",
      "2022-12-17 03:01:12,482 [MainThread  ] [ERROR]  Unable to run java; is it installed?\n",
      "2022-12-17 03:01:12,483 [MainThread  ] [ERROR]  Failed to receive startup confirmation from startServer.\n",
      "2022-12-17 03:01:13,646 [MainThread  ] [ERROR]  Unable to run java; is it installed?\n",
      "2022-12-17 03:01:13,647 [MainThread  ] [ERROR]  Failed to receive startup confirmation from startServer.\n",
      "2022-12-17 03:01:14,799 [MainThread  ] [ERROR]  Unable to run java; is it installed?\n",
      "2022-12-17 03:01:14,800 [MainThread  ] [ERROR]  Failed to receive startup confirmation from startServer.\n",
      "2022-12-17 03:01:15,952 [MainThread  ] [ERROR]  Unable to run java; is it installed?\n",
      "2022-12-17 03:01:15,953 [MainThread  ] [ERROR]  Failed to receive startup confirmation from startServer.\n",
      "2022-12-17 03:01:17,108 [MainThread  ] [ERROR]  Unable to run java; is it installed?\n",
      "2022-12-17 03:01:17,108 [MainThread  ] [ERROR]  Failed to receive startup confirmation from startServer.\n",
      "2022-12-17 03:01:18,263 [MainThread  ] [ERROR]  Unable to run java; is it installed?\n",
      "2022-12-17 03:01:18,264 [MainThread  ] [ERROR]  Failed to receive startup confirmation from startServer.\n",
      "2022-12-17 03:01:19,415 [MainThread  ] [ERROR]  Unable to run java; is it installed?\n",
      "2022-12-17 03:01:19,416 [MainThread  ] [ERROR]  Failed to receive startup confirmation from startServer.\n",
      "2022-12-17 03:01:20,567 [MainThread  ] [ERROR]  Unable to run java; is it installed?\n",
      "2022-12-17 03:01:20,568 [MainThread  ] [ERROR]  Failed to receive startup confirmation from startServer.\n",
      "2022-12-17 03:01:21,719 [MainThread  ] [ERROR]  Unable to run java; is it installed?\n"
     ]
    },
    {
     "name": "stderr",
     "output_type": "stream",
     "text": [
      "2022-12-17 03:01:21,720 [MainThread  ] [ERROR]  Failed to receive startup confirmation from startServer.\n",
      "2022-12-17 03:01:22,874 [MainThread  ] [ERROR]  Unable to run java; is it installed?\n",
      "2022-12-17 03:01:22,875 [MainThread  ] [ERROR]  Failed to receive startup confirmation from startServer.\n",
      "2022-12-17 03:01:24,029 [MainThread  ] [ERROR]  Unable to run java; is it installed?\n",
      "2022-12-17 03:01:24,030 [MainThread  ] [ERROR]  Failed to receive startup confirmation from startServer.\n",
      "2022-12-17 03:01:25,184 [MainThread  ] [ERROR]  Unable to run java; is it installed?\n",
      "2022-12-17 03:01:25,185 [MainThread  ] [ERROR]  Failed to receive startup confirmation from startServer.\n",
      "2022-12-17 03:01:26,339 [MainThread  ] [ERROR]  Unable to run java; is it installed?\n",
      "2022-12-17 03:01:26,340 [MainThread  ] [ERROR]  Failed to receive startup confirmation from startServer.\n",
      "2022-12-17 03:01:27,494 [MainThread  ] [ERROR]  Unable to run java; is it installed?\n",
      "2022-12-17 03:01:27,494 [MainThread  ] [ERROR]  Failed to receive startup confirmation from startServer.\n",
      "2022-12-17 03:01:28,653 [MainThread  ] [ERROR]  Unable to run java; is it installed?\n",
      "2022-12-17 03:01:28,654 [MainThread  ] [ERROR]  Failed to receive startup confirmation from startServer.\n",
      "2022-12-17 03:01:29,808 [MainThread  ] [ERROR]  Unable to run java; is it installed?\n",
      "2022-12-17 03:01:29,809 [MainThread  ] [ERROR]  Failed to receive startup confirmation from startServer.\n",
      "2022-12-17 03:01:30,962 [MainThread  ] [ERROR]  Unable to run java; is it installed?\n",
      "2022-12-17 03:01:30,963 [MainThread  ] [ERROR]  Failed to receive startup confirmation from startServer.\n",
      "2022-12-17 03:01:32,121 [MainThread  ] [ERROR]  Unable to run java; is it installed?\n",
      "2022-12-17 03:01:32,122 [MainThread  ] [ERROR]  Failed to receive startup confirmation from startServer.\n",
      "2022-12-17 03:01:33,276 [MainThread  ] [ERROR]  Unable to run java; is it installed?\n",
      "2022-12-17 03:01:33,277 [MainThread  ] [ERROR]  Failed to receive startup confirmation from startServer.\n",
      "2022-12-17 03:01:34,428 [MainThread  ] [ERROR]  Unable to run java; is it installed?\n",
      "2022-12-17 03:01:34,429 [MainThread  ] [ERROR]  Failed to receive startup confirmation from startServer.\n",
      "2022-12-17 03:01:35,596 [MainThread  ] [ERROR]  Unable to run java; is it installed?\n",
      "2022-12-17 03:01:35,597 [MainThread  ] [ERROR]  Failed to receive startup confirmation from startServer.\n",
      "2022-12-17 03:01:36,753 [MainThread  ] [ERROR]  Unable to run java; is it installed?\n",
      "2022-12-17 03:01:36,754 [MainThread  ] [ERROR]  Failed to receive startup confirmation from startServer.\n",
      "2022-12-17 03:01:37,907 [MainThread  ] [ERROR]  Unable to run java; is it installed?\n",
      "2022-12-17 03:01:37,908 [MainThread  ] [ERROR]  Failed to receive startup confirmation from startServer.\n",
      "2022-12-17 03:01:39,062 [MainThread  ] [ERROR]  Unable to run java; is it installed?\n",
      "2022-12-17 03:01:39,063 [MainThread  ] [ERROR]  Failed to receive startup confirmation from startServer.\n",
      "2022-12-17 03:01:40,218 [MainThread  ] [ERROR]  Unable to run java; is it installed?\n",
      "2022-12-17 03:01:40,219 [MainThread  ] [ERROR]  Failed to receive startup confirmation from startServer.\n",
      "2022-12-17 03:01:41,373 [MainThread  ] [ERROR]  Unable to run java; is it installed?\n",
      "2022-12-17 03:01:41,374 [MainThread  ] [ERROR]  Failed to receive startup confirmation from startServer.\n",
      "2022-12-17 03:01:42,552 [MainThread  ] [ERROR]  Unable to run java; is it installed?\n",
      "2022-12-17 03:01:42,552 [MainThread  ] [ERROR]  Failed to receive startup confirmation from startServer.\n",
      "2022-12-17 03:01:43,707 [MainThread  ] [ERROR]  Unable to run java; is it installed?\n",
      "2022-12-17 03:01:43,708 [MainThread  ] [ERROR]  Failed to receive startup confirmation from startServer.\n",
      "2022-12-17 03:01:44,867 [MainThread  ] [ERROR]  Unable to run java; is it installed?\n",
      "2022-12-17 03:01:44,868 [MainThread  ] [ERROR]  Failed to receive startup confirmation from startServer.\n",
      "2022-12-17 03:01:46,030 [MainThread  ] [ERROR]  Unable to run java; is it installed?\n",
      "2022-12-17 03:01:46,031 [MainThread  ] [ERROR]  Failed to receive startup confirmation from startServer.\n",
      "2022-12-17 03:01:47,183 [MainThread  ] [ERROR]  Unable to run java; is it installed?\n",
      "2022-12-17 03:01:47,184 [MainThread  ] [ERROR]  Failed to receive startup confirmation from startServer.\n",
      "2022-12-17 03:01:48,336 [MainThread  ] [ERROR]  Unable to run java; is it installed?\n",
      "2022-12-17 03:01:48,337 [MainThread  ] [ERROR]  Failed to receive startup confirmation from startServer.\n",
      "2022-12-17 03:01:49,497 [MainThread  ] [ERROR]  Unable to run java; is it installed?\n",
      "2022-12-17 03:01:49,498 [MainThread  ] [ERROR]  Failed to receive startup confirmation from startServer.\n",
      "2022-12-17 03:01:50,656 [MainThread  ] [ERROR]  Unable to run java; is it installed?\n",
      "2022-12-17 03:01:50,657 [MainThread  ] [ERROR]  Failed to receive startup confirmation from startServer.\n",
      "2022-12-17 03:01:51,809 [MainThread  ] [ERROR]  Unable to run java; is it installed?\n",
      "2022-12-17 03:01:51,810 [MainThread  ] [ERROR]  Failed to receive startup confirmation from startServer.\n",
      "2022-12-17 03:01:52,962 [MainThread  ] [ERROR]  Unable to run java; is it installed?\n",
      "2022-12-17 03:01:52,963 [MainThread  ] [ERROR]  Failed to receive startup confirmation from startServer.\n",
      "2022-12-17 03:01:54,117 [MainThread  ] [ERROR]  Unable to run java; is it installed?\n",
      "2022-12-17 03:01:54,118 [MainThread  ] [ERROR]  Failed to receive startup confirmation from startServer.\n",
      "2022-12-17 03:01:55,274 [MainThread  ] [ERROR]  Unable to run java; is it installed?\n",
      "2022-12-17 03:01:55,275 [MainThread  ] [ERROR]  Failed to receive startup confirmation from startServer.\n",
      "2022-12-17 03:01:56,429 [MainThread  ] [ERROR]  Unable to run java; is it installed?\n",
      "2022-12-17 03:01:56,430 [MainThread  ] [ERROR]  Failed to receive startup confirmation from startServer.\n",
      "2022-12-17 03:01:57,590 [MainThread  ] [ERROR]  Unable to run java; is it installed?\n",
      "2022-12-17 03:01:57,591 [MainThread  ] [ERROR]  Failed to receive startup confirmation from startServer.\n",
      "2022-12-17 03:01:58,742 [MainThread  ] [ERROR]  Unable to run java; is it installed?\n",
      "2022-12-17 03:01:58,743 [MainThread  ] [ERROR]  Failed to receive startup confirmation from startServer.\n",
      "2022-12-17 03:01:59,895 [MainThread  ] [ERROR]  Unable to run java; is it installed?\n",
      "2022-12-17 03:01:59,896 [MainThread  ] [ERROR]  Failed to receive startup confirmation from startServer.\n",
      "2022-12-17 03:02:01,049 [MainThread  ] [ERROR]  Unable to run java; is it installed?\n",
      "2022-12-17 03:02:01,050 [MainThread  ] [ERROR]  Failed to receive startup confirmation from startServer.\n",
      "2022-12-17 03:02:02,202 [MainThread  ] [ERROR]  Unable to run java; is it installed?\n",
      "2022-12-17 03:02:02,202 [MainThread  ] [ERROR]  Failed to receive startup confirmation from startServer.\n"
     ]
    },
    {
     "name": "stdout",
     "output_type": "stream",
     "text": [
      "Wall time: 2min 29s\n"
     ]
    }
   ],
   "source": [
    "%%time\n",
    "\n",
    "filename2text = {}\n",
    "\n",
    "for filename in os.listdir(datadir):\n",
    "    datapath = os.path.join(datadir, filename)\n",
    "    try:\n",
    "        filename2text[filename] = get_document_text(datapath)\n",
    "    except:\n",
    "        continue"
   ]
  },
  {
   "cell_type": "code",
   "execution_count": 14,
   "id": "4c735dfe",
   "metadata": {},
   "outputs": [
    {
     "data": {
      "text/html": [
       "<div>\n",
       "<style scoped>\n",
       "    .dataframe tbody tr th:only-of-type {\n",
       "        vertical-align: middle;\n",
       "    }\n",
       "\n",
       "    .dataframe tbody tr th {\n",
       "        vertical-align: top;\n",
       "    }\n",
       "\n",
       "    .dataframe thead th {\n",
       "        text-align: right;\n",
       "    }\n",
       "</style>\n",
       "<table border=\"1\" class=\"dataframe\">\n",
       "  <thead>\n",
       "    <tr style=\"text-align: right;\">\n",
       "      <th></th>\n",
       "      <th>text</th>\n",
       "      <th>filename</th>\n",
       "    </tr>\n",
       "  </thead>\n",
       "  <tbody>\n",
       "    <tr>\n",
       "      <th>0</th>\n",
       "      <td>ДОГОВОР № ______\\n\\nДОГОВОР\\n\\nг. Москва\\n«___...</td>\n",
       "      <td>02682d726b725f95b9ee85f751c043d0.doc</td>\n",
       "    </tr>\n",
       "    <tr>\n",
       "      <th>1</th>\n",
       "      <td>ДОГОВОР \\n\\n№ ______ от «___» ___________ ____...</td>\n",
       "      <td>03a70fe60be9ecc2a63798a361fc9689.docx</td>\n",
       "    </tr>\n",
       "    <tr>\n",
       "      <th>2</th>\n",
       "      <td>ДОГОВОР КУПЛИ-ПРОДАЖИ КВАРТИРЫ\\n\\n\\nДОГОВОР \\n...</td>\n",
       "      <td>073a0d372820c3c2bffe9ba24a7ed7af.doc</td>\n",
       "    </tr>\n",
       "    <tr>\n",
       "      <th>3</th>\n",
       "      <td>Договор аренды земельного участка\\n\\n2\\n5\\n\\nД...</td>\n",
       "      <td>084edc7dfc3db04e3a3c55c102f47bcb.doc</td>\n",
       "    </tr>\n",
       "    <tr>\n",
       "      <th>4</th>\n",
       "      <td>(Типовая форма) \\n\\nДОГОВОР КУПЛИ-ПРОДАЖИ №___...</td>\n",
       "      <td>086ad48895d2a73854b6151decc28800.pdf</td>\n",
       "    </tr>\n",
       "  </tbody>\n",
       "</table>\n",
       "</div>"
      ],
      "text/plain": [
       "                                                text  \\\n",
       "0  ДОГОВОР № ______\\n\\nДОГОВОР\\n\\nг. Москва\\n«___...   \n",
       "1  ДОГОВОР \\n\\n№ ______ от «___» ___________ ____...   \n",
       "2  ДОГОВОР КУПЛИ-ПРОДАЖИ КВАРТИРЫ\\n\\n\\nДОГОВОР \\n...   \n",
       "3  Договор аренды земельного участка\\n\\n2\\n5\\n\\nД...   \n",
       "4  (Типовая форма) \\n\\nДОГОВОР КУПЛИ-ПРОДАЖИ №___...   \n",
       "\n",
       "                                filename  \n",
       "0   02682d726b725f95b9ee85f751c043d0.doc  \n",
       "1  03a70fe60be9ecc2a63798a361fc9689.docx  \n",
       "2   073a0d372820c3c2bffe9ba24a7ed7af.doc  \n",
       "3   084edc7dfc3db04e3a3c55c102f47bcb.doc  \n",
       "4   086ad48895d2a73854b6151decc28800.pdf  "
      ]
     },
     "execution_count": 14,
     "metadata": {},
     "output_type": "execute_result"
    }
   ],
   "source": [
    "data = pd.DataFrame({i: {'text': v, 'filename': k} for i, (k, v) in enumerate(filename2text.items())}).T\n",
    "data.head()"
   ]
  },
  {
   "cell_type": "code",
   "execution_count": 15,
   "id": "ed6719c3",
   "metadata": {},
   "outputs": [],
   "source": [
    "with open('../data/xmas/classes.json', 'r', encoding='utf-8') as f:\n",
    "    markup = json.load(f)"
   ]
  },
  {
   "cell_type": "code",
   "execution_count": 16,
   "id": "686fa254",
   "metadata": {},
   "outputs": [],
   "source": [
    "data['target'] = data['filename'].apply(lambda x: markup[x].split('/')[1])"
   ]
  },
  {
   "cell_type": "code",
   "execution_count": 17,
   "id": "dd19238a",
   "metadata": {},
   "outputs": [],
   "source": [
    "data['lower_text'] = data['text'].apply(lambda x: x.lower())"
   ]
  },
  {
   "cell_type": "code",
   "execution_count": 18,
   "id": "ab1485fa",
   "metadata": {},
   "outputs": [],
   "source": [
    "le = LabelEncoder()\n",
    "data['label'] = le.fit_transform(data['target'])"
   ]
  },
  {
   "cell_type": "code",
   "execution_count": 19,
   "id": "a589a9cc",
   "metadata": {},
   "outputs": [
    {
     "data": {
      "text/html": [
       "<div>\n",
       "<style scoped>\n",
       "    .dataframe tbody tr th:only-of-type {\n",
       "        vertical-align: middle;\n",
       "    }\n",
       "\n",
       "    .dataframe tbody tr th {\n",
       "        vertical-align: top;\n",
       "    }\n",
       "\n",
       "    .dataframe thead th {\n",
       "        text-align: right;\n",
       "    }\n",
       "</style>\n",
       "<table border=\"1\" class=\"dataframe\">\n",
       "  <thead>\n",
       "    <tr style=\"text-align: right;\">\n",
       "      <th></th>\n",
       "      <th>text</th>\n",
       "      <th>filename</th>\n",
       "      <th>target</th>\n",
       "      <th>lower_text</th>\n",
       "      <th>label</th>\n",
       "    </tr>\n",
       "  </thead>\n",
       "  <tbody>\n",
       "    <tr>\n",
       "      <th>0</th>\n",
       "      <td>ДОГОВОР № ______\\n\\nДОГОВОР\\n\\nг. Москва\\n«___...</td>\n",
       "      <td>02682d726b725f95b9ee85f751c043d0.doc</td>\n",
       "      <td>Договоры оказания услуг</td>\n",
       "      <td>договор № ______\\n\\nдоговор\\n\\nг. москва\\n«___...</td>\n",
       "      <td>2</td>\n",
       "    </tr>\n",
       "    <tr>\n",
       "      <th>1</th>\n",
       "      <td>ДОГОВОР \\n\\n№ ______ от «___» ___________ ____...</td>\n",
       "      <td>03a70fe60be9ecc2a63798a361fc9689.docx</td>\n",
       "      <td>Договоры подряда</td>\n",
       "      <td>договор \\n\\n№ ______ от «___» ___________ ____...</td>\n",
       "      <td>3</td>\n",
       "    </tr>\n",
       "    <tr>\n",
       "      <th>2</th>\n",
       "      <td>ДОГОВОР КУПЛИ-ПРОДАЖИ КВАРТИРЫ\\n\\n\\nДОГОВОР \\n...</td>\n",
       "      <td>073a0d372820c3c2bffe9ba24a7ed7af.doc</td>\n",
       "      <td>Договоры купли-продажи</td>\n",
       "      <td>договор купли-продажи квартиры\\n\\n\\nдоговор \\n...</td>\n",
       "      <td>1</td>\n",
       "    </tr>\n",
       "    <tr>\n",
       "      <th>3</th>\n",
       "      <td>Договор аренды земельного участка\\n\\n2\\n5\\n\\nД...</td>\n",
       "      <td>084edc7dfc3db04e3a3c55c102f47bcb.doc</td>\n",
       "      <td>Договоры аренды</td>\n",
       "      <td>договор аренды земельного участка\\n\\n2\\n5\\n\\nд...</td>\n",
       "      <td>0</td>\n",
       "    </tr>\n",
       "    <tr>\n",
       "      <th>4</th>\n",
       "      <td>(Типовая форма) \\n\\nДОГОВОР КУПЛИ-ПРОДАЖИ №___...</td>\n",
       "      <td>086ad48895d2a73854b6151decc28800.pdf</td>\n",
       "      <td>Договоры купли-продажи</td>\n",
       "      <td>(типовая форма) \\n\\nдоговор купли-продажи №___...</td>\n",
       "      <td>1</td>\n",
       "    </tr>\n",
       "  </tbody>\n",
       "</table>\n",
       "</div>"
      ],
      "text/plain": [
       "                                                text  \\\n",
       "0  ДОГОВОР № ______\\n\\nДОГОВОР\\n\\nг. Москва\\n«___...   \n",
       "1  ДОГОВОР \\n\\n№ ______ от «___» ___________ ____...   \n",
       "2  ДОГОВОР КУПЛИ-ПРОДАЖИ КВАРТИРЫ\\n\\n\\nДОГОВОР \\n...   \n",
       "3  Договор аренды земельного участка\\n\\n2\\n5\\n\\nД...   \n",
       "4  (Типовая форма) \\n\\nДОГОВОР КУПЛИ-ПРОДАЖИ №___...   \n",
       "\n",
       "                                filename                   target  \\\n",
       "0   02682d726b725f95b9ee85f751c043d0.doc  Договоры оказания услуг   \n",
       "1  03a70fe60be9ecc2a63798a361fc9689.docx         Договоры подряда   \n",
       "2   073a0d372820c3c2bffe9ba24a7ed7af.doc   Договоры купли-продажи   \n",
       "3   084edc7dfc3db04e3a3c55c102f47bcb.doc          Договоры аренды   \n",
       "4   086ad48895d2a73854b6151decc28800.pdf   Договоры купли-продажи   \n",
       "\n",
       "                                          lower_text  label  \n",
       "0  договор № ______\\n\\nдоговор\\n\\nг. москва\\n«___...      2  \n",
       "1  договор \\n\\n№ ______ от «___» ___________ ____...      3  \n",
       "2  договор купли-продажи квартиры\\n\\n\\nдоговор \\n...      1  \n",
       "3  договор аренды земельного участка\\n\\n2\\n5\\n\\nд...      0  \n",
       "4  (типовая форма) \\n\\nдоговор купли-продажи №___...      1  "
      ]
     },
     "execution_count": 19,
     "metadata": {},
     "output_type": "execute_result"
    }
   ],
   "source": [
    "data.head()"
   ]
  },
  {
   "cell_type": "code",
   "execution_count": 15,
   "id": "fcfb96f9",
   "metadata": {},
   "outputs": [],
   "source": [
    "data = pd.read_csv('C:/Users/265375/Desktop/Work/data/docs.csv', sep = '\\t',index_col = 0)\n",
    "texts = pd.read_csv('C:/Users/265375/Desktop/Work/data/data.csv', sep='\\t',index_col = 0)"
   ]
  },
  {
   "cell_type": "code",
   "execution_count": 16,
   "id": "0531cf24",
   "metadata": {},
   "outputs": [],
   "source": [
    "label_dict = {'Договоры аренды': 0, \n",
    "              'Договоры купли-продажи': 1, \n",
    "              'Договоры оказания услуг':2,\n",
    "              'Договоры подряда': 3,\n",
    "              'Договоры поставки': 4}"
   ]
  },
  {
   "cell_type": "code",
   "execution_count": 21,
   "id": "5140e0e3",
   "metadata": {},
   "outputs": [],
   "source": [
    "data['label'] = data.target.apply(lambda x: label_dict[x])\n",
    "texts['label'] = texts.target.apply(lambda x: label_dict[x])\n",
    "texts = texts[['text', 'label']]\n",
    "data = data[['text', 'label']]\n",
    "mega_data = pd.concat([data, texts], axis=0, ignore_index=True)"
   ]
  },
  {
   "cell_type": "code",
   "execution_count": 23,
   "id": "36d53241",
   "metadata": {},
   "outputs": [
    {
     "data": {
      "text/plain": [
       "0      ДОГОВОР АРЕНДЫ&NBSP;\\nавтомобильного прицепа\\n...\n",
       "1      ДОГОВОР АРЕНДЫ\\nбанковской ячейки\\nг. ________...\n",
       "2      ДОГОВОР АРЕНДЫ\\nвагонов\\nг. _______________\\n«...\n",
       "3      ДОГОВОР АРЕНДЫ&NBSP;\\nвоздушного судна (вертол...\n",
       "4      ДОГОВОР АРЕНДЫ\\nгаража (в частной собственност...\n",
       "                             ...                        \n",
       "704    Страница 1 из 8 \\n\\n \\n\\n \\n\\nДОГОВОР КУПЛИ-ПР...\n",
       "705    Договор поставки товара. Образец 2015 года\\n\\n...\n",
       "706    Mechel Agreement\\n\\nФорма 5.3.\\n\\nПриложение №...\n",
       "707    ФОРМА 5.4.                                    ...\n",
       "708    Договор купли-продажи товаров\\n\\nPAGE  \\n5\\n\\n...\n",
       "Name: text, Length: 709, dtype: object"
      ]
     },
     "execution_count": 23,
     "metadata": {},
     "output_type": "execute_result"
    }
   ],
   "source": [
    "mega_data[\"text\"]"
   ]
  },
  {
   "cell_type": "markdown",
   "id": "07407347",
   "metadata": {},
   "source": [
    "# Моделирование"
   ]
  },
  {
   "cell_type": "code",
   "execution_count": 18,
   "id": "dd9fb207",
   "metadata": {},
   "outputs": [],
   "source": [
    "rand_state = 21"
   ]
  },
  {
   "cell_type": "code",
   "execution_count": 38,
   "id": "4f04b635",
   "metadata": {},
   "outputs": [],
   "source": [
    "pipe = Pipeline(steps=[('vect', CountVectorizer()),\n",
    "                        ('est', LogisticRegression(random_state=rand_state,max_iter=100))])"
   ]
  },
  {
   "cell_type": "code",
   "execution_count": 20,
   "id": "9d2e21a5",
   "metadata": {},
   "outputs": [],
   "source": [
    "skf = StratifiedKFold()"
   ]
  },
  {
   "cell_type": "code",
   "execution_count": 39,
   "id": "cd88e97f",
   "metadata": {},
   "outputs": [
    {
     "name": "stderr",
     "output_type": "stream",
     "text": [
      "C:\\Users\\265375\\Anaconda3\\lib\\site-packages\\sklearn\\linear_model\\_logistic.py:814: ConvergenceWarning: lbfgs failed to converge (status=1):\n",
      "STOP: TOTAL NO. of ITERATIONS REACHED LIMIT.\n",
      "\n",
      "Increase the number of iterations (max_iter) or scale the data as shown in:\n",
      "    https://scikit-learn.org/stable/modules/preprocessing.html\n",
      "Please also refer to the documentation for alternative solver options:\n",
      "    https://scikit-learn.org/stable/modules/linear_model.html#logistic-regression\n",
      "  n_iter_i = _check_optimize_result(\n"
     ]
    },
    {
     "name": "stdout",
     "output_type": "stream",
     "text": [
      "              precision    recall  f1-score   support\n",
      "\n",
      "           0       0.97      0.97      0.97        34\n",
      "           1       0.91      0.87      0.89        23\n",
      "           2       0.82      0.92      0.87        49\n",
      "           3       0.81      0.62      0.70        21\n",
      "           4       0.93      0.93      0.93        15\n",
      "\n",
      "    accuracy                           0.88       142\n",
      "   macro avg       0.89      0.86      0.87       142\n",
      "weighted avg       0.88      0.88      0.88       142\n",
      "\n"
     ]
    },
    {
     "name": "stderr",
     "output_type": "stream",
     "text": [
      "C:\\Users\\265375\\Anaconda3\\lib\\site-packages\\sklearn\\linear_model\\_logistic.py:814: ConvergenceWarning: lbfgs failed to converge (status=1):\n",
      "STOP: TOTAL NO. of ITERATIONS REACHED LIMIT.\n",
      "\n",
      "Increase the number of iterations (max_iter) or scale the data as shown in:\n",
      "    https://scikit-learn.org/stable/modules/preprocessing.html\n",
      "Please also refer to the documentation for alternative solver options:\n",
      "    https://scikit-learn.org/stable/modules/linear_model.html#logistic-regression\n",
      "  n_iter_i = _check_optimize_result(\n"
     ]
    },
    {
     "name": "stdout",
     "output_type": "stream",
     "text": [
      "              precision    recall  f1-score   support\n",
      "\n",
      "           0       0.92      0.97      0.94        34\n",
      "           1       0.86      0.78      0.82        23\n",
      "           2       0.85      0.81      0.83        48\n",
      "           3       0.74      0.91      0.82        22\n",
      "           4       0.83      0.67      0.74        15\n",
      "\n",
      "    accuracy                           0.85       142\n",
      "   macro avg       0.84      0.83      0.83       142\n",
      "weighted avg       0.85      0.85      0.84       142\n",
      "\n"
     ]
    },
    {
     "name": "stderr",
     "output_type": "stream",
     "text": [
      "C:\\Users\\265375\\Anaconda3\\lib\\site-packages\\sklearn\\linear_model\\_logistic.py:814: ConvergenceWarning: lbfgs failed to converge (status=1):\n",
      "STOP: TOTAL NO. of ITERATIONS REACHED LIMIT.\n",
      "\n",
      "Increase the number of iterations (max_iter) or scale the data as shown in:\n",
      "    https://scikit-learn.org/stable/modules/preprocessing.html\n",
      "Please also refer to the documentation for alternative solver options:\n",
      "    https://scikit-learn.org/stable/modules/linear_model.html#logistic-regression\n",
      "  n_iter_i = _check_optimize_result(\n"
     ]
    },
    {
     "name": "stdout",
     "output_type": "stream",
     "text": [
      "              precision    recall  f1-score   support\n",
      "\n",
      "           0       0.97      0.97      0.97        34\n",
      "           1       0.95      0.87      0.91        23\n",
      "           2       0.85      0.98      0.91        48\n",
      "           3       1.00      0.91      0.95        22\n",
      "           4       1.00      0.80      0.89        15\n",
      "\n",
      "    accuracy                           0.93       142\n",
      "   macro avg       0.96      0.91      0.93       142\n",
      "weighted avg       0.94      0.93      0.93       142\n",
      "\n"
     ]
    },
    {
     "name": "stderr",
     "output_type": "stream",
     "text": [
      "C:\\Users\\265375\\Anaconda3\\lib\\site-packages\\sklearn\\linear_model\\_logistic.py:814: ConvergenceWarning: lbfgs failed to converge (status=1):\n",
      "STOP: TOTAL NO. of ITERATIONS REACHED LIMIT.\n",
      "\n",
      "Increase the number of iterations (max_iter) or scale the data as shown in:\n",
      "    https://scikit-learn.org/stable/modules/preprocessing.html\n",
      "Please also refer to the documentation for alternative solver options:\n",
      "    https://scikit-learn.org/stable/modules/linear_model.html#logistic-regression\n",
      "  n_iter_i = _check_optimize_result(\n"
     ]
    },
    {
     "name": "stdout",
     "output_type": "stream",
     "text": [
      "              precision    recall  f1-score   support\n",
      "\n",
      "           0       0.89      0.97      0.93        33\n",
      "           1       0.82      0.78      0.80        23\n",
      "           2       0.92      0.90      0.91        49\n",
      "           3       0.86      0.90      0.88        21\n",
      "           4       0.86      0.75      0.80        16\n",
      "\n",
      "    accuracy                           0.88       142\n",
      "   macro avg       0.87      0.86      0.86       142\n",
      "weighted avg       0.88      0.88      0.88       142\n",
      "\n",
      "              precision    recall  f1-score   support\n",
      "\n",
      "           0       1.00      0.94      0.97        33\n",
      "           1       0.91      0.91      0.91        23\n",
      "           2       0.98      0.90      0.94        49\n",
      "           3       0.90      0.90      0.90        21\n",
      "           4       0.71      1.00      0.83        15\n",
      "\n",
      "    accuracy                           0.92       141\n",
      "   macro avg       0.90      0.93      0.91       141\n",
      "weighted avg       0.93      0.92      0.92       141\n",
      "\n"
     ]
    },
    {
     "name": "stderr",
     "output_type": "stream",
     "text": [
      "C:\\Users\\265375\\Anaconda3\\lib\\site-packages\\sklearn\\linear_model\\_logistic.py:814: ConvergenceWarning: lbfgs failed to converge (status=1):\n",
      "STOP: TOTAL NO. of ITERATIONS REACHED LIMIT.\n",
      "\n",
      "Increase the number of iterations (max_iter) or scale the data as shown in:\n",
      "    https://scikit-learn.org/stable/modules/preprocessing.html\n",
      "Please also refer to the documentation for alternative solver options:\n",
      "    https://scikit-learn.org/stable/modules/linear_model.html#logistic-regression\n",
      "  n_iter_i = _check_optimize_result(\n"
     ]
    }
   ],
   "source": [
    "for train_index, test_index in skf.split(X=mega_data[\"text\"].values, y=mega_data['label'].values):\n",
    "    X_train, y_train = mega_data['text'].values[train_index], mega_data['label'].values[train_index]\n",
    "    X_test, y_test = mega_data['text'].values[test_index], mega_data['label'].values[test_index]\n",
    "    pipe = Pipeline(steps=[('vect', CountVectorizer()),\n",
    "                            ('est', LogisticRegression(random_state=rand_state))])\n",
    "    pipe.fit(X=X_train, y=y_train)\n",
    "    y_pred = pipe.predict(X_test)\n",
    "    print(classification_report(y_test, y_pred))"
   ]
  },
  {
   "cell_type": "markdown",
   "id": "632ded36",
   "metadata": {},
   "source": [
    "# Интерпретация"
   ]
  },
  {
   "cell_type": "code",
   "execution_count": 28,
   "id": "2ef27e42",
   "metadata": {},
   "outputs": [],
   "source": [
    "import eli5"
   ]
  },
  {
   "cell_type": "code",
   "execution_count": 40,
   "id": "c0c8864b",
   "metadata": {},
   "outputs": [
    {
     "name": "stderr",
     "output_type": "stream",
     "text": [
      "C:\\Users\\265375\\Anaconda3\\lib\\site-packages\\sklearn\\linear_model\\_logistic.py:814: ConvergenceWarning: lbfgs failed to converge (status=1):\n",
      "STOP: TOTAL NO. of ITERATIONS REACHED LIMIT.\n",
      "\n",
      "Increase the number of iterations (max_iter) or scale the data as shown in:\n",
      "    https://scikit-learn.org/stable/modules/preprocessing.html\n",
      "Please also refer to the documentation for alternative solver options:\n",
      "    https://scikit-learn.org/stable/modules/linear_model.html#logistic-regression\n",
      "  n_iter_i = _check_optimize_result(\n"
     ]
    },
    {
     "data": {
      "text/plain": [
       "Pipeline(steps=[('countvectorizer', CountVectorizer()),\n",
       "                ('logisticregression', LogisticRegression(random_state=21))])"
      ]
     },
     "execution_count": 40,
     "metadata": {},
     "output_type": "execute_result"
    }
   ],
   "source": [
    "vec=CountVectorizer()\n",
    "est=LogisticRegression(random_state=rand_state)\n",
    "\n",
    "pipe = make_pipeline(vec, est)\n",
    "pipe.fit(X=X_train, y=y_train)"
   ]
  },
  {
   "cell_type": "code",
   "execution_count": 41,
   "id": "d2a102f0",
   "metadata": {},
   "outputs": [
    {
     "ename": "NameError",
     "evalue": "name 'le' is not defined",
     "output_type": "error",
     "traceback": [
      "\u001b[1;31m---------------------------------------------------------------------------\u001b[0m",
      "\u001b[1;31mNameError\u001b[0m                                 Traceback (most recent call last)",
      "\u001b[1;32m~\\AppData\\Local\\Temp\\ipykernel_7388\\833232826.py\u001b[0m in \u001b[0;36m<module>\u001b[1;34m\u001b[0m\n\u001b[0;32m      1\u001b[0m expl = eli5.ipython.explain_prediction(est, X_test[0], vec=vec, \n\u001b[1;32m----> 2\u001b[1;33m                                        \u001b[0mtarget_names\u001b[0m\u001b[1;33m=\u001b[0m\u001b[0mle\u001b[0m\u001b[1;33m.\u001b[0m\u001b[0mclasses_\u001b[0m\u001b[1;33m,\u001b[0m\u001b[1;33m\u001b[0m\u001b[1;33m\u001b[0m\u001b[0m\n\u001b[0m\u001b[0;32m      3\u001b[0m                                        targets=[le.classes_[-1]], top=5)\n",
      "\u001b[1;31mNameError\u001b[0m: name 'le' is not defined"
     ]
    }
   ],
   "source": [
    "expl = eli5.ipython.explain_prediction(est, X_test[0], vec=vec, \n",
    "                                       target_names=le.classes_, \n",
    "                                       targets=[le.classes_[-1]], top=5)"
   ]
  },
  {
   "cell_type": "code",
   "execution_count": 42,
   "id": "a1116236",
   "metadata": {},
   "outputs": [
    {
     "ename": "NameError",
     "evalue": "name 'le' is not defined",
     "output_type": "error",
     "traceback": [
      "\u001b[1;31m---------------------------------------------------------------------------\u001b[0m",
      "\u001b[1;31mNameError\u001b[0m                                 Traceback (most recent call last)",
      "\u001b[1;32m~\\AppData\\Local\\Temp\\ipykernel_7388\\815373316.py\u001b[0m in \u001b[0;36m<module>\u001b[1;34m\u001b[0m\n\u001b[0;32m      1\u001b[0m dict_expl = eli5.format_as_dict(eli5.ipython.explain_prediction(est, X_test[1], vec=vec,\n\u001b[1;32m----> 2\u001b[1;33m                                 target_names=le.classes_, targets=[le.classes_[1]], top=5))\n\u001b[0m",
      "\u001b[1;31mNameError\u001b[0m: name 'le' is not defined"
     ]
    }
   ],
   "source": [
    "dict_expl = eli5.format_as_dict(eli5.ipython.explain_prediction(est, X_test[1], vec=vec,\n",
    "                                target_names=le.classes_, targets=[le.classes_[1]], top=5))"
   ]
  },
  {
   "cell_type": "markdown",
   "id": "54676ee0",
   "metadata": {},
   "source": [
    "# Обертка"
   ]
  },
  {
   "cell_type": "code",
   "execution_count": 15,
   "id": "099043a6",
   "metadata": {},
   "outputs": [
    {
     "name": "stderr",
     "output_type": "stream",
     "text": [
      "D:\\Anaconda\\envs\\contract_type_clf\\lib\\site-packages\\sklearn\\linear_model\\_logistic.py:818: ConvergenceWarning: lbfgs failed to converge (status=1):\n",
      "STOP: TOTAL NO. of ITERATIONS REACHED LIMIT.\n",
      "\n",
      "Increase the number of iterations (max_iter) or scale the data as shown in:\n",
      "    https://scikit-learn.org/stable/modules/preprocessing.html\n",
      "Please also refer to the documentation for alternative solver options:\n",
      "    https://scikit-learn.org/stable/modules/linear_model.html#logistic-regression\n",
      "  extra_warning_msg=_LOGISTIC_SOLVER_CONVERGENCE_MSG,\n"
     ]
    },
    {
     "data": {
      "text/plain": [
       "Pipeline(steps=[('vect', CountVectorizer()),\n",
       "                ('est', LogisticRegression(random_state=21))])"
      ]
     },
     "execution_count": 15,
     "metadata": {},
     "output_type": "execute_result"
    }
   ],
   "source": [
    "pipe.fit(X=data['lower_text'].values, y=data['label'].values)"
   ]
  },
  {
   "cell_type": "code",
   "execution_count": 16,
   "id": "56954d74",
   "metadata": {},
   "outputs": [],
   "source": [
    "import pickle"
   ]
  },
  {
   "cell_type": "code",
   "execution_count": 17,
   "id": "1fd6c242",
   "metadata": {},
   "outputs": [],
   "source": [
    "with open('baseline.pkl', 'wb') as f:\n",
    "    pickle.dump(pipe, f)"
   ]
  },
  {
   "cell_type": "code",
   "execution_count": 1,
   "id": "daf781bb",
   "metadata": {},
   "outputs": [],
   "source": [
    "import tika\n",
    "tika.initVM()\n",
    "from tika import parser\n",
    "import pickle"
   ]
  },
  {
   "cell_type": "code",
   "execution_count": 2,
   "id": "a76acf9a",
   "metadata": {},
   "outputs": [],
   "source": [
    "class Predictor(object):\n",
    "    def __init__(self, model_path: str):\n",
    "        self.id2label = {0: 'Договоры аренды',\n",
    "                         1: 'Договоры купли-продажи',\n",
    "                         2: 'Договоры оказания услуг',\n",
    "                         3: 'Договоры подряда',\n",
    "                         4: 'Договоры поставки'}\n",
    "        with open('baseline.pkl', 'rb') as f:\n",
    "            self.model = pickle.load(f)\n",
    "            \n",
    "    def predict_from_file(self, filepath: str) -> str:\n",
    "        text = Predictor._get_document_text(filepath)\n",
    "        return self.id2label[self.model.predict([text])[0]]\n",
    "        \n",
    "    @staticmethod\n",
    "    def _get_document_text(filepath: str) -> str:\n",
    "        doc_type = filepath.split('.')[-1]\n",
    "        if doc_type in ['doc', 'rtf', 'pdf', 'docx']:\n",
    "            text = parser.from_file(filepath)['content']\n",
    "        else:\n",
    "            raise NotImplementedError(f'File extention must be either pdf, rtf, doc or docx, got {doc_type}')\n",
    "        return text.strip().lower()"
   ]
  },
  {
   "cell_type": "code",
   "execution_count": 3,
   "id": "6b04bb7d",
   "metadata": {},
   "outputs": [],
   "source": [
    "pred = Predictor('baseline.pkl')"
   ]
  },
  {
   "cell_type": "code",
   "execution_count": 4,
   "id": "b22939d3",
   "metadata": {},
   "outputs": [
    {
     "data": {
      "text/plain": [
       "'Договоры оказания услуг'"
      ]
     },
     "execution_count": 4,
     "metadata": {},
     "output_type": "execute_result"
    }
   ],
   "source": [
    "pred.predict_from_file('../data/xmas/docs/02682d726b725f95b9ee85f751c043d0.doc')"
   ]
  },
  {
   "cell_type": "code",
   "execution_count": null,
   "id": "03dd81e1",
   "metadata": {},
   "outputs": [],
   "source": []
  }
 ],
 "metadata": {
  "kernelspec": {
   "display_name": "Python 3 (ipykernel)",
   "language": "python",
   "name": "python3"
  },
  "language_info": {
   "codemirror_mode": {
    "name": "ipython",
    "version": 3
   },
   "file_extension": ".py",
   "mimetype": "text/x-python",
   "name": "python",
   "nbconvert_exporter": "python",
   "pygments_lexer": "ipython3",
   "version": "3.9.13"
  }
 },
 "nbformat": 4,
 "nbformat_minor": 5
}
