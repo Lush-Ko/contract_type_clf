{
 "cells": [
  {
   "cell_type": "code",
   "execution_count": 9,
   "id": "b5756ae3",
   "metadata": {},
   "outputs": [],
   "source": [
    "import tika\n",
    "tika.initVM()"
   ]
  },
  {
   "cell_type": "code",
   "execution_count": 50,
   "id": "d01518b9",
   "metadata": {},
   "outputs": [],
   "source": [
    "import os\n",
    "import json\n",
    "import re\n",
    "\n",
    "import pandas as pd\n",
    "import numpy as np\n",
    "\n",
    "from sklearn.metrics import classification_report\n",
    "from sklearn.model_selection import StratifiedKFold, cross_validate\n",
    "from sklearn.feature_extraction.text import CountVectorizer, TfidfTransformer\n",
    "from sklearn.linear_model import LogisticRegression, LogisticRegressionCV\n",
    "from sklearn.pipeline import Pipeline, make_pipeline\n",
    "from sklearn.preprocessing import LabelEncoder\n",
    "\n",
    "from xgboost import XGBClassifier\n",
    "\n",
    "from razdel import tokenize\n",
    "from pymorphy2 import MorphAnalyzer\n",
    "\n",
    "\n",
    "# import fitz\n",
    "# import docx2txt"
   ]
  },
  {
   "cell_type": "markdown",
   "id": "90cce018",
   "metadata": {},
   "source": [
    "# Чтение файлов"
   ]
  },
  {
   "cell_type": "code",
   "execution_count": 11,
   "id": "1163c9a3",
   "metadata": {},
   "outputs": [],
   "source": [
    "from tika import parser\n",
    "\n",
    "def get_document_text(filepath):\n",
    "    doc_type = filepath.split('.')[-1]\n",
    "    if doc_type in ['doc', 'rtf', 'pdf', 'docx']:\n",
    "        text = parser.from_file(filepath)['content']\n",
    "    else:\n",
    "        print(f'File extention must be either pdf, rtf, doc or docx, got {doc_type}')\n",
    "    return text.strip()"
   ]
  },
  {
   "cell_type": "code",
   "execution_count": 12,
   "id": "ac6fdf1e",
   "metadata": {},
   "outputs": [],
   "source": [
    "datadir = '../data/xmas/docs/'"
   ]
  },
  {
   "cell_type": "code",
   "execution_count": 13,
   "id": "f63f0b17",
   "metadata": {},
   "outputs": [
    {
     "name": "stdout",
     "output_type": "stream",
     "text": [
      "File extention must be either pdf, rtf, doc or docx, got ipynb_checkpoints\n",
      "Wall time: 4min 7s\n"
     ]
    }
   ],
   "source": [
    "%%time\n",
    "\n",
    "filename2text = {}\n",
    "\n",
    "for filename in os.listdir(datadir):\n",
    "    datapath = os.path.join(datadir, filename)\n",
    "    try:\n",
    "        filename2text[filename] = get_document_text(datapath)\n",
    "    except:\n",
    "        continue"
   ]
  },
  {
   "cell_type": "code",
   "execution_count": 14,
   "id": "4c735dfe",
   "metadata": {},
   "outputs": [
    {
     "data": {
      "text/html": [
       "<div>\n",
       "<style scoped>\n",
       "    .dataframe tbody tr th:only-of-type {\n",
       "        vertical-align: middle;\n",
       "    }\n",
       "\n",
       "    .dataframe tbody tr th {\n",
       "        vertical-align: top;\n",
       "    }\n",
       "\n",
       "    .dataframe thead th {\n",
       "        text-align: right;\n",
       "    }\n",
       "</style>\n",
       "<table border=\"1\" class=\"dataframe\">\n",
       "  <thead>\n",
       "    <tr style=\"text-align: right;\">\n",
       "      <th></th>\n",
       "      <th>text</th>\n",
       "      <th>filename</th>\n",
       "    </tr>\n",
       "  </thead>\n",
       "  <tbody>\n",
       "    <tr>\n",
       "      <th>0</th>\n",
       "      <td>ДОГОВОР № ______\\n\\nДОГОВОР\\n\\nг. Москва\\n«___...</td>\n",
       "      <td>02682d726b725f95b9ee85f751c043d0.doc</td>\n",
       "    </tr>\n",
       "    <tr>\n",
       "      <th>1</th>\n",
       "      <td>ДОГОВОР \\n\\n№ ______ от «___» ___________ ____...</td>\n",
       "      <td>03a70fe60be9ecc2a63798a361fc9689.docx</td>\n",
       "    </tr>\n",
       "    <tr>\n",
       "      <th>2</th>\n",
       "      <td>ДОГОВОР КУПЛИ-ПРОДАЖИ КВАРТИРЫ\\n\\n\\nДОГОВОР \\n...</td>\n",
       "      <td>073a0d372820c3c2bffe9ba24a7ed7af.doc</td>\n",
       "    </tr>\n",
       "    <tr>\n",
       "      <th>3</th>\n",
       "      <td>Договор аренды земельного участка\\n\\n2\\n5\\n\\nД...</td>\n",
       "      <td>084edc7dfc3db04e3a3c55c102f47bcb.doc</td>\n",
       "    </tr>\n",
       "    <tr>\n",
       "      <th>4</th>\n",
       "      <td>(Типовая форма) \\n\\nДОГОВОР КУПЛИ-ПРОДАЖИ №___...</td>\n",
       "      <td>086ad48895d2a73854b6151decc28800.pdf</td>\n",
       "    </tr>\n",
       "  </tbody>\n",
       "</table>\n",
       "</div>"
      ],
      "text/plain": [
       "                                                text  \\\n",
       "0  ДОГОВОР № ______\\n\\nДОГОВОР\\n\\nг. Москва\\n«___...   \n",
       "1  ДОГОВОР \\n\\n№ ______ от «___» ___________ ____...   \n",
       "2  ДОГОВОР КУПЛИ-ПРОДАЖИ КВАРТИРЫ\\n\\n\\nДОГОВОР \\n...   \n",
       "3  Договор аренды земельного участка\\n\\n2\\n5\\n\\nД...   \n",
       "4  (Типовая форма) \\n\\nДОГОВОР КУПЛИ-ПРОДАЖИ №___...   \n",
       "\n",
       "                                filename  \n",
       "0   02682d726b725f95b9ee85f751c043d0.doc  \n",
       "1  03a70fe60be9ecc2a63798a361fc9689.docx  \n",
       "2   073a0d372820c3c2bffe9ba24a7ed7af.doc  \n",
       "3   084edc7dfc3db04e3a3c55c102f47bcb.doc  \n",
       "4   086ad48895d2a73854b6151decc28800.pdf  "
      ]
     },
     "execution_count": 14,
     "metadata": {},
     "output_type": "execute_result"
    }
   ],
   "source": [
    "data = pd.DataFrame({i: {'text': v, 'filename': k} for i, (k, v) in enumerate(filename2text.items())}).T\n",
    "data.head()"
   ]
  },
  {
   "cell_type": "code",
   "execution_count": 15,
   "id": "ed6719c3",
   "metadata": {},
   "outputs": [],
   "source": [
    "with open('../data/xmas/classes.json', 'r', encoding='utf-8') as f:\n",
    "    markup = json.load(f)"
   ]
  },
  {
   "cell_type": "code",
   "execution_count": 16,
   "id": "686fa254",
   "metadata": {},
   "outputs": [],
   "source": [
    "data['target'] = data['filename'].apply(lambda x: markup[x].split('/')[1])"
   ]
  },
  {
   "cell_type": "code",
   "execution_count": 17,
   "id": "dd19238a",
   "metadata": {},
   "outputs": [],
   "source": [
    "data['lower_text'] = data['text'].apply(lambda x: x.lower())"
   ]
  },
  {
   "cell_type": "code",
   "execution_count": 18,
   "id": "ab1485fa",
   "metadata": {},
   "outputs": [],
   "source": [
    "le = LabelEncoder()\n",
    "data['label'] = le.fit_transform(data['target'])"
   ]
  },
  {
   "cell_type": "code",
   "execution_count": 19,
   "id": "a589a9cc",
   "metadata": {},
   "outputs": [
    {
     "data": {
      "text/html": [
       "<div>\n",
       "<style scoped>\n",
       "    .dataframe tbody tr th:only-of-type {\n",
       "        vertical-align: middle;\n",
       "    }\n",
       "\n",
       "    .dataframe tbody tr th {\n",
       "        vertical-align: top;\n",
       "    }\n",
       "\n",
       "    .dataframe thead th {\n",
       "        text-align: right;\n",
       "    }\n",
       "</style>\n",
       "<table border=\"1\" class=\"dataframe\">\n",
       "  <thead>\n",
       "    <tr style=\"text-align: right;\">\n",
       "      <th></th>\n",
       "      <th>text</th>\n",
       "      <th>filename</th>\n",
       "      <th>target</th>\n",
       "      <th>lower_text</th>\n",
       "      <th>label</th>\n",
       "    </tr>\n",
       "  </thead>\n",
       "  <tbody>\n",
       "    <tr>\n",
       "      <th>0</th>\n",
       "      <td>ДОГОВОР № ______\\n\\nДОГОВОР\\n\\nг. Москва\\n«___...</td>\n",
       "      <td>02682d726b725f95b9ee85f751c043d0.doc</td>\n",
       "      <td>Договоры оказания услуг</td>\n",
       "      <td>договор № ______\\n\\nдоговор\\n\\nг. москва\\n«___...</td>\n",
       "      <td>2</td>\n",
       "    </tr>\n",
       "    <tr>\n",
       "      <th>1</th>\n",
       "      <td>ДОГОВОР \\n\\n№ ______ от «___» ___________ ____...</td>\n",
       "      <td>03a70fe60be9ecc2a63798a361fc9689.docx</td>\n",
       "      <td>Договоры подряда</td>\n",
       "      <td>договор \\n\\n№ ______ от «___» ___________ ____...</td>\n",
       "      <td>3</td>\n",
       "    </tr>\n",
       "    <tr>\n",
       "      <th>2</th>\n",
       "      <td>ДОГОВОР КУПЛИ-ПРОДАЖИ КВАРТИРЫ\\n\\n\\nДОГОВОР \\n...</td>\n",
       "      <td>073a0d372820c3c2bffe9ba24a7ed7af.doc</td>\n",
       "      <td>Договоры купли-продажи</td>\n",
       "      <td>договор купли-продажи квартиры\\n\\n\\nдоговор \\n...</td>\n",
       "      <td>1</td>\n",
       "    </tr>\n",
       "    <tr>\n",
       "      <th>3</th>\n",
       "      <td>Договор аренды земельного участка\\n\\n2\\n5\\n\\nД...</td>\n",
       "      <td>084edc7dfc3db04e3a3c55c102f47bcb.doc</td>\n",
       "      <td>Договоры аренды</td>\n",
       "      <td>договор аренды земельного участка\\n\\n2\\n5\\n\\nд...</td>\n",
       "      <td>0</td>\n",
       "    </tr>\n",
       "    <tr>\n",
       "      <th>4</th>\n",
       "      <td>(Типовая форма) \\n\\nДОГОВОР КУПЛИ-ПРОДАЖИ №___...</td>\n",
       "      <td>086ad48895d2a73854b6151decc28800.pdf</td>\n",
       "      <td>Договоры купли-продажи</td>\n",
       "      <td>(типовая форма) \\n\\nдоговор купли-продажи №___...</td>\n",
       "      <td>1</td>\n",
       "    </tr>\n",
       "  </tbody>\n",
       "</table>\n",
       "</div>"
      ],
      "text/plain": [
       "                                                text  \\\n",
       "0  ДОГОВОР № ______\\n\\nДОГОВОР\\n\\nг. Москва\\n«___...   \n",
       "1  ДОГОВОР \\n\\n№ ______ от «___» ___________ ____...   \n",
       "2  ДОГОВОР КУПЛИ-ПРОДАЖИ КВАРТИРЫ\\n\\n\\nДОГОВОР \\n...   \n",
       "3  Договор аренды земельного участка\\n\\n2\\n5\\n\\nД...   \n",
       "4  (Типовая форма) \\n\\nДОГОВОР КУПЛИ-ПРОДАЖИ №___...   \n",
       "\n",
       "                                filename                   target  \\\n",
       "0   02682d726b725f95b9ee85f751c043d0.doc  Договоры оказания услуг   \n",
       "1  03a70fe60be9ecc2a63798a361fc9689.docx         Договоры подряда   \n",
       "2   073a0d372820c3c2bffe9ba24a7ed7af.doc   Договоры купли-продажи   \n",
       "3   084edc7dfc3db04e3a3c55c102f47bcb.doc          Договоры аренды   \n",
       "4   086ad48895d2a73854b6151decc28800.pdf   Договоры купли-продажи   \n",
       "\n",
       "                                          lower_text  label  \n",
       "0  договор № ______\\n\\nдоговор\\n\\nг. москва\\n«___...      2  \n",
       "1  договор \\n\\n№ ______ от «___» ___________ ____...      3  \n",
       "2  договор купли-продажи квартиры\\n\\n\\nдоговор \\n...      1  \n",
       "3  договор аренды земельного участка\\n\\n2\\n5\\n\\nд...      0  \n",
       "4  (типовая форма) \\n\\nдоговор купли-продажи №___...      1  "
      ]
     },
     "execution_count": 19,
     "metadata": {},
     "output_type": "execute_result"
    }
   ],
   "source": [
    "data.head()"
   ]
  },
  {
   "cell_type": "markdown",
   "id": "07407347",
   "metadata": {},
   "source": [
    "# Моделирование"
   ]
  },
  {
   "cell_type": "code",
   "execution_count": 21,
   "id": "dd9fb207",
   "metadata": {},
   "outputs": [],
   "source": [
    "rand_state = 21"
   ]
  },
  {
   "cell_type": "code",
   "execution_count": 22,
   "id": "4f04b635",
   "metadata": {},
   "outputs": [],
   "source": [
    "pipe = Pipeline(steps=[('vect', CountVectorizer()),\n",
    "                        ('est', LogisticRegression(random_state=rand_state))])"
   ]
  },
  {
   "cell_type": "code",
   "execution_count": 23,
   "id": "9d2e21a5",
   "metadata": {},
   "outputs": [],
   "source": [
    "skf = StratifiedKFold()"
   ]
  },
  {
   "cell_type": "code",
   "execution_count": 24,
   "id": "cd88e97f",
   "metadata": {},
   "outputs": [
    {
     "name": "stderr",
     "output_type": "stream",
     "text": [
      "D:\\Anaconda\\envs\\contract_type_clf\\lib\\site-packages\\sklearn\\linear_model\\_logistic.py:818: ConvergenceWarning: lbfgs failed to converge (status=1):\n",
      "STOP: TOTAL NO. of ITERATIONS REACHED LIMIT.\n",
      "\n",
      "Increase the number of iterations (max_iter) or scale the data as shown in:\n",
      "    https://scikit-learn.org/stable/modules/preprocessing.html\n",
      "Please also refer to the documentation for alternative solver options:\n",
      "    https://scikit-learn.org/stable/modules/linear_model.html#logistic-regression\n",
      "  extra_warning_msg=_LOGISTIC_SOLVER_CONVERGENCE_MSG,\n"
     ]
    },
    {
     "name": "stdout",
     "output_type": "stream",
     "text": [
      "              precision    recall  f1-score   support\n",
      "\n",
      "           0       1.00      1.00      1.00         4\n",
      "           1       1.00      1.00      1.00         5\n",
      "           2       0.88      1.00      0.93         7\n",
      "           3       1.00      0.75      0.86         4\n",
      "           4       1.00      1.00      1.00         4\n",
      "\n",
      "    accuracy                           0.96        24\n",
      "   macro avg       0.97      0.95      0.96        24\n",
      "weighted avg       0.96      0.96      0.96        24\n",
      "\n"
     ]
    },
    {
     "name": "stderr",
     "output_type": "stream",
     "text": [
      "D:\\Anaconda\\envs\\contract_type_clf\\lib\\site-packages\\sklearn\\linear_model\\_logistic.py:818: ConvergenceWarning: lbfgs failed to converge (status=1):\n",
      "STOP: TOTAL NO. of ITERATIONS REACHED LIMIT.\n",
      "\n",
      "Increase the number of iterations (max_iter) or scale the data as shown in:\n",
      "    https://scikit-learn.org/stable/modules/preprocessing.html\n",
      "Please also refer to the documentation for alternative solver options:\n",
      "    https://scikit-learn.org/stable/modules/linear_model.html#logistic-regression\n",
      "  extra_warning_msg=_LOGISTIC_SOLVER_CONVERGENCE_MSG,\n"
     ]
    },
    {
     "name": "stdout",
     "output_type": "stream",
     "text": [
      "              precision    recall  f1-score   support\n",
      "\n",
      "           0       1.00      1.00      1.00         5\n",
      "           1       1.00      1.00      1.00         4\n",
      "           2       1.00      0.86      0.92         7\n",
      "           3       0.80      1.00      0.89         4\n",
      "           4       1.00      1.00      1.00         4\n",
      "\n",
      "    accuracy                           0.96        24\n",
      "   macro avg       0.96      0.97      0.96        24\n",
      "weighted avg       0.97      0.96      0.96        24\n",
      "\n"
     ]
    },
    {
     "name": "stderr",
     "output_type": "stream",
     "text": [
      "D:\\Anaconda\\envs\\contract_type_clf\\lib\\site-packages\\sklearn\\linear_model\\_logistic.py:818: ConvergenceWarning: lbfgs failed to converge (status=1):\n",
      "STOP: TOTAL NO. of ITERATIONS REACHED LIMIT.\n",
      "\n",
      "Increase the number of iterations (max_iter) or scale the data as shown in:\n",
      "    https://scikit-learn.org/stable/modules/preprocessing.html\n",
      "Please also refer to the documentation for alternative solver options:\n",
      "    https://scikit-learn.org/stable/modules/linear_model.html#logistic-regression\n",
      "  extra_warning_msg=_LOGISTIC_SOLVER_CONVERGENCE_MSG,\n"
     ]
    },
    {
     "name": "stdout",
     "output_type": "stream",
     "text": [
      "              precision    recall  f1-score   support\n",
      "\n",
      "           0       1.00      1.00      1.00         5\n",
      "           1       1.00      1.00      1.00         4\n",
      "           2       1.00      1.00      1.00         6\n",
      "           3       1.00      1.00      1.00         5\n",
      "           4       1.00      1.00      1.00         4\n",
      "\n",
      "    accuracy                           1.00        24\n",
      "   macro avg       1.00      1.00      1.00        24\n",
      "weighted avg       1.00      1.00      1.00        24\n",
      "\n"
     ]
    },
    {
     "name": "stderr",
     "output_type": "stream",
     "text": [
      "D:\\Anaconda\\envs\\contract_type_clf\\lib\\site-packages\\sklearn\\linear_model\\_logistic.py:818: ConvergenceWarning: lbfgs failed to converge (status=1):\n",
      "STOP: TOTAL NO. of ITERATIONS REACHED LIMIT.\n",
      "\n",
      "Increase the number of iterations (max_iter) or scale the data as shown in:\n",
      "    https://scikit-learn.org/stable/modules/preprocessing.html\n",
      "Please also refer to the documentation for alternative solver options:\n",
      "    https://scikit-learn.org/stable/modules/linear_model.html#logistic-regression\n",
      "  extra_warning_msg=_LOGISTIC_SOLVER_CONVERGENCE_MSG,\n"
     ]
    },
    {
     "name": "stdout",
     "output_type": "stream",
     "text": [
      "              precision    recall  f1-score   support\n",
      "\n",
      "           0       1.00      1.00      1.00         5\n",
      "           1       1.00      0.80      0.89         5\n",
      "           2       1.00      1.00      1.00         6\n",
      "           3       0.80      1.00      0.89         4\n",
      "           4       1.00      1.00      1.00         4\n",
      "\n",
      "    accuracy                           0.96        24\n",
      "   macro avg       0.96      0.96      0.96        24\n",
      "weighted avg       0.97      0.96      0.96        24\n",
      "\n",
      "              precision    recall  f1-score   support\n",
      "\n",
      "           0       1.00      1.00      1.00         4\n",
      "           1       0.83      1.00      0.91         5\n",
      "           2       0.86      1.00      0.92         6\n",
      "           3       1.00      0.50      0.67         4\n",
      "           4       1.00      1.00      1.00         5\n",
      "\n",
      "    accuracy                           0.92        24\n",
      "   macro avg       0.94      0.90      0.90        24\n",
      "weighted avg       0.93      0.92      0.91        24\n",
      "\n"
     ]
    },
    {
     "name": "stderr",
     "output_type": "stream",
     "text": [
      "D:\\Anaconda\\envs\\contract_type_clf\\lib\\site-packages\\sklearn\\linear_model\\_logistic.py:818: ConvergenceWarning: lbfgs failed to converge (status=1):\n",
      "STOP: TOTAL NO. of ITERATIONS REACHED LIMIT.\n",
      "\n",
      "Increase the number of iterations (max_iter) or scale the data as shown in:\n",
      "    https://scikit-learn.org/stable/modules/preprocessing.html\n",
      "Please also refer to the documentation for alternative solver options:\n",
      "    https://scikit-learn.org/stable/modules/linear_model.html#logistic-regression\n",
      "  extra_warning_msg=_LOGISTIC_SOLVER_CONVERGENCE_MSG,\n"
     ]
    }
   ],
   "source": [
    "for train_index, test_index in skf.split(X=data['lower_text'].values, y=data['label'].values):\n",
    "    X_train, y_train = data['lower_text'].values[train_index], data['label'].values[train_index]\n",
    "    X_test, y_test = data['lower_text'].values[test_index], data['label'].values[test_index]\n",
    "    pipe = Pipeline(steps=[('vect', CountVectorizer()),\n",
    "                            ('est', LogisticRegression(random_state=rand_state))])\n",
    "    pipe.fit(X=X_train, y=y_train)\n",
    "    y_pred = pipe.predict(X_test)\n",
    "    print(classification_report(y_test, y_pred))"
   ]
  },
  {
   "cell_type": "markdown",
   "id": "632ded36",
   "metadata": {},
   "source": [
    "# Интерпретация"
   ]
  },
  {
   "cell_type": "code",
   "execution_count": 40,
   "id": "2ef27e42",
   "metadata": {},
   "outputs": [],
   "source": [
    "import eli5"
   ]
  },
  {
   "cell_type": "code",
   "execution_count": 51,
   "id": "c0c8864b",
   "metadata": {},
   "outputs": [
    {
     "name": "stderr",
     "output_type": "stream",
     "text": [
      "D:\\Anaconda\\envs\\contract_type_clf\\lib\\site-packages\\sklearn\\linear_model\\_logistic.py:818: ConvergenceWarning: lbfgs failed to converge (status=1):\n",
      "STOP: TOTAL NO. of ITERATIONS REACHED LIMIT.\n",
      "\n",
      "Increase the number of iterations (max_iter) or scale the data as shown in:\n",
      "    https://scikit-learn.org/stable/modules/preprocessing.html\n",
      "Please also refer to the documentation for alternative solver options:\n",
      "    https://scikit-learn.org/stable/modules/linear_model.html#logistic-regression\n",
      "  extra_warning_msg=_LOGISTIC_SOLVER_CONVERGENCE_MSG,\n"
     ]
    },
    {
     "data": {
      "text/plain": [
       "Pipeline(steps=[('countvectorizer', CountVectorizer()),\n",
       "                ('logisticregression', LogisticRegression(random_state=21))])"
      ]
     },
     "execution_count": 51,
     "metadata": {},
     "output_type": "execute_result"
    }
   ],
   "source": [
    "vec=CountVectorizer()\n",
    "est=LogisticRegression(random_state=rand_state)\n",
    "\n",
    "pipe = make_pipeline(vec, est)\n",
    "pipe.fit(X=X_train, y=y_train)"
   ]
  },
  {
   "cell_type": "code",
   "execution_count": 116,
   "id": "d2a102f0",
   "metadata": {},
   "outputs": [
    {
     "name": "stderr",
     "output_type": "stream",
     "text": [
      "D:\\Anaconda\\envs\\contract_type_clf\\lib\\site-packages\\sklearn\\utils\\deprecation.py:87: FutureWarning: Function get_feature_names is deprecated; get_feature_names is deprecated in 1.0 and will be removed in 1.2. Please use get_feature_names_out instead.\n",
      "  warnings.warn(msg, category=FutureWarning)\n"
     ]
    }
   ],
   "source": [
    "expl = eli5.ipython.explain_prediction(est, X_test[0], vec=vec, \n",
    "                                       target_names=le.classes_, \n",
    "                                       targets=[le.classes_[-1]], top=5)"
   ]
  },
  {
   "cell_type": "code",
   "execution_count": 117,
   "id": "a1116236",
   "metadata": {},
   "outputs": [
    {
     "name": "stderr",
     "output_type": "stream",
     "text": [
      "D:\\Anaconda\\envs\\contract_type_clf\\lib\\site-packages\\sklearn\\utils\\deprecation.py:87: FutureWarning: Function get_feature_names is deprecated; get_feature_names is deprecated in 1.0 and will be removed in 1.2. Please use get_feature_names_out instead.\n",
      "  warnings.warn(msg, category=FutureWarning)\n"
     ]
    }
   ],
   "source": [
    "dict_expl = eli5.format_as_dict(eli5.ipython.explain_prediction(est, X_test[1], vec=vec,\n",
    "                                target_names=le.classes_, targets=[le.classes_[1]], top=5))"
   ]
  },
  {
   "cell_type": "markdown",
   "id": "54676ee0",
   "metadata": {},
   "source": [
    "# Обертка"
   ]
  },
  {
   "cell_type": "code",
   "execution_count": 15,
   "id": "099043a6",
   "metadata": {},
   "outputs": [
    {
     "name": "stderr",
     "output_type": "stream",
     "text": [
      "D:\\Anaconda\\envs\\contract_type_clf\\lib\\site-packages\\sklearn\\linear_model\\_logistic.py:818: ConvergenceWarning: lbfgs failed to converge (status=1):\n",
      "STOP: TOTAL NO. of ITERATIONS REACHED LIMIT.\n",
      "\n",
      "Increase the number of iterations (max_iter) or scale the data as shown in:\n",
      "    https://scikit-learn.org/stable/modules/preprocessing.html\n",
      "Please also refer to the documentation for alternative solver options:\n",
      "    https://scikit-learn.org/stable/modules/linear_model.html#logistic-regression\n",
      "  extra_warning_msg=_LOGISTIC_SOLVER_CONVERGENCE_MSG,\n"
     ]
    },
    {
     "data": {
      "text/plain": [
       "Pipeline(steps=[('vect', CountVectorizer()),\n",
       "                ('est', LogisticRegression(random_state=21))])"
      ]
     },
     "execution_count": 15,
     "metadata": {},
     "output_type": "execute_result"
    }
   ],
   "source": [
    "pipe.fit(X=data['lower_text'].values, y=data['label'].values)"
   ]
  },
  {
   "cell_type": "code",
   "execution_count": 16,
   "id": "56954d74",
   "metadata": {},
   "outputs": [],
   "source": [
    "import pickle"
   ]
  },
  {
   "cell_type": "code",
   "execution_count": 17,
   "id": "1fd6c242",
   "metadata": {},
   "outputs": [],
   "source": [
    "with open('baseline.pkl', 'wb') as f:\n",
    "    pickle.dump(pipe, f)"
   ]
  },
  {
   "cell_type": "code",
   "execution_count": 1,
   "id": "daf781bb",
   "metadata": {},
   "outputs": [],
   "source": [
    "import tika\n",
    "tika.initVM()\n",
    "from tika import parser\n",
    "import pickle"
   ]
  },
  {
   "cell_type": "code",
   "execution_count": 2,
   "id": "a76acf9a",
   "metadata": {},
   "outputs": [],
   "source": [
    "class Predictor(object):\n",
    "    def __init__(self, model_path: str):\n",
    "        self.id2label = {0: 'Договоры аренды',\n",
    "                         1: 'Договоры купли-продажи',\n",
    "                         2: 'Договоры оказания услуг',\n",
    "                         3: 'Договоры подряда',\n",
    "                         4: 'Договоры поставки'}\n",
    "        with open('baseline.pkl', 'rb') as f:\n",
    "            self.model = pickle.load(f)\n",
    "            \n",
    "    def predict_from_file(self, filepath: str) -> str:\n",
    "        text = Predictor._get_document_text(filepath)\n",
    "        return self.id2label[self.model.predict([text])[0]]\n",
    "        \n",
    "    @staticmethod\n",
    "    def _get_document_text(filepath: str) -> str:\n",
    "        doc_type = filepath.split('.')[-1]\n",
    "        if doc_type in ['doc', 'rtf', 'pdf', 'docx']:\n",
    "            text = parser.from_file(filepath)['content']\n",
    "        else:\n",
    "            raise NotImplementedError(f'File extention must be either pdf, rtf, doc or docx, got {doc_type}')\n",
    "        return text.strip().lower()"
   ]
  },
  {
   "cell_type": "code",
   "execution_count": 3,
   "id": "6b04bb7d",
   "metadata": {},
   "outputs": [],
   "source": [
    "pred = Predictor('baseline.pkl')"
   ]
  },
  {
   "cell_type": "code",
   "execution_count": 4,
   "id": "b22939d3",
   "metadata": {},
   "outputs": [
    {
     "data": {
      "text/plain": [
       "'Договоры оказания услуг'"
      ]
     },
     "execution_count": 4,
     "metadata": {},
     "output_type": "execute_result"
    }
   ],
   "source": [
    "pred.predict_from_file('../data/xmas/docs/02682d726b725f95b9ee85f751c043d0.doc')"
   ]
  },
  {
   "cell_type": "code",
   "execution_count": null,
   "id": "03dd81e1",
   "metadata": {},
   "outputs": [],
   "source": []
  }
 ],
 "metadata": {
  "kernelspec": {
   "display_name": "Python 3 (ipykernel)",
   "language": "python",
   "name": "python3"
  },
  "language_info": {
   "codemirror_mode": {
    "name": "ipython",
    "version": 3
   },
   "file_extension": ".py",
   "mimetype": "text/x-python",
   "name": "python",
   "nbconvert_exporter": "python",
   "pygments_lexer": "ipython3",
   "version": "3.7.15"
  }
 },
 "nbformat": 4,
 "nbformat_minor": 5
}
