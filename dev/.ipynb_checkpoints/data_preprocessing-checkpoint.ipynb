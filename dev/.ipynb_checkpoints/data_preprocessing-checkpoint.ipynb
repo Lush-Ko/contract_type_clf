{
 "cells": [
  {
   "cell_type": "code",
   "execution_count": 1,
   "id": "827d403e",
   "metadata": {
    "ExecuteTime": {
     "end_time": "2023-01-13T22:29:50.291648Z",
     "start_time": "2023-01-13T22:29:49.804672Z"
    }
   },
   "outputs": [],
   "source": [
    "import re\n",
    "import tqdm\n",
    "\n",
    "import pandas as pd\n",
    "import pymorphy2\n",
    "from razdel import tokenize"
   ]
  },
  {
   "cell_type": "code",
   "execution_count": 2,
   "id": "e2713bcf",
   "metadata": {
    "ExecuteTime": {
     "end_time": "2023-01-13T22:29:50.677188Z",
     "start_time": "2023-01-13T22:29:50.662807Z"
    }
   },
   "outputs": [
    {
     "data": {
      "text/plain": [
       "'1.5.2'"
      ]
     },
     "execution_count": 2,
     "metadata": {},
     "output_type": "execute_result"
    }
   ],
   "source": [
    "pd.__version__"
   ]
  },
  {
   "cell_type": "code",
   "execution_count": 3,
   "id": "52070081",
   "metadata": {
    "ExecuteTime": {
     "end_time": "2023-01-13T22:29:52.052835Z",
     "start_time": "2023-01-13T22:29:51.183286Z"
    }
   },
   "outputs": [
    {
     "data": {
      "text/html": [
       "<div>\n",
       "<style scoped>\n",
       "    .dataframe tbody tr th:only-of-type {\n",
       "        vertical-align: middle;\n",
       "    }\n",
       "\n",
       "    .dataframe tbody tr th {\n",
       "        vertical-align: top;\n",
       "    }\n",
       "\n",
       "    .dataframe thead th {\n",
       "        text-align: right;\n",
       "    }\n",
       "</style>\n",
       "<table border=\"1\" class=\"dataframe\">\n",
       "  <thead>\n",
       "    <tr style=\"text-align: right;\">\n",
       "      <th></th>\n",
       "      <th>text_en</th>\n",
       "      <th>text_ru</th>\n",
       "      <th>contract_types_en</th>\n",
       "      <th>contract_types_ru</th>\n",
       "    </tr>\n",
       "  </thead>\n",
       "  <tbody>\n",
       "    <tr>\n",
       "      <th>0</th>\n",
       "      <td>EXHIBIT 10.6\\n\\n                              ...</td>\n",
       "      <td>ПРИЛОЖЕНИЕ 10.6\\n\\nДИСТРИБЬЮТОРСКОЕ СОГЛАШЕНИЕ...</td>\n",
       "      <td>DISTRIBUTOR AGREEMENT</td>\n",
       "      <td>ДИСТРИБЬЮТОРСКОЕ СОГЛАШЕНИЕ</td>\n",
       "    </tr>\n",
       "    <tr>\n",
       "      <th>1</th>\n",
       "      <td>Exhibit 10.26    CONFIDENTIAL TREATMENT HAS BE...</td>\n",
       "      <td>Приложение 10.26 БЫЛО ЗАПРОШЕНО СООТВЕТСТВИЕ К...</td>\n",
       "      <td>Promotion and Distribution Agreement</td>\n",
       "      <td>Соглашение о продвижении и распространении</td>\n",
       "    </tr>\n",
       "    <tr>\n",
       "      <th>2</th>\n",
       "      <td>Exhibit 10.16 SUPPLY CONTRACT Contract No: Dat...</td>\n",
       "      <td>Приложение 10.16 КОНТРАКТ ПОСТАВКИ Контракт №:...</td>\n",
       "      <td>SUPPLY CONTRACT</td>\n",
       "      <td>ДОГОВОР ПОСТАВКИ</td>\n",
       "    </tr>\n",
       "    <tr>\n",
       "      <th>3</th>\n",
       "      <td>1                                             ...</td>\n",
       "      <td>1 Приложение 10.3\\n\\nя-на. (LOGO) www.i-on.com...</td>\n",
       "      <td>WEB SITE HOSTING AGREEMENT</td>\n",
       "      <td>СОГЛАШЕНИЕ О РАЗМЕЩЕНИИ ВЕБ-САЙТА</td>\n",
       "    </tr>\n",
       "    <tr>\n",
       "      <th>4</th>\n",
       "      <td>Exhibit 1\\n\\nJOINT FILING AGREEMENT\\n\\nThe und...</td>\n",
       "      <td>Экспонат 1\\n\\nСОГЛАШЕНИЕ О СОВМЕСТНОЙ ПОДАЧЕ\\n...</td>\n",
       "      <td>JOINT FILING AGREEMENT</td>\n",
       "      <td>СОГЛАШЕНИЕ О СОВМЕСТНОЙ ПОДАЧЕ</td>\n",
       "    </tr>\n",
       "  </tbody>\n",
       "</table>\n",
       "</div>"
      ],
      "text/plain": [
       "                                             text_en  \\\n",
       "0  EXHIBIT 10.6\\n\\n                              ...   \n",
       "1  Exhibit 10.26    CONFIDENTIAL TREATMENT HAS BE...   \n",
       "2  Exhibit 10.16 SUPPLY CONTRACT Contract No: Dat...   \n",
       "3  1                                             ...   \n",
       "4  Exhibit 1\\n\\nJOINT FILING AGREEMENT\\n\\nThe und...   \n",
       "\n",
       "                                             text_ru  \\\n",
       "0  ПРИЛОЖЕНИЕ 10.6\\n\\nДИСТРИБЬЮТОРСКОЕ СОГЛАШЕНИЕ...   \n",
       "1  Приложение 10.26 БЫЛО ЗАПРОШЕНО СООТВЕТСТВИЕ К...   \n",
       "2  Приложение 10.16 КОНТРАКТ ПОСТАВКИ Контракт №:...   \n",
       "3  1 Приложение 10.3\\n\\nя-на. (LOGO) www.i-on.com...   \n",
       "4  Экспонат 1\\n\\nСОГЛАШЕНИЕ О СОВМЕСТНОЙ ПОДАЧЕ\\n...   \n",
       "\n",
       "                      contract_types_en  \\\n",
       "0                 DISTRIBUTOR AGREEMENT   \n",
       "1  Promotion and Distribution Agreement   \n",
       "2                       SUPPLY CONTRACT   \n",
       "3            WEB SITE HOSTING AGREEMENT   \n",
       "4                JOINT FILING AGREEMENT   \n",
       "\n",
       "                            contract_types_ru  \n",
       "0                 ДИСТРИБЬЮТОРСКОЕ СОГЛАШЕНИЕ  \n",
       "1  Соглашение о продвижении и распространении  \n",
       "2                            ДОГОВОР ПОСТАВКИ  \n",
       "3           СОГЛАШЕНИЕ О РАЗМЕЩЕНИИ ВЕБ-САЙТА  \n",
       "4              СОГЛАШЕНИЕ О СОВМЕСТНОЙ ПОДАЧЕ  "
      ]
     },
     "execution_count": 3,
     "metadata": {},
     "output_type": "execute_result"
    }
   ],
   "source": [
    "pd_data = pd.read_csv('../data/CUAD_data/translated_data.csv', index_col=0)\n",
    "pd_data.head()"
   ]
  },
  {
   "cell_type": "code",
   "execution_count": 4,
   "id": "0a79ede9",
   "metadata": {
    "ExecuteTime": {
     "end_time": "2023-01-13T22:29:53.921272Z",
     "start_time": "2023-01-13T22:29:53.798060Z"
    }
   },
   "outputs": [],
   "source": [
    "analyzer = pymorphy2.MorphAnalyzer()"
   ]
  },
  {
   "cell_type": "code",
   "execution_count": null,
   "id": "1a92befd",
   "metadata": {
    "ExecuteTime": {
     "start_time": "2023-01-13T22:30:05.293Z"
    }
   },
   "outputs": [
    {
     "name": "stderr",
     "output_type": "stream",
     "text": [
      "117it [01:40,  1.15it/s]"
     ]
    }
   ],
   "source": [
    "processed_texts = []\n",
    "for _, row in tqdm.tqdm(pd_data.iterrows()):\n",
    "    lemmas = []\n",
    "    for token in tokenize(row.text_ru):\n",
    "        t = token.text.lower()\n",
    "        if re.match(r'[а-я]{2,}', t):\n",
    "            lemmas.append(analyzer.parse(t)[0].normal_form)\n",
    "    processed_texts.append(' '.join(lemmas))"
   ]
  },
  {
   "cell_type": "code",
   "execution_count": 17,
   "id": "1d51fe2d",
   "metadata": {},
   "outputs": [
    {
     "data": {
      "text/html": [
       "<div>\n",
       "<style scoped>\n",
       "    .dataframe tbody tr th:only-of-type {\n",
       "        vertical-align: middle;\n",
       "    }\n",
       "\n",
       "    .dataframe tbody tr th {\n",
       "        vertical-align: top;\n",
       "    }\n",
       "\n",
       "    .dataframe thead th {\n",
       "        text-align: right;\n",
       "    }\n",
       "</style>\n",
       "<table border=\"1\" class=\"dataframe\">\n",
       "  <thead>\n",
       "    <tr style=\"text-align: right;\">\n",
       "      <th></th>\n",
       "      <th>text_en</th>\n",
       "      <th>text_ru</th>\n",
       "      <th>contract_types_en</th>\n",
       "      <th>contract_types_ru</th>\n",
       "      <th>target</th>\n",
       "      <th>processed_text_ru</th>\n",
       "    </tr>\n",
       "  </thead>\n",
       "  <tbody>\n",
       "    <tr>\n",
       "      <th>0</th>\n",
       "      <td>EXHIBIT 10.6\\n\\n                              ...</td>\n",
       "      <td>ПРИЛОЖЕНИЕ 10.6\\n\\nДИСТРИБЬЮТОРСКОЕ СОГЛАШЕНИЕ...</td>\n",
       "      <td>DISTRIBUTOR AGREEMENT</td>\n",
       "      <td>ДИСТРИБЬЮТОРСКОЕ СОГЛАШЕНИЕ</td>\n",
       "      <td>Distributor</td>\n",
       "      <td>приложение дистрибьюторский соглашение настоящ...</td>\n",
       "    </tr>\n",
       "    <tr>\n",
       "      <th>1</th>\n",
       "      <td>Exhibit 10.26    CONFIDENTIAL TREATMENT HAS BE...</td>\n",
       "      <td>Приложение 10.26 БЫЛО ЗАПРОШЕНО СООТВЕТСТВИЕ К...</td>\n",
       "      <td>Promotion and Distribution Agreement</td>\n",
       "      <td>Соглашение о продвижении и распространении</td>\n",
       "      <td>Promotion</td>\n",
       "      <td>приложение быть запросить соответствие конфиде...</td>\n",
       "    </tr>\n",
       "    <tr>\n",
       "      <th>2</th>\n",
       "      <td>Exhibit 10.16 SUPPLY CONTRACT Contract No: Dat...</td>\n",
       "      <td>Приложение 10.16 КОНТРАКТ ПОСТАВКИ Контракт №:...</td>\n",
       "      <td>SUPPLY CONTRACT</td>\n",
       "      <td>ДОГОВОР ПОСТАВКИ</td>\n",
       "      <td>Supply</td>\n",
       "      <td>приложение контракт поставка контракт дата пок...</td>\n",
       "    </tr>\n",
       "    <tr>\n",
       "      <th>3</th>\n",
       "      <td>1                                             ...</td>\n",
       "      <td>1 Приложение 10.3\\n\\nя-на. (LOGO) www.i-on.com...</td>\n",
       "      <td>WEB SITE HOSTING AGREEMENT</td>\n",
       "      <td>СОГЛАШЕНИЕ О РАЗМЕЩЕНИИ ВЕБ-САЙТА</td>\n",
       "      <td>Hosting</td>\n",
       "      <td>приложение факс соглашение размещение веб-сайт...</td>\n",
       "    </tr>\n",
       "    <tr>\n",
       "      <th>4</th>\n",
       "      <td>Exhibit 1\\n\\nJOINT FILING AGREEMENT\\n\\nThe und...</td>\n",
       "      <td>Экспонат 1\\n\\nСОГЛАШЕНИЕ О СОВМЕСТНОЙ ПОДАЧЕ\\n...</td>\n",
       "      <td>JOINT FILING AGREEMENT</td>\n",
       "      <td>СОГЛАШЕНИЕ О СОВМЕСТНОЙ ПОДАЧЕ</td>\n",
       "      <td>Joint Venture</td>\n",
       "      <td>экспонат соглашение совместный подача нижеподп...</td>\n",
       "    </tr>\n",
       "  </tbody>\n",
       "</table>\n",
       "</div>"
      ],
      "text/plain": [
       "                                             text_en  \\\n",
       "0  EXHIBIT 10.6\\n\\n                              ...   \n",
       "1  Exhibit 10.26    CONFIDENTIAL TREATMENT HAS BE...   \n",
       "2  Exhibit 10.16 SUPPLY CONTRACT Contract No: Dat...   \n",
       "3  1                                             ...   \n",
       "4  Exhibit 1\\n\\nJOINT FILING AGREEMENT\\n\\nThe und...   \n",
       "\n",
       "                                             text_ru  \\\n",
       "0  ПРИЛОЖЕНИЕ 10.6\\n\\nДИСТРИБЬЮТОРСКОЕ СОГЛАШЕНИЕ...   \n",
       "1  Приложение 10.26 БЫЛО ЗАПРОШЕНО СООТВЕТСТВИЕ К...   \n",
       "2  Приложение 10.16 КОНТРАКТ ПОСТАВКИ Контракт №:...   \n",
       "3  1 Приложение 10.3\\n\\nя-на. (LOGO) www.i-on.com...   \n",
       "4  Экспонат 1\\n\\nСОГЛАШЕНИЕ О СОВМЕСТНОЙ ПОДАЧЕ\\n...   \n",
       "\n",
       "                      contract_types_en  \\\n",
       "0                 DISTRIBUTOR AGREEMENT   \n",
       "1  Promotion and Distribution Agreement   \n",
       "2                       SUPPLY CONTRACT   \n",
       "3            WEB SITE HOSTING AGREEMENT   \n",
       "4                JOINT FILING AGREEMENT   \n",
       "\n",
       "                            contract_types_ru         target  \\\n",
       "0                 ДИСТРИБЬЮТОРСКОЕ СОГЛАШЕНИЕ    Distributor   \n",
       "1  Соглашение о продвижении и распространении      Promotion   \n",
       "2                            ДОГОВОР ПОСТАВКИ         Supply   \n",
       "3           СОГЛАШЕНИЕ О РАЗМЕЩЕНИИ ВЕБ-САЙТА        Hosting   \n",
       "4              СОГЛАШЕНИЕ О СОВМЕСТНОЙ ПОДАЧЕ  Joint Venture   \n",
       "\n",
       "                                   processed_text_ru  \n",
       "0  приложение дистрибьюторский соглашение настоящ...  \n",
       "1  приложение быть запросить соответствие конфиде...  \n",
       "2  приложение контракт поставка контракт дата пок...  \n",
       "3  приложение факс соглашение размещение веб-сайт...  \n",
       "4  экспонат соглашение совместный подача нижеподп...  "
      ]
     },
     "execution_count": 17,
     "metadata": {},
     "output_type": "execute_result"
    }
   ],
   "source": [
    "pd_data['processed_text_ru'] = processed_texts\n",
    "pd_data.head()"
   ]
  },
  {
   "cell_type": "code",
   "execution_count": null,
   "id": "0d25547b",
   "metadata": {},
   "outputs": [],
   "source": [
    "pd_data.read_csv('../data/CUAD_data/translated_data.csv', index_col=0)"
   ]
  }
 ],
 "metadata": {
  "kernelspec": {
   "display_name": "Python 3 (ipykernel)",
   "language": "python",
   "name": "python3"
  },
  "language_info": {
   "codemirror_mode": {
    "name": "ipython",
    "version": 3
   },
   "file_extension": ".py",
   "mimetype": "text/x-python",
   "name": "python",
   "nbconvert_exporter": "python",
   "pygments_lexer": "ipython3",
   "version": "3.9.15"
  }
 },
 "nbformat": 4,
 "nbformat_minor": 5
}
