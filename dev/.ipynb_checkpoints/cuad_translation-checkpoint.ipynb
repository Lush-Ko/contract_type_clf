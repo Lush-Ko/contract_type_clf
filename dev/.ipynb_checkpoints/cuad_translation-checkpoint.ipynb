{
 "cells": [
  {
   "cell_type": "code",
   "execution_count": 1,
   "id": "61319372",
   "metadata": {
    "ExecuteTime": {
     "end_time": "2023-01-13T21:29:30.094271Z",
     "start_time": "2023-01-13T21:29:22.655081Z"
    }
   },
   "outputs": [
    {
     "name": "stdout",
     "output_type": "stream",
     "text": [
      "Collecting googletrans==3.1.0a0\n",
      "  Using cached googletrans-3.1.0a0.tar.gz (19 kB)\n",
      "  Preparing metadata (setup.py): started\n",
      "  Preparing metadata (setup.py): finished with status 'done'\n",
      "Collecting httpx==0.13.3\n",
      "  Using cached httpx-0.13.3-py3-none-any.whl (55 kB)\n",
      "Collecting httpcore==0.9.*\n",
      "  Using cached httpcore-0.9.1-py3-none-any.whl (42 kB)\n",
      "Requirement already satisfied: chardet==3.* in c:\\users\\dimas\\anaconda3\\envs\\nlp\\lib\\site-packages (from httpx==0.13.3->googletrans==3.1.0a0) (3.0.4)\n",
      "Requirement already satisfied: certifi in c:\\users\\dimas\\anaconda3\\envs\\nlp\\lib\\site-packages (from httpx==0.13.3->googletrans==3.1.0a0) (2022.9.24)\n",
      "Collecting rfc3986<2,>=1.3\n",
      "  Using cached rfc3986-1.5.0-py2.py3-none-any.whl (31 kB)\n",
      "Collecting idna==2.*\n",
      "  Using cached idna-2.10-py2.py3-none-any.whl (58 kB)\n",
      "Requirement already satisfied: sniffio in c:\\users\\dimas\\anaconda3\\envs\\nlp\\lib\\site-packages (from httpx==0.13.3->googletrans==3.1.0a0) (1.2.0)\n",
      "Collecting hstspreload\n",
      "  Downloading hstspreload-2023.1.1-py3-none-any.whl (1.5 MB)\n",
      "     ---------------------------------------- 1.5/1.5 MB 10.9 MB/s eta 0:00:00\n",
      "Collecting h2==3.*\n",
      "  Using cached h2-3.2.0-py2.py3-none-any.whl (65 kB)\n",
      "Collecting h11<0.10,>=0.8\n",
      "  Using cached h11-0.9.0-py2.py3-none-any.whl (53 kB)\n",
      "Collecting hyperframe<6,>=5.2.0\n",
      "  Using cached hyperframe-5.2.0-py2.py3-none-any.whl (12 kB)\n",
      "Collecting hpack<4,>=3.0\n",
      "  Using cached hpack-3.0.0-py2.py3-none-any.whl (38 kB)\n",
      "Building wheels for collected packages: googletrans\n",
      "  Building wheel for googletrans (setup.py): started\n",
      "  Building wheel for googletrans (setup.py): finished with status 'done'\n",
      "  Created wheel for googletrans: filename=googletrans-3.1.0a0-py3-none-any.whl size=16367 sha256=99261524c893b2e7248ee61c39a35a590040d461aadf7b1363f18d2bba129875\n",
      "  Stored in directory: c:\\users\\dimas\\appdata\\local\\pip\\cache\\wheels\\ae\\e1\\6c\\5137bc3f35aa130deea71575e165cc4f4f0680a88f3d90a636\n",
      "Successfully built googletrans\n",
      "Installing collected packages: rfc3986, hyperframe, hpack, h11, idna, hstspreload, h2, httpcore, httpx, googletrans\n",
      "  Attempting uninstall: idna\n",
      "    Found existing installation: idna 3.4\n",
      "    Uninstalling idna-3.4:\n",
      "      Successfully uninstalled idna-3.4\n",
      "Successfully installed googletrans-3.1.0a0 h11-0.9.0 h2-3.2.0 hpack-3.0.0 hstspreload-2023.1.1 httpcore-0.9.1 httpx-0.13.3 hyperframe-5.2.0 idna-2.10 rfc3986-1.5.0\n"
     ]
    }
   ],
   "source": [
    "!pip install googletrans==3.1.0a0"
   ]
  },
  {
   "cell_type": "code",
   "execution_count": 4,
   "id": "32f55007",
   "metadata": {
    "ExecuteTime": {
     "end_time": "2023-01-13T21:29:38.396563Z",
     "start_time": "2023-01-13T21:29:37.741739Z"
    }
   },
   "outputs": [],
   "source": [
    "import os\n",
    "import json\n",
    "import re\n",
    "from tqdm import tqdm\n",
    "\n",
    "# import fitz\n",
    "\n",
    "import googletrans\n",
    "import pandas as pd"
   ]
  },
  {
   "cell_type": "markdown",
   "id": "7f5ff650-ee1f-49fa-9249-b2caef884fe4",
   "metadata": {},
   "source": [
    "# Читаем данные Contract Understanding Atticus Dataset (CUAD)\n",
    "\n",
    "Оригинал доступен по [ссылке](https://zenodo.org/record/4595826)."
   ]
  },
  {
   "cell_type": "code",
   "execution_count": 5,
   "id": "c4d723e8",
   "metadata": {
    "ExecuteTime": {
     "end_time": "2023-01-13T21:29:39.442974Z",
     "start_time": "2023-01-13T21:29:39.177941Z"
    }
   },
   "outputs": [],
   "source": [
    "with open('../data/CUAD_data/CUADv1.json') as f:\n",
    "    data = json.load(f)"
   ]
  },
  {
   "cell_type": "code",
   "execution_count": 6,
   "id": "9b0cd972",
   "metadata": {
    "ExecuteTime": {
     "end_time": "2023-01-13T21:29:39.805375Z",
     "start_time": "2023-01-13T21:29:39.792865Z"
    }
   },
   "outputs": [],
   "source": [
    "texts = [example['paragraphs'][0]['context'] for example in data['data']]"
   ]
  },
  {
   "cell_type": "markdown",
   "id": "7c84443a-9b75-4f64-8bca-4789b69280da",
   "metadata": {},
   "source": [
    "Разбиваем тексты на абзацы, так как переводчик принимает только небольшие порции текста."
   ]
  },
  {
   "cell_type": "code",
   "execution_count": 7,
   "id": "5ccd1ce6",
   "metadata": {
    "ExecuteTime": {
     "end_time": "2023-01-13T21:29:42.234481Z",
     "start_time": "2023-01-13T21:29:42.184403Z"
    }
   },
   "outputs": [],
   "source": [
    "texts_chunks = []\n",
    "for text in texts:\n",
    "    texts_chunks.append([chunk for chunk in text.split('\\n\\n') if chunk])"
   ]
  },
  {
   "cell_type": "code",
   "execution_count": 8,
   "id": "dde49431",
   "metadata": {
    "ExecuteTime": {
     "end_time": "2023-01-13T21:29:42.670986Z",
     "start_time": "2023-01-13T21:29:42.638496Z"
    }
   },
   "outputs": [],
   "source": [
    "translator = googletrans.Translator()"
   ]
  },
  {
   "cell_type": "markdown",
   "id": "10508306-0d27-4183-ac47-db573846ab07",
   "metadata": {},
   "source": [
    "Переводим тексты по абзацам и добавляем пустые строки туда, откуда они были удалены"
   ]
  },
  {
   "cell_type": "code",
   "execution_count": null,
   "id": "db52d51d",
   "metadata": {
    "ExecuteTime": {
     "start_time": "2023-01-13T21:29:44.334Z"
    },
    "tags": []
   },
   "outputs": [
    {
     "name": "stderr",
     "output_type": "stream",
     "text": [
      "5it [01:21, 11.14s/it]"
     ]
    }
   ],
   "source": [
    "results = []\n",
    "for i, text_chunks in tqdm(enumerate(texts_chunks)):\n",
    "    result = translator.translate(text_chunks, dest='ru', src='en')\n",
    "    translated_chunks = [chunk_result.text for chunk_result in result]\n",
    "    all_chunks = []\n",
    "    j = 0\n",
    "    for raw_chunk in texts[i].split('\\n\\n'):\n",
    "        if raw_chunk:\n",
    "            all_chunks.append(translated_chunks[j])\n",
    "            j+=1\n",
    "        else:\n",
    "            all_chunks.append('')\n",
    "    results.append('\\n\\n'.join(all_chunks))"
   ]
  },
  {
   "cell_type": "markdown",
   "id": "6c3e7090-955a-4fff-ac7a-31a27f6d6239",
   "metadata": {},
   "source": [
    "Добавляем данные по типу договоров"
   ]
  },
  {
   "cell_type": "code",
   "execution_count": null,
   "id": "f325fecc-35c4-46bb-a260-54a2b71a705a",
   "metadata": {
    "ExecuteTime": {
     "start_time": "2023-01-13T21:29:47.643Z"
    }
   },
   "outputs": [],
   "source": [
    "contract_types_ru = []\n",
    "contract_types_en = []\n",
    "for i, example in tqdm(enumerate(data['data'])):\n",
    "    contract_type = example['paragraphs'][0]['qas'][0]['answers'][0]['text']\n",
    "    contract_type_ru = translator.translate(contract_type, dest='ru', src='en').text\n",
    "    contract_types_ru.append(contract_type_ru)\n",
    "    contract_types_en.append(contract_type)"
   ]
  },
  {
   "cell_type": "markdown",
   "id": "50b8923e-c6dd-4d5d-b89f-b84100919a55",
   "metadata": {},
   "source": [
    "Сохраняем данные в табличном формате"
   ]
  },
  {
   "cell_type": "code",
   "execution_count": null,
   "id": "fd061d47-2cf5-42b1-8d9a-f461295586ab",
   "metadata": {
    "ExecuteTime": {
     "start_time": "2023-01-13T21:29:48.535Z"
    }
   },
   "outputs": [],
   "source": [
    "pd_data = pd.DataFrame({'text_en': texts,\n",
    "                        'text_ru': results,\n",
    "                        'contract_types_en': contract_types_en,\n",
    "                        'contract_types_ru': contract_types_ru})"
   ]
  },
  {
   "cell_type": "markdown",
   "id": "0a21be0c",
   "metadata": {},
   "source": [
    "# Проставляем метки"
   ]
  },
  {
   "cell_type": "code",
   "execution_count": null,
   "id": "a3e52267",
   "metadata": {
    "ExecuteTime": {
     "start_time": "2023-01-13T21:29:50.456Z"
    }
   },
   "outputs": [],
   "source": [
    "filename2class = {}\n",
    "for part_num in range(1, 4):\n",
    "    for classname in os.listdir(f'../data/CUAD_data/full_contract_pdf/Part_{\"I\"*part_num}'):\n",
    "        for filename in os.listdir(f'../data/CUAD_data/full_contract_pdf/Part_{\"I\"*part_num}/{classname}'):\n",
    "            clear_filename = filename.lower()\\\n",
    "                                     .split('.pdf')[0]\\\n",
    "                                     .strip()\\\n",
    "                                     .strip('-')\\\n",
    "                                     .replace('agreement_option ', '')\\\n",
    "                                     .replace('é', 'e')\n",
    "            clear_classname  = classname.split(' Agreement')[0]\\\n",
    "                                        .replace('Joint Venture _ Filing', 'Joint Venture')\\\n",
    "                                        .replace('Affiliate_Agreements', 'Affiliate')\\\n",
    "                                        .replace('License_Agreements', 'License')\\\n",
    "                                        .replace('Non_Compete_Non_Solicit', 'Non-Compete')\n",
    "            filename2class[clear_filename] = clear_classname"
   ]
  },
  {
   "cell_type": "code",
   "execution_count": null,
   "id": "fb740626",
   "metadata": {
    "ExecuteTime": {
     "start_time": "2023-01-13T21:29:50.781Z"
    }
   },
   "outputs": [],
   "source": [
    "target = []\n",
    "\n",
    "for ex in data['data']:\n",
    "    clear_filename = ex['title'].lower()\\\n",
    "                                .strip()\\\n",
    "                                .strip('-')\\\n",
    "                                .replace('é', 'e')\n",
    "    target.append(filename2class[clear_filename])\n",
    "    \n",
    "pd_data['target'] = target"
   ]
  },
  {
   "cell_type": "code",
   "execution_count": null,
   "id": "ff320b00-515c-46eb-a4af-42c1d43fc008",
   "metadata": {
    "ExecuteTime": {
     "start_time": "2023-01-13T21:29:51.468Z"
    }
   },
   "outputs": [],
   "source": [
    "pd_data.head()"
   ]
  },
  {
   "cell_type": "code",
   "execution_count": null,
   "id": "912b2bb4-ec81-4821-986d-d42944389263",
   "metadata": {
    "ExecuteTime": {
     "start_time": "2023-01-13T21:29:53.125Z"
    }
   },
   "outputs": [],
   "source": [
    "pd_data.to_csv('../data/CUAD_data/translated_data.csv')"
   ]
  },
  {
   "cell_type": "code",
   "execution_count": null,
   "id": "ccc17174",
   "metadata": {},
   "outputs": [],
   "source": []
  }
 ],
 "metadata": {
  "kernelspec": {
   "display_name": "Python 3 (ipykernel)",
   "language": "python",
   "name": "python3"
  },
  "language_info": {
   "codemirror_mode": {
    "name": "ipython",
    "version": 3
   },
   "file_extension": ".py",
   "mimetype": "text/x-python",
   "name": "python",
   "nbconvert_exporter": "python",
   "pygments_lexer": "ipython3",
   "version": "3.9.15"
  }
 },
 "nbformat": 4,
 "nbformat_minor": 5
}
