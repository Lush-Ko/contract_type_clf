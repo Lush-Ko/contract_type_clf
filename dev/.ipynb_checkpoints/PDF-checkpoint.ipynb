{
 "cells": [
  {
   "cell_type": "markdown",
   "metadata": {
    "colab": {
     "base_uri": "https://localhost:8080/"
    },
    "id": "GbKc1_FlfXcg",
    "outputId": "707b8273-778c-4348-c833-9a5b4c878a94"
   },
   "source": [
    "Вывод текста везде (кроме tika) закомменчен для удобства скроллинга"
   ]
  },
  {
   "cell_type": "markdown",
   "metadata": {},
   "source": [
    "<p>В данном ноутбуке рассмотрены несколько библиотек для извлечения текста из pdf, doc, docx и rtf файлов</p>\n",
    "<p>Рассмотренные библиотеки: Apache Tika, PyPDF2, PyMuPDF (fitz), pdfminer.six, python-docx, docx2txt и способ чтения без дополнительных библиотек; так же рассмотрен способ конвертации файлов docx->pdf с помощью библиотеки docx2pdf </p>"
   ]
  },
  {
   "cell_type": "code",
   "execution_count": 37,
   "metadata": {},
   "outputs": [
    {
     "name": "stdout",
     "output_type": "stream",
     "text": [
      "Requirement already satisfied: ipython-autotime in c:\\users\\265375\\anaconda3\\lib\\site-packages (0.3.1)\n",
      "Requirement already satisfied: ipython in c:\\users\\265375\\anaconda3\\lib\\site-packages (from ipython-autotime) (7.31.1)\n",
      "Requirement already satisfied: pickleshare in c:\\users\\265375\\anaconda3\\lib\\site-packages (from ipython->ipython-autotime) (0.7.5)\n",
      "Requirement already satisfied: colorama in c:\\users\\265375\\anaconda3\\lib\\site-packages (from ipython->ipython-autotime) (0.4.5)\n",
      "Requirement already satisfied: matplotlib-inline in c:\\users\\265375\\anaconda3\\lib\\site-packages (from ipython->ipython-autotime) (0.1.6)\n",
      "Requirement already satisfied: backcall in c:\\users\\265375\\anaconda3\\lib\\site-packages (from ipython->ipython-autotime) (0.2.0)\n",
      "Requirement already satisfied: traitlets>=4.2 in c:\\users\\265375\\anaconda3\\lib\\site-packages (from ipython->ipython-autotime) (5.7.1)\n",
      "Requirement already satisfied: pygments in c:\\users\\265375\\anaconda3\\lib\\site-packages (from ipython->ipython-autotime) (2.11.2)\n",
      "Requirement already satisfied: jedi>=0.16 in c:\\users\\265375\\anaconda3\\lib\\site-packages (from ipython->ipython-autotime) (0.18.1)\n",
      "Requirement already satisfied: prompt-toolkit!=3.0.0,!=3.0.1,<3.1.0,>=2.0.0 in c:\\users\\265375\\anaconda3\\lib\\site-packages (from ipython->ipython-autotime) (3.0.20)\n",
      "Requirement already satisfied: setuptools>=18.5 in c:\\users\\265375\\anaconda3\\lib\\site-packages (from ipython->ipython-autotime) (65.5.0)\n",
      "Requirement already satisfied: decorator in c:\\users\\265375\\anaconda3\\lib\\site-packages (from ipython->ipython-autotime) (5.1.1)\n",
      "Requirement already satisfied: parso<0.9.0,>=0.8.0 in c:\\users\\265375\\anaconda3\\lib\\site-packages (from jedi>=0.16->ipython->ipython-autotime) (0.8.3)\n",
      "Requirement already satisfied: wcwidth in c:\\users\\265375\\anaconda3\\lib\\site-packages (from prompt-toolkit!=3.0.0,!=3.0.1,<3.1.0,>=2.0.0->ipython->ipython-autotime) (0.2.5)\n",
      "The autotime extension is already loaded. To reload it, use:\n",
      "  %reload_ext autotime\n",
      "time: 3.36 s (started: 2022-12-28 19:52:39 +03:00)\n"
     ]
    }
   ],
   "source": [
    "!pip install ipython-autotime\n",
    "%load_ext autotime"
   ]
  },
  {
   "cell_type": "markdown",
   "metadata": {
    "id": "Pdw-kc4QvLcW"
   },
   "source": [
    "# Apache Tika"
   ]
  },
  {
   "cell_type": "markdown",
   "metadata": {},
   "source": [
    "Для работы обязательно нужны установленная Java SE Development Kit 19.0.1 (по требованиям версия 1.6 и выше) и jar-файл (лежит в директории src);\n",
    "ссылка на <a href=\"https://www.oracle.com/java/technologies/javase/jdk19-archive-downloads.html\">java</a><href > "
   ]
  },
  {
   "cell_type": "markdown",
   "metadata": {},
   "source": [
    "<p>Перед запуском функции get_document_text необходимо запустить с помощью java jar-файл C:\\Users\\username\\AppData\\Local\\Temp\\tika-server.jar </p>\n",
    "<p>Команда для запуска в командной строке java -jar C:\\Users\\username\\AppData\\Local\\Temp\\tika-server.jar </p>\n",
    "<p>После выполнения все должно работать</p>\n",
    "<p>Принимаемые функцией get_document_text расширения файлов: .doc, .docx, .pdf, .rtf; Но вообще tika способна работать с практически любыми расширениями файлов (медиа, текст и т.д.) </p>\n",
    "<p></p>\n",
    "<p>После окончания работы с tika необходимо выключить открытый jar-файл (для этого вроде как достаточно закрыть cmd)</p>"
   ]
  },
  {
   "cell_type": "code",
   "execution_count": 1,
   "metadata": {},
   "outputs": [
    {
     "name": "stdout",
     "output_type": "stream",
     "text": [
      "Requirement already satisfied: tika in c:\\users\\265375\\anaconda3\\lib\\site-packages (1.24)\n",
      "Requirement already satisfied: setuptools in c:\\users\\265375\\anaconda3\\lib\\site-packages (from tika) (65.5.0)\n",
      "Requirement already satisfied: requests in c:\\users\\265375\\anaconda3\\lib\\site-packages (from tika) (2.28.1)\n",
      "Requirement already satisfied: urllib3<1.27,>=1.21.1 in c:\\users\\265375\\anaconda3\\lib\\site-packages (from requests->tika) (1.26.13)\n",
      "Requirement already satisfied: charset-normalizer<3,>=2 in c:\\users\\265375\\anaconda3\\lib\\site-packages (from requests->tika) (2.0.4)\n",
      "Requirement already satisfied: certifi>=2017.4.17 in c:\\users\\265375\\anaconda3\\lib\\site-packages (from requests->tika) (2022.12.7)\n",
      "Requirement already satisfied: idna<4,>=2.5 in c:\\users\\265375\\anaconda3\\lib\\site-packages (from requests->tika) (3.4)\n"
     ]
    }
   ],
   "source": [
    "!pip install tika"
   ]
  },
  {
   "cell_type": "code",
   "execution_count": 22,
   "metadata": {},
   "outputs": [],
   "source": [
    "import tika\n",
    "from tikapp import TikaApp\n",
    "tika.initVM()"
   ]
  },
  {
   "cell_type": "code",
   "execution_count": 33,
   "metadata": {},
   "outputs": [
    {
     "name": "stdout",
     "output_type": "stream",
     "text": [
      "time: 0 ns (started: 2022-12-28 19:49:08 +03:00)\n"
     ]
    }
   ],
   "source": [
    "from tika import parser\n",
    "\n",
    "def get_document_text(filepath):\n",
    "    doc_type = filepath.split('.')[-1]\n",
    "    if doc_type in ['doc', 'rtf', 'pdf', 'docx']:\n",
    "        text = parser.from_file(filepath)['content']\n",
    "    else:\n",
    "        print(f'File extention must be either pdf, rtf, doc or docx, got {doc_type}')\n",
    "    return text.strip()"
   ]
  },
  {
   "cell_type": "code",
   "execution_count": 38,
   "metadata": {},
   "outputs": [
    {
     "name": "stderr",
     "output_type": "stream",
     "text": [
      "2022-12-28 20:06:18,724 [MainThread  ] [ERROR]  Unable to run java; is it installed?\n",
      "2022-12-28 20:06:18,725 [MainThread  ] [ERROR]  Failed to receive startup confirmation from startServer.\n"
     ]
    },
    {
     "ename": "RuntimeError",
     "evalue": "Unable to start Tika server.",
     "output_type": "error",
     "traceback": [
      "\u001b[1;31m---------------------------------------------------------------------------\u001b[0m",
      "\u001b[1;31mRuntimeError\u001b[0m                              Traceback (most recent call last)",
      "\u001b[1;32m~\\AppData\\Local\\Temp\\ipykernel_10736\\3121945422.py\u001b[0m in \u001b[0;36m<module>\u001b[1;34m\u001b[0m\n\u001b[0;32m      1\u001b[0m \u001b[0mpath_doc\u001b[0m\u001b[1;33m=\u001b[0m\u001b[1;34m\"C:/Users/265375/Desktop/Work/parsing/Образец_простого_договора_аренды_квартиры-_заключаемого_между_физическим_лицами.doc\"\u001b[0m\u001b[1;33m\u001b[0m\u001b[1;33m\u001b[0m\u001b[0m\n\u001b[1;32m----> 2\u001b[1;33m \u001b[0mprint\u001b[0m\u001b[1;33m(\u001b[0m\u001b[0mget_document_text\u001b[0m\u001b[1;33m(\u001b[0m\u001b[0mpath_doc\u001b[0m\u001b[1;33m)\u001b[0m\u001b[1;33m)\u001b[0m\u001b[1;33m\u001b[0m\u001b[1;33m\u001b[0m\u001b[0m\n\u001b[0m",
      "\u001b[1;32m~\\AppData\\Local\\Temp\\ipykernel_10736\\2598648918.py\u001b[0m in \u001b[0;36mget_document_text\u001b[1;34m(filepath)\u001b[0m\n\u001b[0;32m      4\u001b[0m     \u001b[0mdoc_type\u001b[0m \u001b[1;33m=\u001b[0m \u001b[0mfilepath\u001b[0m\u001b[1;33m.\u001b[0m\u001b[0msplit\u001b[0m\u001b[1;33m(\u001b[0m\u001b[1;34m'.'\u001b[0m\u001b[1;33m)\u001b[0m\u001b[1;33m[\u001b[0m\u001b[1;33m-\u001b[0m\u001b[1;36m1\u001b[0m\u001b[1;33m]\u001b[0m\u001b[1;33m\u001b[0m\u001b[1;33m\u001b[0m\u001b[0m\n\u001b[0;32m      5\u001b[0m     \u001b[1;32mif\u001b[0m \u001b[0mdoc_type\u001b[0m \u001b[1;32min\u001b[0m \u001b[1;33m[\u001b[0m\u001b[1;34m'doc'\u001b[0m\u001b[1;33m,\u001b[0m \u001b[1;34m'rtf'\u001b[0m\u001b[1;33m,\u001b[0m \u001b[1;34m'pdf'\u001b[0m\u001b[1;33m,\u001b[0m \u001b[1;34m'docx'\u001b[0m\u001b[1;33m]\u001b[0m\u001b[1;33m:\u001b[0m\u001b[1;33m\u001b[0m\u001b[1;33m\u001b[0m\u001b[0m\n\u001b[1;32m----> 6\u001b[1;33m         \u001b[0mtext\u001b[0m \u001b[1;33m=\u001b[0m \u001b[0mparser\u001b[0m\u001b[1;33m.\u001b[0m\u001b[0mfrom_file\u001b[0m\u001b[1;33m(\u001b[0m\u001b[0mfilepath\u001b[0m\u001b[1;33m)\u001b[0m\u001b[1;33m[\u001b[0m\u001b[1;34m'content'\u001b[0m\u001b[1;33m]\u001b[0m\u001b[1;33m\u001b[0m\u001b[1;33m\u001b[0m\u001b[0m\n\u001b[0m\u001b[0;32m      7\u001b[0m     \u001b[1;32melse\u001b[0m\u001b[1;33m:\u001b[0m\u001b[1;33m\u001b[0m\u001b[1;33m\u001b[0m\u001b[0m\n\u001b[0;32m      8\u001b[0m         \u001b[0mprint\u001b[0m\u001b[1;33m(\u001b[0m\u001b[1;34mf'File extention must be either pdf, rtf, doc or docx, got {doc_type}'\u001b[0m\u001b[1;33m)\u001b[0m\u001b[1;33m\u001b[0m\u001b[1;33m\u001b[0m\u001b[0m\n",
      "\u001b[1;32m~\\Anaconda3\\lib\\site-packages\\tika\\parser.py\u001b[0m in \u001b[0;36mfrom_file\u001b[1;34m(filename, serverEndpoint, service, xmlContent, headers, config_path, requestOptions)\u001b[0m\n\u001b[0;32m     38\u001b[0m     '''\n\u001b[0;32m     39\u001b[0m     \u001b[1;32mif\u001b[0m \u001b[1;32mnot\u001b[0m \u001b[0mxmlContent\u001b[0m\u001b[1;33m:\u001b[0m\u001b[1;33m\u001b[0m\u001b[1;33m\u001b[0m\u001b[0m\n\u001b[1;32m---> 40\u001b[1;33m         \u001b[0moutput\u001b[0m \u001b[1;33m=\u001b[0m \u001b[0mparse1\u001b[0m\u001b[1;33m(\u001b[0m\u001b[0mservice\u001b[0m\u001b[1;33m,\u001b[0m \u001b[0mfilename\u001b[0m\u001b[1;33m,\u001b[0m \u001b[0mserverEndpoint\u001b[0m\u001b[1;33m,\u001b[0m \u001b[0mheaders\u001b[0m\u001b[1;33m=\u001b[0m\u001b[0mheaders\u001b[0m\u001b[1;33m,\u001b[0m \u001b[0mconfig_path\u001b[0m\u001b[1;33m=\u001b[0m\u001b[0mconfig_path\u001b[0m\u001b[1;33m,\u001b[0m \u001b[0mrequestOptions\u001b[0m\u001b[1;33m=\u001b[0m\u001b[0mrequestOptions\u001b[0m\u001b[1;33m)\u001b[0m\u001b[1;33m\u001b[0m\u001b[1;33m\u001b[0m\u001b[0m\n\u001b[0m\u001b[0;32m     41\u001b[0m     \u001b[1;32melse\u001b[0m\u001b[1;33m:\u001b[0m\u001b[1;33m\u001b[0m\u001b[1;33m\u001b[0m\u001b[0m\n\u001b[0;32m     42\u001b[0m         output = parse1(service, filename, serverEndpoint, services={'meta': '/meta', 'text': '/tika', 'all': '/rmeta/xml'},\n",
      "\u001b[1;32m~\\Anaconda3\\lib\\site-packages\\tika\\tika.py\u001b[0m in \u001b[0;36mparse1\u001b[1;34m(option, urlOrPath, serverEndpoint, verbose, tikaServerJar, responseMimeType, services, rawResponse, headers, config_path, requestOptions)\u001b[0m\n\u001b[0;32m    334\u001b[0m     \u001b[0mheaders\u001b[0m\u001b[1;33m.\u001b[0m\u001b[0mupdate\u001b[0m\u001b[1;33m(\u001b[0m\u001b[1;33m{\u001b[0m\u001b[1;34m'Accept'\u001b[0m\u001b[1;33m:\u001b[0m \u001b[0mresponseMimeType\u001b[0m\u001b[1;33m,\u001b[0m \u001b[1;34m'Content-Disposition'\u001b[0m\u001b[1;33m:\u001b[0m \u001b[0mmake_content_disposition_header\u001b[0m\u001b[1;33m(\u001b[0m\u001b[0mpath\u001b[0m\u001b[1;33m.\u001b[0m\u001b[0mencode\u001b[0m\u001b[1;33m(\u001b[0m\u001b[1;34m'utf-8'\u001b[0m\u001b[1;33m)\u001b[0m \u001b[1;32mif\u001b[0m \u001b[0mtype\u001b[0m\u001b[1;33m(\u001b[0m\u001b[0mpath\u001b[0m\u001b[1;33m)\u001b[0m \u001b[1;32mis\u001b[0m \u001b[0municode_string\u001b[0m \u001b[1;32melse\u001b[0m \u001b[0mpath\u001b[0m\u001b[1;33m)\u001b[0m\u001b[1;33m}\u001b[0m\u001b[1;33m)\u001b[0m\u001b[1;33m\u001b[0m\u001b[1;33m\u001b[0m\u001b[0m\n\u001b[0;32m    335\u001b[0m     \u001b[1;32mwith\u001b[0m \u001b[0murlOrPath\u001b[0m \u001b[1;32mif\u001b[0m \u001b[0m_is_file_object\u001b[0m\u001b[1;33m(\u001b[0m\u001b[0murlOrPath\u001b[0m\u001b[1;33m)\u001b[0m \u001b[1;32melse\u001b[0m \u001b[0mopen\u001b[0m\u001b[1;33m(\u001b[0m\u001b[0mpath\u001b[0m\u001b[1;33m,\u001b[0m \u001b[1;34m'rb'\u001b[0m\u001b[1;33m)\u001b[0m \u001b[1;32mas\u001b[0m \u001b[0mf\u001b[0m\u001b[1;33m:\u001b[0m\u001b[1;33m\u001b[0m\u001b[1;33m\u001b[0m\u001b[0m\n\u001b[1;32m--> 336\u001b[1;33m         status, response = callServer('put', serverEndpoint, service, f,\n\u001b[0m\u001b[0;32m    337\u001b[0m                                       \u001b[0mheaders\u001b[0m\u001b[1;33m,\u001b[0m \u001b[0mverbose\u001b[0m\u001b[1;33m,\u001b[0m \u001b[0mtikaServerJar\u001b[0m\u001b[1;33m,\u001b[0m \u001b[0mconfig_path\u001b[0m\u001b[1;33m=\u001b[0m\u001b[0mconfig_path\u001b[0m\u001b[1;33m,\u001b[0m\u001b[1;33m\u001b[0m\u001b[1;33m\u001b[0m\u001b[0m\n\u001b[0;32m    338\u001b[0m                                       rawResponse=rawResponse, requestOptions=requestOptions)\n",
      "\u001b[1;32m~\\Anaconda3\\lib\\site-packages\\tika\\tika.py\u001b[0m in \u001b[0;36mcallServer\u001b[1;34m(verb, serverEndpoint, service, data, headers, verbose, tikaServerJar, httpVerbs, classpath, rawResponse, config_path, requestOptions)\u001b[0m\n\u001b[0;32m    529\u001b[0m     \u001b[1;32mglobal\u001b[0m \u001b[0mTikaClientOnly\u001b[0m\u001b[1;33m\u001b[0m\u001b[1;33m\u001b[0m\u001b[0m\n\u001b[0;32m    530\u001b[0m     \u001b[1;32mif\u001b[0m \u001b[1;32mnot\u001b[0m \u001b[0mTikaClientOnly\u001b[0m\u001b[1;33m:\u001b[0m\u001b[1;33m\u001b[0m\u001b[1;33m\u001b[0m\u001b[0m\n\u001b[1;32m--> 531\u001b[1;33m         \u001b[0mserverEndpoint\u001b[0m \u001b[1;33m=\u001b[0m \u001b[0mcheckTikaServer\u001b[0m\u001b[1;33m(\u001b[0m\u001b[0mscheme\u001b[0m\u001b[1;33m,\u001b[0m \u001b[0mserverHost\u001b[0m\u001b[1;33m,\u001b[0m \u001b[0mport\u001b[0m\u001b[1;33m,\u001b[0m \u001b[0mtikaServerJar\u001b[0m\u001b[1;33m,\u001b[0m \u001b[0mclasspath\u001b[0m\u001b[1;33m,\u001b[0m \u001b[0mconfig_path\u001b[0m\u001b[1;33m)\u001b[0m\u001b[1;33m\u001b[0m\u001b[1;33m\u001b[0m\u001b[0m\n\u001b[0m\u001b[0;32m    532\u001b[0m \u001b[1;33m\u001b[0m\u001b[0m\n\u001b[0;32m    533\u001b[0m     \u001b[0mserviceUrl\u001b[0m  \u001b[1;33m=\u001b[0m \u001b[0mserverEndpoint\u001b[0m \u001b[1;33m+\u001b[0m \u001b[0mservice\u001b[0m\u001b[1;33m\u001b[0m\u001b[1;33m\u001b[0m\u001b[0m\n",
      "\u001b[1;32m~\\Anaconda3\\lib\\site-packages\\tika\\tika.py\u001b[0m in \u001b[0;36mcheckTikaServer\u001b[1;34m(scheme, serverHost, port, tikaServerJar, classpath, config_path)\u001b[0m\n\u001b[0;32m    599\u001b[0m             \u001b[1;32mif\u001b[0m \u001b[1;32mnot\u001b[0m \u001b[0mstatus\u001b[0m\u001b[1;33m:\u001b[0m\u001b[1;33m\u001b[0m\u001b[1;33m\u001b[0m\u001b[0m\n\u001b[0;32m    600\u001b[0m                 \u001b[0mlog\u001b[0m\u001b[1;33m.\u001b[0m\u001b[0merror\u001b[0m\u001b[1;33m(\u001b[0m\u001b[1;34m\"Failed to receive startup confirmation from startServer.\"\u001b[0m\u001b[1;33m)\u001b[0m\u001b[1;33m\u001b[0m\u001b[1;33m\u001b[0m\u001b[0m\n\u001b[1;32m--> 601\u001b[1;33m                 \u001b[1;32mraise\u001b[0m \u001b[0mRuntimeError\u001b[0m\u001b[1;33m(\u001b[0m\u001b[1;34m\"Unable to start Tika server.\"\u001b[0m\u001b[1;33m)\u001b[0m\u001b[1;33m\u001b[0m\u001b[1;33m\u001b[0m\u001b[0m\n\u001b[0m\u001b[0;32m    602\u001b[0m     \u001b[1;32mreturn\u001b[0m \u001b[0mserverEndpoint\u001b[0m\u001b[1;33m\u001b[0m\u001b[1;33m\u001b[0m\u001b[0m\n\u001b[0;32m    603\u001b[0m \u001b[1;33m\u001b[0m\u001b[0m\n",
      "\u001b[1;31mRuntimeError\u001b[0m: Unable to start Tika server."
     ]
    },
    {
     "name": "stdout",
     "output_type": "stream",
     "text": [
      "time: 1.16 s (started: 2022-12-28 20:06:17 +03:00)\n"
     ]
    }
   ],
   "source": [
    "path_doc=\"C:/Users/265375/Desktop/Work/parsing/Образец_простого_договора_аренды_квартиры-_заключаемого_между_физическим_лицами.doc\"\n",
    "print(get_document_text(path_doc))"
   ]
  },
  {
   "cell_type": "code",
   "execution_count": 35,
   "metadata": {},
   "outputs": [
    {
     "name": "stdout",
     "output_type": "stream",
     "text": [
      "Образец простого договора аренды квартиры, заключаемого между физическим лицами\n",
      "\n",
      "ДОГОВОР НАЙМА КВАРТИРЫ\n",
      "\tг. _______________\n",
      "\t«____» ______________ 2022 г.\n",
      "\n",
      "\n",
      "\n",
      "\n",
      "\n",
      " Гр. ________________________________________________, паспорт: серия ________, № ________, выданный ________________________, проживающий по адресу: ________________________________________________, именуемый в дальнейшем «Наймодатель», с одной стороны, и гр. ________________________________________________, паспорт: серия ________, № ________, выданный ________________________, проживающий по адресу: ________________________________________________, именуемый в дальнейшем «Наниматель», с другой стороны, именуемые в дальнейшем «Стороны», заключили настоящий договор, в дальнейшем «Договор», о нижеследующем: \n",
      "1. Наймодатель предоставляет Нанимателю во временное владение и пользование за плату принадлежащую ему по праву собственности квартиру, кадастровый номер: ________ , находящуюся по адресу: ________________________________________________ , общая площадь ________ кв.м, состоящую из ________ комнат (далее Квартира). Квартира предоставляется Нанимателю для проживания.\n",
      "2. Срок найма ________________________ . \n",
      "3. Оплата найма Квартиры производится ежемесячно в сумме ________ рублей. Общая сумма Договора составляет ________ рублей. Наймодатель обязан вносить плату на счет Наймодателя ________ или передавать ее лично под расписку не позднее ________ числа каждого месяца.\n",
      "3.Наймодатель не может использовать Квартиру в иных целях, чем указано в п. 1 Договора, а также не может сдавать квартиру в поднаем. В Квартире имеют право проживать члены семьи Нанимателя.\n",
      "4.Наниматель обязан содержать Квартиру в чистоте, оборудование в исправности, производить и производить за свой счет текущий ремонт по согласованию с Наймодателем. \n",
      "5.Изменение условий Договора или его расторжение может иметь место по соглашению сторон.\n",
      "6.Наймодатель может потребовать изменения или расторжения договора, если Наниматель не производит текущего ремонта при его явной необходимости, ухудшит состояние Квартиры, не вносит плату за наем в течение срока, предусмотренного Договором, использовать Квартиру не по назначению и в иных случаях, предусмотренных в законе.\n",
      "7.Договор составлен в ________ экземплярах, имеющих одинаковую юридическую силу. Неотъемлемым приложением к Договору является список мебели и вещей, находящихся в Квартире.\n",
      "ПОДПИСИ СТОРОН\n",
      "\n",
      "\tНаймодатель _______________\n",
      "\tНаниматель _______________\n",
      "\n",
      "\n",
      "\n",
      "\n",
      "\n",
      " \n",
      " \n",
      "Составление документов юристом amulex.ru\n",
      " \n",
      " \n",
      " \n",
      "Если у Вас возникнут вопросы или сложности с оформлением документов, Вы всегда можете обратиться за помощью профессиональных юристов\n",
      " \n",
      " \n",
      "amulex.ru\n",
      " \n",
      " \n",
      "Мы адаптируем юридические документы любого уровня сложности, 100% онлайн, не заставляя вас ходить к нам в офис.\n",
      "Работаем 24х7, вашим вопросом начинают заниматься с первой минуты после обращения.\n",
      " \n",
      " \n",
      " \n",
      " Вы можете задать вопрос в любой удобной форме\n",
      " по телефону 88007750338\n",
      " через личный кабинет на сайте amulex.ru/lk\n",
      " или в любом из месенджеров amulex.ru/app\n",
      " /\n",
      "time: 1.08 s (started: 2022-12-28 19:49:18 +03:00)\n"
     ]
    }
   ],
   "source": [
    "path_docx=\"C:/Users/265375/Desktop/Work/parsing/Образец_простого_договора_аренды_квартиры-_заключаемого_между_физическим_лицами.docx\"\n",
    "print(get_document_text(path_docx))"
   ]
  },
  {
   "cell_type": "code",
   "execution_count": null,
   "metadata": {},
   "outputs": [],
   "source": [
    "path_pdf=\"C:/Users/265375/Desktop/Work/parsing/Договоры аренды/Договор_аренды_автомобильного_прицепа.pdf\"\n",
    "print(get_document_text(path_pdf))"
   ]
  },
  {
   "cell_type": "markdown",
   "metadata": {
    "id": "bO5rrGDTuci_"
   },
   "source": [
    "## **Библиотека PyPDF2.**"
   ]
  },
  {
   "cell_type": "code",
   "execution_count": 3,
   "metadata": {
    "colab": {
     "base_uri": "https://localhost:8080/"
    },
    "id": "7eTbtzM_ibJM",
    "outputId": "bee32b6b-5390-4cf4-e721-1eed4934cc30"
   },
   "outputs": [
    {
     "name": "stderr",
     "output_type": "stream",
     "text": [
      "WARNING: There was an error checking the latest version of pip.\n"
     ]
    },
    {
     "name": "stdout",
     "output_type": "stream",
     "text": [
      "Requirement already satisfied: pypdf2 in c:\\users\\265375\\anaconda3\\lib\\site-packages (2.11.2)\n",
      "Requirement already satisfied: typing_extensions>=3.10.0.0 in c:\\users\\265375\\anaconda3\\lib\\site-packages (from pypdf2) (4.3.0)\n",
      "time: 10.1 s (started: 2022-12-28 18:17:02 +03:00)\n"
     ]
    }
   ],
   "source": [
    "!pip install pypdf2\n",
    "from PyPDF2 import PdfFileReader"
   ]
  },
  {
   "cell_type": "markdown",
   "metadata": {
    "id": "mWI5UAO2DuMI"
   },
   "source": [
    "Время чтения и вывода pdf-файла размером 11 страниц - 10.8 с, но при этом шрифт с тенью выводится в единственном экземпляре (+)"
   ]
  },
  {
   "cell_type": "code",
   "execution_count": 4,
   "metadata": {
    "colab": {
     "base_uri": "https://localhost:8080/"
    },
    "id": "-nY6JMgwil0t",
    "outputId": "d3989e89-d3b7-4743-8cb5-60c0e2a88f95"
   },
   "outputs": [
    {
     "name": "stdout",
     "output_type": "stream",
     "text": [
      "time: 328 ms (started: 2022-12-28 18:17:12 +03:00)\n"
     ]
    }
   ],
   "source": [
    "pdf_pypdf2 = 'C:/Users/265375/Desktop/Work/parsing/Договоры аренды/Договор_аренды_автомобильного_прицепа.pdf'\n",
    "\n",
    "with open(pdf_pypdf2, \"rb\") as filehandle:  \n",
    "    pdf = PdfFileReader(filehandle)\n",
    "   \n",
    "    info = pdf.getDocumentInfo()\n",
    "    pages = pdf.getNumPages()\n",
    "#     print(\"Количество страниц в документе: %i\\n\\n\" % pages)\n",
    "#     print(\"Мета-описание: \", info)\n",
    "\n",
    "    for i in range(pages):\n",
    "        page = pdf.getPage(i)\n",
    "#         print(\"Стр.\", i+1, \" мета: \", page, \"\\n\\nСодержание;\\n\")\n",
    "#         print(page.extractText())"
   ]
  },
  {
   "cell_type": "markdown",
   "metadata": {
    "id": "FF7iemVOC5OY"
   },
   "source": [
    "## **PyMuPDF (он же fitz)**"
   ]
  },
  {
   "cell_type": "code",
   "execution_count": 5,
   "metadata": {
    "colab": {
     "base_uri": "https://localhost:8080/"
    },
    "id": "rBCx38yiuV1N",
    "outputId": "8646aef1-592e-4b98-c231-d9ab3f89aaa9"
   },
   "outputs": [
    {
     "name": "stdout",
     "output_type": "stream",
     "text": [
      "Requirement already satisfied: pymupdf in c:\\users\\265375\\anaconda3\\lib\\site-packages (1.21.0)\n"
     ]
    },
    {
     "name": "stderr",
     "output_type": "stream",
     "text": [
      "WARNING: There was an error checking the latest version of pip.\n"
     ]
    },
    {
     "name": "stdout",
     "output_type": "stream",
     "text": [
      "time: 10.3 s (started: 2022-12-28 18:17:12 +03:00)\n"
     ]
    }
   ],
   "source": [
    "!pip install pymupdf\n",
    "import fitz"
   ]
  },
  {
   "cell_type": "markdown",
   "metadata": {
    "id": "YmpZiyKLDl5J"
   },
   "source": [
    "Время чтения и вывода pdf-файла размером 11 страниц - 53 мс"
   ]
  },
  {
   "cell_type": "code",
   "execution_count": 6,
   "metadata": {},
   "outputs": [
    {
     "name": "stdout",
     "output_type": "stream",
     "text": [
      "time: 1.53 s (started: 2022-12-28 18:17:22 +03:00)\n"
     ]
    }
   ],
   "source": [
    "pdf_fitz = \"C:/Users/265375/Desktop/Work/parsing/Договоры аренды/Договор_аренды_автомобильного_прицепа.pdf\"\n",
    "text = ''\n",
    "with fitz.open(pdf_fitz) as doc:\n",
    "    for page in doc:\n",
    "        text += page.get_text()\n",
    "text = '\\n'.join(text.split('\\n')[::2])\n",
    "# print(text)"
   ]
  },
  {
   "cell_type": "markdown",
   "metadata": {},
   "source": [
    "В fitz можно раскрашивать конкретные слова"
   ]
  },
  {
   "cell_type": "code",
   "execution_count": 46,
   "metadata": {
    "colab": {
     "base_uri": "https://localhost:8080/"
    },
    "id": "oh4DQiyAi_Vf",
    "outputId": "bf8c98cd-9a3d-4c6f-c9ee-5ffc62c0301a"
   },
   "outputs": [
    {
     "name": "stdout",
     "output_type": "stream",
     "text": [
      "time: 31 ms (started: 2022-12-27 20:57:00 +03:00)\n"
     ]
    }
   ],
   "source": [
    "text = ''\n",
    "highlight_text = ['Договор','Квартир']\n",
    "doc = fitz.open(pdf_fitz)\n",
    "for current_page in doc:\n",
    "    for word in highlight_text:\n",
    "        text_instances = current_page.search_for(word)\n",
    "        for inst in text_instances:\n",
    "            highlight = current_page.add_highlight_annot(inst)\n",
    "            highlight.set_colors({\"stroke\":(0, 0.5, 0)})\n",
    "            highlight.update()\n",
    "doc.save(\"C:/Users/265375/Desktop/Work/parsing/Договор_аренды_автомобильного_прицепа_colored.pdf\", garbage=4, deflate=True, clean=True)"
   ]
  },
  {
   "cell_type": "markdown",
   "metadata": {
    "id": "OOFXzNN7CbRS"
   },
   "source": [
    "## **pdfminer.six (версия pdfminer для python 3.*)**"
   ]
  },
  {
   "cell_type": "code",
   "execution_count": 7,
   "metadata": {
    "colab": {
     "base_uri": "https://localhost:8080/"
    },
    "id": "gjfj558-tKk-",
    "outputId": "c60026b9-f6d5-47ca-b169-1cbd31de5381"
   },
   "outputs": [
    {
     "name": "stderr",
     "output_type": "stream",
     "text": [
      "WARNING: There was an error checking the latest version of pip.\n"
     ]
    },
    {
     "name": "stdout",
     "output_type": "stream",
     "text": [
      "Requirement already satisfied: pdfminer.six in c:\\users\\265375\\anaconda3\\lib\\site-packages (20221105)\n",
      "Requirement already satisfied: cryptography>=36.0.0 in c:\\users\\265375\\anaconda3\\lib\\site-packages (from pdfminer.six) (37.0.1)\n",
      "Requirement already satisfied: charset-normalizer>=2.0.0 in c:\\users\\265375\\anaconda3\\lib\\site-packages (from pdfminer.six) (2.0.4)\n",
      "Requirement already satisfied: cffi>=1.12 in c:\\users\\265375\\anaconda3\\lib\\site-packages (from cryptography>=36.0.0->pdfminer.six) (1.15.1)\n",
      "Requirement already satisfied: pycparser in c:\\users\\265375\\anaconda3\\lib\\site-packages (from cffi>=1.12->cryptography>=36.0.0->pdfminer.six) (2.21)\n",
      "time: 9.95 s (started: 2022-12-28 18:17:24 +03:00)\n"
     ]
    }
   ],
   "source": [
    "!pip install pdfminer.six\n",
    "from pdfminer.high_level import extract_text"
   ]
  },
  {
   "cell_type": "markdown",
   "metadata": {
    "id": "Etf-5qUKDRtT"
   },
   "source": [
    "Время чтения и вывода pdf-файла размером 11 страниц - 2.18 с"
   ]
  },
  {
   "cell_type": "code",
   "execution_count": 8,
   "metadata": {
    "colab": {
     "base_uri": "https://localhost:8080/"
    },
    "id": "pq6VXpiewF4O",
    "outputId": "7fd6070e-7d65-467e-8556-a4187dc6da18"
   },
   "outputs": [
    {
     "name": "stderr",
     "output_type": "stream",
     "text": [
      "The PDF <_io.BufferedReader name='C:/Users/265375/Desktop/Work/parsing/Договоры аренды/Договор_аренды_автомобильного_прицепа.pdf'> contains a metadata field indicating that it should not allow text extraction. Ignoring this field and proceeding. Use the check_extractable if you want to raise an error in this case\n"
     ]
    },
    {
     "name": "stdout",
     "output_type": "stream",
     "text": [
      "time: 1.06 s (started: 2022-12-28 18:17:34 +03:00)\n"
     ]
    }
   ],
   "source": [
    "pdf_pdfminer = 'C:/Users/265375/Desktop/Work/parsing/Договоры аренды/Договор_аренды_автомобильного_прицепа.pdf'\n",
    "text_pdfminer = extract_text(pdf_pdfminer)\n",
    "text_pdfminer = '\\n'.join(text_pdfminer.split('\\n')[::2])\n",
    "# print(text_pdfminer)"
   ]
  },
  {
   "cell_type": "markdown",
   "metadata": {
    "id": "utQtHB4TEBTb"
   },
   "source": [
    "## **Чтение docx файлов**"
   ]
  },
  {
   "cell_type": "markdown",
   "metadata": {
    "id": "C6GxgOg8JiqL"
   },
   "source": [
    "## **python-docx (docx)**"
   ]
  },
  {
   "cell_type": "code",
   "execution_count": 9,
   "metadata": {
    "colab": {
     "base_uri": "https://localhost:8080/"
    },
    "id": "07vhhb6eEAvM",
    "outputId": "9d362ea0-da0f-40da-8002-853e5fefc7e9"
   },
   "outputs": [
    {
     "name": "stderr",
     "output_type": "stream",
     "text": [
      "WARNING: There was an error checking the latest version of pip.\n"
     ]
    },
    {
     "name": "stdout",
     "output_type": "stream",
     "text": [
      "Requirement already satisfied: python-docx in c:\\users\\265375\\anaconda3\\lib\\site-packages (0.8.11)\n",
      "Requirement already satisfied: lxml>=2.3.2 in c:\\users\\265375\\anaconda3\\lib\\site-packages (from python-docx) (4.9.1)\n",
      "time: 13 s (started: 2022-12-28 18:17:35 +03:00)\n"
     ]
    }
   ],
   "source": [
    "!pip install python-docx\n",
    "import docx"
   ]
  },
  {
   "cell_type": "markdown",
   "metadata": {
    "id": "ootpODY3Jn7L"
   },
   "source": [
    "Не смог разобраться, почему не работает"
   ]
  },
  {
   "cell_type": "code",
   "execution_count": 54,
   "metadata": {
    "colab": {
     "base_uri": "https://localhost:8080/",
     "height": 912
    },
    "id": "ZazOogSxGp3a",
    "outputId": "67f6260c-b1e7-4efb-b9a5-7b3376ef0725"
   },
   "outputs": [
    {
     "ename": "XMLSyntaxError",
     "evalue": "Start tag expected, '<' not found, line 1, column 1 (<string>, line 1)",
     "output_type": "error",
     "traceback": [
      "Traceback \u001b[1;36m(most recent call last)\u001b[0m:\n",
      "  File \u001b[0;32m\"C:\\Users\\265375\\Anaconda3\\lib\\site-packages\\IPython\\core\\interactiveshell.py\"\u001b[0m, line \u001b[0;32m3457\u001b[0m, in \u001b[0;35mrun_code\u001b[0m\n    exec(code_obj, self.user_global_ns, self.user_ns)\n",
      "  File \u001b[0;32m\"C:\\Users\\265375\\AppData\\Local\\Temp\\ipykernel_15104\\2296263116.py\"\u001b[0m, line \u001b[0;32m8\u001b[0m, in \u001b[0;35m<module>\u001b[0m\n    getText(doc)\n",
      "  File \u001b[0;32m\"C:\\Users\\265375\\AppData\\Local\\Temp\\ipykernel_15104\\2296263116.py\"\u001b[0m, line \u001b[0;32m3\u001b[0m, in \u001b[0;35mgetText\u001b[0m\n    doc = docx.Document(filename)\n",
      "  File \u001b[0;32m\"C:\\Users\\265375\\Anaconda3\\lib\\site-packages\\docx\\api.py\"\u001b[0m, line \u001b[0;32m25\u001b[0m, in \u001b[0;35mDocument\u001b[0m\n    document_part = Package.open(docx).main_document_part\n",
      "  File \u001b[0;32m\"C:\\Users\\265375\\Anaconda3\\lib\\site-packages\\docx\\opc\\package.py\"\u001b[0m, line \u001b[0;32m130\u001b[0m, in \u001b[0;35mopen\u001b[0m\n    Unmarshaller.unmarshal(pkg_reader, package, PartFactory)\n",
      "  File \u001b[0;32m\"C:\\Users\\265375\\Anaconda3\\lib\\site-packages\\docx\\opc\\package.py\"\u001b[0m, line \u001b[0;32m198\u001b[0m, in \u001b[0;35munmarshal\u001b[0m\n    parts = Unmarshaller._unmarshal_parts(\n",
      "  File \u001b[0;32m\"C:\\Users\\265375\\Anaconda3\\lib\\site-packages\\docx\\opc\\package.py\"\u001b[0m, line \u001b[0;32m215\u001b[0m, in \u001b[0;35m_unmarshal_parts\u001b[0m\n    parts[partname] = part_factory(\n",
      "  File \u001b[0;32m\"C:\\Users\\265375\\Anaconda3\\lib\\site-packages\\docx\\opc\\part.py\"\u001b[0m, line \u001b[0;32m191\u001b[0m, in \u001b[0;35m__new__\u001b[0m\n    return PartClass.load(partname, content_type, blob, package)\n",
      "  File \u001b[0;32m\"C:\\Users\\265375\\Anaconda3\\lib\\site-packages\\docx\\opc\\part.py\"\u001b[0m, line \u001b[0;32m231\u001b[0m, in \u001b[0;35mload\u001b[0m\n    element = parse_xml(blob)\n",
      "  File \u001b[0;32m\"C:\\Users\\265375\\Anaconda3\\lib\\site-packages\\docx\\oxml\\__init__.py\"\u001b[0m, line \u001b[0;32m28\u001b[0m, in \u001b[0;35mparse_xml\u001b[0m\n    root_element = etree.fromstring(xml, oxml_parser)\n",
      "  File \u001b[0;32m\"src/lxml/etree.pyx\"\u001b[0m, line \u001b[0;32m3254\u001b[0m, in \u001b[0;35mlxml.etree.fromstring\u001b[0m\n",
      "  File \u001b[0;32m\"src/lxml/parser.pxi\"\u001b[0m, line \u001b[0;32m1913\u001b[0m, in \u001b[0;35mlxml.etree._parseMemoryDocument\u001b[0m\n",
      "  File \u001b[0;32m\"src/lxml/parser.pxi\"\u001b[0m, line \u001b[0;32m1800\u001b[0m, in \u001b[0;35mlxml.etree._parseDoc\u001b[0m\n",
      "  File \u001b[0;32m\"src/lxml/parser.pxi\"\u001b[0m, line \u001b[0;32m1141\u001b[0m, in \u001b[0;35mlxml.etree._BaseParser._parseDoc\u001b[0m\n",
      "  File \u001b[0;32m\"src/lxml/parser.pxi\"\u001b[0m, line \u001b[0;32m615\u001b[0m, in \u001b[0;35mlxml.etree._ParserContext._handleParseResultDoc\u001b[0m\n",
      "  File \u001b[0;32m\"src/lxml/parser.pxi\"\u001b[0m, line \u001b[0;32m725\u001b[0m, in \u001b[0;35mlxml.etree._handleParseResult\u001b[0m\n",
      "\u001b[1;36m  File \u001b[1;32m\"src/lxml/parser.pxi\"\u001b[1;36m, line \u001b[1;32m654\u001b[1;36m, in \u001b[1;35mlxml.etree._raiseParseError\u001b[1;36m\u001b[0m\n",
      "\u001b[1;36m  File \u001b[1;32m\"<string>\"\u001b[1;36m, line \u001b[1;32m1\u001b[0m\n\u001b[1;31mXMLSyntaxError\u001b[0m\u001b[1;31m:\u001b[0m Start tag expected, '<' not found, line 1, column 1\n"
     ]
    },
    {
     "name": "stdout",
     "output_type": "stream",
     "text": [
      "time: 203 ms (started: 2022-12-27 21:00:08 +03:00)\n"
     ]
    }
   ],
   "source": [
    "doc = 'C:/Users/265375/Desktop/Work/parsing/Образец_простого_договора_аренды_квартиры-_заключаемого_между_физическим_лицами.docx'\n",
    "def getText(filename):\n",
    "    doc = docx.Document(filename)\n",
    "    fullText = []\n",
    "    for para in doc.paragraphs:\n",
    "        fullText.append(para.text)\n",
    "    return '\\n'.join(fullText)\n",
    "getText(doc)"
   ]
  },
  {
   "cell_type": "markdown",
   "metadata": {
    "id": "s6_PgyxAE4nK"
   },
   "source": [
    "## **docx2txt**"
   ]
  },
  {
   "cell_type": "code",
   "execution_count": 10,
   "metadata": {
    "colab": {
     "base_uri": "https://localhost:8080/"
    },
    "id": "pjhJn0qUE4Ue",
    "outputId": "c2c0c07a-01bd-4841-88fc-7f78531917e0"
   },
   "outputs": [
    {
     "name": "stdout",
     "output_type": "stream",
     "text": [
      "Requirement already satisfied: docx2txt in c:\\users\\265375\\anaconda3\\lib\\site-packages (0.8)\n",
      "time: 8.74 s (started: 2022-12-28 18:17:48 +03:00)\n"
     ]
    },
    {
     "name": "stderr",
     "output_type": "stream",
     "text": [
      "WARNING: There was an error checking the latest version of pip.\n"
     ]
    }
   ],
   "source": [
    "!pip install docx2txt \n",
    "import docx2txt"
   ]
  },
  {
   "cell_type": "markdown",
   "metadata": {
    "id": "b_hxz9OcFf6C"
   },
   "source": [
    "Сохраняет форматирование, время чтения и вывода - 18 мс"
   ]
  },
  {
   "cell_type": "code",
   "execution_count": 11,
   "metadata": {
    "colab": {
     "base_uri": "https://localhost:8080/"
    },
    "id": "AyVSwrMyFPcG",
    "outputId": "46352a8d-472e-4446-9cdf-03fae9a4b9bc"
   },
   "outputs": [
    {
     "name": "stdout",
     "output_type": "stream",
     "text": [
      "time: 234 ms (started: 2022-12-28 18:17:57 +03:00)\n"
     ]
    }
   ],
   "source": [
    "text = docx2txt.process(\"C:/Users/265375/Desktop/Work/parsing/Образец_простого_договора_аренды_квартиры-_заключаемого_между_физическим_лицами.docx\")\n",
    "# print(text)"
   ]
  },
  {
   "cell_type": "markdown",
   "metadata": {
    "id": "J62Bj1dvJfgq"
   },
   "source": [
    "## **Простой метод, использующий стандартную библиотеку zipfile**"
   ]
  },
  {
   "cell_type": "code",
   "execution_count": 12,
   "metadata": {
    "colab": {
     "base_uri": "https://localhost:8080/"
    },
    "id": "S7uA2FWKJHaJ",
    "outputId": "090082c0-265e-4ff3-b71a-417475fc42dc"
   },
   "outputs": [
    {
     "name": "stdout",
     "output_type": "stream",
     "text": [
      "time: 141 ms (started: 2022-12-28 18:17:57 +03:00)\n"
     ]
    }
   ],
   "source": [
    "try:\n",
    "    from xml.etree.cElementTree import XML\n",
    "except ImportError:\n",
    "    from xml.etree.ElementTree import XML\n",
    "import zipfile"
   ]
  },
  {
   "cell_type": "markdown",
   "metadata": {
    "id": "jvngu2U_J_-A"
   },
   "source": [
    "Основан на python-docx, не требует дополнительной установки библиотек, простая функция для чтения, время чтения и вывода - 11.7 мс"
   ]
  },
  {
   "cell_type": "code",
   "execution_count": 13,
   "metadata": {
    "colab": {
     "base_uri": "https://localhost:8080/"
    },
    "id": "BuL66-WZJJeZ",
    "outputId": "aa1ed223-1c39-4433-93bb-ac4d7705da48"
   },
   "outputs": [
    {
     "name": "stdout",
     "output_type": "stream",
     "text": [
      "time: 125 ms (started: 2022-12-28 18:17:57 +03:00)\n"
     ]
    }
   ],
   "source": [
    "WORD_NAMESPACE = '{http://schemas.openxmlformats.org/wordprocessingml/2006/main}'\n",
    "PARA = WORD_NAMESPACE + 'p'\n",
    "TEXT = WORD_NAMESPACE + 't'\n",
    "\n",
    "\n",
    "def get_docx_text(path):\n",
    "    \"\"\"\n",
    "    Take the path of a docx file as argument, return the text in unicode.\n",
    "    \"\"\"\n",
    "    document = zipfile.ZipFile(path)\n",
    "    xml_content = document.read('word/document.xml')\n",
    "    document.close()\n",
    "    tree = XML(xml_content)\n",
    "\n",
    "    paragraphs = []\n",
    "    for paragraph in tree.iter(PARA):\n",
    "        texts = [node.text\n",
    "                 for node in paragraph.iter(TEXT)\n",
    "                 if node.text]\n",
    "        if texts:\n",
    "            paragraphs.append(''.join(texts))\n",
    "\n",
    "    return '\\n\\n'.join(paragraphs)"
   ]
  },
  {
   "cell_type": "code",
   "execution_count": 14,
   "metadata": {
    "colab": {
     "base_uri": "https://localhost:8080/"
    },
    "id": "4Hq8I4myJVzl",
    "outputId": "50630475-3fda-466f-9a74-b46b53a67018"
   },
   "outputs": [
    {
     "name": "stdout",
     "output_type": "stream",
     "text": [
      "time: 235 ms (started: 2022-12-28 18:17:57 +03:00)\n"
     ]
    }
   ],
   "source": [
    "doc = 'C:/Users/265375/Desktop/Work/parsing/Образец_простого_договора_аренды_квартиры-_заключаемого_между_физическим_лицами.docx'\n",
    "# print(get_docx_text(doc))"
   ]
  },
  {
   "cell_type": "code",
   "execution_count": 15,
   "metadata": {
    "colab": {
     "base_uri": "https://localhost:8080/"
    },
    "id": "oArOQRv1IsE2",
    "outputId": "5ad452e1-39c9-4fd6-bda9-e0205cff8157"
   },
   "outputs": [
    {
     "name": "stderr",
     "output_type": "stream",
     "text": [
      "WARNING: There was an error checking the latest version of pip.\n"
     ]
    },
    {
     "name": "stdout",
     "output_type": "stream",
     "text": [
      "Requirement already satisfied: aspose-words in c:\\users\\265375\\anaconda3\\lib\\site-packages (22.12.0)\n",
      "time: 17.9 s (started: 2022-12-28 18:17:57 +03:00)\n"
     ]
    }
   ],
   "source": [
    "!pip install aspose-words\n",
    "import aspose.words as aw\n"
   ]
  },
  {
   "cell_type": "code",
   "execution_count": 16,
   "metadata": {
    "colab": {
     "base_uri": "https://localhost:8080/"
    },
    "id": "hNgWJ5Ma-8fZ",
    "outputId": "7ec431db-8159-42e3-b73f-23fbbced378e"
   },
   "outputs": [
    {
     "name": "stdout",
     "output_type": "stream",
     "text": [
      "time: 51.3 s (started: 2022-12-28 18:18:15 +03:00)\n"
     ]
    }
   ],
   "source": [
    "path1=\"C:/Users/265375/Desktop/Work/parsing/Образец_простого_договора_аренды_квартиры-_заключаемого_между_физическим_лицами.doc\"\n",
    "\n",
    "doc = aw.Document(path1)\n",
    "saveOptions = aw.saving.PdfSaveOptions()\n",
    "saveOptions.compliance = aw.saving.PdfCompliance.PDF17 \n",
    "doc.save(\"C:/Users/265375/Desktop/Work/parsing/Образец_простого_договора_аренды_квартиры-_заключаемого_между_физическим_лицами.pdf\", saveOptions)\n",
    "pdf_fitz = \"C:/Users/265375/Desktop/Work/parsing/Образец_простого_договора_аренды_квартиры-_заключаемого_между_физическим_лицами.pdf\"\n",
    "\n",
    "doc = fitz.open(pdf_fitz)\n",
    "# print(\"Исходный документ: \", doc)\n",
    "# print(\"\\nКоличество страниц: %i\\n\\n------------------\\n\\n\" % doc.page_count)\n",
    "# print(doc.metadata)\n",
    "text = ''\n",
    "for current_page in range(doc.page_count):\n",
    "    text += doc.get_page_text(current_page,\"text\")\n",
    "text = '\\n'.join(text.split('\\n')[::2])\n",
    "# print(text)"
   ]
  },
  {
   "cell_type": "markdown",
   "metadata": {},
   "source": [
    "# Конвертер docx -> pdf"
   ]
  },
  {
   "cell_type": "code",
   "execution_count": 17,
   "metadata": {
    "colab": {
     "base_uri": "https://localhost:8080/"
    },
    "id": "5ALSwlahOhpm",
    "outputId": "157b6d4a-5cbf-4b5c-fba6-3b1b8ccffa67"
   },
   "outputs": [
    {
     "name": "stderr",
     "output_type": "stream",
     "text": [
      "WARNING: There was an error checking the latest version of pip.\n"
     ]
    },
    {
     "name": "stdout",
     "output_type": "stream",
     "text": [
      "Requirement already satisfied: docx2pdf in c:\\users\\265375\\anaconda3\\lib\\site-packages (0.1.8)\n",
      "Requirement already satisfied: tqdm>=4.41.0 in c:\\users\\265375\\anaconda3\\lib\\site-packages (from docx2pdf) (4.64.1)\n",
      "Requirement already satisfied: pywin32>=227 in c:\\users\\265375\\anaconda3\\lib\\site-packages (from docx2pdf) (302)\n",
      "Requirement already satisfied: colorama in c:\\users\\265375\\anaconda3\\lib\\site-packages (from tqdm>=4.41.0->docx2pdf) (0.4.5)\n",
      "time: 10.6 s (started: 2022-12-28 18:19:07 +03:00)\n"
     ]
    }
   ],
   "source": [
    "!pip install docx2pdf\n",
    "from docx2pdf import convert"
   ]
  },
  {
   "cell_type": "code",
   "execution_count": 65,
   "metadata": {
    "colab": {
     "base_uri": "https://localhost:8080/",
     "height": 339
    },
    "id": "qojPUItvOnNr",
    "outputId": "0f081d4b-fce7-4e90-c6d7-d341f7362989"
   },
   "outputs": [
    {
     "data": {
      "application/vnd.jupyter.widget-view+json": {
       "model_id": "0a4118fc77b046bb83da23bfe46cff82",
       "version_major": 2,
       "version_minor": 0
      },
      "text/plain": [
       "  0%|          | 0/1 [00:00<?, ?it/s]"
      ]
     },
     "metadata": {},
     "output_type": "display_data"
    },
    {
     "name": "stdout",
     "output_type": "stream",
     "text": [
      "time: 891 ms (started: 2022-12-27 21:04:32 +03:00)\n"
     ]
    }
   ],
   "source": [
    "convert(\"C:/Users/265375/Desktop/Work/parsing/Образец_простого_договора_аренды_квартиры-_заключаемого_между_физическим_лицами.docx\", \"C:/Users/265375/Desktop/Work/parsing/test/Образец_простого_договора_аренды_квартиры-_заключаемого_между_физическим_лицами.pdf\")"
   ]
  }
 ],
 "metadata": {
  "colab": {
   "provenance": []
  },
  "kernelspec": {
   "display_name": "Python 3 (ipykernel)",
   "language": "python",
   "name": "python3"
  },
  "language_info": {
   "codemirror_mode": {
    "name": "ipython",
    "version": 3
   },
   "file_extension": ".py",
   "mimetype": "text/x-python",
   "name": "python",
   "nbconvert_exporter": "python",
   "pygments_lexer": "ipython3",
   "version": "3.9.13"
  }
 },
 "nbformat": 4,
 "nbformat_minor": 1
}
