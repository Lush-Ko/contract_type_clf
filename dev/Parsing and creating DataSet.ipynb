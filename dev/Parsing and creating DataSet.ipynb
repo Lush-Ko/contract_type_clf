{
 "cells": [
  {
   "cell_type": "code",
   "execution_count": 1,
   "id": "caf52eca",
   "metadata": {},
   "outputs": [],
   "source": [
    "import requests\n",
    "from bs4 import BeautifulSoup as bs\n",
    "import pandas as pd\n",
    "import re\n",
    "import os\n",
    "from os import mkdir\n",
    "from os.path import isdir, isfile\n",
    "\n",
    "import warnings\n",
    "warnings.filterwarnings(\"ignore\")"
   ]
  },
  {
   "cell_type": "code",
   "execution_count": 3,
   "id": "ff1e3c6c",
   "metadata": {},
   "outputs": [],
   "source": [
    "import tika\n",
    "tika.initVM()"
   ]
  },
  {
   "cell_type": "code",
   "execution_count": 4,
   "id": "9d5dc20e",
   "metadata": {},
   "outputs": [],
   "source": [
    "from tika import parser\n",
    "\n",
    "def get_document_text(filepath):\n",
    "    doc_type = filepath.split('.')[-1]\n",
    "    if doc_type in ['doc', 'rtf', 'pdf', 'docx']:\n",
    "        text = parser.from_file(filepath)['content']\n",
    "    else:\n",
    "        print(f'File extention must be either pdf, rtf, doc or docx, got {doc_type}')\n",
    "    return text.strip()"
   ]
  },
  {
   "cell_type": "code",
   "execution_count": 5,
   "id": "3af2b655",
   "metadata": {},
   "outputs": [
    {
     "name": "stdout",
     "output_type": "stream",
     "text": [
      "200\n"
     ]
    }
   ],
   "source": [
    "URL_TEMPLATE = \"https://amulex.ru/docs/\"\n",
    "docs = requests.get(URL_TEMPLATE, headers={'User-Agent': 'Custom'})\n",
    "print(docs.status_code)"
   ]
  },
  {
   "cell_type": "code",
   "execution_count": 8,
   "id": "5dd1f789",
   "metadata": {},
   "outputs": [],
   "source": [
    "'''\n",
    "Функция make_dir скачивает pdf-файлы с сайта https://amulex.ru и сохраняет их по папкам, разделяя на классы\n",
    "\n",
    "На вход подается ссылка на категорию договоров (category_contract_url), название класса договора (folder_name)\n",
    "1. Переходит в категорию category_contract_url\n",
    "2. Проходя по всей категории, скачивает договоры, переименовывает их с использованием _\n",
    "3. Сохраняет скаченные файлы в папку с нужным классом\n",
    "\n",
    "Параметры:\n",
    "1. category_contract_url:\n",
    "    Ссылка на категорию договоров на сайте. Договоры определенного класса могут быть из разных категорий\n",
    "2. folder_name:\n",
    "    Название класса договора из списка: Договоры аренды, Договоры купли-продажи, Договоры оказания услуг, Договоры подряда, Договоры поставки\n",
    "'''\n",
    "def make_dir(category_contract_url, folder_name, folder_path='../data/parsed_data/'):\n",
    "    category_cite = requests.get('https://amulex.ru' + category_contract_url, headers={'User-Agent': 'Custom'})\n",
    "    categ = bs(category_cite.text, \"html.parser\")\n",
    "    contract_url = categ.find_all('li',class_='items__item', id = False)\n",
    "    contract_names = categ.find_all('h5',class_=\"items__item-title\")\n",
    "    for i in range(len(contract_url)):\n",
    "        name_words = contract_names[i].text.split()\n",
    "        name = ''\n",
    "        for k in name_words:\n",
    "            name += ''.join(e for e in k if e.isalnum())\n",
    "            if k != name_words[-1]:\n",
    "                name += '_'\n",
    "        contract_cite = requests.get('https://amulex.ru' + contract_url[i].a['href'], headers={'User-Agent': 'Custom'})\n",
    "        pars = bs(contract_cite.text, \"html.parser\")\n",
    "        contract_download_url = pars.find('div',class_='download__dropdown js-dropdown')\n",
    "        x = requests.get(contract_download_url.a['href'])\n",
    "        if isfile(folder_path + folder_name + '/' + name + '.pdf') == False:\n",
    "            with open(folder_path + folder_name + '/' + name + '.pdf', 'wb') as f:\n",
    "                f.write(x.content)"
   ]
  },
  {
   "cell_type": "code",
   "execution_count": 27,
   "id": "e89b67f9",
   "metadata": {},
   "outputs": [
    {
     "name": "stdout",
     "output_type": "stream",
     "text": [
      "time: 55min 19s (started: 2023-01-25 17:56:53 +03:00)\n"
     ]
    }
   ],
   "source": [
    "soup = bs(docs.text, \"html.parser\")\n",
    "category_contract_url = soup.find_all('a', class_='category__item-link')\n",
    "folder_names = ['Договоры аренды', 'Договоры купли-продажи', 'Договоры оказания услуг', 'Договоры подряда', 'Договоры поставки']\n",
    "for i in folder_names:\n",
    "    mkdir('/home/jovyan/work/data/parsed_data/' + str(i))\n",
    "for j in range(len(category_contract_url)):\n",
    "    s=category_contract_url[j].h2.text\n",
    "    re.sub(r\"\\s+\", \"\", s)\n",
    "    if 'аренд' in s:\n",
    "        make_dir(category_contract_url[j]['href'], folder_names[0])\n",
    "    elif 'купл' in s:\n",
    "        make_dir(category_contract_url[j]['href'], folder_names[1])\n",
    "    elif 'услуг' in s:\n",
    "        make_dir(category_contract_url[j]['href'], folder_names[2])\n",
    "    elif 'подряд' in s:\n",
    "        make_dir(category_contract_url[j]['href'], folder_names[3])\n",
    "    elif 'постав' in s:\n",
    "        make_dir(category_contract_url[j]['href'], folder_names[4])"
   ]
  },
  {
   "cell_type": "code",
   "execution_count": 9,
   "id": "ca8cdd73",
   "metadata": {},
   "outputs": [
    {
     "name": "stderr",
     "output_type": "stream",
     "text": [
      "2023-01-30 13:05:06,557 [MainThread  ] [WARNI]  Failed to see startup log message; retrying...\n"
     ]
    }
   ],
   "source": [
    "path = '/home/jovyan/work/data/parsed_data/'\n",
    "docs = pd.DataFrame(columns = ['text','filename','target'])\n",
    "count = 0\n",
    "folder_names = ['Договоры аренды', 'Договоры купли-продажи', 'Договоры оказания услуг', 'Договоры подряда', 'Договоры поставки']\n",
    "\n",
    "for fold_name in folder_names:\n",
    "    folder_path = os.chdir(path + fold_name)\n",
    "    for name in os.listdir(folder_path):\n",
    "        text = get_document_text(name)\n",
    "        new_row = {'text': text,\n",
    "                   'filename': name,\n",
    "                   'target': fold_name}\n",
    "        docs = docs.append(new_row, ignore_index=True)"
   ]
  },
  {
   "cell_type": "code",
   "execution_count": 11,
   "id": "a854b3f7",
   "metadata": {},
   "outputs": [],
   "source": [
    "docs.to_csv(path + 'parsed_data.csv', sep='\\t',index=False, encoding = 'utf-8')"
   ]
  }
 ],
 "metadata": {
  "kernelspec": {
   "display_name": "Python 3 (ipykernel)",
   "language": "python",
   "name": "python3"
  },
  "language_info": {
   "codemirror_mode": {
    "name": "ipython",
    "version": 3
   },
   "file_extension": ".py",
   "mimetype": "text/x-python",
   "name": "python",
   "nbconvert_exporter": "python",
   "pygments_lexer": "ipython3",
   "version": "3.10.8"
  },
  "vscode": {
   "interpreter": {
    "hash": "6e68ab8a9f485c72622e8c224c484135895718e276336dd849737e9133915ccf"
   }
  }
 },
 "nbformat": 4,
 "nbformat_minor": 5
}
