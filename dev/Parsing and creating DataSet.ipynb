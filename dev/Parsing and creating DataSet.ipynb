{
 "cells": [
  {
   "cell_type": "code",
   "execution_count": 4,
   "id": "caf52eca",
   "metadata": {},
   "outputs": [
    {
     "name": "stdout",
     "output_type": "stream",
     "text": [
      "Requirement already satisfied: ipython-autotime in c:\\users\\265375\\anaconda3\\lib\\site-packages (0.3.1)\n",
      "Requirement already satisfied: ipython in c:\\users\\265375\\anaconda3\\lib\\site-packages (from ipython-autotime) (7.31.1)\n",
      "Requirement already satisfied: jedi>=0.16 in c:\\users\\265375\\anaconda3\\lib\\site-packages (from ipython->ipython-autotime) (0.18.1)\n",
      "Requirement already satisfied: decorator in c:\\users\\265375\\anaconda3\\lib\\site-packages (from ipython->ipython-autotime) (5.1.1)\n",
      "Requirement already satisfied: pickleshare in c:\\users\\265375\\anaconda3\\lib\\site-packages (from ipython->ipython-autotime) (0.7.5)\n",
      "Requirement already satisfied: pygments in c:\\users\\265375\\anaconda3\\lib\\site-packages (from ipython->ipython-autotime) (2.11.2)\n",
      "Requirement already satisfied: backcall in c:\\users\\265375\\anaconda3\\lib\\site-packages (from ipython->ipython-autotime) (0.2.0)\n",
      "Requirement already satisfied: matplotlib-inline in c:\\users\\265375\\anaconda3\\lib\\site-packages (from ipython->ipython-autotime) (0.1.6)\n",
      "Requirement already satisfied: setuptools>=18.5 in c:\\users\\265375\\anaconda3\\lib\\site-packages (from ipython->ipython-autotime) (63.4.1)\n",
      "Requirement already satisfied: prompt-toolkit!=3.0.0,!=3.0.1,<3.1.0,>=2.0.0 in c:\\users\\265375\\anaconda3\\lib\\site-packages (from ipython->ipython-autotime) (3.0.20)\n",
      "Requirement already satisfied: traitlets>=4.2 in c:\\users\\265375\\anaconda3\\lib\\site-packages (from ipython->ipython-autotime) (5.1.1)\n",
      "Requirement already satisfied: colorama in c:\\users\\265375\\anaconda3\\lib\\site-packages (from ipython->ipython-autotime) (0.4.5)\n",
      "Requirement already satisfied: parso<0.9.0,>=0.8.0 in c:\\users\\265375\\anaconda3\\lib\\site-packages (from jedi>=0.16->ipython->ipython-autotime) (0.8.3)\n",
      "Requirement already satisfied: wcwidth in c:\\users\\265375\\anaconda3\\lib\\site-packages (from prompt-toolkit!=3.0.0,!=3.0.1,<3.1.0,>=2.0.0->ipython->ipython-autotime) (0.2.5)\n",
      "The autotime extension is already loaded. To reload it, use:\n",
      "  %reload_ext autotime\n",
      "Requirement already satisfied: pymupdf in c:\\users\\265375\\anaconda3\\lib\\site-packages (1.21.1)\n",
      "time: 6.86 s (started: 2023-01-25 17:44:23 +03:00)\n"
     ]
    }
   ],
   "source": [
    "import requests\n",
    "from bs4 import BeautifulSoup as bs\n",
    "import pandas as pd\n",
    "import re\n",
    "import os\n",
    "from os import mkdir\n",
    "from os.path import isdir, isfile\n",
    "\n",
    "import warnings\n",
    "warnings.filterwarnings(\"ignore\")\n",
    "\n",
    "!pip install ipython-autotime \n",
    "%load_ext autotime\n",
    "#для создания датасета\n",
    "!pip install pymupdf \n",
    "import fitz "
   ]
  },
  {
   "cell_type": "code",
   "execution_count": 5,
   "id": "3af2b655",
   "metadata": {},
   "outputs": [
    {
     "name": "stdout",
     "output_type": "stream",
     "text": [
      "200\n",
      "time: 297 ms (started: 2023-01-25 17:44:30 +03:00)\n"
     ]
    }
   ],
   "source": [
    "URL_TEMPLATE = \"https://amulex.ru/docs/\"\n",
    "docs = requests.get(URL_TEMPLATE, headers={'User-Agent': 'Custom'})\n",
    "print(docs.status_code)"
   ]
  },
  {
   "cell_type": "code",
   "execution_count": 25,
   "id": "5dd1f789",
   "metadata": {},
   "outputs": [
    {
     "name": "stdout",
     "output_type": "stream",
     "text": [
      "time: 0 ns (started: 2023-01-25 17:56:43 +03:00)\n"
     ]
    }
   ],
   "source": [
    "'''\n",
    "Функция make_dir скачивает pdf-файлы с сайта https://amulex.ru и сохраняет их по папкам, разделяя на классы\n",
    "\n",
    "На вход подается ссылка на категорию договоров (category_contract_url), название класса договора (folder_name)\n",
    "1. Переходит в категорию category_contract_url\n",
    "2. Проходя по всей категории, скачивает договоры, переименовывает их с использованием _\n",
    "3. Сохраняет скаченные файлы в папку с нужным классом\n",
    "\n",
    "Параметры:\n",
    "1. category_contract_url:\n",
    "    Ссылка на категорию договоров на сайте. Договоры определенного класса могут быть из разных категорий\n",
    "2. folder_name:\n",
    "    Название класса договора из списка: Договоры аренды, Договоры купли-продажи, Договоры оказания услуг, Договоры подряда, Договоры поставки\n",
    "'''\n",
    "def make_dir(category_contract_url, folder_name, folder_path='C:/Users/265375/Desktop/Work/parsing/'):\n",
    "    category_cite = requests.get('https://amulex.ru' + category_contract_url, headers={'User-Agent': 'Custom'})\n",
    "    categ = bs(category_cite.text, \"html.parser\")\n",
    "    contract_url = categ.find_all('li',class_='items__item', id = False)\n",
    "    contract_names = categ.find_all('h5',class_=\"items__item-title\")\n",
    "    for i in range(len(contract_url)):\n",
    "        name_words = contract_names[i].text.split()\n",
    "        name = ''\n",
    "        for k in name_words:\n",
    "            name += ''.join(e for e in k if e.isalnum())\n",
    "            if k != name_words[-1]:\n",
    "                name += '_'\n",
    "        contract_cite = requests.get('https://amulex.ru' + contract_url[i].a['href'], headers={'User-Agent': 'Custom'})\n",
    "        pars = bs(contract_cite.text, \"html.parser\")\n",
    "        contract_download_url = pars.find('div',class_='download__dropdown js-dropdown')\n",
    "        x = requests.get(contract_download_url.a['href'])\n",
    "        if isfile(folder_path + folder_name + '/' + name + '.pdf') == False:\n",
    "            with open(folder_path + folder_name + '/' + name + '.pdf', 'wb') as f:\n",
    "                f.write(x.content)"
   ]
  },
  {
   "cell_type": "code",
   "execution_count": 27,
   "id": "e89b67f9",
   "metadata": {},
   "outputs": [
    {
     "name": "stdout",
     "output_type": "stream",
     "text": [
      "time: 55min 19s (started: 2023-01-25 17:56:53 +03:00)\n"
     ]
    }
   ],
   "source": [
    "soup = bs(docs.text, \"html.parser\")\n",
    "category_contract_url = soup.find_all('a', class_='category__item-link')\n",
    "folder_names = ['Договоры аренды', 'Договоры купли-продажи', 'Договоры оказания услуг', 'Договоры подряда', 'Договоры поставки']\n",
    "for i in folder_names:\n",
    "    mkdir('C:/Users/265375/Desktop/Work/parsing/' + str(i))\n",
    "for j in range(len(category_contract_url)):\n",
    "    s=category_contract_url[j].h2.text\n",
    "    re.sub(r\"\\s+\", \"\", s)\n",
    "    if 'аренд' in s:\n",
    "        make_dir(category_contract_url[j]['href'], folder_names[0])\n",
    "    elif 'купл' in s:\n",
    "        make_dir(category_contract_url[j]['href'], folder_names[1])\n",
    "    elif 'услуг' in s:\n",
    "        make_dir(category_contract_url[j]['href'], folder_names[2])\n",
    "    elif 'подряд' in s:\n",
    "        make_dir(category_contract_url[j]['href'], folder_names[3])\n",
    "    elif 'постав' in s:\n",
    "        make_dir(category_contract_url[j]['href'], folder_names[4])"
   ]
  },
  {
   "cell_type": "code",
   "execution_count": 28,
   "id": "d0514a4c",
   "metadata": {},
   "outputs": [
    {
     "name": "stdout",
     "output_type": "stream",
     "text": [
      "time: 21.5 s (started: 2023-01-25 19:03:40 +03:00)\n"
     ]
    }
   ],
   "source": [
    "path = 'C:/Users/265375/Desktop/Work/parsing/'\n",
    "docs = pd.DataFrame(columns = ['text','filename','target'])\n",
    "count = 0\n",
    "\n",
    "for fold_name in folder_names:\n",
    "    folder_path = os.chdir('C:/Users/265375/Desktop/Work/parsing/' + fold_name)\n",
    "    for name in os.listdir(folder_path):\n",
    "        doc = fitz.open(name)\n",
    "        text = ''\n",
    "        for current_page in range(doc.page_count):\n",
    "            text += doc.get_page_text(current_page,\"text\")\n",
    "        text = '\\n'.join(text.split('\\n')[::2])\n",
    "        new_row = {'text': text,\n",
    "                   'filename': name,\n",
    "                   'target': fold_name}\n",
    "        docs = docs.append(new_row, ignore_index=True)"
   ]
  },
  {
   "cell_type": "code",
   "execution_count": 29,
   "id": "a854b3f7",
   "metadata": {},
   "outputs": [
    {
     "name": "stdout",
     "output_type": "stream",
     "text": [
      "time: 453 ms (started: 2023-01-25 19:04:01 +03:00)\n"
     ]
    }
   ],
   "source": [
    "docs.to_csv('C:/Users/265375/Desktop/Work/parsing/parsed_data.csv', sep='\\t',index=False, encoding = 'utf-8')"
   ]
  }
 ],
 "metadata": {
  "kernelspec": {
   "display_name": "Python 3 (ipykernel)",
   "language": "python",
   "name": "python3"
  },
  "language_info": {
   "codemirror_mode": {
    "name": "ipython",
    "version": 3
   },
   "file_extension": ".py",
   "mimetype": "text/x-python",
   "name": "python",
   "nbconvert_exporter": "python",
   "pygments_lexer": "ipython3",
   "version": "3.9.13"
  },
  "vscode": {
   "interpreter": {
    "hash": "6e68ab8a9f485c72622e8c224c484135895718e276336dd849737e9133915ccf"
   }
  }
 },
 "nbformat": 4,
 "nbformat_minor": 5
}
