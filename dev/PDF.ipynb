{
 "cells": [
  {
   "cell_type": "markdown",
   "metadata": {},
   "source": [
    "Вывод текста везде (кроме tika) закомменчен для удобства скроллинга\n",
    "\n",
    "В данном ноутбуке рассмотрены несколько библиотек для извлечения текста из pdf, doc, docx и rtf файлов\n",
    "\n",
    "Рассмотренные библиотеки: Apache Tika, PyPDF2, PyMuPDF (fitz), pdfminer.six, python-docx, docx2txt и способ чтения без дополнительных библиотек; так же рассмотрен способ конвертации файлов docx->pdf с помощью библиотеки docx2pdf"
   ]
  },
  {
   "cell_type": "code",
   "execution_count": 2,
   "metadata": {
    "colab": {
     "base_uri": "https://localhost:8080/"
    },
    "id": "GbKc1_FlfXcg",
    "outputId": "707b8273-778c-4348-c833-9a5b4c878a94"
   },
   "outputs": [
    {
     "name": "stdout",
     "output_type": "stream",
     "text": [
      "Requirement already satisfied: ipython-autotime in /opt/conda/lib/python3.10/site-packages (0.3.1)\n",
      "Requirement already satisfied: ipython in /opt/conda/lib/python3.10/site-packages (from ipython-autotime) (8.8.0)\n",
      "Requirement already satisfied: jedi>=0.16 in /opt/conda/lib/python3.10/site-packages (from ipython->ipython-autotime) (0.18.2)\n",
      "Requirement already satisfied: pygments>=2.4.0 in /opt/conda/lib/python3.10/site-packages (from ipython->ipython-autotime) (2.14.0)\n",
      "Requirement already satisfied: stack-data in /opt/conda/lib/python3.10/site-packages (from ipython->ipython-autotime) (0.6.2)\n",
      "Requirement already satisfied: pexpect>4.3 in /opt/conda/lib/python3.10/site-packages (from ipython->ipython-autotime) (4.8.0)\n",
      "Requirement already satisfied: backcall in /opt/conda/lib/python3.10/site-packages (from ipython->ipython-autotime) (0.2.0)\n",
      "Requirement already satisfied: prompt-toolkit<3.1.0,>=3.0.11 in /opt/conda/lib/python3.10/site-packages (from ipython->ipython-autotime) (3.0.36)\n",
      "Requirement already satisfied: decorator in /opt/conda/lib/python3.10/site-packages (from ipython->ipython-autotime) (5.1.1)\n",
      "Requirement already satisfied: traitlets>=5 in /opt/conda/lib/python3.10/site-packages (from ipython->ipython-autotime) (5.8.1)\n",
      "Requirement already satisfied: matplotlib-inline in /opt/conda/lib/python3.10/site-packages (from ipython->ipython-autotime) (0.1.6)\n",
      "Requirement already satisfied: pickleshare in /opt/conda/lib/python3.10/site-packages (from ipython->ipython-autotime) (0.7.5)\n",
      "Requirement already satisfied: parso<0.9.0,>=0.8.0 in /opt/conda/lib/python3.10/site-packages (from jedi>=0.16->ipython->ipython-autotime) (0.8.3)\n",
      "Requirement already satisfied: ptyprocess>=0.5 in /opt/conda/lib/python3.10/site-packages (from pexpect>4.3->ipython->ipython-autotime) (0.7.0)\n",
      "Requirement already satisfied: wcwidth in /opt/conda/lib/python3.10/site-packages (from prompt-toolkit<3.1.0,>=3.0.11->ipython->ipython-autotime) (0.2.6)\n",
      "Requirement already satisfied: executing>=1.2.0 in /opt/conda/lib/python3.10/site-packages (from stack-data->ipython->ipython-autotime) (1.2.0)\n",
      "Requirement already satisfied: pure-eval in /opt/conda/lib/python3.10/site-packages (from stack-data->ipython->ipython-autotime) (0.2.2)\n",
      "Requirement already satisfied: asttokens>=2.1.0 in /opt/conda/lib/python3.10/site-packages (from stack-data->ipython->ipython-autotime) (2.2.1)\n",
      "Requirement already satisfied: six in /opt/conda/lib/python3.10/site-packages (from asttokens>=2.1.0->stack-data->ipython->ipython-autotime) (1.16.0)\n",
      "The autotime extension is already loaded. To reload it, use:\n",
      "  %reload_ext autotime\n",
      "time: 1.63 s (started: 2023-01-30 13:09:43 +00:00)\n"
     ]
    }
   ],
   "source": [
    "!pip install ipython-autotime\n",
    "%load_ext autotime\n",
    "import warnings\n",
    "warnings.filterwarnings(\"ignore\")"
   ]
  },
  {
   "cell_type": "markdown",
   "metadata": {},
   "source": [
    "# Apache Tika\n",
    "Для работы обязательно нужны установленная Java SE Development Kit 19.0.1 (по требованиям версия 1.6 и выше) и jar-файл (лежит в директории src); ссылка на <a href=\"https://www.oracle.com/java/technologies/javase/jdk19-archive-downloads.html\">java</a>\n",
    "\n",
    "Перед запуском функции get_document_text необходимо запустить с помощью java jar-файл C:\\Users\\username\\AppData\\Local\\Temp\\tika-server.jar\n",
    "\n",
    "Команда для запуска в командной строке java -jar C:\\Users\\username\\AppData\\Local\\Temp\\tika-server.jar\n",
    "\n",
    "После выполнения все должно работать\n",
    "\n",
    "Принимаемые функцией get_document_text расширения файлов: .doc, .docx, .pdf, .rtf; Но вообще tika способна работать с практически любыми расширениями файлов (медиа, текст и т.д.)\n",
    "\n",
    "После окончания работы с tika необходимо выключить открытый jar-файл (для этого вроде как достаточно закрыть cmd)"
   ]
  },
  {
   "cell_type": "code",
   "execution_count": 3,
   "metadata": {},
   "outputs": [
    {
     "name": "stdout",
     "output_type": "stream",
     "text": [
      "time: 17.2 ms (started: 2023-01-30 13:09:45 +00:00)\n"
     ]
    }
   ],
   "source": [
    "import tika\n",
    "tika.initVM()"
   ]
  },
  {
   "cell_type": "code",
   "execution_count": 4,
   "metadata": {},
   "outputs": [
    {
     "name": "stdout",
     "output_type": "stream",
     "text": [
      "time: 461 ms (started: 2023-01-30 13:09:45 +00:00)\n"
     ]
    }
   ],
   "source": [
    "from tika import parser\n",
    "\n",
    "def get_document_text(filepath):\n",
    "    doc_type = filepath.split('.')[-1]\n",
    "    if doc_type in ['doc', 'rtf', 'pdf', 'docx']:\n",
    "        text = parser.from_file(filepath)['content']\n",
    "    else:\n",
    "        print(f'File extention must be either pdf, rtf, doc or docx, got {doc_type}')\n",
    "    return text.strip()"
   ]
  },
  {
   "cell_type": "code",
   "execution_count": 6,
   "metadata": {},
   "outputs": [
    {
     "name": "stdout",
     "output_type": "stream",
     "text": [
      "Образец простого договора аренды квартиры, заключаемого между физическим лицами\n",
      "\n",
      "ДОГОВОР НАЙМА КВАРТИРЫ\n",
      "\tг. _______________\n",
      "\t«____» ______________ 2022 г.\n",
      "\n",
      "\n",
      " Гр. ________________________________________________, паспорт: серия ________, № ________, выданный ________________________, проживающий по адресу: ________________________________________________, именуемый в дальнейшем «Наймодатель», с одной стороны, и гр. ________________________________________________, паспорт: серия ________, № ________, выданный ________________________, проживающий по адресу: ________________________________________________, именуемый в дальнейшем «Наниматель», с другой стороны, именуемые в дальнейшем «Стороны», заключили настоящий договор, в дальнейшем «Договор», о нижеследующем: \n",
      "1. Наймодатель предоставляет Нанимателю во временное владение и пользование за плату принадлежащую ему по праву собственности квартиру, кадастровый номер: ________ , находящуюся по адресу: ______________________________________\n",
      "time: 996 ms (started: 2023-01-30 13:10:26 +00:00)\n"
     ]
    }
   ],
   "source": [
    "path_doc=\"../data/parsed_data/Образец_простого_договора_аренды_квартиры-_заключаемого_между_физическим_лицами.doc\"\n",
    "print(get_document_text(path_doc)[:1000])"
   ]
  },
  {
   "cell_type": "code",
   "execution_count": 7,
   "metadata": {},
   "outputs": [
    {
     "name": "stdout",
     "output_type": "stream",
     "text": [
      "Образец простого договора аренды квартиры, заключаемого между физическим лицами\n",
      "\n",
      "ДОГОВОР НАЙМА КВАРТИРЫ\n",
      "\tг. _______________\n",
      "\t«____» ______________ 2022 г.\n",
      "\n",
      "\n",
      "\n",
      "\n",
      "\n",
      " Гр. ________________________________________________, паспорт: серия ________, № ________, выданный ________________________, проживающий по адресу: ________________________________________________, именуемый в дальнейшем «Наймодатель», с одной стороны, и гр. ________________________________________________, паспорт: серия ________, № ________, выданный ________________________, проживающий по адресу: ________________________________________________, именуемый в дальнейшем «Наниматель», с другой стороны, именуемые в дальнейшем «Стороны», заключили настоящий договор, в дальнейшем «Договор», о нижеследующем: \n",
      "1. Наймодатель предоставляет Нанимателю во временное владение и пользование за плату принадлежащую ему по праву собственности квартиру, кадастровый номер: ________ , находящуюся по адресу: ___________________________________\n",
      "time: 762 ms (started: 2023-01-30 13:10:52 +00:00)\n"
     ]
    }
   ],
   "source": [
    "path_docx=\"../data/parsed_data/Образец_простого_договора_аренды_квартиры-_заключаемого_между_физическим_лицами.docx\"\n",
    "print(get_document_text(path_docx)[:1000])"
   ]
  },
  {
   "cell_type": "code",
   "execution_count": 12,
   "metadata": {},
   "outputs": [
    {
     "name": "stdout",
     "output_type": "stream",
     "text": [
      "Образец договора аренды автомобильного прицепа, заключаемого между юридическим и физическим лицом\n",
      "\n",
      "\n",
      "ДОГОВОР АРЕНДЫ&NBSP;ДОГОВОР АРЕНДЫ&NBSP;\n",
      "автомобильного прицепаавтомобильного прицепа\n",
      "\n",
      "г. _______________г. _______________ «_____» _______________ 2023 г.«_____» _______________ 2023 г.\n",
      "\n",
      "________________________________________________ в лице________________________________________________ в лице\n",
      "________________________________________________, действующего на основании________________________________________________, действующего на основании\n",
      "________________________________________________, именуемый в дальнейшем «________________________________________________, именуемый в дальнейшем «АрендодательАрендодатель», с», с\n",
      "одной стороны, и гр. ________________________________________________, паспорт: серия ________, №одной стороны, и гр. ________________________________________________, паспорт: серия ________, №\n",
      "________, выданный ________________________, проживающий по адресу:_______\n",
      "time: 130 ms (started: 2023-01-30 13:12:09 +00:00)\n"
     ]
    }
   ],
   "source": [
    "path_pdf=\"../data/parsed_data/Договоры аренды/Договор_аренды_автомобильного_прицепа.pdf\"\n",
    "print(get_document_text(path_pdf)[:1000])"
   ]
  },
  {
   "cell_type": "markdown",
   "metadata": {
    "id": "bO5rrGDTuci_"
   },
   "source": [
    "## **Библиотека PyPDF2.**\n",
    "Работает только с PDF-файлами"
   ]
  },
  {
   "cell_type": "code",
   "execution_count": 19,
   "metadata": {
    "colab": {
     "base_uri": "https://localhost:8080/"
    },
    "id": "7eTbtzM_ibJM",
    "outputId": "bee32b6b-5390-4cf4-e721-1eed4934cc30"
   },
   "outputs": [
    {
     "name": "stdout",
     "output_type": "stream",
     "text": [
      "Requirement already satisfied: pypdf2 in /opt/conda/lib/python3.10/site-packages (3.0.1)\n",
      "time: 1.49 s (started: 2023-01-30 13:13:53 +00:00)\n"
     ]
    }
   ],
   "source": [
    "!pip install pypdf2\n",
    "from PyPDF2 import PdfReader"
   ]
  },
  {
   "cell_type": "markdown",
   "metadata": {
    "id": "mWI5UAO2DuMI"
   },
   "source": [
    "Время чтения и вывода pdf-файла размером 11 страниц - 10.8 с, но при этом шрифт с тенью выводится в единственном экземпляре (+)"
   ]
  },
  {
   "cell_type": "code",
   "execution_count": 45,
   "metadata": {
    "colab": {
     "base_uri": "https://localhost:8080/"
    },
    "id": "-nY6JMgwil0t",
    "outputId": "d3989e89-d3b7-4743-8cb5-60c0e2a88f95"
   },
   "outputs": [
    {
     "name": "stdout",
     "output_type": "stream",
     "text": [
      "ДОГОВОР АРЕНДЫ&NBSP;ДОГОВОР АРЕНДЫ&NBSP;\n",
      "автомобильного прицепаавтомобильного прицепа\n",
      "г. _______________г. _______________ «_____» _______________ 2023 г.«_____» _______________ 2023 г.\n",
      "________________________________________________ в лице________________________________________________ в лице\n",
      "________________________________________________, действующего на основании________________________________________________, действующего на основании\n",
      "________________________________________________, именуемый в дальнейшем «________________________________________________, именуемый в дальнейшем « АрендодательАрендодатель », с», с\n",
      "одной стороны, и гр. ________________________________________________, паспорт: серия ________, №одной стороны, и гр. ________________________________________________, паспорт: серия ________, №\n",
      "________, выданный ________________________, проживающий по адресу:________, выданный ________________________, проживающий по адресу:\n",
      "_______________________________________\n",
      "time: 1.98 s (started: 2023-01-30 13:19:53 +00:00)\n"
     ]
    }
   ],
   "source": [
    "pdf_pypdf2 = '../data/parsed_data/Договоры аренды/Договор_аренды_автомобильного_прицепа.pdf'\n",
    "text = []\n",
    "with open(pdf_pypdf2, \"rb\") as filehandle:  \n",
    "    pdf = PdfReader(filehandle)\n",
    "    pages = len(pdf.pages)\n",
    "    for i in range(pages):\n",
    "        page = pdf.pages[i]\n",
    "        text.append(page.extract_text())\n",
    "print(text[0][:1000])"
   ]
  },
  {
   "cell_type": "markdown",
   "metadata": {
    "id": "FF7iemVOC5OY"
   },
   "source": [
    "## **PyMuPDF (он же fitz)**\n",
    "Работает с форматами **PDF**, XPS, OpenXPS, CBZ, EPUB и FB2\n",
    "<p>Чувствителен к теням у шрифта"
   ]
  },
  {
   "cell_type": "code",
   "execution_count": 46,
   "metadata": {
    "colab": {
     "base_uri": "https://localhost:8080/"
    },
    "id": "rBCx38yiuV1N",
    "outputId": "8646aef1-592e-4b98-c231-d9ab3f89aaa9"
   },
   "outputs": [
    {
     "name": "stdout",
     "output_type": "stream",
     "text": [
      "Collecting pymupdf\n",
      "  Downloading PyMuPDF-1.21.1-cp310-cp310-manylinux_2_17_x86_64.manylinux2014_x86_64.whl (14.0 MB)\n",
      "\u001b[2K     \u001b[90m━━━━━━━━━━━━━━━━━━━━━━━━━━━━━━━━━━━━━━━━\u001b[0m \u001b[32m14.0/14.0 MB\u001b[0m \u001b[31m8.5 MB/s\u001b[0m eta \u001b[36m0:00:00\u001b[0m:00:01\u001b[0m00:01\u001b[0m\n",
      "\u001b[?25hInstalling collected packages: pymupdf\n",
      "Successfully installed pymupdf-1.21.1\n",
      "time: 4.54 s (started: 2023-01-30 13:19:57 +00:00)\n"
     ]
    }
   ],
   "source": [
    "!pip install pymupdf\n",
    "import fitz"
   ]
  },
  {
   "cell_type": "markdown",
   "metadata": {
    "id": "YmpZiyKLDl5J"
   },
   "source": [
    "Время чтения и вывода pdf-файла размером 11 страниц - 53 мс"
   ]
  },
  {
   "cell_type": "code",
   "execution_count": 48,
   "metadata": {
    "colab": {
     "base_uri": "https://localhost:8080/"
    },
    "id": "oh4DQiyAi_Vf",
    "outputId": "bf8c98cd-9a3d-4c6f-c9ee-5ffc62c0301a"
   },
   "outputs": [
    {
     "name": "stdout",
     "output_type": "stream",
     "text": [
      "ДОГОВОР АРЕНДЫ&NBSP;\n",
      "автомобильного прицепа\n",
      "г. _______________\n",
      "«_____» _______________ 2023 г.\n",
      "________________________________________________ в лице\n",
      "________________________________________________, действующего на основании\n",
      "________________________________________________, именуемый в дальнейшем «\n",
      "Арендодатель», с\n",
      "одной стороны, и гр. ________________________________________________, паспорт: серия ________, №\n",
      "________, выданный ________________________, проживающий по адресу:\n",
      "________________________________________________, именуемый в дальнейшем «\n",
      "Арендатор», с\n",
      "другой стороны, именуемые в дальнейшем «Стороны», заключили настоящий договор, в\n",
      "дальнейшем «\n",
      "Договор», о нижеследующем: \n",
      "1. ПРЕДМЕТ ДОГОВОРА\n",
      "1.1. По настоящему договору Арендодатель предоставляет Арендатору во временное\n",
      "пользование за плату прицеп для легкового автомобиля модели ________________________\n",
      "(включая дополнительное оборудование, установленное на прицеп), далее именуемый\n",
      "«Прицеп».\n",
      "Государственный регистрационны\n",
      "time: 23.7 ms (started: 2023-01-30 13:20:25 +00:00)\n"
     ]
    }
   ],
   "source": [
    "pdf_fitz = \"../data/parsed_data/Договоры аренды/Договор_аренды_автомобильного_прицепа.pdf\"\n",
    "text = ''\n",
    "with fitz.open(pdf_fitz) as doc:\n",
    "    for page in doc:\n",
    "        text += page.get_text()\n",
    "#Из-за тени в исходном документе происходит дублирование, данная строка выделяет одну из двух\n",
    "text = '\\n'.join(text.split('\\n')[::2])\n",
    "print(text[:1000])"
   ]
  },
  {
   "cell_type": "markdown",
   "metadata": {},
   "source": [
    "В fitz можно раскрашивать конкретные слова"
   ]
  },
  {
   "cell_type": "code",
   "execution_count": 49,
   "metadata": {},
   "outputs": [
    {
     "name": "stdout",
     "output_type": "stream",
     "text": [
      "time: 63.4 ms (started: 2023-01-30 13:20:56 +00:00)\n"
     ]
    }
   ],
   "source": [
    "text = ''\n",
    "highlight_text = ['Договор','Квартир']\n",
    "doc = fitz.open(pdf_fitz)\n",
    "for current_page in doc:\n",
    "    for word in highlight_text:\n",
    "        text_instances = current_page.search_for(word)\n",
    "        for inst in text_instances:\n",
    "            highlight = current_page.add_highlight_annot(inst)\n",
    "            highlight.set_colors({\"stroke\":(0, 0.5, 0)})\n",
    "            highlight.update()\n",
    "doc.save(\"../data/parsed_data/Договор_аренды_автомобильного_прицепа_colored.pdf\", garbage=4, deflate=True, clean=True)"
   ]
  },
  {
   "cell_type": "markdown",
   "metadata": {
    "id": "OOFXzNN7CbRS"
   },
   "source": [
    "## pdfminer.six (версия pdfminer для python 3.*)\n",
    "Работа только с pdf-файлами\n",
    "<p> Чувствителен к теням"
   ]
  },
  {
   "cell_type": "code",
   "execution_count": 50,
   "metadata": {
    "colab": {
     "base_uri": "https://localhost:8080/"
    },
    "id": "gjfj558-tKk-",
    "outputId": "c60026b9-f6d5-47ca-b169-1cbd31de5381"
   },
   "outputs": [
    {
     "name": "stdout",
     "output_type": "stream",
     "text": [
      "Collecting pdfminer.six\n",
      "  Downloading pdfminer.six-20221105-py3-none-any.whl (5.6 MB)\n",
      "\u001b[2K     \u001b[90m━━━━━━━━━━━━━━━━━━━━━━━━━━━━━━━━━━━━━━━━\u001b[0m \u001b[32m5.6/5.6 MB\u001b[0m \u001b[31m7.3 MB/s\u001b[0m eta \u001b[36m0:00:00\u001b[0m00:01\u001b[0m00:01\u001b[0m\n",
      "\u001b[?25hRequirement already satisfied: cryptography>=36.0.0 in /opt/conda/lib/python3.10/site-packages (from pdfminer.six) (39.0.0)\n",
      "Requirement already satisfied: charset-normalizer>=2.0.0 in /opt/conda/lib/python3.10/site-packages (from pdfminer.six) (2.1.1)\n",
      "Requirement already satisfied: cffi>=1.12 in /opt/conda/lib/python3.10/site-packages (from cryptography>=36.0.0->pdfminer.six) (1.15.1)\n",
      "Requirement already satisfied: pycparser in /opt/conda/lib/python3.10/site-packages (from cffi>=1.12->cryptography>=36.0.0->pdfminer.six) (2.21)\n",
      "Installing collected packages: pdfminer.six\n",
      "Successfully installed pdfminer.six-20221105\n",
      "time: 3.52 s (started: 2023-01-30 13:21:02 +00:00)\n"
     ]
    }
   ],
   "source": [
    "!pip install pdfminer.six\n",
    "from pdfminer.high_level import extract_text"
   ]
  },
  {
   "cell_type": "markdown",
   "metadata": {
    "id": "Etf-5qUKDRtT"
   },
   "source": [
    "Время чтения и вывода pdf-файла размером 11 страниц - 2.18 с"
   ]
  },
  {
   "cell_type": "code",
   "execution_count": 51,
   "metadata": {
    "colab": {
     "base_uri": "https://localhost:8080/"
    },
    "id": "pq6VXpiewF4O",
    "outputId": "7fd6070e-7d65-467e-8556-a4187dc6da18"
   },
   "outputs": [
    {
     "name": "stderr",
     "output_type": "stream",
     "text": [
      "The PDF <_io.BufferedReader name='../data/parsed_data/Договоры аренды/Договор_аренды_автомобильного_прицепа.pdf'> contains a metadata field indicating that it should not allow text extraction. Ignoring this field and proceeding. Use the check_extractable if you want to raise an error in this case\n"
     ]
    },
    {
     "name": "stdout",
     "output_type": "stream",
     "text": [
      "ДОГОВОР АРЕНДЫ&NBSP;\n",
      "\n",
      "автомобильного прицепа\n",
      "г. _______________\n",
      "\n",
      "«_____» _______________ 2023 г.\n",
      "________________________________________________ в лице\n",
      "________________________________________________, действующего на основании\n",
      "Арендодатель», с», с\n",
      "________________________________________________, именуемый в дальнейшем «\n",
      "одной стороны, и гр. ________________________________________________, паспорт: серия ________, №\n",
      "________, выданный ________________________, проживающий по адресу:\n",
      "________________________________________________, именуемый в дальнейшем «Арендатор\n",
      "другой стороны, именуемые в дальнейшем «Стороны», заключили настоящий договор, в\n",
      "дальнейшем «Договор\n",
      "\n",
      "Договор», о нижеследующем: \n",
      "1. ПРЕДМЕТ ДОГОВОРА\n",
      "\n",
      "1.1. По настоящему договору Арендодатель предоставляет Арендатору во временное\n",
      "пользование за плату прицеп для легкового автомобиля модели ________________________\n",
      "(включая дополнительное оборудование, установленное на прицеп), далее именуемый\n",
      "«Прицеп».\n",
      "Государственный реги\n",
      "time: 786 ms (started: 2023-01-30 13:21:14 +00:00)\n"
     ]
    }
   ],
   "source": [
    "pdf_pdfminer = '../data/parsed_data/Договоры аренды/Договор_аренды_автомобильного_прицепа.pdf'\n",
    "text_pdfminer = extract_text(pdf_pdfminer)\n",
    "#Из-за тени в исходном документе происходит дублирование, данная строка выделяет одну из двух\n",
    "text_pdfminer = '\\n'.join(text_pdfminer.split('\\n')[::2])\n",
    "print(text_pdfminer[:1000])"
   ]
  },
  {
   "cell_type": "markdown",
   "metadata": {
    "id": "utQtHB4TEBTb"
   },
   "source": [
    "## **Чтение docx файлов**"
   ]
  },
  {
   "cell_type": "markdown",
   "metadata": {
    "id": "C6GxgOg8JiqL"
   },
   "source": [
    "## **python-docx (docx)**\n",
    "Работа только с docx"
   ]
  },
  {
   "cell_type": "code",
   "execution_count": 52,
   "metadata": {
    "colab": {
     "base_uri": "https://localhost:8080/"
    },
    "id": "07vhhb6eEAvM",
    "outputId": "9d362ea0-da0f-40da-8002-853e5fefc7e9"
   },
   "outputs": [
    {
     "name": "stdout",
     "output_type": "stream",
     "text": [
      "Collecting python-docx\n",
      "  Downloading python-docx-0.8.11.tar.gz (5.6 MB)\n",
      "\u001b[2K     \u001b[90m━━━━━━━━━━━━━━━━━━━━━━━━━━━━━━━━━━━━━━━━\u001b[0m \u001b[32m5.6/5.6 MB\u001b[0m \u001b[31m6.0 MB/s\u001b[0m eta \u001b[36m0:00:00\u001b[0m00:01\u001b[0m00:01\u001b[0m\n",
      "\u001b[?25h  Preparing metadata (setup.py) ... \u001b[?25ldone\n",
      "\u001b[?25hCollecting lxml>=2.3.2\n",
      "  Downloading lxml-4.9.2-cp310-cp310-manylinux_2_17_x86_64.manylinux2014_x86_64.manylinux_2_24_x86_64.whl (7.1 MB)\n",
      "\u001b[2K     \u001b[90m━━━━━━━━━━━━━━━━━━━━━━━━━━━━━━━━━━━━━━━━\u001b[0m \u001b[32m7.1/7.1 MB\u001b[0m \u001b[31m9.1 MB/s\u001b[0m eta \u001b[36m0:00:00\u001b[0m:00:01\u001b[0m00:01\u001b[0m\n",
      "\u001b[?25hBuilding wheels for collected packages: python-docx\n",
      "  Building wheel for python-docx (setup.py) ... \u001b[?25ldone\n",
      "\u001b[?25h  Created wheel for python-docx: filename=python_docx-0.8.11-py3-none-any.whl size=184490 sha256=c7b41bf4834cedcd16bbdfbaa1a2f05f69cba5535830dfb8a787ba798d5c0f4c\n",
      "  Stored in directory: /home/jovyan/.cache/pip/wheels/65/e1/9b/0c38fe6cfe02a9fe31cb6b4efd90985f17354d7f77872f2def\n",
      "Successfully built python-docx\n",
      "Installing collected packages: lxml, python-docx\n",
      "Successfully installed lxml-4.9.2 python-docx-0.8.11\n",
      "time: 6.8 s (started: 2023-01-30 13:21:21 +00:00)\n"
     ]
    }
   ],
   "source": [
    "!pip install python-docx\n",
    "import docx"
   ]
  },
  {
   "cell_type": "markdown",
   "metadata": {
    "id": "ootpODY3Jn7L"
   },
   "source": [
    "Не смог разобраться, почему не работает"
   ]
  },
  {
   "cell_type": "code",
   "execution_count": 53,
   "metadata": {
    "colab": {
     "base_uri": "https://localhost:8080/",
     "height": 912
    },
    "id": "ZazOogSxGp3a",
    "outputId": "67f6260c-b1e7-4efb-b9a5-7b3376ef0725"
   },
   "outputs": [
    {
     "ename": "XMLSyntaxError",
     "evalue": "Start tag expected, '<' not found, line 1, column 1 (<string>, line 1)",
     "output_type": "error",
     "traceback": [
      "Traceback \u001b[0;36m(most recent call last)\u001b[0m:\n",
      "\u001b[0m  File \u001b[1;32m/opt/conda/lib/python3.10/site-packages/IPython/core/interactiveshell.py:3442\u001b[0m in \u001b[1;35mrun_code\u001b[0m\n    exec(code_obj, self.user_global_ns, self.user_ns)\u001b[0m\n",
      "\u001b[0m  Cell \u001b[1;32mIn[53], line 8\u001b[0m\n    getText(doc)\u001b[0m\n",
      "\u001b[0m  Cell \u001b[1;32mIn[53], line 3\u001b[0m in \u001b[1;35mgetText\u001b[0m\n    doc = docx.Document(filename)\u001b[0m\n",
      "\u001b[0m  File \u001b[1;32m/opt/conda/lib/python3.10/site-packages/docx/api.py:25\u001b[0m in \u001b[1;35mDocument\u001b[0m\n    document_part = Package.open(docx).main_document_part\u001b[0m\n",
      "\u001b[0m  File \u001b[1;32m/opt/conda/lib/python3.10/site-packages/docx/opc/package.py:130\u001b[0m in \u001b[1;35mopen\u001b[0m\n    Unmarshaller.unmarshal(pkg_reader, package, PartFactory)\u001b[0m\n",
      "\u001b[0m  File \u001b[1;32m/opt/conda/lib/python3.10/site-packages/docx/opc/package.py:198\u001b[0m in \u001b[1;35munmarshal\u001b[0m\n    parts = Unmarshaller._unmarshal_parts(\u001b[0m\n",
      "\u001b[0m  File \u001b[1;32m/opt/conda/lib/python3.10/site-packages/docx/opc/package.py:215\u001b[0m in \u001b[1;35m_unmarshal_parts\u001b[0m\n    parts[partname] = part_factory(\u001b[0m\n",
      "\u001b[0m  File \u001b[1;32m/opt/conda/lib/python3.10/site-packages/docx/opc/part.py:191\u001b[0m in \u001b[1;35m__new__\u001b[0m\n    return PartClass.load(partname, content_type, blob, package)\u001b[0m\n",
      "\u001b[0m  File \u001b[1;32m/opt/conda/lib/python3.10/site-packages/docx/opc/part.py:231\u001b[0m in \u001b[1;35mload\u001b[0m\n    element = parse_xml(blob)\u001b[0m\n",
      "\u001b[0m  File \u001b[1;32m/opt/conda/lib/python3.10/site-packages/docx/oxml/__init__.py:28\u001b[0m in \u001b[1;35mparse_xml\u001b[0m\n    root_element = etree.fromstring(xml, oxml_parser)\u001b[0m\n",
      "\u001b[0m  File \u001b[1;32msrc/lxml/etree.pyx:3257\u001b[0m in \u001b[1;35mlxml.etree.fromstring\u001b[0m\n",
      "\u001b[0m  File \u001b[1;32msrc/lxml/parser.pxi:1916\u001b[0m in \u001b[1;35mlxml.etree._parseMemoryDocument\u001b[0m\n",
      "\u001b[0m  File \u001b[1;32msrc/lxml/parser.pxi:1803\u001b[0m in \u001b[1;35mlxml.etree._parseDoc\u001b[0m\n",
      "\u001b[0m  File \u001b[1;32msrc/lxml/parser.pxi:1144\u001b[0m in \u001b[1;35mlxml.etree._BaseParser._parseDoc\u001b[0m\n",
      "\u001b[0m  File \u001b[1;32msrc/lxml/parser.pxi:618\u001b[0m in \u001b[1;35mlxml.etree._ParserContext._handleParseResultDoc\u001b[0m\n",
      "\u001b[0m  File \u001b[1;32msrc/lxml/parser.pxi:728\u001b[0m in \u001b[1;35mlxml.etree._handleParseResult\u001b[0m\n",
      "\u001b[0;36m  File \u001b[0;32msrc/lxml/parser.pxi:657\u001b[0;36m in \u001b[0;35mlxml.etree._raiseParseError\u001b[0;36m\n",
      "\u001b[0;36m  File \u001b[0;32m<string>:1\u001b[0;36m\u001b[0m\n\u001b[0;31mXMLSyntaxError\u001b[0m\u001b[0;31m:\u001b[0m Start tag expected, '<' not found, line 1, column 1\n"
     ]
    },
    {
     "name": "stdout",
     "output_type": "stream",
     "text": [
      "time: 22.1 ms (started: 2023-01-30 13:21:30 +00:00)\n"
     ]
    }
   ],
   "source": [
    "doc = '../data/parsed_data/Образец_простого_договора_аренды_квартиры-_заключаемого_между_физическим_лицами.docx'\n",
    "def getText(filename):\n",
    "    doc = docx.Document(filename)\n",
    "    fullText = []\n",
    "    for para in doc.paragraphs:\n",
    "        fullText.append(para.text)\n",
    "    return '\\n'.join(fullText)\n",
    "getText(doc)[:1000]"
   ]
  },
  {
   "cell_type": "markdown",
   "metadata": {
    "id": "s6_PgyxAE4nK"
   },
   "source": [
    "## **docx2txt**\n",
    "Работает только с форматом docx простым переводом в txt"
   ]
  },
  {
   "cell_type": "code",
   "execution_count": 54,
   "metadata": {
    "colab": {
     "base_uri": "https://localhost:8080/"
    },
    "id": "pjhJn0qUE4Ue",
    "outputId": "c2c0c07a-01bd-4841-88fc-7f78531917e0"
   },
   "outputs": [
    {
     "name": "stdout",
     "output_type": "stream",
     "text": [
      "Collecting docx2txt\n",
      "  Downloading docx2txt-0.8.tar.gz (2.8 kB)\n",
      "  Preparing metadata (setup.py) ... \u001b[?25ldone\n",
      "\u001b[?25hBuilding wheels for collected packages: docx2txt\n",
      "  Building wheel for docx2txt (setup.py) ... \u001b[?25ldone\n",
      "\u001b[?25h  Created wheel for docx2txt: filename=docx2txt-0.8-py3-none-any.whl size=3961 sha256=36f3b0fe5096091740b0525bca5a99b7f4b0b4320f394300dff412ab135cfc3a\n",
      "  Stored in directory: /home/jovyan/.cache/pip/wheels/3c/78/a3/ef70996aa66e38229494dbd84cd747e2e0668f1940bf4a7de8\n",
      "Successfully built docx2txt\n",
      "Installing collected packages: docx2txt\n",
      "Successfully installed docx2txt-0.8\n",
      "time: 3.24 s (started: 2023-01-30 13:21:36 +00:00)\n"
     ]
    }
   ],
   "source": [
    "!pip install docx2txt \n",
    "import docx2txt"
   ]
  },
  {
   "cell_type": "markdown",
   "metadata": {
    "id": "b_hxz9OcFf6C"
   },
   "source": [
    "Сохраняет форматирование, время чтения и вывода - 18 мс"
   ]
  },
  {
   "cell_type": "code",
   "execution_count": 56,
   "metadata": {
    "colab": {
     "base_uri": "https://localhost:8080/"
    },
    "id": "AyVSwrMyFPcG",
    "outputId": "46352a8d-472e-4446-9cdf-03fae9a4b9bc"
   },
   "outputs": [
    {
     "name": "stdout",
     "output_type": "stream",
     "text": [
      "ДОГОВОР НАЙМА КВАРТИРЫ\n",
      "\n",
      "г. _______________\n",
      "\n",
      "«____» ______________ 2022 г.\n",
      "\n",
      "\n",
      "\n",
      "\n",
      "\n",
      "\n",
      "\n",
      " Гр. ________________________________________________, паспорт: серия ________, № ________, выданный ________________________, проживающий по адресу: ________________________________________________, именуемый в дальнейшем «Наймодатель», с одной стороны, и гр. ________________________________________________, паспорт: серия ________, № ________, выданный ________________________, проживающий по адресу: ________________________________________________, именуемый в дальнейшем «Наниматель», с другой стороны, именуемые в дальнейшем «Стороны», заключили настоящий договор, в дальнейшем «Договор», о нижеследующем: \n",
      "\n",
      "1. Наймодатель предоставляет Нанимателю во временное владение и пользование за плату принадлежащую ему по праву собственности квартиру, кадастровый номер: ________ , находящуюся по адресу: ________________________________________________ , общая площадь ________ кв.м, состоящую из ________ комнат (дал\n",
      "time: 5.73 ms (started: 2023-01-30 13:21:47 +00:00)\n"
     ]
    }
   ],
   "source": [
    "text = docx2txt.process(\"../data/parsed_data/Образец_простого_договора_аренды_квартиры-_заключаемого_между_физическим_лицами.docx\")\n",
    "print(text[:1000])"
   ]
  },
  {
   "cell_type": "markdown",
   "metadata": {
    "id": "J62Bj1dvJfgq"
   },
   "source": [
    "## **Простой метод, использующий стандартную библиотеку zipfile**\n",
    "Для работы с docx файлами"
   ]
  },
  {
   "cell_type": "code",
   "execution_count": 57,
   "metadata": {
    "colab": {
     "base_uri": "https://localhost:8080/"
    },
    "id": "S7uA2FWKJHaJ",
    "outputId": "090082c0-265e-4ff3-b71a-417475fc42dc"
   },
   "outputs": [
    {
     "name": "stdout",
     "output_type": "stream",
     "text": [
      "time: 31 ms (started: 2023-01-30 13:21:59 +00:00)\n"
     ]
    }
   ],
   "source": [
    "try:\n",
    "    from xml.etree.cElementTree import XML\n",
    "except ImportError:\n",
    "    from xml.etree.ElementTree import XML\n",
    "import zipfile"
   ]
  },
  {
   "cell_type": "markdown",
   "metadata": {
    "id": "jvngu2U_J_-A"
   },
   "source": [
    "Основан на python-docx, не требует дополнительной установки библиотек, простая функция для чтения, время чтения и вывода - 11.7 мс"
   ]
  },
  {
   "cell_type": "code",
   "execution_count": 58,
   "metadata": {
    "colab": {
     "base_uri": "https://localhost:8080/"
    },
    "id": "BuL66-WZJJeZ",
    "outputId": "aa1ed223-1c39-4433-93bb-ac4d7705da48"
   },
   "outputs": [
    {
     "name": "stdout",
     "output_type": "stream",
     "text": [
      "time: 616 µs (started: 2023-01-30 13:22:01 +00:00)\n"
     ]
    }
   ],
   "source": [
    "WORD_NAMESPACE = '{http://schemas.openxmlformats.org/wordprocessingml/2006/main}'\n",
    "PARA = WORD_NAMESPACE + 'p'\n",
    "TEXT = WORD_NAMESPACE + 't'\n",
    "\n",
    "\n",
    "def get_docx_text(path):\n",
    "    \"\"\"\n",
    "    Take the path of a docx file as argument, return the text in unicode.\n",
    "    \"\"\"\n",
    "    document = zipfile.ZipFile(path)\n",
    "    xml_content = document.read('word/document.xml')\n",
    "    document.close()\n",
    "    tree = XML(xml_content)\n",
    "\n",
    "    paragraphs = []\n",
    "    for paragraph in tree.iter(PARA):\n",
    "        texts = [node.text\n",
    "                 for node in paragraph.iter(TEXT)\n",
    "                 if node.text]\n",
    "        if texts:\n",
    "            paragraphs.append(''.join(texts))\n",
    "\n",
    "    return '\\n\\n'.join(paragraphs)"
   ]
  },
  {
   "cell_type": "code",
   "execution_count": 59,
   "metadata": {
    "colab": {
     "base_uri": "https://localhost:8080/"
    },
    "id": "4Hq8I4myJVzl",
    "outputId": "50630475-3fda-466f-9a74-b46b53a67018"
   },
   "outputs": [
    {
     "name": "stdout",
     "output_type": "stream",
     "text": [
      "ДОГОВОР НАЙМА КВАРТИРЫ\n",
      "\n",
      "г. _______________\n",
      "\n",
      "«____» ______________ 2022 г.\n",
      "\n",
      " Гр. ________________________________________________, паспорт: серия ________, № ________, выданный ________________________, проживающий по адресу: ________________________________________________, именуемый в дальнейшем «Наймодатель», с одной стороны, и гр. ________________________________________________, паспорт: серия ________, № ________, выданный ________________________, проживающий по адресу: ________________________________________________, именуемый в дальнейшем «Наниматель», с другой стороны, именуемые в дальнейшем «Стороны», заключили настоящий договор, в дальнейшем «Договор», о нижеследующем: \n",
      "\n",
      "1. Наймодатель предоставляет Нанимателю во временное владение и пользование за плату принадлежащую ему по праву собственности квартиру, кадастровый номер: ________ , находящуюся по адресу: ________________________________________________ , общая площадь ________ кв.м, состоящую из ________ комнат (далее Ква\n",
      "time: 3.63 ms (started: 2023-01-30 13:22:07 +00:00)\n"
     ]
    }
   ],
   "source": [
    "docx = '../data/parsed_data/Образец_простого_договора_аренды_квартиры-_заключаемого_между_физическим_лицами.docx'\n",
    "print(get_docx_text(docx)[:1000])"
   ]
  },
  {
   "cell_type": "markdown",
   "metadata": {},
   "source": [
    "## Aspose-words\n",
    "Платная библиотека (в бесплатной версии остается водяной знак и ограничен функционал)\n",
    "<p> Работает с doc, doc, odt, pdf, html </p>\n",
    "<p> Чувствителен к теням"
   ]
  },
  {
   "cell_type": "code",
   "execution_count": 64,
   "metadata": {
    "colab": {
     "base_uri": "https://localhost:8080/"
    },
    "id": "oArOQRv1IsE2",
    "outputId": "5ad452e1-39c9-4fd6-bda9-e0205cff8157"
   },
   "outputs": [
    {
     "name": "stdout",
     "output_type": "stream",
     "text": [
      "Collecting aspose-words\n",
      "  Downloading aspose_words-23.1.0-py3-none-manylinux1_x86_64.whl (82.6 MB)\n",
      "\u001b[2K     \u001b[90m━━━━━━━━━━━━━━━━━━━━━━━━━━━━━━━━━━━━━━━━\u001b[0m \u001b[32m82.6/82.6 MB\u001b[0m \u001b[31m4.9 MB/s\u001b[0m eta \u001b[36m0:00:00\u001b[0m:00:01\u001b[0m00:01\u001b[0m\n",
      "\u001b[?25hInstalling collected packages: aspose-words\n",
      "Successfully installed aspose-words-23.1.0\n",
      "time: 15.5 s (started: 2023-01-30 13:23:13 +00:00)\n"
     ]
    }
   ],
   "source": [
    "!pip install aspose-words\n",
    "import aspose.words as aw\n"
   ]
  },
  {
   "cell_type": "code",
   "execution_count": null,
   "metadata": {
    "colab": {
     "base_uri": "https://localhost:8080/"
    },
    "id": "hNgWJ5Ma-8fZ",
    "outputId": "7ec431db-8159-42e3-b73f-23fbbced378e"
   },
   "outputs": [],
   "source": [
    "path1=\"../data/parsed_data/Образец_простого_договора_аренды_квартиры-_заключаемого_между_физическим_лицами.doc\"\n",
    "\n",
    "doc = aw.Document(path1)\n",
    "saveOptions = aw.saving.PdfSaveOptions()\n",
    "saveOptions.compliance = aw.saving.PdfCompliance.PDF17 \n",
    "doc.save(\"../data/parsed_data/Образец_простого_договора_аренды_квартиры-_заключаемого_между_физическим_лицами.pdf\", saveOptions)\n",
    "pdf_fitz = \"../data/parsed_data/Образец_простого_договора_аренды_квартиры-_заключаемого_между_физическим_лицами.pdf\"\n",
    "\n",
    "doc = fitz.open(pdf_fitz)\n",
    "text = ''\n",
    "for current_page in range(doc.page_count):\n",
    "    text += doc.get_page_text(current_page,\"text\")\n",
    "#Из-за тени в исходном документе происходит дублирование, данная строка выделяет одну из двух\n",
    "text = '\\n'.join(text.split('\\n')[::2])\n",
    "print(text[:1000])"
   ]
  },
  {
   "cell_type": "markdown",
   "metadata": {},
   "source": [
    "## Конвертер docx2pdf\n",
    "Хорошо, но достаточно долго конвертирует docx и doc файлы в pdf"
   ]
  },
  {
   "cell_type": "code",
   "execution_count": 61,
   "metadata": {
    "colab": {
     "base_uri": "https://localhost:8080/"
    },
    "id": "5ALSwlahOhpm",
    "outputId": "157b6d4a-5cbf-4b5c-fba6-3b1b8ccffa67"
   },
   "outputs": [
    {
     "name": "stdout",
     "output_type": "stream",
     "text": [
      "Requirement already satisfied: docx2pdf in /opt/conda/lib/python3.10/site-packages (0.1.8)\n",
      "Requirement already satisfied: tqdm>=4.41.0 in /opt/conda/lib/python3.10/site-packages (from docx2pdf) (4.64.1)\n",
      "time: 1.55 s (started: 2023-01-30 13:22:39 +00:00)\n"
     ]
    }
   ],
   "source": [
    "!pip install docx2pdf\n",
    "from docx2pdf import convert"
   ]
  },
  {
   "cell_type": "code",
   "execution_count": 62,
   "metadata": {
    "colab": {
     "base_uri": "https://localhost:8080/",
     "height": 339
    },
    "id": "qojPUItvOnNr",
    "outputId": "0f081d4b-fce7-4e90-c6d7-d341f7362989"
   },
   "outputs": [
    {
     "ename": "NotImplementedError",
     "evalue": "docx2pdf is not implemented for linux as it requires Microsoft Word to be installed",
     "output_type": "error",
     "traceback": [
      "\u001b[0;31m---------------------------------------------------------------------------\u001b[0m",
      "\u001b[0;31mNotImplementedError\u001b[0m                       Traceback (most recent call last)",
      "Cell \u001b[0;32mIn[62], line 1\u001b[0m\n\u001b[0;32m----> 1\u001b[0m \u001b[43mconvert\u001b[49m\u001b[43m(\u001b[49m\u001b[38;5;124;43m\"\u001b[39;49m\u001b[38;5;124;43m../data/parsed_data/Образец_простого_договора_аренды_квартиры-_заключаемого_между_физическим_лицами.docx\u001b[39;49m\u001b[38;5;124;43m\"\u001b[39;49m\u001b[43m,\u001b[49m\u001b[43m \u001b[49m\u001b[38;5;124;43m\"\u001b[39;49m\u001b[38;5;124;43m../data/parsed_data/Образец_простого_договора_аренды_квартиры-_заключаемого_между_физическим_лицами.pdf\u001b[39;49m\u001b[38;5;124;43m\"\u001b[39;49m\u001b[43m)\u001b[49m\n",
      "File \u001b[0;32m/opt/conda/lib/python3.10/site-packages/docx2pdf/__init__.py:108\u001b[0m, in \u001b[0;36mconvert\u001b[0;34m(input_path, output_path, keep_active)\u001b[0m\n\u001b[1;32m    106\u001b[0m     \u001b[38;5;28;01mreturn\u001b[39;00m windows(paths, keep_active)\n\u001b[1;32m    107\u001b[0m \u001b[38;5;28;01melse\u001b[39;00m:\n\u001b[0;32m--> 108\u001b[0m     \u001b[38;5;28;01mraise\u001b[39;00m \u001b[38;5;167;01mNotImplementedError\u001b[39;00m(\n\u001b[1;32m    109\u001b[0m         \u001b[38;5;124m\"\u001b[39m\u001b[38;5;124mdocx2pdf is not implemented for linux as it requires Microsoft Word to be installed\u001b[39m\u001b[38;5;124m\"\u001b[39m\n\u001b[1;32m    110\u001b[0m     )\n",
      "\u001b[0;31mNotImplementedError\u001b[0m: docx2pdf is not implemented for linux as it requires Microsoft Word to be installed"
     ]
    },
    {
     "name": "stdout",
     "output_type": "stream",
     "text": [
      "time: 27 ms (started: 2023-01-30 13:22:40 +00:00)\n"
     ]
    }
   ],
   "source": [
    "convert(\"../data/parsed_data/Образец_простого_договора_аренды_квартиры-_заключаемого_между_физическим_лицами.docx\", \"../data/parsed_data/Образец_простого_договора_аренды_квартиры-_заключаемого_между_физическим_лицами.pdf\")"
   ]
  }
 ],
 "metadata": {
  "colab": {
   "provenance": []
  },
  "kernelspec": {
   "display_name": "Python 3 (ipykernel)",
   "language": "python",
   "name": "python3"
  },
  "language_info": {
   "codemirror_mode": {
    "name": "ipython",
    "version": 3
   },
   "file_extension": ".py",
   "mimetype": "text/x-python",
   "name": "python",
   "nbconvert_exporter": "python",
   "pygments_lexer": "ipython3",
   "version": "3.10.8"
  }
 },
 "nbformat": 4,
 "nbformat_minor": 1
}
