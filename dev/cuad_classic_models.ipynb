{
 "cells": [
  {
   "cell_type": "code",
   "execution_count": 25,
   "id": "e3731062",
   "metadata": {
    "ExecuteTime": {
     "end_time": "2022-12-14T19:18:44.873483Z",
     "start_time": "2022-12-14T19:18:44.865457Z"
    }
   },
   "outputs": [],
   "source": [
    "import pickle\n",
    "import numpy as np\n",
    "import pandas as pd\n",
    "import xgboost as xgb\n",
    "from xgboost import XGBClassifier\n",
    "from nltk.corpus import stopwords\n",
    "\n",
    "import sklearn\n",
    "from sklearn import metrics\n",
    "from sklearn.pipeline import Pipeline\n",
    "from sklearn.feature_extraction.text import CountVectorizer, TfidfVectorizer\n",
    "from sklearn.model_selection import StratifiedKFold, GridSearchCV, ParameterGrid, train_test_split, cross_val_score\n",
    "\n",
    "from sklearn.svm import SVC, LinearSVC\n",
    "from sklearn.naive_bayes import GaussianNB\n",
    "from sklearn.ensemble import RandomForestClassifier\n",
    "from sklearn.linear_model import LogisticRegression\n",
    "from sklearn.multiclass import OneVsRestClassifier\n",
    "\n",
    "import warnings\n",
    "warnings.filterwarnings(\"ignore\")"
   ]
  },
  {
   "cell_type": "code",
   "execution_count": 1,
   "id": "9d04cd38",
   "metadata": {
    "ExecuteTime": {
     "end_time": "2022-12-14T19:44:37.806961Z",
     "start_time": "2022-12-14T19:44:36.866258Z"
    }
   },
   "outputs": [],
   "source": [
    "!pip freeze > requirements.txt"
   ]
  },
  {
   "cell_type": "code",
   "execution_count": 26,
   "id": "98b96996",
   "metadata": {
    "ExecuteTime": {
     "end_time": "2022-12-14T19:18:56.532021Z",
     "start_time": "2022-12-14T19:18:55.185595Z"
    }
   },
   "outputs": [],
   "source": [
    "data = pd.read_csv('../data/CUAD_data/translated_data.csv', index_col=0)"
   ]
  },
  {
   "cell_type": "code",
   "execution_count": 27,
   "id": "069f872c",
   "metadata": {
    "ExecuteTime": {
     "end_time": "2022-12-14T19:18:56.548096Z",
     "start_time": "2022-12-14T19:18:56.533016Z"
    }
   },
   "outputs": [],
   "source": [
    "stop_words = stopwords.words('russian')\n",
    "stop_words.extend([\"это\", 'все', 'весь', 'включая', 'отношения', 'цель', \"имя\", \"свой\", \"время\", \"любой\", \"соглашение\", \n",
    "                   \"сторона\", \"настоящий\", \"право\", \"компания\", \"соответствие\", \"который\", \"должный\", \"мочь\", \"также\"])"
   ]
  },
  {
   "cell_type": "code",
   "execution_count": 28,
   "id": "381bfc05",
   "metadata": {
    "ExecuteTime": {
     "end_time": "2022-12-14T19:19:00.567753Z",
     "start_time": "2022-12-14T19:19:00.267219Z"
    }
   },
   "outputs": [],
   "source": [
    "filtered_sentence = []\n",
    "\n",
    "for text in data.processed_text_ru.to_numpy():\n",
    "    sent = []\n",
    "    for word in text.split(' ')[0:200]:\n",
    "        if word not in stop_words:\n",
    "            sent.append(word)\n",
    "    filtered_sentence.append(' '.join(sent))"
   ]
  },
  {
   "cell_type": "code",
   "execution_count": 29,
   "id": "f457fe89",
   "metadata": {
    "ExecuteTime": {
     "end_time": "2022-12-14T19:19:22.318821Z",
     "start_time": "2022-12-14T19:19:22.293344Z"
    }
   },
   "outputs": [
    {
     "data": {
      "text/plain": [
       "Index(['Distributor', 'Promotion', 'Supply', 'Hosting', 'Joint Venture',\n",
       "       'Endorsement', 'Consulting', 'Marketing', 'Strategic Alliance',\n",
       "       'Sponsorship', 'Franchise', 'IP', 'Service', 'Agency', 'Maintenance',\n",
       "       'License', 'Collaboration', 'Reseller', 'Outsourcing', 'Co_Branding',\n",
       "       'Affiliate', 'Development', 'Manufacturing', 'Transportation',\n",
       "       'Non-Compete'],\n",
       "      dtype='object')"
      ]
     },
     "execution_count": 29,
     "metadata": {},
     "output_type": "execute_result"
    }
   ],
   "source": [
    "codes, uniques = pd.factorize(data.target)\n",
    "Y = codes\n",
    "data['codes'] = codes\n",
    "uniques"
   ]
  },
  {
   "cell_type": "code",
   "execution_count": 30,
   "id": "41b875ee",
   "metadata": {
    "ExecuteTime": {
     "end_time": "2022-12-14T19:19:28.221390Z",
     "start_time": "2022-12-14T19:19:28.207884Z"
    }
   },
   "outputs": [],
   "source": [
    "rand_state = 21"
   ]
  },
  {
   "cell_type": "code",
   "execution_count": 31,
   "id": "70f16c6a",
   "metadata": {
    "ExecuteTime": {
     "end_time": "2022-12-14T19:19:28.568221Z",
     "start_time": "2022-12-14T19:19:28.561187Z"
    }
   },
   "outputs": [],
   "source": [
    "pipe = Pipeline(steps=[('vect', CountVectorizer()),\n",
    "                        ('est', LogisticRegression())])"
   ]
  },
  {
   "cell_type": "markdown",
   "id": "69367abc",
   "metadata": {},
   "source": [
    "# Подбор модели"
   ]
  },
  {
   "cell_type": "code",
   "execution_count": 32,
   "id": "e01558ef",
   "metadata": {
    "ExecuteTime": {
     "end_time": "2022-12-14T19:19:31.752846Z",
     "start_time": "2022-12-14T19:19:31.733581Z"
    }
   },
   "outputs": [],
   "source": [
    "param_grid = [\n",
    "  {'vect': [CountVectorizer(), TfidfVectorizer()],\n",
    "   'vect__min_df': [2, 4, 6],\n",
    "   'vect__max_df': [0.9, 0.95],\n",
    "   'vect__ngram_range': [(1, 1), (1, 2)],\n",
    "   'est': [LogisticRegression()],\n",
    "   'est__C': np.logspace(-3, 2, 6),\n",
    "   'est__class_weight': [None, 'balanced'],\n",
    "   'est__random_state': [rand_state]},\n",
    "  {'vect': [CountVectorizer(), TfidfVectorizer()],\n",
    "   'vect__min_df': [2, 4, 6],\n",
    "   'vect__max_df': [0.9, 0.95],\n",
    "   'vect__ngram_range': [(1, 1), (1, 2)],\n",
    "   'est': [RandomForestClassifier(), XGBClassifier()],\n",
    "   'est__n_estimators': [100, 250, 500],\n",
    "   'est__class_weight': [None, 'balanced'],\n",
    "   'est__max_depth': [3, 5, 7]},\n",
    "  {'vect': [CountVectorizer()],\n",
    "   'vect__min_df': [2, 4, 6],\n",
    "   'vect__max_df': [0.9, 0.95],\n",
    "   'vect__ngram_range': [(1, 1), (1, 2)],\n",
    "   'est': [GaussianNB()]}\n",
    " ]\n"
   ]
  },
  {
   "cell_type": "code",
   "execution_count": 33,
   "id": "a62148be",
   "metadata": {
    "ExecuteTime": {
     "end_time": "2022-12-14T19:19:32.434750Z",
     "start_time": "2022-12-14T19:19:32.420744Z"
    }
   },
   "outputs": [],
   "source": [
    "skf = StratifiedKFold(n_splits=3,\n",
    "                      shuffle=True,\n",
    "                      random_state=rand_state)"
   ]
  },
  {
   "cell_type": "code",
   "execution_count": 34,
   "id": "4560e924",
   "metadata": {
    "ExecuteTime": {
     "end_time": "2022-12-14T19:19:35.330123Z",
     "start_time": "2022-12-14T19:19:35.318712Z"
    }
   },
   "outputs": [],
   "source": [
    "gs = GridSearchCV(estimator=pipe, param_grid=param_grid, scoring='f1_macro', n_jobs=-1, cv=skf, verbose=1, return_train_score=True)\n"
   ]
  },
  {
   "cell_type": "code",
   "execution_count": 36,
   "id": "a2e4e849",
   "metadata": {
    "ExecuteTime": {
     "end_time": "2022-12-14T19:20:07.609503Z",
     "start_time": "2022-12-14T19:20:07.601320Z"
    }
   },
   "outputs": [],
   "source": [
    "gs.fit(filtered_sentence, Y)"
   ]
  },
  {
   "cell_type": "code",
   "execution_count": 127,
   "id": "f3d48eae",
   "metadata": {
    "ExecuteTime": {
     "end_time": "2022-12-11T14:08:47.788882Z",
     "start_time": "2022-12-11T14:08:47.748229Z"
    }
   },
   "outputs": [
    {
     "data": {
      "text/html": [
       "<style>#sk-container-id-8 {color: black;background-color: white;}#sk-container-id-8 pre{padding: 0;}#sk-container-id-8 div.sk-toggleable {background-color: white;}#sk-container-id-8 label.sk-toggleable__label {cursor: pointer;display: block;width: 100%;margin-bottom: 0;padding: 0.3em;box-sizing: border-box;text-align: center;}#sk-container-id-8 label.sk-toggleable__label-arrow:before {content: \"▸\";float: left;margin-right: 0.25em;color: #696969;}#sk-container-id-8 label.sk-toggleable__label-arrow:hover:before {color: black;}#sk-container-id-8 div.sk-estimator:hover label.sk-toggleable__label-arrow:before {color: black;}#sk-container-id-8 div.sk-toggleable__content {max-height: 0;max-width: 0;overflow: hidden;text-align: left;background-color: #f0f8ff;}#sk-container-id-8 div.sk-toggleable__content pre {margin: 0.2em;color: black;border-radius: 0.25em;background-color: #f0f8ff;}#sk-container-id-8 input.sk-toggleable__control:checked~div.sk-toggleable__content {max-height: 200px;max-width: 100%;overflow: auto;}#sk-container-id-8 input.sk-toggleable__control:checked~label.sk-toggleable__label-arrow:before {content: \"▾\";}#sk-container-id-8 div.sk-estimator input.sk-toggleable__control:checked~label.sk-toggleable__label {background-color: #d4ebff;}#sk-container-id-8 div.sk-label input.sk-toggleable__control:checked~label.sk-toggleable__label {background-color: #d4ebff;}#sk-container-id-8 input.sk-hidden--visually {border: 0;clip: rect(1px 1px 1px 1px);clip: rect(1px, 1px, 1px, 1px);height: 1px;margin: -1px;overflow: hidden;padding: 0;position: absolute;width: 1px;}#sk-container-id-8 div.sk-estimator {font-family: monospace;background-color: #f0f8ff;border: 1px dotted black;border-radius: 0.25em;box-sizing: border-box;margin-bottom: 0.5em;}#sk-container-id-8 div.sk-estimator:hover {background-color: #d4ebff;}#sk-container-id-8 div.sk-parallel-item::after {content: \"\";width: 100%;border-bottom: 1px solid gray;flex-grow: 1;}#sk-container-id-8 div.sk-label:hover label.sk-toggleable__label {background-color: #d4ebff;}#sk-container-id-8 div.sk-serial::before {content: \"\";position: absolute;border-left: 1px solid gray;box-sizing: border-box;top: 0;bottom: 0;left: 50%;z-index: 0;}#sk-container-id-8 div.sk-serial {display: flex;flex-direction: column;align-items: center;background-color: white;padding-right: 0.2em;padding-left: 0.2em;position: relative;}#sk-container-id-8 div.sk-item {position: relative;z-index: 1;}#sk-container-id-8 div.sk-parallel {display: flex;align-items: stretch;justify-content: center;background-color: white;position: relative;}#sk-container-id-8 div.sk-item::before, #sk-container-id-8 div.sk-parallel-item::before {content: \"\";position: absolute;border-left: 1px solid gray;box-sizing: border-box;top: 0;bottom: 0;left: 50%;z-index: -1;}#sk-container-id-8 div.sk-parallel-item {display: flex;flex-direction: column;z-index: 1;position: relative;background-color: white;}#sk-container-id-8 div.sk-parallel-item:first-child::after {align-self: flex-end;width: 50%;}#sk-container-id-8 div.sk-parallel-item:last-child::after {align-self: flex-start;width: 50%;}#sk-container-id-8 div.sk-parallel-item:only-child::after {width: 0;}#sk-container-id-8 div.sk-dashed-wrapped {border: 1px dashed gray;margin: 0 0.4em 0.5em 0.4em;box-sizing: border-box;padding-bottom: 0.4em;background-color: white;}#sk-container-id-8 div.sk-label label {font-family: monospace;font-weight: bold;display: inline-block;line-height: 1.2em;}#sk-container-id-8 div.sk-label-container {text-align: center;}#sk-container-id-8 div.sk-container {/* jupyter's `normalize.less` sets `[hidden] { display: none; }` but bootstrap.min.css set `[hidden] { display: none !important; }` so we also need the `!important` here to be able to override the default hidden behavior on the sphinx rendered scikit-learn.org. See: https://github.com/scikit-learn/scikit-learn/issues/21755 */display: inline-block !important;position: relative;}#sk-container-id-8 div.sk-text-repr-fallback {display: none;}</style><div id=\"sk-container-id-8\" class=\"sk-top-container\"><div class=\"sk-text-repr-fallback\"><pre>Pipeline(steps=[(&#x27;vect&#x27;,\n",
       "                 CountVectorizer(max_df=0.9, min_df=2, ngram_range=(1, 2))),\n",
       "                (&#x27;est&#x27;,\n",
       "                 XGBClassifier(base_score=0.5, booster=&#x27;gbtree&#x27;, callbacks=None,\n",
       "                               class_weight=None, colsample_bylevel=1,\n",
       "                               colsample_bynode=1, colsample_bytree=1,\n",
       "                               early_stopping_rounds=None,\n",
       "                               enable_categorical=False, eval_metric=None,\n",
       "                               feature_types=None, gamma=0, gpu_id=-1,\n",
       "                               grow_policy=&#x27;depthwise&#x27;, importance_type=None,\n",
       "                               interaction_constraints=&#x27;&#x27;,\n",
       "                               learning_rate=0.300000012, max_bin=256,\n",
       "                               max_cat_threshold=64, max_cat_to_onehot=4,\n",
       "                               max_delta_step=0, max_depth=7, max_leaves=0,\n",
       "                               min_child_weight=1, missing=nan,\n",
       "                               monotone_constraints=&#x27;()&#x27;, n_estimators=100,\n",
       "                               n_jobs=0, num_parallel_tree=1,\n",
       "                               objective=&#x27;multi:softprob&#x27;, ...))])</pre><b>In a Jupyter environment, please rerun this cell to show the HTML representation or trust the notebook. <br />On GitHub, the HTML representation is unable to render, please try loading this page with nbviewer.org.</b></div><div class=\"sk-container\" hidden><div class=\"sk-item sk-dashed-wrapped\"><div class=\"sk-label-container\"><div class=\"sk-label sk-toggleable\"><input class=\"sk-toggleable__control sk-hidden--visually\" id=\"sk-estimator-id-14\" type=\"checkbox\" ><label for=\"sk-estimator-id-14\" class=\"sk-toggleable__label sk-toggleable__label-arrow\">Pipeline</label><div class=\"sk-toggleable__content\"><pre>Pipeline(steps=[(&#x27;vect&#x27;,\n",
       "                 CountVectorizer(max_df=0.9, min_df=2, ngram_range=(1, 2))),\n",
       "                (&#x27;est&#x27;,\n",
       "                 XGBClassifier(base_score=0.5, booster=&#x27;gbtree&#x27;, callbacks=None,\n",
       "                               class_weight=None, colsample_bylevel=1,\n",
       "                               colsample_bynode=1, colsample_bytree=1,\n",
       "                               early_stopping_rounds=None,\n",
       "                               enable_categorical=False, eval_metric=None,\n",
       "                               feature_types=None, gamma=0, gpu_id=-1,\n",
       "                               grow_policy=&#x27;depthwise&#x27;, importance_type=None,\n",
       "                               interaction_constraints=&#x27;&#x27;,\n",
       "                               learning_rate=0.300000012, max_bin=256,\n",
       "                               max_cat_threshold=64, max_cat_to_onehot=4,\n",
       "                               max_delta_step=0, max_depth=7, max_leaves=0,\n",
       "                               min_child_weight=1, missing=nan,\n",
       "                               monotone_constraints=&#x27;()&#x27;, n_estimators=100,\n",
       "                               n_jobs=0, num_parallel_tree=1,\n",
       "                               objective=&#x27;multi:softprob&#x27;, ...))])</pre></div></div></div><div class=\"sk-serial\"><div class=\"sk-item\"><div class=\"sk-estimator sk-toggleable\"><input class=\"sk-toggleable__control sk-hidden--visually\" id=\"sk-estimator-id-15\" type=\"checkbox\" ><label for=\"sk-estimator-id-15\" class=\"sk-toggleable__label sk-toggleable__label-arrow\">CountVectorizer</label><div class=\"sk-toggleable__content\"><pre>CountVectorizer(max_df=0.9, min_df=2, ngram_range=(1, 2))</pre></div></div></div><div class=\"sk-item\"><div class=\"sk-estimator sk-toggleable\"><input class=\"sk-toggleable__control sk-hidden--visually\" id=\"sk-estimator-id-16\" type=\"checkbox\" ><label for=\"sk-estimator-id-16\" class=\"sk-toggleable__label sk-toggleable__label-arrow\">XGBClassifier</label><div class=\"sk-toggleable__content\"><pre>XGBClassifier(base_score=0.5, booster=&#x27;gbtree&#x27;, callbacks=None,\n",
       "              class_weight=None, colsample_bylevel=1, colsample_bynode=1,\n",
       "              colsample_bytree=1, early_stopping_rounds=None,\n",
       "              enable_categorical=False, eval_metric=None, feature_types=None,\n",
       "              gamma=0, gpu_id=-1, grow_policy=&#x27;depthwise&#x27;, importance_type=None,\n",
       "              interaction_constraints=&#x27;&#x27;, learning_rate=0.300000012,\n",
       "              max_bin=256, max_cat_threshold=64, max_cat_to_onehot=4,\n",
       "              max_delta_step=0, max_depth=7, max_leaves=0, min_child_weight=1,\n",
       "              missing=nan, monotone_constraints=&#x27;()&#x27;, n_estimators=100,\n",
       "              n_jobs=0, num_parallel_tree=1, objective=&#x27;multi:softprob&#x27;, ...)</pre></div></div></div></div></div></div></div>"
      ],
      "text/plain": [
       "Pipeline(steps=[('vect',\n",
       "                 CountVectorizer(max_df=0.9, min_df=2, ngram_range=(1, 2))),\n",
       "                ('est',\n",
       "                 XGBClassifier(base_score=0.5, booster='gbtree', callbacks=None,\n",
       "                               class_weight=None, colsample_bylevel=1,\n",
       "                               colsample_bynode=1, colsample_bytree=1,\n",
       "                               early_stopping_rounds=None,\n",
       "                               enable_categorical=False, eval_metric=None,\n",
       "                               feature_types=None, gamma=0, gpu_id=-1,\n",
       "                               grow_policy='depthwise', importance_type=None,\n",
       "                               interaction_constraints='',\n",
       "                               learning_rate=0.300000012, max_bin=256,\n",
       "                               max_cat_threshold=64, max_cat_to_onehot=4,\n",
       "                               max_delta_step=0, max_depth=7, max_leaves=0,\n",
       "                               min_child_weight=1, missing=nan,\n",
       "                               monotone_constraints='()', n_estimators=100,\n",
       "                               n_jobs=0, num_parallel_tree=1,\n",
       "                               objective='multi:softprob', ...))])"
      ]
     },
     "execution_count": 127,
     "metadata": {},
     "output_type": "execute_result"
    }
   ],
   "source": [
    "gs.best_estimator_"
   ]
  },
  {
   "cell_type": "code",
   "execution_count": 210,
   "id": "35f24b9d",
   "metadata": {
    "ExecuteTime": {
     "end_time": "2022-12-11T17:04:18.126755Z",
     "start_time": "2022-12-11T17:04:18.101796Z"
    }
   },
   "outputs": [
    {
     "data": {
      "text/plain": [
       "{'est': XGBClassifier(base_score=None, booster=None, callbacks=None, class_weight=None,\n",
       "               colsample_bylevel=None, colsample_bynode=None,\n",
       "               colsample_bytree=None, early_stopping_rounds=None,\n",
       "               enable_categorical=False, eval_metric=None, feature_types=None,\n",
       "               gamma=None, gpu_id=None, grow_policy=None, importance_type=None,\n",
       "               interaction_constraints=None, learning_rate=None, max_bin=None,\n",
       "               max_cat_threshold=None, max_cat_to_onehot=None,\n",
       "               max_delta_step=None, max_depth=7, max_leaves=None,\n",
       "               min_child_weight=None, missing=nan, monotone_constraints=None,\n",
       "               n_estimators=100, n_jobs=None, num_parallel_tree=None,\n",
       "               predictor=None, ...),\n",
       " 'est__class_weight': None,\n",
       " 'est__max_depth': 7,\n",
       " 'est__n_estimators': 100,\n",
       " 'vect': CountVectorizer(max_df=0.9, min_df=2, ngram_range=(1, 2)),\n",
       " 'vect__max_df': 0.9,\n",
       " 'vect__min_df': 2,\n",
       " 'vect__ngram_range': (1, 2)}"
      ]
     },
     "execution_count": 210,
     "metadata": {},
     "output_type": "execute_result"
    }
   ],
   "source": [
    "gs.best_params_"
   ]
  },
  {
   "cell_type": "code",
   "execution_count": 129,
   "id": "b49e8fed",
   "metadata": {
    "ExecuteTime": {
     "end_time": "2022-12-11T14:09:10.581778Z",
     "start_time": "2022-12-11T14:09:10.572719Z"
    }
   },
   "outputs": [
    {
     "data": {
      "text/plain": [
       "0.7779524256522506"
      ]
     },
     "execution_count": 129,
     "metadata": {},
     "output_type": "execute_result"
    }
   ],
   "source": [
    "gs.best_score_"
   ]
  },
  {
   "cell_type": "code",
   "execution_count": 613,
   "id": "acdf5034",
   "metadata": {
    "ExecuteTime": {
     "end_time": "2022-12-12T16:51:26.876161Z",
     "start_time": "2022-12-12T16:51:26.855617Z"
    }
   },
   "outputs": [],
   "source": [
    "df = pd.DataFrame(gs.cv_results_).sort_values('mean_test_score', ascending=False)"
   ]
  },
  {
   "cell_type": "markdown",
   "id": "af6b758b",
   "metadata": {},
   "source": [
    "# Подбор параметров модели для снижения переобучения"
   ]
  },
  {
   "cell_type": "code",
   "execution_count": 37,
   "id": "858a25c5",
   "metadata": {
    "ExecuteTime": {
     "end_time": "2022-12-14T19:20:52.146991Z",
     "start_time": "2022-12-14T19:20:52.130975Z"
    }
   },
   "outputs": [],
   "source": [
    "\n",
    "param_grid_RF = [\n",
    "  {'vect': [CountVectorizer()],\n",
    "   'vect__min_df': [1],\n",
    "   'vect__max_df': [0.85],\n",
    "   'vect__ngram_range': [(1, 2), (1, 1)],\n",
    "   'est': [RandomForestClassifier()],\n",
    "   'est__n_estimators': [400, 500, 600],\n",
    "   'est__class_weight': ['balanced'],\n",
    "   'est__max_depth': [3, 4],\n",
    "   'est__random_state': [rand_state],\n",
    "   'est__min_samples_leaf': [2, 3],\n",
    "   }\n",
    " ]\n"
   ]
  },
  {
   "cell_type": "code",
   "execution_count": 38,
   "id": "a10c0fce",
   "metadata": {
    "ExecuteTime": {
     "end_time": "2022-12-14T19:20:53.418592Z",
     "start_time": "2022-12-14T19:20:53.405592Z"
    }
   },
   "outputs": [],
   "source": [
    "gs_RF = GridSearchCV(estimator=pipe, param_grid=param_grid_RF, scoring='f1_macro', n_jobs=-1, cv=skf, verbose=2, return_train_score=True)\n"
   ]
  },
  {
   "cell_type": "code",
   "execution_count": 39,
   "id": "9535bca5",
   "metadata": {
    "ExecuteTime": {
     "end_time": "2022-12-14T19:21:14.482826Z",
     "start_time": "2022-12-14T19:20:54.725474Z"
    }
   },
   "outputs": [
    {
     "name": "stdout",
     "output_type": "stream",
     "text": [
      "Fitting 3 folds for each of 24 candidates, totalling 72 fits\n"
     ]
    },
    {
     "data": {
      "text/html": [
       "<style>#sk-container-id-1 {color: black;background-color: white;}#sk-container-id-1 pre{padding: 0;}#sk-container-id-1 div.sk-toggleable {background-color: white;}#sk-container-id-1 label.sk-toggleable__label {cursor: pointer;display: block;width: 100%;margin-bottom: 0;padding: 0.3em;box-sizing: border-box;text-align: center;}#sk-container-id-1 label.sk-toggleable__label-arrow:before {content: \"▸\";float: left;margin-right: 0.25em;color: #696969;}#sk-container-id-1 label.sk-toggleable__label-arrow:hover:before {color: black;}#sk-container-id-1 div.sk-estimator:hover label.sk-toggleable__label-arrow:before {color: black;}#sk-container-id-1 div.sk-toggleable__content {max-height: 0;max-width: 0;overflow: hidden;text-align: left;background-color: #f0f8ff;}#sk-container-id-1 div.sk-toggleable__content pre {margin: 0.2em;color: black;border-radius: 0.25em;background-color: #f0f8ff;}#sk-container-id-1 input.sk-toggleable__control:checked~div.sk-toggleable__content {max-height: 200px;max-width: 100%;overflow: auto;}#sk-container-id-1 input.sk-toggleable__control:checked~label.sk-toggleable__label-arrow:before {content: \"▾\";}#sk-container-id-1 div.sk-estimator input.sk-toggleable__control:checked~label.sk-toggleable__label {background-color: #d4ebff;}#sk-container-id-1 div.sk-label input.sk-toggleable__control:checked~label.sk-toggleable__label {background-color: #d4ebff;}#sk-container-id-1 input.sk-hidden--visually {border: 0;clip: rect(1px 1px 1px 1px);clip: rect(1px, 1px, 1px, 1px);height: 1px;margin: -1px;overflow: hidden;padding: 0;position: absolute;width: 1px;}#sk-container-id-1 div.sk-estimator {font-family: monospace;background-color: #f0f8ff;border: 1px dotted black;border-radius: 0.25em;box-sizing: border-box;margin-bottom: 0.5em;}#sk-container-id-1 div.sk-estimator:hover {background-color: #d4ebff;}#sk-container-id-1 div.sk-parallel-item::after {content: \"\";width: 100%;border-bottom: 1px solid gray;flex-grow: 1;}#sk-container-id-1 div.sk-label:hover label.sk-toggleable__label {background-color: #d4ebff;}#sk-container-id-1 div.sk-serial::before {content: \"\";position: absolute;border-left: 1px solid gray;box-sizing: border-box;top: 0;bottom: 0;left: 50%;z-index: 0;}#sk-container-id-1 div.sk-serial {display: flex;flex-direction: column;align-items: center;background-color: white;padding-right: 0.2em;padding-left: 0.2em;position: relative;}#sk-container-id-1 div.sk-item {position: relative;z-index: 1;}#sk-container-id-1 div.sk-parallel {display: flex;align-items: stretch;justify-content: center;background-color: white;position: relative;}#sk-container-id-1 div.sk-item::before, #sk-container-id-1 div.sk-parallel-item::before {content: \"\";position: absolute;border-left: 1px solid gray;box-sizing: border-box;top: 0;bottom: 0;left: 50%;z-index: -1;}#sk-container-id-1 div.sk-parallel-item {display: flex;flex-direction: column;z-index: 1;position: relative;background-color: white;}#sk-container-id-1 div.sk-parallel-item:first-child::after {align-self: flex-end;width: 50%;}#sk-container-id-1 div.sk-parallel-item:last-child::after {align-self: flex-start;width: 50%;}#sk-container-id-1 div.sk-parallel-item:only-child::after {width: 0;}#sk-container-id-1 div.sk-dashed-wrapped {border: 1px dashed gray;margin: 0 0.4em 0.5em 0.4em;box-sizing: border-box;padding-bottom: 0.4em;background-color: white;}#sk-container-id-1 div.sk-label label {font-family: monospace;font-weight: bold;display: inline-block;line-height: 1.2em;}#sk-container-id-1 div.sk-label-container {text-align: center;}#sk-container-id-1 div.sk-container {/* jupyter's `normalize.less` sets `[hidden] { display: none; }` but bootstrap.min.css set `[hidden] { display: none !important; }` so we also need the `!important` here to be able to override the default hidden behavior on the sphinx rendered scikit-learn.org. See: https://github.com/scikit-learn/scikit-learn/issues/21755 */display: inline-block !important;position: relative;}#sk-container-id-1 div.sk-text-repr-fallback {display: none;}</style><div id=\"sk-container-id-1\" class=\"sk-top-container\"><div class=\"sk-text-repr-fallback\"><pre>GridSearchCV(cv=StratifiedKFold(n_splits=3, random_state=21, shuffle=True),\n",
       "             estimator=Pipeline(steps=[(&#x27;vect&#x27;, CountVectorizer()),\n",
       "                                       (&#x27;est&#x27;, LogisticRegression())]),\n",
       "             n_jobs=-1,\n",
       "             param_grid=[{&#x27;est&#x27;: [RandomForestClassifier(class_weight=&#x27;balanced&#x27;,\n",
       "                                                         max_depth=3,\n",
       "                                                         min_samples_leaf=2,\n",
       "                                                         n_estimators=600,\n",
       "                                                         random_state=21)],\n",
       "                          &#x27;est__class_weight&#x27;: [&#x27;balanced&#x27;],\n",
       "                          &#x27;est__max_depth&#x27;: [3, 4],\n",
       "                          &#x27;est__min_samples_leaf&#x27;: [2, 3],\n",
       "                          &#x27;est__n_estimators&#x27;: [400, 500, 600],\n",
       "                          &#x27;est__random_state&#x27;: [21],\n",
       "                          &#x27;vect&#x27;: [CountVectorizer(max_df=0.85,\n",
       "                                                   ngram_range=(1, 2))],\n",
       "                          &#x27;vect__max_df&#x27;: [0.85], &#x27;vect__min_df&#x27;: [1],\n",
       "                          &#x27;vect__ngram_range&#x27;: [(1, 2), (1, 1)]}],\n",
       "             return_train_score=True, scoring=&#x27;f1_macro&#x27;, verbose=2)</pre><b>In a Jupyter environment, please rerun this cell to show the HTML representation or trust the notebook. <br />On GitHub, the HTML representation is unable to render, please try loading this page with nbviewer.org.</b></div><div class=\"sk-container\" hidden><div class=\"sk-item sk-dashed-wrapped\"><div class=\"sk-label-container\"><div class=\"sk-label sk-toggleable\"><input class=\"sk-toggleable__control sk-hidden--visually\" id=\"sk-estimator-id-1\" type=\"checkbox\" ><label for=\"sk-estimator-id-1\" class=\"sk-toggleable__label sk-toggleable__label-arrow\">GridSearchCV</label><div class=\"sk-toggleable__content\"><pre>GridSearchCV(cv=StratifiedKFold(n_splits=3, random_state=21, shuffle=True),\n",
       "             estimator=Pipeline(steps=[(&#x27;vect&#x27;, CountVectorizer()),\n",
       "                                       (&#x27;est&#x27;, LogisticRegression())]),\n",
       "             n_jobs=-1,\n",
       "             param_grid=[{&#x27;est&#x27;: [RandomForestClassifier(class_weight=&#x27;balanced&#x27;,\n",
       "                                                         max_depth=3,\n",
       "                                                         min_samples_leaf=2,\n",
       "                                                         n_estimators=600,\n",
       "                                                         random_state=21)],\n",
       "                          &#x27;est__class_weight&#x27;: [&#x27;balanced&#x27;],\n",
       "                          &#x27;est__max_depth&#x27;: [3, 4],\n",
       "                          &#x27;est__min_samples_leaf&#x27;: [2, 3],\n",
       "                          &#x27;est__n_estimators&#x27;: [400, 500, 600],\n",
       "                          &#x27;est__random_state&#x27;: [21],\n",
       "                          &#x27;vect&#x27;: [CountVectorizer(max_df=0.85,\n",
       "                                                   ngram_range=(1, 2))],\n",
       "                          &#x27;vect__max_df&#x27;: [0.85], &#x27;vect__min_df&#x27;: [1],\n",
       "                          &#x27;vect__ngram_range&#x27;: [(1, 2), (1, 1)]}],\n",
       "             return_train_score=True, scoring=&#x27;f1_macro&#x27;, verbose=2)</pre></div></div></div><div class=\"sk-parallel\"><div class=\"sk-parallel-item\"><div class=\"sk-item\"><div class=\"sk-label-container\"><div class=\"sk-label sk-toggleable\"><input class=\"sk-toggleable__control sk-hidden--visually\" id=\"sk-estimator-id-2\" type=\"checkbox\" ><label for=\"sk-estimator-id-2\" class=\"sk-toggleable__label sk-toggleable__label-arrow\">estimator: Pipeline</label><div class=\"sk-toggleable__content\"><pre>Pipeline(steps=[(&#x27;vect&#x27;, CountVectorizer()), (&#x27;est&#x27;, LogisticRegression())])</pre></div></div></div><div class=\"sk-serial\"><div class=\"sk-item\"><div class=\"sk-serial\"><div class=\"sk-item\"><div class=\"sk-estimator sk-toggleable\"><input class=\"sk-toggleable__control sk-hidden--visually\" id=\"sk-estimator-id-3\" type=\"checkbox\" ><label for=\"sk-estimator-id-3\" class=\"sk-toggleable__label sk-toggleable__label-arrow\">CountVectorizer</label><div class=\"sk-toggleable__content\"><pre>CountVectorizer()</pre></div></div></div><div class=\"sk-item\"><div class=\"sk-estimator sk-toggleable\"><input class=\"sk-toggleable__control sk-hidden--visually\" id=\"sk-estimator-id-4\" type=\"checkbox\" ><label for=\"sk-estimator-id-4\" class=\"sk-toggleable__label sk-toggleable__label-arrow\">LogisticRegression</label><div class=\"sk-toggleable__content\"><pre>LogisticRegression()</pre></div></div></div></div></div></div></div></div></div></div></div></div>"
      ],
      "text/plain": [
       "GridSearchCV(cv=StratifiedKFold(n_splits=3, random_state=21, shuffle=True),\n",
       "             estimator=Pipeline(steps=[('vect', CountVectorizer()),\n",
       "                                       ('est', LogisticRegression())]),\n",
       "             n_jobs=-1,\n",
       "             param_grid=[{'est': [RandomForestClassifier(class_weight='balanced',\n",
       "                                                         max_depth=3,\n",
       "                                                         min_samples_leaf=2,\n",
       "                                                         n_estimators=600,\n",
       "                                                         random_state=21)],\n",
       "                          'est__class_weight': ['balanced'],\n",
       "                          'est__max_depth': [3, 4],\n",
       "                          'est__min_samples_leaf': [2, 3],\n",
       "                          'est__n_estimators': [400, 500, 600],\n",
       "                          'est__random_state': [21],\n",
       "                          'vect': [CountVectorizer(max_df=0.85,\n",
       "                                                   ngram_range=(1, 2))],\n",
       "                          'vect__max_df': [0.85], 'vect__min_df': [1],\n",
       "                          'vect__ngram_range': [(1, 2), (1, 1)]}],\n",
       "             return_train_score=True, scoring='f1_macro', verbose=2)"
      ]
     },
     "execution_count": 39,
     "metadata": {},
     "output_type": "execute_result"
    }
   ],
   "source": [
    "gs_RF.fit(filtered_sentence, Y)"
   ]
  },
  {
   "cell_type": "code",
   "execution_count": 41,
   "id": "cf041743",
   "metadata": {
    "ExecuteTime": {
     "end_time": "2022-12-14T19:21:23.529739Z",
     "start_time": "2022-12-14T19:21:23.508343Z"
    }
   },
   "outputs": [],
   "source": [
    "df_RF = pd.DataFrame(gs_RF.cv_results_).sort_values('mean_test_score', ascending=False)"
   ]
  },
  {
   "cell_type": "code",
   "execution_count": 53,
   "id": "69d99b10",
   "metadata": {
    "ExecuteTime": {
     "end_time": "2022-12-14T19:25:58.150793Z",
     "start_time": "2022-12-14T19:25:58.119258Z"
    }
   },
   "outputs": [
    {
     "data": {
      "text/plain": [
       "0.21578778999708897"
      ]
     },
     "execution_count": 53,
     "metadata": {},
     "output_type": "execute_result"
    }
   ],
   "source": [
    "overfitting_rate = (df_RF.iloc[0]['mean_train_score'] - df_RF.iloc[0]['mean_test_score']) / df_RF.iloc[0]['mean_train_score']\n",
    "overfitting_rate"
   ]
  },
  {
   "cell_type": "code",
   "execution_count": 46,
   "id": "7fe9c74e",
   "metadata": {
    "ExecuteTime": {
     "end_time": "2022-12-14T19:21:45.464752Z",
     "start_time": "2022-12-14T19:21:45.449761Z"
    }
   },
   "outputs": [
    {
     "data": {
      "text/plain": [
       "0.7292695377539906"
      ]
     },
     "execution_count": 46,
     "metadata": {},
     "output_type": "execute_result"
    }
   ],
   "source": [
    "gs_RF.best_score_"
   ]
  },
  {
   "cell_type": "code",
   "execution_count": 47,
   "id": "6ff62171",
   "metadata": {
    "ExecuteTime": {
     "end_time": "2022-12-14T19:21:55.466730Z",
     "start_time": "2022-12-14T19:21:55.446511Z"
    }
   },
   "outputs": [
    {
     "data": {
      "text/plain": [
       "{'est': RandomForestClassifier(class_weight='balanced', max_depth=3, min_samples_leaf=2,\n",
       "                        n_estimators=600, random_state=21),\n",
       " 'est__class_weight': 'balanced',\n",
       " 'est__max_depth': 3,\n",
       " 'est__min_samples_leaf': 2,\n",
       " 'est__n_estimators': 600,\n",
       " 'est__random_state': 21,\n",
       " 'vect': CountVectorizer(max_df=0.85, ngram_range=(1, 2)),\n",
       " 'vect__max_df': 0.85,\n",
       " 'vect__min_df': 1,\n",
       " 'vect__ngram_range': (1, 2)}"
      ]
     },
     "execution_count": 47,
     "metadata": {},
     "output_type": "execute_result"
    }
   ],
   "source": [
    "gs_RF.best_params_"
   ]
  },
  {
   "cell_type": "code",
   "execution_count": 49,
   "id": "7bfd9bc5",
   "metadata": {
    "ExecuteTime": {
     "end_time": "2022-12-14T19:22:15.383913Z",
     "start_time": "2022-12-14T19:22:15.130757Z"
    }
   },
   "outputs": [
    {
     "data": {
      "text/plain": [
       "array(['транспортный услуга', 'хостинг', 'сотрудничество',\n",
       "       'договор поставка', 'альянс', 'собственность', 'торговый',\n",
       "       'неконкуренция', 'транспортировка', 'дистрибьюторский',\n",
       "       'торговый посредник', 'спонсорский', 'спонсорский спонсорский',\n",
       "       'посредник', 'перевозчик', 'аутсорсинг', 'дистрибьютор',\n",
       "       'интеллектуальный', 'консультант консультант',\n",
       "       'альянс стратегический', 'стратегический альянс', 'подтверждение',\n",
       "       'услуга', 'обслуживание', 'спонсор', 'консультант предоставлять',\n",
       "       'франчайзинговый', 'стратегический', 'приложение совместный',\n",
       "       'альянс заключить', 'внимание грузоотправитель', 'поправка иметь',\n",
       "       'агентский', 'приложение спонсорский', 'остров', 'спонсорство',\n",
       "       'дистрибьюторский заключить', 'консультационный', 'дочерний',\n",
       "       'коммерческий предприятие', 'партнёрский', 'франшиза',\n",
       "       'консультант нести', 'консультант соглашаться',\n",
       "       'поставка заключить', 'договор франшиза', 'кобрендинг',\n",
       "       'консультант желать', 'интеллектуальный собственность',\n",
       "       'сотрудничество сотрудничество'], dtype=object)"
      ]
     },
     "execution_count": 49,
     "metadata": {},
     "output_type": "execute_result"
    }
   ],
   "source": [
    "fi = gs_RF.best_estimator_['est'].feature_importances_\n",
    "f_v = gs_RF.best_estimator_['vect'].get_feature_names_out()\n",
    "f_v[np.argsort(fi)[::-1]][0:50]"
   ]
  },
  {
   "cell_type": "code",
   "execution_count": 51,
   "id": "d397c151",
   "metadata": {
    "ExecuteTime": {
     "end_time": "2022-12-14T19:22:41.749998Z",
     "start_time": "2022-12-14T19:22:41.436904Z"
    },
    "scrolled": true
   },
   "outputs": [
    {
     "name": "stdout",
     "output_type": "stream",
     "text": [
      "              precision    recall  f1-score   support\n",
      "\n",
      "           0       0.84      0.97      0.90        32\n",
      "           1       1.00      0.75      0.86        12\n",
      "           2       0.95      1.00      0.97        18\n",
      "           3       0.91      1.00      0.95        20\n",
      "           4       0.91      0.91      0.91        23\n",
      "           5       0.85      0.96      0.90        24\n",
      "           6       0.69      1.00      0.81        11\n",
      "           7       1.00      0.53      0.69        17\n",
      "           8       0.97      1.00      0.98        32\n",
      "           9       0.89      1.00      0.94        31\n",
      "          10       0.88      1.00      0.94        15\n",
      "          11       0.81      1.00      0.89        17\n",
      "          12       0.89      0.57      0.70        28\n",
      "          13       0.93      1.00      0.96        13\n",
      "          14       0.88      0.85      0.87        34\n",
      "          15       0.90      0.82      0.86        33\n",
      "          16       0.93      0.96      0.94        26\n",
      "          17       0.92      1.00      0.96        12\n",
      "          18       1.00      1.00      1.00        18\n",
      "          19       0.95      0.95      0.95        22\n",
      "          20       1.00      1.00      1.00        10\n",
      "          21       0.91      0.69      0.78        29\n",
      "          22       1.00      1.00      1.00        17\n",
      "          23       0.87      1.00      0.93        13\n",
      "          24       1.00      1.00      1.00         3\n",
      "\n",
      "    accuracy                           0.90       510\n",
      "   macro avg       0.91      0.92      0.91       510\n",
      "weighted avg       0.91      0.90      0.90       510\n",
      "\n"
     ]
    }
   ],
   "source": [
    "print(metrics.classification_report(Y, gs_RF.predict(filtered_sentence)))"
   ]
  },
  {
   "cell_type": "code",
   "execution_count": 52,
   "id": "22368e02",
   "metadata": {
    "ExecuteTime": {
     "end_time": "2022-12-14T19:23:03.624770Z",
     "start_time": "2022-12-14T19:22:59.873291Z"
    },
    "scrolled": true
   },
   "outputs": [
    {
     "name": "stdout",
     "output_type": "stream",
     "text": [
      "              precision    recall  f1-score   support\n",
      "\n",
      "           0       0.90      0.82      0.86        11\n",
      "           1       1.00      0.50      0.67         4\n",
      "           2       0.62      0.83      0.71         6\n",
      "           3       0.75      0.86      0.80         7\n",
      "           4       0.78      1.00      0.88         7\n",
      "           5       0.80      1.00      0.89         8\n",
      "           6       0.80      1.00      0.89         4\n",
      "           7       1.00      0.17      0.29         6\n",
      "           8       0.71      1.00      0.83        10\n",
      "           9       0.85      1.00      0.92        11\n",
      "          10       0.83      1.00      0.91         5\n",
      "          11       0.56      1.00      0.71         5\n",
      "          12       0.50      0.20      0.29        10\n",
      "          13       0.80      1.00      0.89         4\n",
      "          14       0.75      0.55      0.63        11\n",
      "          15       0.89      0.73      0.80        11\n",
      "          16       0.73      0.89      0.80         9\n",
      "          17       0.40      0.50      0.44         4\n",
      "          18       0.62      0.83      0.71         6\n",
      "          19       1.00      0.86      0.92         7\n",
      "          20       0.50      0.50      0.50         4\n",
      "          21       1.00      0.56      0.71         9\n",
      "          22       0.83      0.83      0.83         6\n",
      "          23       1.00      1.00      1.00         4\n",
      "          24       0.00      0.00      0.00         1\n",
      "\n",
      "    accuracy                           0.76       170\n",
      "   macro avg       0.75      0.74      0.72       170\n",
      "weighted avg       0.78      0.76      0.74       170\n",
      "\n",
      "              precision    recall  f1-score   support\n",
      "\n",
      "           0       0.83      0.91      0.87        11\n",
      "           1       0.00      0.00      0.00         4\n",
      "           2       0.46      1.00      0.63         6\n",
      "           3       0.71      0.83      0.77         6\n",
      "           4       0.86      0.75      0.80         8\n",
      "           5       0.80      1.00      0.89         8\n",
      "           6       0.67      1.00      0.80         4\n",
      "           7       0.00      0.00      0.00         5\n",
      "           8       0.92      1.00      0.96        11\n",
      "           9       0.77      1.00      0.87        10\n",
      "          10       1.00      1.00      1.00         5\n",
      "          11       1.00      1.00      1.00         6\n",
      "          12       0.75      0.33      0.46         9\n",
      "          13       0.83      1.00      0.91         5\n",
      "          14       0.88      0.64      0.74        11\n",
      "          15       1.00      0.73      0.84        11\n",
      "          16       0.80      0.89      0.84         9\n",
      "          17       1.00      0.75      0.86         4\n",
      "          18       1.00      1.00      1.00         6\n",
      "          19       0.88      1.00      0.93         7\n",
      "          20       1.00      1.00      1.00         3\n",
      "          21       0.58      0.70      0.64        10\n",
      "          22       0.33      0.17      0.22         6\n",
      "          23       1.00      1.00      1.00         4\n",
      "          24       0.00      0.00      0.00         1\n",
      "\n",
      "    accuracy                           0.78       170\n",
      "   macro avg       0.72      0.75      0.72       170\n",
      "weighted avg       0.77      0.78      0.76       170\n",
      "\n",
      "              precision    recall  f1-score   support\n",
      "\n",
      "           0       0.78      0.70      0.74        10\n",
      "           1       1.00      0.25      0.40         4\n",
      "           2       0.50      1.00      0.67         6\n",
      "           3       0.86      0.86      0.86         7\n",
      "           4       0.88      0.88      0.88         8\n",
      "           5       0.70      0.88      0.78         8\n",
      "           6       0.27      1.00      0.43         3\n",
      "           7       0.00      0.00      0.00         6\n",
      "           8       1.00      1.00      1.00        11\n",
      "           9       0.91      1.00      0.95        10\n",
      "          10       1.00      1.00      1.00         5\n",
      "          11       0.42      0.83      0.56         6\n",
      "          12       0.50      0.22      0.31         9\n",
      "          13       0.80      1.00      0.89         4\n",
      "          14       1.00      0.83      0.91        12\n",
      "          15       0.73      0.73      0.73        11\n",
      "          16       0.89      1.00      0.94         8\n",
      "          17       1.00      1.00      1.00         4\n",
      "          18       0.86      1.00      0.92         6\n",
      "          19       1.00      1.00      1.00         8\n",
      "          20       1.00      0.33      0.50         3\n",
      "          21       1.00      0.40      0.57        10\n",
      "          22       0.67      0.40      0.50         5\n",
      "          23       0.83      1.00      0.91         5\n",
      "          24       0.00      0.00      0.00         1\n",
      "\n",
      "    accuracy                           0.76       170\n",
      "   macro avg       0.74      0.73      0.70       170\n",
      "weighted avg       0.79      0.76      0.75       170\n",
      "\n"
     ]
    }
   ],
   "source": [
    "for train_index, test_index in skf.split(filtered_sentence, Y):\n",
    "    X_train = np.array(filtered_sentence)[train_index]\n",
    "    y_train = Y[train_index]\n",
    "    \n",
    "    X_test = np.array(filtered_sentence)[test_index]\n",
    "    y_test = Y[test_index]\n",
    "    \n",
    "    model = Pipeline([('vect', CountVectorizer(max_df=0.85, ngram_range=(1, 2))), \n",
    "                      ('est', RandomForestClassifier(class_weight='balanced', max_depth=4, min_samples_leaf=2,\n",
    "                        n_estimators=600, random_state=21))])\n",
    "    \n",
    "    model.fit(X_train, y_train)\n",
    "    y_pred = model.predict(X_test)\n",
    "    \n",
    "    print(metrics.classification_report(y_test, y_pred))"
   ]
  },
  {
   "cell_type": "markdown",
   "id": "7606d6a1",
   "metadata": {},
   "source": [
    "# Обучение и выгрузка итоговой модели"
   ]
  },
  {
   "cell_type": "code",
   "execution_count": 16,
   "id": "2971f92f",
   "metadata": {
    "ExecuteTime": {
     "end_time": "2022-12-14T19:06:09.366009Z",
     "start_time": "2022-12-14T19:06:07.758469Z"
    }
   },
   "outputs": [
    {
     "name": "stdout",
     "output_type": "stream",
     "text": [
      "              precision    recall  f1-score   support\n",
      "\n",
      "           0       0.86      0.94      0.90        32\n",
      "           1       0.90      0.75      0.82        12\n",
      "           2       1.00      1.00      1.00        18\n",
      "           3       0.91      1.00      0.95        20\n",
      "           4       0.96      0.96      0.96        23\n",
      "           5       0.81      0.92      0.86        24\n",
      "           6       0.73      1.00      0.85        11\n",
      "           7       1.00      0.71      0.83        17\n",
      "           8       0.94      1.00      0.97        32\n",
      "           9       0.91      1.00      0.95        31\n",
      "          10       0.94      1.00      0.97        15\n",
      "          11       0.77      1.00      0.87        17\n",
      "          12       0.90      0.68      0.78        28\n",
      "          13       0.93      1.00      0.96        13\n",
      "          14       0.94      0.91      0.93        34\n",
      "          15       0.93      0.85      0.89        33\n",
      "          16       1.00      0.96      0.98        26\n",
      "          17       0.92      1.00      0.96        12\n",
      "          18       1.00      1.00      1.00        18\n",
      "          19       0.95      0.95      0.95        22\n",
      "          20       1.00      1.00      1.00        10\n",
      "          21       0.95      0.72      0.82        29\n",
      "          22       1.00      1.00      1.00        17\n",
      "          23       0.93      1.00      0.96        13\n",
      "          24       1.00      1.00      1.00         3\n",
      "\n",
      "    accuracy                           0.92       510\n",
      "   macro avg       0.93      0.93      0.93       510\n",
      "weighted avg       0.93      0.92      0.92       510\n",
      "\n"
     ]
    }
   ],
   "source": [
    "X_train = filtered_sentence\n",
    "y_train = Y\n",
    "\n",
    "model = Pipeline([('vect', CountVectorizer(max_df=0.85, ngram_range=(1, 2))), \n",
    "                  ('est', RandomForestClassifier(class_weight='balanced', max_depth=4, min_samples_leaf=2,\n",
    "                    n_estimators=600, random_state=21))])\n",
    "\n",
    "model.fit(X_train, y_train)\n",
    "y_pred = model.predict(X_train)\n",
    "\n",
    "print(metrics.classification_report(y_train, y_pred))"
   ]
  },
  {
   "cell_type": "code",
   "execution_count": 54,
   "id": "0196b2cd",
   "metadata": {
    "ExecuteTime": {
     "end_time": "2022-12-14T19:27:38.510052Z",
     "start_time": "2022-12-14T19:27:38.477036Z"
    }
   },
   "outputs": [],
   "source": [
    "with open('../models/CUAD_baseline_RF_14_12.pkl', 'wb') as f:\n",
    "    pickle.dump(model, f)"
   ]
  },
  {
   "cell_type": "code",
   "execution_count": 556,
   "id": "c056a58d",
   "metadata": {
    "ExecuteTime": {
     "end_time": "2022-12-11T21:41:13.427819Z",
     "start_time": "2022-12-11T21:41:13.361712Z"
    }
   },
   "outputs": [],
   "source": []
  },
  {
   "cell_type": "code",
   "execution_count": 553,
   "id": "f3eef3ab",
   "metadata": {
    "ExecuteTime": {
     "end_time": "2022-12-11T21:39:55.000225Z",
     "start_time": "2022-12-11T21:39:54.993153Z"
    }
   },
   "outputs": [],
   "source": [
    "from sklearn.feature_selection import chi2\n",
    "\n",
    "category_to_id = {}\n",
    "for idx, i in enumerate(uniques):\n",
    "    category_to_id[i] = idx\n",
    "    \n",
    "    \n",
    "N = 10\n",
    "for Product, category_id in sorted(category_to_id.items()):\n",
    "    with open(f'{Product}.txt', 'w') as f:\n",
    "        features_chi2 = chi2(X, Y == category_id)\n",
    "        indices = np.argsort(features_chi2[0])\n",
    "        feature_names = np.array(vectorizer.get_feature_names_out())[indices]\n",
    "        unigrams = [v for v in feature_names if len(v.split(' ')) == 1]\n",
    "        bigrams = [v for v in feature_names if len(v.split(' ')) == 2]\n",
    "        for v in unigrams[-N:]:\n",
    "            f.write(f'{v}\\n')\n",
    "        for v in bigrams[-N:]:\n",
    "            f.write(f'{v}\\n')\n",
    "            \n",
    "        print(\"\\n==> %s:\" %(Product))\n",
    "        print(unigrams[-N:])\n",
    "print(bigrams[-N:])"
   ]
  }
 ],
 "metadata": {
  "kernelspec": {
   "display_name": "Python 3 (ipykernel)",
   "language": "python",
   "name": "python3"
  },
  "language_info": {
   "codemirror_mode": {
    "name": "ipython",
    "version": 3
   },
   "file_extension": ".py",
   "mimetype": "text/x-python",
   "name": "python",
   "nbconvert_exporter": "python",
   "pygments_lexer": "ipython3",
   "version": "3.9.15"
  }
 },
 "nbformat": 4,
 "nbformat_minor": 5
}
