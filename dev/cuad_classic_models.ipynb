{
 "cells": [
  {
   "cell_type": "code",
   "execution_count": 573,
   "id": "eb1d8f73",
   "metadata": {
    "ExecuteTime": {
     "end_time": "2022-12-11T21:49:44.120347Z",
     "start_time": "2022-12-11T21:49:44.107337Z"
    }
   },
   "outputs": [],
   "source": [
    "import pandas as pd\n",
    "import numpy as np\n",
    "import sklearn\n",
    "from sklearn.feature_extraction.text import TfidfVectorizer, CountVectorizer\n",
    "from sklearn.multiclass import OneVsRestClassifier\n",
    "from sklearn.svm import SVC, LinearSVC\n",
    "from sklearn.naive_bayes import GaussianNB\n",
    "from sklearn.linear_model import LogisticRegression\n",
    "from sklearn.model_selection import train_test_split, cross_val_score\n",
    "from sklearn import metrics\n",
    "from nltk.corpus import stopwords\n",
    "\n",
    "import warnings\n",
    "warnings.filterwarnings(\"ignore\")"
   ]
  },
  {
   "cell_type": "code",
   "execution_count": 548,
   "id": "a315b1ac",
   "metadata": {
    "ExecuteTime": {
     "end_time": "2022-12-11T21:38:33.402738Z",
     "start_time": "2022-12-11T21:38:32.024948Z"
    }
   },
   "outputs": [],
   "source": [
    "data = pd.read_csv('../data/CUAD_data/translated_data.csv', index_col=0)"
   ]
  },
  {
   "cell_type": "code",
   "execution_count": 474,
   "id": "f19707d9",
   "metadata": {
    "ExecuteTime": {
     "end_time": "2022-12-11T21:13:31.522141Z",
     "start_time": "2022-12-11T21:13:31.487005Z"
    }
   },
   "outputs": [],
   "source": [
    "stop_words = stopwords.words('russian')\n",
    "stop_words.extend([\"это\", 'все', 'весь', 'включая', 'отношения', 'цель', \"имя\",\"свой\", \"время\", \"любой\", \"соглашение\", \n",
    "                   \"сторона\", \"настоящий\", \"право\", \"компания\", \"соответствие\", \"который\", \"должный\", \"мочь\", \"также\"])"
   ]
  },
  {
   "cell_type": "code",
   "execution_count": 407,
   "id": "7bad6fc0",
   "metadata": {
    "ExecuteTime": {
     "end_time": "2022-12-11T20:17:14.907825Z",
     "start_time": "2022-12-11T20:17:14.242372Z"
    }
   },
   "outputs": [],
   "source": [
    "filtered_sentence = []\n",
    "\n",
    "for text in data.processed_text_ru.to_numpy():\n",
    "    sent = []\n",
    "    for word in text.split(' ')[0:200]:\n",
    "        if word not in stop_words:\n",
    "            sent.append(word)\n",
    "    filtered_sentence.append(' '.join(sent))\n"
   ]
  },
  {
   "cell_type": "code",
   "execution_count": 108,
   "id": "eee9ccf7",
   "metadata": {
    "ExecuteTime": {
     "end_time": "2022-12-11T09:20:10.258125Z",
     "start_time": "2022-12-11T09:20:10.241614Z"
    }
   },
   "outputs": [],
   "source": [
    "vectorizer = TfidfVectorizer(max_features=512)\n",
    "vectorizer2 = CountVectorizer(max_features=1024)"
   ]
  },
  {
   "cell_type": "code",
   "execution_count": 55,
   "id": "920f8b3e",
   "metadata": {
    "ExecuteTime": {
     "end_time": "2022-12-10T22:07:44.149858Z",
     "start_time": "2022-12-10T22:07:44.080609Z"
    }
   },
   "outputs": [
    {
     "data": {
      "text/plain": [
       "512"
      ]
     },
     "execution_count": 55,
     "metadata": {},
     "output_type": "execute_result"
    }
   ],
   "source": [
    "X = vectorizer.fit_transform(filtered_sentence)\n",
    "len(vectorizer.get_feature_names_out())"
   ]
  },
  {
   "cell_type": "code",
   "execution_count": 109,
   "id": "277617e1",
   "metadata": {
    "ExecuteTime": {
     "end_time": "2022-12-11T09:20:27.574342Z",
     "start_time": "2022-12-11T09:20:27.489965Z"
    }
   },
   "outputs": [
    {
     "data": {
      "text/plain": [
       "1024"
      ]
     },
     "execution_count": 109,
     "metadata": {},
     "output_type": "execute_result"
    }
   ],
   "source": [
    "X2 = vectorizer2.fit_transform(filtered_sentence)\n",
    "len(vectorizer2.get_feature_names_out())"
   ]
  },
  {
   "cell_type": "code",
   "execution_count": 550,
   "id": "71f4a0be",
   "metadata": {
    "ExecuteTime": {
     "end_time": "2022-12-11T21:38:49.024768Z",
     "start_time": "2022-12-11T21:38:49.009062Z"
    }
   },
   "outputs": [],
   "source": [
    "codes, uniques = pd.factorize(data.target)\n",
    "Y = codes"
   ]
  },
  {
   "cell_type": "code",
   "execution_count": 551,
   "id": "4ddb0a70",
   "metadata": {
    "ExecuteTime": {
     "end_time": "2022-12-11T21:38:51.059991Z",
     "start_time": "2022-12-11T21:38:51.050714Z"
    }
   },
   "outputs": [],
   "source": [
    "data['codes'] = codes"
   ]
  },
  {
   "cell_type": "code",
   "execution_count": 67,
   "id": "5cc5d4be",
   "metadata": {
    "ExecuteTime": {
     "end_time": "2022-12-10T22:09:43.664586Z",
     "start_time": "2022-12-10T22:09:43.649107Z"
    }
   },
   "outputs": [],
   "source": [
    "import xgboost as xgb\n"
   ]
  },
  {
   "cell_type": "code",
   "execution_count": 68,
   "id": "a04f7332",
   "metadata": {
    "ExecuteTime": {
     "end_time": "2022-12-10T22:09:45.019033Z",
     "start_time": "2022-12-10T22:09:44.997039Z"
    }
   },
   "outputs": [],
   "source": [
    "dtrain = xgb.DMatrix(X_train, label=y_train)\n",
    "dtest = xgb.DMatrix(X_test, label=y_test)"
   ]
  },
  {
   "cell_type": "code",
   "execution_count": 69,
   "id": "01f36f26",
   "metadata": {
    "ExecuteTime": {
     "end_time": "2022-12-10T22:09:49.483337Z",
     "start_time": "2022-12-10T22:09:49.476144Z"
    }
   },
   "outputs": [],
   "source": [
    "param = {'max_depth': 5, 'eta': 1, 'objective': 'binary:logistic'}\n",
    "param['nthread'] = 4\n",
    "param['eval_metric'] = 'auc'\n",
    "evallist = [(dtrain, 'train'), (dtest, 'eval')]"
   ]
  },
  {
   "cell_type": "code",
   "execution_count": 100,
   "id": "b7a0b102",
   "metadata": {
    "ExecuteTime": {
     "end_time": "2022-12-11T09:17:03.060851Z",
     "start_time": "2022-12-11T09:17:03.048637Z"
    }
   },
   "outputs": [],
   "source": [
    "clf = xgb.XGBClassifier(max_depth=5, n_estimators=150)"
   ]
  },
  {
   "cell_type": "code",
   "execution_count": 101,
   "id": "c040798e",
   "metadata": {
    "ExecuteTime": {
     "end_time": "2022-12-11T09:17:04.402301Z",
     "start_time": "2022-12-11T09:17:03.765388Z"
    }
   },
   "outputs": [
    {
     "data": {
      "text/html": [
       "<style>#sk-container-id-5 {color: black;background-color: white;}#sk-container-id-5 pre{padding: 0;}#sk-container-id-5 div.sk-toggleable {background-color: white;}#sk-container-id-5 label.sk-toggleable__label {cursor: pointer;display: block;width: 100%;margin-bottom: 0;padding: 0.3em;box-sizing: border-box;text-align: center;}#sk-container-id-5 label.sk-toggleable__label-arrow:before {content: \"▸\";float: left;margin-right: 0.25em;color: #696969;}#sk-container-id-5 label.sk-toggleable__label-arrow:hover:before {color: black;}#sk-container-id-5 div.sk-estimator:hover label.sk-toggleable__label-arrow:before {color: black;}#sk-container-id-5 div.sk-toggleable__content {max-height: 0;max-width: 0;overflow: hidden;text-align: left;background-color: #f0f8ff;}#sk-container-id-5 div.sk-toggleable__content pre {margin: 0.2em;color: black;border-radius: 0.25em;background-color: #f0f8ff;}#sk-container-id-5 input.sk-toggleable__control:checked~div.sk-toggleable__content {max-height: 200px;max-width: 100%;overflow: auto;}#sk-container-id-5 input.sk-toggleable__control:checked~label.sk-toggleable__label-arrow:before {content: \"▾\";}#sk-container-id-5 div.sk-estimator input.sk-toggleable__control:checked~label.sk-toggleable__label {background-color: #d4ebff;}#sk-container-id-5 div.sk-label input.sk-toggleable__control:checked~label.sk-toggleable__label {background-color: #d4ebff;}#sk-container-id-5 input.sk-hidden--visually {border: 0;clip: rect(1px 1px 1px 1px);clip: rect(1px, 1px, 1px, 1px);height: 1px;margin: -1px;overflow: hidden;padding: 0;position: absolute;width: 1px;}#sk-container-id-5 div.sk-estimator {font-family: monospace;background-color: #f0f8ff;border: 1px dotted black;border-radius: 0.25em;box-sizing: border-box;margin-bottom: 0.5em;}#sk-container-id-5 div.sk-estimator:hover {background-color: #d4ebff;}#sk-container-id-5 div.sk-parallel-item::after {content: \"\";width: 100%;border-bottom: 1px solid gray;flex-grow: 1;}#sk-container-id-5 div.sk-label:hover label.sk-toggleable__label {background-color: #d4ebff;}#sk-container-id-5 div.sk-serial::before {content: \"\";position: absolute;border-left: 1px solid gray;box-sizing: border-box;top: 0;bottom: 0;left: 50%;z-index: 0;}#sk-container-id-5 div.sk-serial {display: flex;flex-direction: column;align-items: center;background-color: white;padding-right: 0.2em;padding-left: 0.2em;position: relative;}#sk-container-id-5 div.sk-item {position: relative;z-index: 1;}#sk-container-id-5 div.sk-parallel {display: flex;align-items: stretch;justify-content: center;background-color: white;position: relative;}#sk-container-id-5 div.sk-item::before, #sk-container-id-5 div.sk-parallel-item::before {content: \"\";position: absolute;border-left: 1px solid gray;box-sizing: border-box;top: 0;bottom: 0;left: 50%;z-index: -1;}#sk-container-id-5 div.sk-parallel-item {display: flex;flex-direction: column;z-index: 1;position: relative;background-color: white;}#sk-container-id-5 div.sk-parallel-item:first-child::after {align-self: flex-end;width: 50%;}#sk-container-id-5 div.sk-parallel-item:last-child::after {align-self: flex-start;width: 50%;}#sk-container-id-5 div.sk-parallel-item:only-child::after {width: 0;}#sk-container-id-5 div.sk-dashed-wrapped {border: 1px dashed gray;margin: 0 0.4em 0.5em 0.4em;box-sizing: border-box;padding-bottom: 0.4em;background-color: white;}#sk-container-id-5 div.sk-label label {font-family: monospace;font-weight: bold;display: inline-block;line-height: 1.2em;}#sk-container-id-5 div.sk-label-container {text-align: center;}#sk-container-id-5 div.sk-container {/* jupyter's `normalize.less` sets `[hidden] { display: none; }` but bootstrap.min.css set `[hidden] { display: none !important; }` so we also need the `!important` here to be able to override the default hidden behavior on the sphinx rendered scikit-learn.org. See: https://github.com/scikit-learn/scikit-learn/issues/21755 */display: inline-block !important;position: relative;}#sk-container-id-5 div.sk-text-repr-fallback {display: none;}</style><div id=\"sk-container-id-5\" class=\"sk-top-container\"><div class=\"sk-text-repr-fallback\"><pre>XGBClassifier(base_score=0.5, booster=&#x27;gbtree&#x27;, callbacks=None,\n",
       "              colsample_bylevel=1, colsample_bynode=1, colsample_bytree=1,\n",
       "              early_stopping_rounds=None, enable_categorical=False,\n",
       "              eval_metric=None, feature_types=None, gamma=0, gpu_id=-1,\n",
       "              grow_policy=&#x27;depthwise&#x27;, importance_type=None,\n",
       "              interaction_constraints=&#x27;&#x27;, learning_rate=0.300000012,\n",
       "              max_bin=256, max_cat_threshold=64, max_cat_to_onehot=4,\n",
       "              max_delta_step=0, max_depth=5, max_leaves=0, min_child_weight=1,\n",
       "              missing=nan, monotone_constraints=&#x27;()&#x27;, n_estimators=150,\n",
       "              n_jobs=0, num_parallel_tree=1, objective=&#x27;multi:softprob&#x27;,\n",
       "              predictor=&#x27;auto&#x27;, ...)</pre><b>In a Jupyter environment, please rerun this cell to show the HTML representation or trust the notebook. <br />On GitHub, the HTML representation is unable to render, please try loading this page with nbviewer.org.</b></div><div class=\"sk-container\" hidden><div class=\"sk-item\"><div class=\"sk-estimator sk-toggleable\"><input class=\"sk-toggleable__control sk-hidden--visually\" id=\"sk-estimator-id-5\" type=\"checkbox\" checked><label for=\"sk-estimator-id-5\" class=\"sk-toggleable__label sk-toggleable__label-arrow\">XGBClassifier</label><div class=\"sk-toggleable__content\"><pre>XGBClassifier(base_score=0.5, booster=&#x27;gbtree&#x27;, callbacks=None,\n",
       "              colsample_bylevel=1, colsample_bynode=1, colsample_bytree=1,\n",
       "              early_stopping_rounds=None, enable_categorical=False,\n",
       "              eval_metric=None, feature_types=None, gamma=0, gpu_id=-1,\n",
       "              grow_policy=&#x27;depthwise&#x27;, importance_type=None,\n",
       "              interaction_constraints=&#x27;&#x27;, learning_rate=0.300000012,\n",
       "              max_bin=256, max_cat_threshold=64, max_cat_to_onehot=4,\n",
       "              max_delta_step=0, max_depth=5, max_leaves=0, min_child_weight=1,\n",
       "              missing=nan, monotone_constraints=&#x27;()&#x27;, n_estimators=150,\n",
       "              n_jobs=0, num_parallel_tree=1, objective=&#x27;multi:softprob&#x27;,\n",
       "              predictor=&#x27;auto&#x27;, ...)</pre></div></div></div></div></div>"
      ],
      "text/plain": [
       "XGBClassifier(base_score=0.5, booster='gbtree', callbacks=None,\n",
       "              colsample_bylevel=1, colsample_bynode=1, colsample_bytree=1,\n",
       "              early_stopping_rounds=None, enable_categorical=False,\n",
       "              eval_metric=None, feature_types=None, gamma=0, gpu_id=-1,\n",
       "              grow_policy='depthwise', importance_type=None,\n",
       "              interaction_constraints='', learning_rate=0.300000012,\n",
       "              max_bin=256, max_cat_threshold=64, max_cat_to_onehot=4,\n",
       "              max_delta_step=0, max_depth=5, max_leaves=0, min_child_weight=1,\n",
       "              missing=nan, monotone_constraints='()', n_estimators=150,\n",
       "              n_jobs=0, num_parallel_tree=1, objective='multi:softprob',\n",
       "              predictor='auto', ...)"
      ]
     },
     "execution_count": 101,
     "metadata": {},
     "output_type": "execute_result"
    }
   ],
   "source": [
    "clf.fit(X_train, y_train)"
   ]
  },
  {
   "cell_type": "code",
   "execution_count": 102,
   "id": "eb3c2763",
   "metadata": {
    "ExecuteTime": {
     "end_time": "2022-12-11T09:17:05.181334Z",
     "start_time": "2022-12-11T09:17:05.160834Z"
    }
   },
   "outputs": [
    {
     "name": "stdout",
     "output_type": "stream",
     "text": [
      "              precision    recall  f1-score   support\n",
      "\n",
      "           0       1.00      1.00      1.00        11\n",
      "           1       0.00      0.00      0.00         4\n",
      "           2       0.33      0.75      0.46         4\n",
      "           3       0.86      0.86      0.86         7\n",
      "           4       0.67      1.00      0.80         8\n",
      "           5       1.00      0.75      0.86         4\n",
      "           6       0.33      1.00      0.50         1\n",
      "           7       0.33      0.20      0.25         5\n",
      "           8       1.00      0.88      0.93         8\n",
      "           9       0.91      1.00      0.95        10\n",
      "          10       1.00      1.00      1.00         5\n",
      "          11       0.83      0.83      0.83         6\n",
      "          12       0.20      0.11      0.14         9\n",
      "          13       0.38      1.00      0.55         3\n",
      "          14       0.67      0.89      0.76         9\n",
      "          15       0.83      0.83      0.83        12\n",
      "          16       0.90      0.82      0.86        11\n",
      "          17       0.50      0.50      0.50         4\n",
      "          18       1.00      1.00      1.00         4\n",
      "          19       1.00      0.22      0.36         9\n",
      "          20       0.00      0.00      0.00         1\n",
      "          21       0.29      0.40      0.33         5\n",
      "          22       0.83      0.62      0.71         8\n",
      "          23       1.00      0.75      0.86         4\n",
      "          24       0.00      0.00      0.00         1\n",
      "\n",
      "    accuracy                           0.71       153\n",
      "   macro avg       0.63      0.66      0.61       153\n",
      "weighted avg       0.74      0.71      0.70       153\n",
      "\n"
     ]
    }
   ],
   "source": [
    "y_pred = clf.predict(X_test)\n",
    "print(metrics.classification_report(y_test, y_pred))"
   ]
  },
  {
   "cell_type": "code",
   "execution_count": 103,
   "id": "44b11fe3",
   "metadata": {
    "ExecuteTime": {
     "end_time": "2022-12-11T09:17:12.638357Z",
     "start_time": "2022-12-11T09:17:12.615352Z"
    }
   },
   "outputs": [
    {
     "name": "stdout",
     "output_type": "stream",
     "text": [
      "              precision    recall  f1-score   support\n",
      "\n",
      "           0       1.00      1.00      1.00        21\n",
      "           1       1.00      1.00      1.00         8\n",
      "           2       1.00      1.00      1.00        14\n",
      "           3       1.00      1.00      1.00        13\n",
      "           4       1.00      1.00      1.00        15\n",
      "           5       1.00      1.00      1.00        20\n",
      "           6       1.00      1.00      1.00        10\n",
      "           7       1.00      1.00      1.00        12\n",
      "           8       1.00      1.00      1.00        24\n",
      "           9       1.00      1.00      1.00        21\n",
      "          10       1.00      1.00      1.00        10\n",
      "          11       1.00      1.00      1.00        11\n",
      "          12       1.00      1.00      1.00        19\n",
      "          13       1.00      1.00      1.00        10\n",
      "          14       1.00      1.00      1.00        25\n",
      "          15       1.00      1.00      1.00        21\n",
      "          16       1.00      1.00      1.00        15\n",
      "          17       1.00      1.00      1.00         8\n",
      "          18       1.00      1.00      1.00        14\n",
      "          19       1.00      1.00      1.00        13\n",
      "          20       1.00      1.00      1.00         9\n",
      "          21       1.00      1.00      1.00        24\n",
      "          22       1.00      1.00      1.00         9\n",
      "          23       1.00      1.00      1.00         9\n",
      "          24       1.00      1.00      1.00         2\n",
      "\n",
      "    accuracy                           1.00       357\n",
      "   macro avg       1.00      1.00      1.00       357\n",
      "weighted avg       1.00      1.00      1.00       357\n",
      "\n"
     ]
    }
   ],
   "source": [
    "y_pred = clf.predict(X_train)\n",
    "print(metrics.classification_report(y_train, y_pred))"
   ]
  },
  {
   "cell_type": "code",
   "execution_count": 89,
   "id": "a2694048",
   "metadata": {
    "ExecuteTime": {
     "end_time": "2022-12-10T22:15:28.806147Z",
     "start_time": "2022-12-10T22:15:28.788054Z"
    }
   },
   "outputs": [],
   "source": [
    "import gensim\n",
    "import gensim.corpora as corpora\n",
    "from gensim.utils import simple_preprocess\n",
    "from gensim.models import CoherenceModel"
   ]
  },
  {
   "cell_type": "code",
   "execution_count": 104,
   "id": "0ec7b4c8",
   "metadata": {
    "ExecuteTime": {
     "end_time": "2022-12-11T09:17:29.527881Z",
     "start_time": "2022-12-11T09:17:29.497311Z"
    }
   },
   "outputs": [],
   "source": [
    "# Plotting tools\n",
    "import pyLDAvis\n",
    "import pyLDAvis.gensim_models # don't skip this\n",
    "import matplotlib.pyplot as plt\n",
    "%matplotlib inline"
   ]
  },
  {
   "cell_type": "code",
   "execution_count": 105,
   "id": "aa25adfa",
   "metadata": {
    "ExecuteTime": {
     "end_time": "2022-12-11T09:17:29.807918Z",
     "start_time": "2022-12-11T09:17:29.658454Z"
    }
   },
   "outputs": [],
   "source": [
    "# Create Dictionary\n",
    "data_words = [i.split() for i in filtered_sentence]\n",
    "id2word = corpora.Dictionary(data_words)\n",
    "# Create Corpus\n",
    "texts = data_words\n",
    "# Term Document Frequency\n",
    "corpus = [id2word.doc2bow(text) for text in texts]\n",
    "# View\n"
   ]
  },
  {
   "cell_type": "code",
   "execution_count": 106,
   "id": "ca60d2e5",
   "metadata": {
    "ExecuteTime": {
     "end_time": "2022-12-11T09:17:32.407008Z",
     "start_time": "2022-12-11T09:17:29.874295Z"
    }
   },
   "outputs": [],
   "source": [
    "lda_model = gensim.models.ldamodel.LdaModel(corpus=corpus,\n",
    "                                           id2word=id2word,\n",
    "                                           num_topics=25, \n",
    "                                           random_state=100,\n",
    "                                           update_every=1,\n",
    "                                           chunksize=100,\n",
    "                                           passes=10,\n",
    "                                           alpha='auto',\n",
    "                                           per_word_topics=True)"
   ]
  },
  {
   "cell_type": "code",
   "execution_count": 93,
   "id": "4ac32a7d",
   "metadata": {
    "ExecuteTime": {
     "end_time": "2022-12-10T22:15:31.962726Z",
     "start_time": "2022-12-10T22:15:31.948333Z"
    },
    "collapsed": true
   },
   "outputs": [
    {
     "data": {
      "text/plain": [
       "[(24,\n",
       "  '0.000*\"блокчейн\" + 0.000*\"вануату\" + 0.000*\"джек\" + 0.000*\"биотехнология\" + 0.000*\"биоамбер\" + 0.000*\"совместимый\" + 0.000*\"смарта-контракт\" + 0.000*\"интервальный\" + 0.000*\"издержка\" + 0.000*\"кислота\"'),\n",
       " (19,\n",
       "  '0.000*\"блокчейн\" + 0.000*\"вануату\" + 0.000*\"джек\" + 0.000*\"биотехнология\" + 0.000*\"биоамбер\" + 0.000*\"совместимый\" + 0.000*\"смарта-контракт\" + 0.000*\"интервальный\" + 0.000*\"издержка\" + 0.000*\"кислота\"'),\n",
       " (20,\n",
       "  '0.000*\"раздел\" + 0.000*\"органический\" + 0.000*\"джек\" + 0.000*\"биотехнология\" + 0.000*\"биоамбер\" + 0.000*\"совместимый\" + 0.000*\"смарта-контракт\" + 0.000*\"интервальный\" + 0.000*\"издержка\" + 0.000*\"блокчейн\"'),\n",
       " (11,\n",
       "  '0.011*\"индия\" + 0.009*\"индийский\" + 0.007*\"непубличный\" + 0.000*\"центр\" + 0.000*\"жидкость\" + 0.000*\"прокатка\" + 0.000*\"развлекательный\" + 0.000*\"реальность\" + 0.000*\"виртуальный\" + 0.000*\"геймификация\"'),\n",
       " (9,\n",
       "  '0.033*\"транзакция\" + 0.022*\"загрузка\" + 0.015*\"вместо\" + 0.010*\"опубликовать\" + 0.000*\"потребитель\" + 0.000*\"пин-код\" + 0.000*\"интерактивный\" + 0.000*\"каталог\" + 0.000*\"песня\" + 0.000*\"лидер\"'),\n",
       " (14,\n",
       "  '0.063*\"город\" + 0.054*\"франчайзер\" + 0.037*\"неконкуренция\" + 0.018*\"восточный\" + 0.015*\"уставный\" + 0.010*\"провинция\" + 0.009*\"инна\" + 0.008*\"инвентаризация\" + 0.006*\"пк\" + 0.004*\"нко\"'),\n",
       " (5,\n",
       "  '0.257*\"посредник\" + 0.160*\"торговый\" + 0.013*\"израиль\" + 0.011*\"набор\" + 0.010*\"входящий\" + 0.008*\"реселлера\" + 0.007*\"реселлер\" + 0.003*\"машиночитаемый\" + 0.003*\"соучредитель\" + 0.002*\"ул\"'),\n",
       " (18,\n",
       "  '0.043*\"брендинг\" + 0.036*\"баннер\" + 0.031*\"сайт\" + 0.025*\"предназначить\" + 0.020*\"спортивный\" + 0.020*\"графический\" + 0.017*\"ко-брендинговый\" + 0.017*\"рекламировать\" + 0.017*\"уникальный\" + 0.014*\"всемирный\"'),\n",
       " (6,\n",
       "  '0.078*\"клинический\" + 0.045*\"лечение\" + 0.039*\"фармацевтический\" + 0.035*\"заболевание\" + 0.034*\"лицензированный\" + 0.032*\"испытание\" + 0.024*\"орган\" + 0.021*\"южный\" + 0.020*\"регулировать\" + 0.020*\"вышеуказанный\"'),\n",
       " (23,\n",
       "  '0.353*\"поставщик\" + 0.042*\"консультирование\" + 0.035*\"согласовываться\" + 0.024*\"настройка\" + 0.023*\"работодатель\" + 0.017*\"соединить\" + 0.012*\"какой-либо\" + 0.011*\"библиотека\" + 0.010*\"америка\" + 0.009*\"слияние\"'),\n",
       " (8,\n",
       "  '0.094*\"акция\" + 0.055*\"ограниченный\" + 0.036*\"агент\" + 0.032*\"операционный\" + 0.028*\"ответственность\" + 0.026*\"штат\" + 0.021*\"зарегистрировать\" + 0.021*\"китайский\" + 0.021*\"республика\" + 0.019*\"серия\"'),\n",
       " (7,\n",
       "  '0.095*\"поправка\" + 0.049*\"спонсор\" + 0.043*\"спонсорский\" + 0.040*\"второй\" + 0.035*\"внести\" + 0.024*\"рекламный\" + 0.019*\"канада\" + 0.017*\"следующий\" + 0.017*\"стадион\" + 0.016*\"год\"'),\n",
       " (13,\n",
       "  '0.041*\"услуга\" + 0.030*\"партнёр\" + 0.029*\"привилегированный\" + 0.024*\"игра\" + 0.020*\"агент\" + 0.020*\"маркетинговый\" + 0.016*\"программа\" + 0.015*\"счёт\" + 0.013*\"обслуживание\" + 0.013*\"банковский\"'),\n",
       " (12,\n",
       "  '0.094*\"раздел\" + 0.060*\"статья\" + 0.033*\"собственность\" + 0.025*\"гарантия\" + 0.021*\"интеллектуальный\" + 0.021*\"прекращение\" + 0.019*\"информация\" + 0.019*\"определение\" + 0.018*\"источник\" + 0.018*\"возмещение\"'),\n",
       " (2,\n",
       "  '0.030*\"конфиденциальный\" + 0.029*\"продукт\" + 0.025*\"поставка\" + 0.022*\"приложение\" + 0.022*\"сотрудничество\" + 0.021*\"комиссия\" + 0.020*\"стратегический\" + 0.020*\"бумага\" + 0.019*\"отдельно\" + 0.018*\"исследование\"'),\n",
       " (1,\n",
       "  '0.080*\"контент\" + 0.028*\"программный\" + 0.027*\"приложение\" + 0.027*\"клиент\" + 0.026*\"адрес\" + 0.024*\"веб-сайт\" + 0.024*\"услуга\" + 0.023*\"обеспечение\" + 0.018*\"пользователь\" + 0.017*\"сайт\"'),\n",
       " (4,\n",
       "  '0.034*\"обслуживание\" + 0.032*\"технический\" + 0.026*\"франшиза\" + 0.025*\"эксплуатация\" + 0.023*\"проект\" + 0.021*\"управление\" + 0.018*\"разработка\" + 0.018*\"спецификация\" + 0.016*\"работа\" + 0.016*\"персонал\"'),\n",
       " (0,\n",
       "  '0.072*\"услуга\" + 0.055*\"срок\" + 0.042*\"действие\" + 0.040*\"подрядчик\" + 0.029*\"условие\" + 0.023*\"течение\" + 0.022*\"соглашаться\" + 0.019*\"сила\" + 0.019*\"положение\" + 0.018*\"задание\"'),\n",
       " (15,\n",
       "  '0.030*\"приложение\" + 0.022*\"каждый\" + 0.020*\"закон\" + 0.020*\"документ\" + 0.018*\"поправка\" + 0.016*\"положение\" + 0.016*\"совместный\" + 0.015*\"соглашаться\" + 0.015*\"информация\" + 0.014*\"лицо\"'),\n",
       " (16,\n",
       "  '0.042*\"принимать\" + 0.041*\"внимание\" + 0.019*\"продукт\" + 0.017*\"корпорация\" + 0.017*\"желать\" + 0.016*\"также\" + 0.015*\"означать\" + 0.015*\"адрес\" + 0.015*\"иметь\" + 0.014*\"документ\"')]"
      ]
     },
     "execution_count": 93,
     "metadata": {},
     "output_type": "execute_result"
    }
   ],
   "source": [
    "lda_model.print_topics()"
   ]
  },
  {
   "cell_type": "code",
   "execution_count": 94,
   "id": "92141056",
   "metadata": {
    "ExecuteTime": {
     "end_time": "2022-12-10T22:15:44.794425Z",
     "start_time": "2022-12-10T22:15:31.963950Z"
    }
   },
   "outputs": [
    {
     "name": "stdout",
     "output_type": "stream",
     "text": [
      "\n",
      "Perplexity:  -9.688944317069607\n",
      "\n",
      "Coherence Score:  0.4073895304346442\n"
     ]
    }
   ],
   "source": [
    "# Compute Perplexity\n",
    "print('\\nPerplexity: ', lda_model.log_perplexity(corpus))  # a measure of how good the model is. lower the better.\n",
    "# Compute Coherence Score\n",
    "coherence_model_lda = CoherenceModel(model=lda_model, texts=data_words, dictionary=id2word, coherence='c_v')\n",
    "coherence_lda = coherence_model_lda.get_coherence()\n",
    "print('\\nCoherence Score: ', coherence_lda)"
   ]
  },
  {
   "cell_type": "code",
   "execution_count": 107,
   "id": "cb0c136c",
   "metadata": {
    "ExecuteTime": {
     "end_time": "2022-12-11T09:17:41.658402Z",
     "start_time": "2022-12-11T09:17:36.020561Z"
    }
   },
   "outputs": [
    {
     "ename": "TypeError",
     "evalue": "Object of type complex is not JSON serializable",
     "output_type": "error",
     "traceback": [
      "\u001b[1;31m---------------------------------------------------------------------------\u001b[0m",
      "\u001b[1;31mTypeError\u001b[0m                                 Traceback (most recent call last)",
      "File \u001b[1;32m~\\anaconda3\\envs\\NLP\\lib\\site-packages\\IPython\\core\\formatters.py:338\u001b[0m, in \u001b[0;36mBaseFormatter.__call__\u001b[1;34m(self, obj)\u001b[0m\n\u001b[0;32m    336\u001b[0m     \u001b[38;5;28;01mpass\u001b[39;00m\n\u001b[0;32m    337\u001b[0m \u001b[38;5;28;01melse\u001b[39;00m:\n\u001b[1;32m--> 338\u001b[0m     \u001b[38;5;28;01mreturn\u001b[39;00m \u001b[43mprinter\u001b[49m\u001b[43m(\u001b[49m\u001b[43mobj\u001b[49m\u001b[43m)\u001b[49m\n\u001b[0;32m    339\u001b[0m \u001b[38;5;66;03m# Finally look for special method names\u001b[39;00m\n\u001b[0;32m    340\u001b[0m method \u001b[38;5;241m=\u001b[39m get_real_method(obj, \u001b[38;5;28mself\u001b[39m\u001b[38;5;241m.\u001b[39mprint_method)\n",
      "File \u001b[1;32m~\\anaconda3\\envs\\NLP\\lib\\site-packages\\pyLDAvis\\_display.py:308\u001b[0m, in \u001b[0;36menable_notebook.<locals>.<lambda>\u001b[1;34m(data, kwds)\u001b[0m\n\u001b[0;32m    305\u001b[0m ip \u001b[38;5;241m=\u001b[39m get_ipython()\n\u001b[0;32m    306\u001b[0m formatter \u001b[38;5;241m=\u001b[39m ip\u001b[38;5;241m.\u001b[39mdisplay_formatter\u001b[38;5;241m.\u001b[39mformatters[\u001b[38;5;124m'\u001b[39m\u001b[38;5;124mtext/html\u001b[39m\u001b[38;5;124m'\u001b[39m]\n\u001b[0;32m    307\u001b[0m formatter\u001b[38;5;241m.\u001b[39mfor_type(PreparedData,\n\u001b[1;32m--> 308\u001b[0m                    \u001b[38;5;28;01mlambda\u001b[39;00m data, kwds\u001b[38;5;241m=\u001b[39mkwargs: prepared_data_to_html(data, \u001b[38;5;241m*\u001b[39m\u001b[38;5;241m*\u001b[39mkwds))\n",
      "File \u001b[1;32m~\\anaconda3\\envs\\NLP\\lib\\site-packages\\pyLDAvis\\_display.py:177\u001b[0m, in \u001b[0;36mprepared_data_to_html\u001b[1;34m(data, d3_url, ldavis_url, ldavis_css_url, template_type, visid, use_http)\u001b[0m\n\u001b[0;32m    170\u001b[0m \u001b[38;5;28;01melif\u001b[39;00m re\u001b[38;5;241m.\u001b[39msearch(\u001b[38;5;124mr\u001b[39m\u001b[38;5;124m'\u001b[39m\u001b[38;5;124m\\\u001b[39m\u001b[38;5;124ms\u001b[39m\u001b[38;5;124m'\u001b[39m, visid):\n\u001b[0;32m    171\u001b[0m     \u001b[38;5;28;01mraise\u001b[39;00m \u001b[38;5;167;01mValueError\u001b[39;00m(\u001b[38;5;124m\"\u001b[39m\u001b[38;5;124mvisid must not contain spaces\u001b[39m\u001b[38;5;124m\"\u001b[39m)\n\u001b[0;32m    173\u001b[0m \u001b[38;5;28;01mreturn\u001b[39;00m template\u001b[38;5;241m.\u001b[39mrender(visid\u001b[38;5;241m=\u001b[39mjson\u001b[38;5;241m.\u001b[39mdumps(visid),\n\u001b[0;32m    174\u001b[0m                        visid_raw\u001b[38;5;241m=\u001b[39mvisid,\n\u001b[0;32m    175\u001b[0m                        d3_url\u001b[38;5;241m=\u001b[39md3_url,\n\u001b[0;32m    176\u001b[0m                        ldavis_url\u001b[38;5;241m=\u001b[39mldavis_url,\n\u001b[1;32m--> 177\u001b[0m                        vis_json\u001b[38;5;241m=\u001b[39m\u001b[43mdata\u001b[49m\u001b[38;5;241;43m.\u001b[39;49m\u001b[43mto_json\u001b[49m\u001b[43m(\u001b[49m\u001b[43m)\u001b[49m,\n\u001b[0;32m    178\u001b[0m                        ldavis_css_url\u001b[38;5;241m=\u001b[39mldavis_css_url)\n",
      "File \u001b[1;32m~\\anaconda3\\envs\\NLP\\lib\\site-packages\\pyLDAvis\\_prepare.py:471\u001b[0m, in \u001b[0;36mPreparedData.to_json\u001b[1;34m(self)\u001b[0m\n\u001b[0;32m    470\u001b[0m \u001b[38;5;28;01mdef\u001b[39;00m \u001b[38;5;21mto_json\u001b[39m(\u001b[38;5;28mself\u001b[39m):\n\u001b[1;32m--> 471\u001b[0m     \u001b[38;5;28;01mreturn\u001b[39;00m \u001b[43mjson\u001b[49m\u001b[38;5;241;43m.\u001b[39;49m\u001b[43mdumps\u001b[49m\u001b[43m(\u001b[49m\u001b[38;5;28;43mself\u001b[39;49m\u001b[38;5;241;43m.\u001b[39;49m\u001b[43mto_dict\u001b[49m\u001b[43m(\u001b[49m\u001b[43m)\u001b[49m\u001b[43m,\u001b[49m\u001b[43m \u001b[49m\u001b[38;5;28;43mcls\u001b[39;49m\u001b[38;5;241;43m=\u001b[39;49m\u001b[43mNumPyEncoder\u001b[49m\u001b[43m)\u001b[49m\n",
      "File \u001b[1;32m~\\anaconda3\\envs\\NLP\\lib\\json\\__init__.py:234\u001b[0m, in \u001b[0;36mdumps\u001b[1;34m(obj, skipkeys, ensure_ascii, check_circular, allow_nan, cls, indent, separators, default, sort_keys, **kw)\u001b[0m\n\u001b[0;32m    232\u001b[0m \u001b[38;5;28;01mif\u001b[39;00m \u001b[38;5;28mcls\u001b[39m \u001b[38;5;129;01mis\u001b[39;00m \u001b[38;5;28;01mNone\u001b[39;00m:\n\u001b[0;32m    233\u001b[0m     \u001b[38;5;28mcls\u001b[39m \u001b[38;5;241m=\u001b[39m JSONEncoder\n\u001b[1;32m--> 234\u001b[0m \u001b[38;5;28;01mreturn\u001b[39;00m \u001b[38;5;28;43mcls\u001b[39;49m\u001b[43m(\u001b[49m\n\u001b[0;32m    235\u001b[0m \u001b[43m    \u001b[49m\u001b[43mskipkeys\u001b[49m\u001b[38;5;241;43m=\u001b[39;49m\u001b[43mskipkeys\u001b[49m\u001b[43m,\u001b[49m\u001b[43m \u001b[49m\u001b[43mensure_ascii\u001b[49m\u001b[38;5;241;43m=\u001b[39;49m\u001b[43mensure_ascii\u001b[49m\u001b[43m,\u001b[49m\n\u001b[0;32m    236\u001b[0m \u001b[43m    \u001b[49m\u001b[43mcheck_circular\u001b[49m\u001b[38;5;241;43m=\u001b[39;49m\u001b[43mcheck_circular\u001b[49m\u001b[43m,\u001b[49m\u001b[43m \u001b[49m\u001b[43mallow_nan\u001b[49m\u001b[38;5;241;43m=\u001b[39;49m\u001b[43mallow_nan\u001b[49m\u001b[43m,\u001b[49m\u001b[43m \u001b[49m\u001b[43mindent\u001b[49m\u001b[38;5;241;43m=\u001b[39;49m\u001b[43mindent\u001b[49m\u001b[43m,\u001b[49m\n\u001b[0;32m    237\u001b[0m \u001b[43m    \u001b[49m\u001b[43mseparators\u001b[49m\u001b[38;5;241;43m=\u001b[39;49m\u001b[43mseparators\u001b[49m\u001b[43m,\u001b[49m\u001b[43m \u001b[49m\u001b[43mdefault\u001b[49m\u001b[38;5;241;43m=\u001b[39;49m\u001b[43mdefault\u001b[49m\u001b[43m,\u001b[49m\u001b[43m \u001b[49m\u001b[43msort_keys\u001b[49m\u001b[38;5;241;43m=\u001b[39;49m\u001b[43msort_keys\u001b[49m\u001b[43m,\u001b[49m\n\u001b[0;32m    238\u001b[0m \u001b[43m    \u001b[49m\u001b[38;5;241;43m*\u001b[39;49m\u001b[38;5;241;43m*\u001b[39;49m\u001b[43mkw\u001b[49m\u001b[43m)\u001b[49m\u001b[38;5;241;43m.\u001b[39;49m\u001b[43mencode\u001b[49m\u001b[43m(\u001b[49m\u001b[43mobj\u001b[49m\u001b[43m)\u001b[49m\n",
      "File \u001b[1;32m~\\anaconda3\\envs\\NLP\\lib\\json\\encoder.py:199\u001b[0m, in \u001b[0;36mJSONEncoder.encode\u001b[1;34m(self, o)\u001b[0m\n\u001b[0;32m    195\u001b[0m         \u001b[38;5;28;01mreturn\u001b[39;00m encode_basestring(o)\n\u001b[0;32m    196\u001b[0m \u001b[38;5;66;03m# This doesn't pass the iterator directly to ''.join() because the\u001b[39;00m\n\u001b[0;32m    197\u001b[0m \u001b[38;5;66;03m# exceptions aren't as detailed.  The list call should be roughly\u001b[39;00m\n\u001b[0;32m    198\u001b[0m \u001b[38;5;66;03m# equivalent to the PySequence_Fast that ''.join() would do.\u001b[39;00m\n\u001b[1;32m--> 199\u001b[0m chunks \u001b[38;5;241m=\u001b[39m \u001b[38;5;28;43mself\u001b[39;49m\u001b[38;5;241;43m.\u001b[39;49m\u001b[43miterencode\u001b[49m\u001b[43m(\u001b[49m\u001b[43mo\u001b[49m\u001b[43m,\u001b[49m\u001b[43m \u001b[49m\u001b[43m_one_shot\u001b[49m\u001b[38;5;241;43m=\u001b[39;49m\u001b[38;5;28;43;01mTrue\u001b[39;49;00m\u001b[43m)\u001b[49m\n\u001b[0;32m    200\u001b[0m \u001b[38;5;28;01mif\u001b[39;00m \u001b[38;5;129;01mnot\u001b[39;00m \u001b[38;5;28misinstance\u001b[39m(chunks, (\u001b[38;5;28mlist\u001b[39m, \u001b[38;5;28mtuple\u001b[39m)):\n\u001b[0;32m    201\u001b[0m     chunks \u001b[38;5;241m=\u001b[39m \u001b[38;5;28mlist\u001b[39m(chunks)\n",
      "File \u001b[1;32m~\\anaconda3\\envs\\NLP\\lib\\json\\encoder.py:257\u001b[0m, in \u001b[0;36mJSONEncoder.iterencode\u001b[1;34m(self, o, _one_shot)\u001b[0m\n\u001b[0;32m    252\u001b[0m \u001b[38;5;28;01melse\u001b[39;00m:\n\u001b[0;32m    253\u001b[0m     _iterencode \u001b[38;5;241m=\u001b[39m _make_iterencode(\n\u001b[0;32m    254\u001b[0m         markers, \u001b[38;5;28mself\u001b[39m\u001b[38;5;241m.\u001b[39mdefault, _encoder, \u001b[38;5;28mself\u001b[39m\u001b[38;5;241m.\u001b[39mindent, floatstr,\n\u001b[0;32m    255\u001b[0m         \u001b[38;5;28mself\u001b[39m\u001b[38;5;241m.\u001b[39mkey_separator, \u001b[38;5;28mself\u001b[39m\u001b[38;5;241m.\u001b[39mitem_separator, \u001b[38;5;28mself\u001b[39m\u001b[38;5;241m.\u001b[39msort_keys,\n\u001b[0;32m    256\u001b[0m         \u001b[38;5;28mself\u001b[39m\u001b[38;5;241m.\u001b[39mskipkeys, _one_shot)\n\u001b[1;32m--> 257\u001b[0m \u001b[38;5;28;01mreturn\u001b[39;00m \u001b[43m_iterencode\u001b[49m\u001b[43m(\u001b[49m\u001b[43mo\u001b[49m\u001b[43m,\u001b[49m\u001b[43m \u001b[49m\u001b[38;5;241;43m0\u001b[39;49m\u001b[43m)\u001b[49m\n",
      "File \u001b[1;32m~\\anaconda3\\envs\\NLP\\lib\\site-packages\\pyLDAvis\\utils.py:150\u001b[0m, in \u001b[0;36mNumPyEncoder.default\u001b[1;34m(self, obj)\u001b[0m\n\u001b[0;32m    148\u001b[0m \u001b[38;5;28;01mif\u001b[39;00m \u001b[38;5;28misinstance\u001b[39m(obj, np\u001b[38;5;241m.\u001b[39mfloat64) \u001b[38;5;129;01mor\u001b[39;00m \u001b[38;5;28misinstance\u001b[39m(obj, np\u001b[38;5;241m.\u001b[39mfloat32):\n\u001b[0;32m    149\u001b[0m     \u001b[38;5;28;01mreturn\u001b[39;00m \u001b[38;5;28mfloat\u001b[39m(obj)\n\u001b[1;32m--> 150\u001b[0m \u001b[38;5;28;01mreturn\u001b[39;00m \u001b[43mjson\u001b[49m\u001b[38;5;241;43m.\u001b[39;49m\u001b[43mJSONEncoder\u001b[49m\u001b[38;5;241;43m.\u001b[39;49m\u001b[43mdefault\u001b[49m\u001b[43m(\u001b[49m\u001b[38;5;28;43mself\u001b[39;49m\u001b[43m,\u001b[49m\u001b[43m \u001b[49m\u001b[43mobj\u001b[49m\u001b[43m)\u001b[49m\n",
      "File \u001b[1;32m~\\anaconda3\\envs\\NLP\\lib\\json\\encoder.py:179\u001b[0m, in \u001b[0;36mJSONEncoder.default\u001b[1;34m(self, o)\u001b[0m\n\u001b[0;32m    160\u001b[0m \u001b[38;5;28;01mdef\u001b[39;00m \u001b[38;5;21mdefault\u001b[39m(\u001b[38;5;28mself\u001b[39m, o):\n\u001b[0;32m    161\u001b[0m     \u001b[38;5;124;03m\"\"\"Implement this method in a subclass such that it returns\u001b[39;00m\n\u001b[0;32m    162\u001b[0m \u001b[38;5;124;03m    a serializable object for ``o``, or calls the base implementation\u001b[39;00m\n\u001b[0;32m    163\u001b[0m \u001b[38;5;124;03m    (to raise a ``TypeError``).\u001b[39;00m\n\u001b[1;32m   (...)\u001b[0m\n\u001b[0;32m    177\u001b[0m \n\u001b[0;32m    178\u001b[0m \u001b[38;5;124;03m    \"\"\"\u001b[39;00m\n\u001b[1;32m--> 179\u001b[0m     \u001b[38;5;28;01mraise\u001b[39;00m \u001b[38;5;167;01mTypeError\u001b[39;00m(\u001b[38;5;124mf\u001b[39m\u001b[38;5;124m'\u001b[39m\u001b[38;5;124mObject of type \u001b[39m\u001b[38;5;132;01m{\u001b[39;00mo\u001b[38;5;241m.\u001b[39m\u001b[38;5;18m__class__\u001b[39m\u001b[38;5;241m.\u001b[39m\u001b[38;5;18m__name__\u001b[39m\u001b[38;5;132;01m}\u001b[39;00m\u001b[38;5;124m \u001b[39m\u001b[38;5;124m'\u001b[39m\n\u001b[0;32m    180\u001b[0m                     \u001b[38;5;124mf\u001b[39m\u001b[38;5;124m'\u001b[39m\u001b[38;5;124mis not JSON serializable\u001b[39m\u001b[38;5;124m'\u001b[39m)\n",
      "\u001b[1;31mTypeError\u001b[0m: Object of type complex is not JSON serializable"
     ]
    },
    {
     "data": {
      "text/plain": [
       "PreparedData(topic_coordinates=                        x                   y  topics  cluster       Freq\n",
       "topic                                                                    \n",
       "16    -0.311937+0.000000j  0.093408+0.000000j       1        1  34.170681\n",
       "15    -0.259291+0.000000j  0.075203+0.000000j       2        1  16.041469\n",
       "1     -0.238757+0.000000j -0.043602+0.000000j       3        1   8.391980\n",
       "12    -0.176260+0.000000j -0.240750+0.000000j       4        1   6.432946\n",
       "0     -0.273904+0.000000j  0.005786+0.000000j       5        1   6.090315\n",
       "2     -0.104811+0.000000j -0.166985+0.000000j       6        1   5.782300\n",
       "4     -0.122852+0.000000j -0.221363+0.000000j       7        1   5.453709\n",
       "13    -0.051073+0.000000j -0.085216+0.000000j       8        1   3.210755\n",
       "8     -0.142006+0.000000j  0.173012+0.000000j       9        1   3.142411\n",
       "7     -0.105764+0.000000j  0.159415+0.000000j      10        1   2.596228\n",
       "21    -0.165573+0.000000j  0.140219+0.000000j      11        1   2.310084\n",
       "17    -0.028205+0.000000j  0.041678+0.000000j      12        1   1.798615\n",
       "3      0.082765+0.000000j -0.029677+0.000000j      13        1   1.329341\n",
       "22     0.067033+0.000000j  0.005189+0.000000j      14        1   0.910611\n",
       "10     0.143901+0.000000j -0.015252+0.000000j      15        1   0.513276\n",
       "6      0.172764+0.000000j  0.014109+0.000000j      16        1   0.446485\n",
       "23     0.156955+0.000000j  0.009056+0.000000j      17        1   0.418763\n",
       "18     0.171930+0.000000j  0.016283+0.000000j      18        1   0.362477\n",
       "5      0.169913+0.000000j  0.011500+0.000000j      19        1   0.340333\n",
       "14     0.175664+0.000000j  0.013172+0.000000j      20        1   0.165228\n",
       "9      0.170552+0.000000j  0.009297+0.000000j      21        1   0.046302\n",
       "11     0.168276+0.000000j  0.009153+0.000000j      22        1   0.024050\n",
       "20     0.166893+0.000000j  0.008788+0.000000j      23        1   0.007296\n",
       "19     0.166893+0.000000j  0.008788+0.000000j      24        1   0.007258\n",
       "24     0.166893+0.000000j  0.008788+0.000000j      25        1   0.007086, topic_info=           Term         Freq        Total Category  logprob  loglift\n",
       "45    принимать  1165.000000  1165.000000  Default  30.0000  30.0000\n",
       "332    внимание  1118.000000  1118.000000  Default  29.0000  29.0000\n",
       "55       раздел   608.000000   608.000000  Default  28.0000  28.0000\n",
       "281      услуга   782.000000   782.000000  Default  27.0000  27.0000\n",
       "244     контент   498.000000   498.000000  Default  26.0000  26.0000\n",
       "..          ...          ...          ...      ...      ...      ...\n",
       "25   корпорация     0.000926   529.094564  Topic25  -8.6355  -3.7016\n",
       "26         мера     0.000926    30.869650  Topic25  -8.6355  -0.8602\n",
       "27    назначать     0.000926    22.922479  Topic25  -8.6355  -0.5625\n",
       "28   назначение     0.000926    51.778174  Topic25  -8.6355  -1.3774\n",
       "29     называть     0.000926     2.615946  Topic25  -8.6355   1.6080\n",
       "\n",
       "[1315 rows x 6 columns], token_table=      Topic      Freq       Term\n",
       "term                            \n",
       "287       2  0.992923      автор\n",
       "481       3  0.943447  авторский\n",
       "582       8  0.367049      агент\n",
       "582       9  0.627042      агент\n",
       "974       9  0.924174  агентский\n",
       "...     ...       ...        ...\n",
       "392       2  0.095869     январь\n",
       "392       5  0.205434     январь\n",
       "392       8  0.082174     январь\n",
       "392      10  0.342390     январь\n",
       "392      11  0.041087     январь\n",
       "\n",
       "[1693 rows x 3 columns], R=30, lambda_step=0.01, plot_opts={'xlab': 'PC1', 'ylab': 'PC2'}, topic_order=[17, 16, 2, 13, 1, 3, 5, 14, 9, 8, 22, 18, 4, 23, 11, 7, 24, 19, 6, 15, 10, 12, 21, 20, 25])"
      ]
     },
     "execution_count": 107,
     "metadata": {},
     "output_type": "execute_result"
    }
   ],
   "source": [
    "# Visualize the topics\n",
    "pyLDAvis.enable_notebook()\n",
    "vis = pyLDAvis.gensim_models.prepare(lda_model, corpus, id2word)\n",
    "vis"
   ]
  },
  {
   "cell_type": "code",
   "execution_count": 115,
   "id": "744ea1cb",
   "metadata": {
    "ExecuteTime": {
     "end_time": "2022-12-11T11:31:06.040229Z",
     "start_time": "2022-12-11T11:31:05.998173Z"
    }
   },
   "outputs": [],
   "source": [
    "from sklearn.pipeline import Pipeline\n",
    "from sklearn.feature_extraction.text import CountVectorizer, TfidfVectorizer\n",
    "from sklearn.model_selection import StratifiedKFold, GridSearchCV, ParameterGrid\n",
    "from sklearn.naive_bayes import GaussianNB\n",
    "from sklearn.ensemble import RandomForestClassifier\n",
    "from sklearn.linear_model import LogisticRegression\n",
    "from xgboost import XGBClassifier\n",
    "\n",
    "import numpy as np"
   ]
  },
  {
   "cell_type": "code",
   "execution_count": 116,
   "id": "21b1268a",
   "metadata": {
    "ExecuteTime": {
     "end_time": "2022-12-11T11:31:10.970744Z",
     "start_time": "2022-12-11T11:31:10.952731Z"
    }
   },
   "outputs": [],
   "source": [
    "rand_state = 21"
   ]
  },
  {
   "cell_type": "code",
   "execution_count": 117,
   "id": "54073fdb",
   "metadata": {
    "ExecuteTime": {
     "end_time": "2022-12-11T11:31:24.783328Z",
     "start_time": "2022-12-11T11:31:24.773274Z"
    }
   },
   "outputs": [],
   "source": [
    "pipe = Pipeline(steps=[('vect', CountVectorizer()),\n",
    "                        ('est', LogisticRegression())])"
   ]
  },
  {
   "cell_type": "code",
   "execution_count": 122,
   "id": "4963ed6b",
   "metadata": {
    "ExecuteTime": {
     "end_time": "2022-12-11T11:32:47.751292Z",
     "start_time": "2022-12-11T11:32:47.724229Z"
    }
   },
   "outputs": [],
   "source": [
    "param_grid = [\n",
    "  {'vect': [CountVectorizer(), TfidfVectorizer()],\n",
    "   'vect__min_df': [2, 4, 6],\n",
    "   'vect__max_df': [0.9, 0.95],\n",
    "   'vect__ngram_range': [(1, 1), (1, 2)],\n",
    "   'est': [LogisticRegression()],\n",
    "   'est__C': np.logspace(-3, 2, 6),\n",
    "   'est__class_weight': [None, 'balanced'],\n",
    "   'est__random_state': [rand_state]},\n",
    "  {'vect': [CountVectorizer(), TfidfVectorizer()],\n",
    "   'vect__min_df': [2, 4, 6],\n",
    "   'vect__max_df': [0.9, 0.95],\n",
    "   'vect__ngram_range': [(1, 1), (1, 2)],\n",
    "   'est': [RandomForestClassifier(), XGBClassifier()],\n",
    "   'est__n_estimators': [100, 250, 500],\n",
    "   'est__class_weight': [None, 'balanced'],\n",
    "   'est__max_depth': [3, 5, 7]},\n",
    "  {'vect': [CountVectorizer()],\n",
    "   'vect__min_df': [2, 4, 6],\n",
    "   'vect__max_df': [0.9, 0.95],\n",
    "   'vect__ngram_range': [(1, 1), (1, 2)],\n",
    "   'est': [GaussianNB()]}\n",
    " ]\n"
   ]
  },
  {
   "cell_type": "code",
   "execution_count": 123,
   "id": "5049e472",
   "metadata": {
    "ExecuteTime": {
     "end_time": "2022-12-11T11:32:48.829874Z",
     "start_time": "2022-12-11T11:32:48.810833Z"
    }
   },
   "outputs": [],
   "source": [
    "skf = StratifiedKFold(n_splits=3,\n",
    "                      shuffle=True,\n",
    "                      random_state=rand_state)"
   ]
  },
  {
   "cell_type": "code",
   "execution_count": 124,
   "id": "a929909f",
   "metadata": {
    "ExecuteTime": {
     "end_time": "2022-12-11T11:32:50.941984Z",
     "start_time": "2022-12-11T11:32:50.924975Z"
    }
   },
   "outputs": [],
   "source": [
    "gs = GridSearchCV(estimator=pipe, param_grid=param_grid, scoring='f1_macro', n_jobs=-1, cv=skf, verbose=1, return_train_score=True)\n"
   ]
  },
  {
   "cell_type": "code",
   "execution_count": 125,
   "id": "735d0b67",
   "metadata": {
    "ExecuteTime": {
     "end_time": "2022-12-11T12:16:42.964622Z",
     "start_time": "2022-12-11T11:33:31.795526Z"
    }
   },
   "outputs": [
    {
     "name": "stdout",
     "output_type": "stream",
     "text": [
      "Fitting 3 folds for each of 1164 candidates, totalling 3492 fits\n"
     ]
    },
    {
     "data": {
      "text/html": [
       "<style>#sk-container-id-6 {color: black;background-color: white;}#sk-container-id-6 pre{padding: 0;}#sk-container-id-6 div.sk-toggleable {background-color: white;}#sk-container-id-6 label.sk-toggleable__label {cursor: pointer;display: block;width: 100%;margin-bottom: 0;padding: 0.3em;box-sizing: border-box;text-align: center;}#sk-container-id-6 label.sk-toggleable__label-arrow:before {content: \"▸\";float: left;margin-right: 0.25em;color: #696969;}#sk-container-id-6 label.sk-toggleable__label-arrow:hover:before {color: black;}#sk-container-id-6 div.sk-estimator:hover label.sk-toggleable__label-arrow:before {color: black;}#sk-container-id-6 div.sk-toggleable__content {max-height: 0;max-width: 0;overflow: hidden;text-align: left;background-color: #f0f8ff;}#sk-container-id-6 div.sk-toggleable__content pre {margin: 0.2em;color: black;border-radius: 0.25em;background-color: #f0f8ff;}#sk-container-id-6 input.sk-toggleable__control:checked~div.sk-toggleable__content {max-height: 200px;max-width: 100%;overflow: auto;}#sk-container-id-6 input.sk-toggleable__control:checked~label.sk-toggleable__label-arrow:before {content: \"▾\";}#sk-container-id-6 div.sk-estimator input.sk-toggleable__control:checked~label.sk-toggleable__label {background-color: #d4ebff;}#sk-container-id-6 div.sk-label input.sk-toggleable__control:checked~label.sk-toggleable__label {background-color: #d4ebff;}#sk-container-id-6 input.sk-hidden--visually {border: 0;clip: rect(1px 1px 1px 1px);clip: rect(1px, 1px, 1px, 1px);height: 1px;margin: -1px;overflow: hidden;padding: 0;position: absolute;width: 1px;}#sk-container-id-6 div.sk-estimator {font-family: monospace;background-color: #f0f8ff;border: 1px dotted black;border-radius: 0.25em;box-sizing: border-box;margin-bottom: 0.5em;}#sk-container-id-6 div.sk-estimator:hover {background-color: #d4ebff;}#sk-container-id-6 div.sk-parallel-item::after {content: \"\";width: 100%;border-bottom: 1px solid gray;flex-grow: 1;}#sk-container-id-6 div.sk-label:hover label.sk-toggleable__label {background-color: #d4ebff;}#sk-container-id-6 div.sk-serial::before {content: \"\";position: absolute;border-left: 1px solid gray;box-sizing: border-box;top: 0;bottom: 0;left: 50%;z-index: 0;}#sk-container-id-6 div.sk-serial {display: flex;flex-direction: column;align-items: center;background-color: white;padding-right: 0.2em;padding-left: 0.2em;position: relative;}#sk-container-id-6 div.sk-item {position: relative;z-index: 1;}#sk-container-id-6 div.sk-parallel {display: flex;align-items: stretch;justify-content: center;background-color: white;position: relative;}#sk-container-id-6 div.sk-item::before, #sk-container-id-6 div.sk-parallel-item::before {content: \"\";position: absolute;border-left: 1px solid gray;box-sizing: border-box;top: 0;bottom: 0;left: 50%;z-index: -1;}#sk-container-id-6 div.sk-parallel-item {display: flex;flex-direction: column;z-index: 1;position: relative;background-color: white;}#sk-container-id-6 div.sk-parallel-item:first-child::after {align-self: flex-end;width: 50%;}#sk-container-id-6 div.sk-parallel-item:last-child::after {align-self: flex-start;width: 50%;}#sk-container-id-6 div.sk-parallel-item:only-child::after {width: 0;}#sk-container-id-6 div.sk-dashed-wrapped {border: 1px dashed gray;margin: 0 0.4em 0.5em 0.4em;box-sizing: border-box;padding-bottom: 0.4em;background-color: white;}#sk-container-id-6 div.sk-label label {font-family: monospace;font-weight: bold;display: inline-block;line-height: 1.2em;}#sk-container-id-6 div.sk-label-container {text-align: center;}#sk-container-id-6 div.sk-container {/* jupyter's `normalize.less` sets `[hidden] { display: none; }` but bootstrap.min.css set `[hidden] { display: none !important; }` so we also need the `!important` here to be able to override the default hidden behavior on the sphinx rendered scikit-learn.org. See: https://github.com/scikit-learn/scikit-learn/issues/21755 */display: inline-block !important;position: relative;}#sk-container-id-6 div.sk-text-repr-fallback {display: none;}</style><div id=\"sk-container-id-6\" class=\"sk-top-container\"><div class=\"sk-text-repr-fallback\"><pre>GridSearchCV(cv=StratifiedKFold(n_splits=3, random_state=21, shuffle=True),\n",
       "             estimator=Pipeline(steps=[(&#x27;vect&#x27;, CountVectorizer()),\n",
       "                                       (&#x27;est&#x27;, LogisticRegression())]),\n",
       "             n_jobs=-1,\n",
       "             param_grid=[{&#x27;est&#x27;: [LogisticRegression()],\n",
       "                          &#x27;est__C&#x27;: array([1.e-03, 1.e-02, 1.e-01, 1.e+00, 1.e+01, 1.e+02]),\n",
       "                          &#x27;est__class_weight&#x27;: [None, &#x27;balanced&#x27;],\n",
       "                          &#x27;est__random_state&#x27;: [21],\n",
       "                          &#x27;vect&#x27;: [CountVecto...\n",
       "                          &#x27;vect&#x27;: [CountVectorizer(max_df=0.9, min_df=2,\n",
       "                                                   ngram_range=(1, 2)),\n",
       "                                   TfidfVectorizer()],\n",
       "                          &#x27;vect__max_df&#x27;: [0.9, 0.95],\n",
       "                          &#x27;vect__min_df&#x27;: [2, 4, 6],\n",
       "                          &#x27;vect__ngram_range&#x27;: [(1, 1), (1, 2)]},\n",
       "                         {&#x27;est&#x27;: [GaussianNB()], &#x27;vect&#x27;: [CountVectorizer()],\n",
       "                          &#x27;vect__max_df&#x27;: [0.9, 0.95],\n",
       "                          &#x27;vect__min_df&#x27;: [2, 4, 6],\n",
       "                          &#x27;vect__ngram_range&#x27;: [(1, 1), (1, 2)]}],\n",
       "             return_train_score=True, scoring=&#x27;f1_macro&#x27;, verbose=1)</pre><b>In a Jupyter environment, please rerun this cell to show the HTML representation or trust the notebook. <br />On GitHub, the HTML representation is unable to render, please try loading this page with nbviewer.org.</b></div><div class=\"sk-container\" hidden><div class=\"sk-item sk-dashed-wrapped\"><div class=\"sk-label-container\"><div class=\"sk-label sk-toggleable\"><input class=\"sk-toggleable__control sk-hidden--visually\" id=\"sk-estimator-id-6\" type=\"checkbox\" ><label for=\"sk-estimator-id-6\" class=\"sk-toggleable__label sk-toggleable__label-arrow\">GridSearchCV</label><div class=\"sk-toggleable__content\"><pre>GridSearchCV(cv=StratifiedKFold(n_splits=3, random_state=21, shuffle=True),\n",
       "             estimator=Pipeline(steps=[(&#x27;vect&#x27;, CountVectorizer()),\n",
       "                                       (&#x27;est&#x27;, LogisticRegression())]),\n",
       "             n_jobs=-1,\n",
       "             param_grid=[{&#x27;est&#x27;: [LogisticRegression()],\n",
       "                          &#x27;est__C&#x27;: array([1.e-03, 1.e-02, 1.e-01, 1.e+00, 1.e+01, 1.e+02]),\n",
       "                          &#x27;est__class_weight&#x27;: [None, &#x27;balanced&#x27;],\n",
       "                          &#x27;est__random_state&#x27;: [21],\n",
       "                          &#x27;vect&#x27;: [CountVecto...\n",
       "                          &#x27;vect&#x27;: [CountVectorizer(max_df=0.9, min_df=2,\n",
       "                                                   ngram_range=(1, 2)),\n",
       "                                   TfidfVectorizer()],\n",
       "                          &#x27;vect__max_df&#x27;: [0.9, 0.95],\n",
       "                          &#x27;vect__min_df&#x27;: [2, 4, 6],\n",
       "                          &#x27;vect__ngram_range&#x27;: [(1, 1), (1, 2)]},\n",
       "                         {&#x27;est&#x27;: [GaussianNB()], &#x27;vect&#x27;: [CountVectorizer()],\n",
       "                          &#x27;vect__max_df&#x27;: [0.9, 0.95],\n",
       "                          &#x27;vect__min_df&#x27;: [2, 4, 6],\n",
       "                          &#x27;vect__ngram_range&#x27;: [(1, 1), (1, 2)]}],\n",
       "             return_train_score=True, scoring=&#x27;f1_macro&#x27;, verbose=1)</pre></div></div></div><div class=\"sk-parallel\"><div class=\"sk-parallel-item\"><div class=\"sk-item\"><div class=\"sk-label-container\"><div class=\"sk-label sk-toggleable\"><input class=\"sk-toggleable__control sk-hidden--visually\" id=\"sk-estimator-id-7\" type=\"checkbox\" ><label for=\"sk-estimator-id-7\" class=\"sk-toggleable__label sk-toggleable__label-arrow\">estimator: Pipeline</label><div class=\"sk-toggleable__content\"><pre>Pipeline(steps=[(&#x27;vect&#x27;, CountVectorizer()), (&#x27;est&#x27;, LogisticRegression())])</pre></div></div></div><div class=\"sk-serial\"><div class=\"sk-item\"><div class=\"sk-serial\"><div class=\"sk-item\"><div class=\"sk-estimator sk-toggleable\"><input class=\"sk-toggleable__control sk-hidden--visually\" id=\"sk-estimator-id-8\" type=\"checkbox\" ><label for=\"sk-estimator-id-8\" class=\"sk-toggleable__label sk-toggleable__label-arrow\">CountVectorizer</label><div class=\"sk-toggleable__content\"><pre>CountVectorizer()</pre></div></div></div><div class=\"sk-item\"><div class=\"sk-estimator sk-toggleable\"><input class=\"sk-toggleable__control sk-hidden--visually\" id=\"sk-estimator-id-9\" type=\"checkbox\" ><label for=\"sk-estimator-id-9\" class=\"sk-toggleable__label sk-toggleable__label-arrow\">LogisticRegression</label><div class=\"sk-toggleable__content\"><pre>LogisticRegression()</pre></div></div></div></div></div></div></div></div></div></div></div></div>"
      ],
      "text/plain": [
       "GridSearchCV(cv=StratifiedKFold(n_splits=3, random_state=21, shuffle=True),\n",
       "             estimator=Pipeline(steps=[('vect', CountVectorizer()),\n",
       "                                       ('est', LogisticRegression())]),\n",
       "             n_jobs=-1,\n",
       "             param_grid=[{'est': [LogisticRegression()],\n",
       "                          'est__C': array([1.e-03, 1.e-02, 1.e-01, 1.e+00, 1.e+01, 1.e+02]),\n",
       "                          'est__class_weight': [None, 'balanced'],\n",
       "                          'est__random_state': [21],\n",
       "                          'vect': [CountVecto...\n",
       "                          'vect': [CountVectorizer(max_df=0.9, min_df=2,\n",
       "                                                   ngram_range=(1, 2)),\n",
       "                                   TfidfVectorizer()],\n",
       "                          'vect__max_df': [0.9, 0.95],\n",
       "                          'vect__min_df': [2, 4, 6],\n",
       "                          'vect__ngram_range': [(1, 1), (1, 2)]},\n",
       "                         {'est': [GaussianNB()], 'vect': [CountVectorizer()],\n",
       "                          'vect__max_df': [0.9, 0.95],\n",
       "                          'vect__min_df': [2, 4, 6],\n",
       "                          'vect__ngram_range': [(1, 1), (1, 2)]}],\n",
       "             return_train_score=True, scoring='f1_macro', verbose=1)"
      ]
     },
     "execution_count": 125,
     "metadata": {},
     "output_type": "execute_result"
    }
   ],
   "source": [
    "gs.fit(filtered_sentence, Y)"
   ]
  },
  {
   "cell_type": "code",
   "execution_count": 127,
   "id": "82548b00",
   "metadata": {
    "ExecuteTime": {
     "end_time": "2022-12-11T14:08:47.788882Z",
     "start_time": "2022-12-11T14:08:47.748229Z"
    }
   },
   "outputs": [
    {
     "data": {
      "text/html": [
       "<style>#sk-container-id-8 {color: black;background-color: white;}#sk-container-id-8 pre{padding: 0;}#sk-container-id-8 div.sk-toggleable {background-color: white;}#sk-container-id-8 label.sk-toggleable__label {cursor: pointer;display: block;width: 100%;margin-bottom: 0;padding: 0.3em;box-sizing: border-box;text-align: center;}#sk-container-id-8 label.sk-toggleable__label-arrow:before {content: \"▸\";float: left;margin-right: 0.25em;color: #696969;}#sk-container-id-8 label.sk-toggleable__label-arrow:hover:before {color: black;}#sk-container-id-8 div.sk-estimator:hover label.sk-toggleable__label-arrow:before {color: black;}#sk-container-id-8 div.sk-toggleable__content {max-height: 0;max-width: 0;overflow: hidden;text-align: left;background-color: #f0f8ff;}#sk-container-id-8 div.sk-toggleable__content pre {margin: 0.2em;color: black;border-radius: 0.25em;background-color: #f0f8ff;}#sk-container-id-8 input.sk-toggleable__control:checked~div.sk-toggleable__content {max-height: 200px;max-width: 100%;overflow: auto;}#sk-container-id-8 input.sk-toggleable__control:checked~label.sk-toggleable__label-arrow:before {content: \"▾\";}#sk-container-id-8 div.sk-estimator input.sk-toggleable__control:checked~label.sk-toggleable__label {background-color: #d4ebff;}#sk-container-id-8 div.sk-label input.sk-toggleable__control:checked~label.sk-toggleable__label {background-color: #d4ebff;}#sk-container-id-8 input.sk-hidden--visually {border: 0;clip: rect(1px 1px 1px 1px);clip: rect(1px, 1px, 1px, 1px);height: 1px;margin: -1px;overflow: hidden;padding: 0;position: absolute;width: 1px;}#sk-container-id-8 div.sk-estimator {font-family: monospace;background-color: #f0f8ff;border: 1px dotted black;border-radius: 0.25em;box-sizing: border-box;margin-bottom: 0.5em;}#sk-container-id-8 div.sk-estimator:hover {background-color: #d4ebff;}#sk-container-id-8 div.sk-parallel-item::after {content: \"\";width: 100%;border-bottom: 1px solid gray;flex-grow: 1;}#sk-container-id-8 div.sk-label:hover label.sk-toggleable__label {background-color: #d4ebff;}#sk-container-id-8 div.sk-serial::before {content: \"\";position: absolute;border-left: 1px solid gray;box-sizing: border-box;top: 0;bottom: 0;left: 50%;z-index: 0;}#sk-container-id-8 div.sk-serial {display: flex;flex-direction: column;align-items: center;background-color: white;padding-right: 0.2em;padding-left: 0.2em;position: relative;}#sk-container-id-8 div.sk-item {position: relative;z-index: 1;}#sk-container-id-8 div.sk-parallel {display: flex;align-items: stretch;justify-content: center;background-color: white;position: relative;}#sk-container-id-8 div.sk-item::before, #sk-container-id-8 div.sk-parallel-item::before {content: \"\";position: absolute;border-left: 1px solid gray;box-sizing: border-box;top: 0;bottom: 0;left: 50%;z-index: -1;}#sk-container-id-8 div.sk-parallel-item {display: flex;flex-direction: column;z-index: 1;position: relative;background-color: white;}#sk-container-id-8 div.sk-parallel-item:first-child::after {align-self: flex-end;width: 50%;}#sk-container-id-8 div.sk-parallel-item:last-child::after {align-self: flex-start;width: 50%;}#sk-container-id-8 div.sk-parallel-item:only-child::after {width: 0;}#sk-container-id-8 div.sk-dashed-wrapped {border: 1px dashed gray;margin: 0 0.4em 0.5em 0.4em;box-sizing: border-box;padding-bottom: 0.4em;background-color: white;}#sk-container-id-8 div.sk-label label {font-family: monospace;font-weight: bold;display: inline-block;line-height: 1.2em;}#sk-container-id-8 div.sk-label-container {text-align: center;}#sk-container-id-8 div.sk-container {/* jupyter's `normalize.less` sets `[hidden] { display: none; }` but bootstrap.min.css set `[hidden] { display: none !important; }` so we also need the `!important` here to be able to override the default hidden behavior on the sphinx rendered scikit-learn.org. See: https://github.com/scikit-learn/scikit-learn/issues/21755 */display: inline-block !important;position: relative;}#sk-container-id-8 div.sk-text-repr-fallback {display: none;}</style><div id=\"sk-container-id-8\" class=\"sk-top-container\"><div class=\"sk-text-repr-fallback\"><pre>Pipeline(steps=[(&#x27;vect&#x27;,\n",
       "                 CountVectorizer(max_df=0.9, min_df=2, ngram_range=(1, 2))),\n",
       "                (&#x27;est&#x27;,\n",
       "                 XGBClassifier(base_score=0.5, booster=&#x27;gbtree&#x27;, callbacks=None,\n",
       "                               class_weight=None, colsample_bylevel=1,\n",
       "                               colsample_bynode=1, colsample_bytree=1,\n",
       "                               early_stopping_rounds=None,\n",
       "                               enable_categorical=False, eval_metric=None,\n",
       "                               feature_types=None, gamma=0, gpu_id=-1,\n",
       "                               grow_policy=&#x27;depthwise&#x27;, importance_type=None,\n",
       "                               interaction_constraints=&#x27;&#x27;,\n",
       "                               learning_rate=0.300000012, max_bin=256,\n",
       "                               max_cat_threshold=64, max_cat_to_onehot=4,\n",
       "                               max_delta_step=0, max_depth=7, max_leaves=0,\n",
       "                               min_child_weight=1, missing=nan,\n",
       "                               monotone_constraints=&#x27;()&#x27;, n_estimators=100,\n",
       "                               n_jobs=0, num_parallel_tree=1,\n",
       "                               objective=&#x27;multi:softprob&#x27;, ...))])</pre><b>In a Jupyter environment, please rerun this cell to show the HTML representation or trust the notebook. <br />On GitHub, the HTML representation is unable to render, please try loading this page with nbviewer.org.</b></div><div class=\"sk-container\" hidden><div class=\"sk-item sk-dashed-wrapped\"><div class=\"sk-label-container\"><div class=\"sk-label sk-toggleable\"><input class=\"sk-toggleable__control sk-hidden--visually\" id=\"sk-estimator-id-14\" type=\"checkbox\" ><label for=\"sk-estimator-id-14\" class=\"sk-toggleable__label sk-toggleable__label-arrow\">Pipeline</label><div class=\"sk-toggleable__content\"><pre>Pipeline(steps=[(&#x27;vect&#x27;,\n",
       "                 CountVectorizer(max_df=0.9, min_df=2, ngram_range=(1, 2))),\n",
       "                (&#x27;est&#x27;,\n",
       "                 XGBClassifier(base_score=0.5, booster=&#x27;gbtree&#x27;, callbacks=None,\n",
       "                               class_weight=None, colsample_bylevel=1,\n",
       "                               colsample_bynode=1, colsample_bytree=1,\n",
       "                               early_stopping_rounds=None,\n",
       "                               enable_categorical=False, eval_metric=None,\n",
       "                               feature_types=None, gamma=0, gpu_id=-1,\n",
       "                               grow_policy=&#x27;depthwise&#x27;, importance_type=None,\n",
       "                               interaction_constraints=&#x27;&#x27;,\n",
       "                               learning_rate=0.300000012, max_bin=256,\n",
       "                               max_cat_threshold=64, max_cat_to_onehot=4,\n",
       "                               max_delta_step=0, max_depth=7, max_leaves=0,\n",
       "                               min_child_weight=1, missing=nan,\n",
       "                               monotone_constraints=&#x27;()&#x27;, n_estimators=100,\n",
       "                               n_jobs=0, num_parallel_tree=1,\n",
       "                               objective=&#x27;multi:softprob&#x27;, ...))])</pre></div></div></div><div class=\"sk-serial\"><div class=\"sk-item\"><div class=\"sk-estimator sk-toggleable\"><input class=\"sk-toggleable__control sk-hidden--visually\" id=\"sk-estimator-id-15\" type=\"checkbox\" ><label for=\"sk-estimator-id-15\" class=\"sk-toggleable__label sk-toggleable__label-arrow\">CountVectorizer</label><div class=\"sk-toggleable__content\"><pre>CountVectorizer(max_df=0.9, min_df=2, ngram_range=(1, 2))</pre></div></div></div><div class=\"sk-item\"><div class=\"sk-estimator sk-toggleable\"><input class=\"sk-toggleable__control sk-hidden--visually\" id=\"sk-estimator-id-16\" type=\"checkbox\" ><label for=\"sk-estimator-id-16\" class=\"sk-toggleable__label sk-toggleable__label-arrow\">XGBClassifier</label><div class=\"sk-toggleable__content\"><pre>XGBClassifier(base_score=0.5, booster=&#x27;gbtree&#x27;, callbacks=None,\n",
       "              class_weight=None, colsample_bylevel=1, colsample_bynode=1,\n",
       "              colsample_bytree=1, early_stopping_rounds=None,\n",
       "              enable_categorical=False, eval_metric=None, feature_types=None,\n",
       "              gamma=0, gpu_id=-1, grow_policy=&#x27;depthwise&#x27;, importance_type=None,\n",
       "              interaction_constraints=&#x27;&#x27;, learning_rate=0.300000012,\n",
       "              max_bin=256, max_cat_threshold=64, max_cat_to_onehot=4,\n",
       "              max_delta_step=0, max_depth=7, max_leaves=0, min_child_weight=1,\n",
       "              missing=nan, monotone_constraints=&#x27;()&#x27;, n_estimators=100,\n",
       "              n_jobs=0, num_parallel_tree=1, objective=&#x27;multi:softprob&#x27;, ...)</pre></div></div></div></div></div></div></div>"
      ],
      "text/plain": [
       "Pipeline(steps=[('vect',\n",
       "                 CountVectorizer(max_df=0.9, min_df=2, ngram_range=(1, 2))),\n",
       "                ('est',\n",
       "                 XGBClassifier(base_score=0.5, booster='gbtree', callbacks=None,\n",
       "                               class_weight=None, colsample_bylevel=1,\n",
       "                               colsample_bynode=1, colsample_bytree=1,\n",
       "                               early_stopping_rounds=None,\n",
       "                               enable_categorical=False, eval_metric=None,\n",
       "                               feature_types=None, gamma=0, gpu_id=-1,\n",
       "                               grow_policy='depthwise', importance_type=None,\n",
       "                               interaction_constraints='',\n",
       "                               learning_rate=0.300000012, max_bin=256,\n",
       "                               max_cat_threshold=64, max_cat_to_onehot=4,\n",
       "                               max_delta_step=0, max_depth=7, max_leaves=0,\n",
       "                               min_child_weight=1, missing=nan,\n",
       "                               monotone_constraints='()', n_estimators=100,\n",
       "                               n_jobs=0, num_parallel_tree=1,\n",
       "                               objective='multi:softprob', ...))])"
      ]
     },
     "execution_count": 127,
     "metadata": {},
     "output_type": "execute_result"
    }
   ],
   "source": [
    "gs.best_estimator_"
   ]
  },
  {
   "cell_type": "code",
   "execution_count": 210,
   "id": "dbfc76a3",
   "metadata": {
    "ExecuteTime": {
     "end_time": "2022-12-11T17:04:18.126755Z",
     "start_time": "2022-12-11T17:04:18.101796Z"
    }
   },
   "outputs": [
    {
     "data": {
      "text/plain": [
       "{'est': XGBClassifier(base_score=None, booster=None, callbacks=None, class_weight=None,\n",
       "               colsample_bylevel=None, colsample_bynode=None,\n",
       "               colsample_bytree=None, early_stopping_rounds=None,\n",
       "               enable_categorical=False, eval_metric=None, feature_types=None,\n",
       "               gamma=None, gpu_id=None, grow_policy=None, importance_type=None,\n",
       "               interaction_constraints=None, learning_rate=None, max_bin=None,\n",
       "               max_cat_threshold=None, max_cat_to_onehot=None,\n",
       "               max_delta_step=None, max_depth=7, max_leaves=None,\n",
       "               min_child_weight=None, missing=nan, monotone_constraints=None,\n",
       "               n_estimators=100, n_jobs=None, num_parallel_tree=None,\n",
       "               predictor=None, ...),\n",
       " 'est__class_weight': None,\n",
       " 'est__max_depth': 7,\n",
       " 'est__n_estimators': 100,\n",
       " 'vect': CountVectorizer(max_df=0.9, min_df=2, ngram_range=(1, 2)),\n",
       " 'vect__max_df': 0.9,\n",
       " 'vect__min_df': 2,\n",
       " 'vect__ngram_range': (1, 2)}"
      ]
     },
     "execution_count": 210,
     "metadata": {},
     "output_type": "execute_result"
    }
   ],
   "source": [
    "gs.best_params_"
   ]
  },
  {
   "cell_type": "code",
   "execution_count": 129,
   "id": "ea6befdb",
   "metadata": {
    "ExecuteTime": {
     "end_time": "2022-12-11T14:09:10.581778Z",
     "start_time": "2022-12-11T14:09:10.572719Z"
    }
   },
   "outputs": [
    {
     "data": {
      "text/plain": [
       "0.7779524256522506"
      ]
     },
     "execution_count": 129,
     "metadata": {},
     "output_type": "execute_result"
    }
   ],
   "source": [
    "gs.best_score_"
   ]
  },
  {
   "cell_type": "code",
   "execution_count": null,
   "id": "65aac1d7",
   "metadata": {},
   "outputs": [],
   "source": [
    "   'est__reg_lambda': [5, 10, 100],\n",
    "   'est__reg_alpha': [5, 10, 100],\n",
    "    'est__learning_rate': [0.05, 0.01, 0.1, 0.5]"
   ]
  },
  {
   "cell_type": "code",
   "execution_count": 533,
   "id": "e2bd0dd5",
   "metadata": {
    "ExecuteTime": {
     "end_time": "2022-12-11T21:27:48.730225Z",
     "start_time": "2022-12-11T21:27:48.718102Z"
    }
   },
   "outputs": [],
   "source": [
    "\n",
    "param_grid1 = [\n",
    "  {'vect': [CountVectorizer()],\n",
    "   'vect__min_df': [2],\n",
    "   'vect__max_df': [0.9],\n",
    "   'vect__max_features': [1024],\n",
    "   'vect__ngram_range': [(1, 1)],\n",
    "   'est': [XGBClassifier()],\n",
    "   'est__n_estimators': [100],\n",
    "   'est__class_weight': [None],\n",
    "   'est__max_depth': [7],\n",
    "   'est__reg_lambda': [0.01, 0.05, 0.1, 0.5, 0, 1, 3],\n",
    "   'est__reg_alpha': [0.01, 0.05, 0.1, 0.5, 0, 1, 3],\n",
    "   'est__learning_rate': [0.01, 0.1, 0.5, 1]\n",
    "   }\n",
    " ]\n"
   ]
  },
  {
   "cell_type": "code",
   "execution_count": 534,
   "id": "fe949a87",
   "metadata": {
    "ExecuteTime": {
     "end_time": "2022-12-11T21:27:49.345240Z",
     "start_time": "2022-12-11T21:27:49.331216Z"
    }
   },
   "outputs": [],
   "source": [
    "gs1 = GridSearchCV(estimator=pipe, param_grid=param_grid1, scoring='f1_macro', n_jobs=-1, cv=skf, verbose=2, return_train_score=True)\n"
   ]
  },
  {
   "cell_type": "code",
   "execution_count": 535,
   "id": "c9ac9b02",
   "metadata": {
    "ExecuteTime": {
     "end_time": "2022-12-11T21:30:30.517271Z",
     "start_time": "2022-12-11T21:27:50.043833Z"
    }
   },
   "outputs": [
    {
     "name": "stdout",
     "output_type": "stream",
     "text": [
      "Fitting 3 folds for each of 196 candidates, totalling 588 fits\n"
     ]
    },
    {
     "data": {
      "text/html": [
       "<style>#sk-container-id-32 {color: black;background-color: white;}#sk-container-id-32 pre{padding: 0;}#sk-container-id-32 div.sk-toggleable {background-color: white;}#sk-container-id-32 label.sk-toggleable__label {cursor: pointer;display: block;width: 100%;margin-bottom: 0;padding: 0.3em;box-sizing: border-box;text-align: center;}#sk-container-id-32 label.sk-toggleable__label-arrow:before {content: \"▸\";float: left;margin-right: 0.25em;color: #696969;}#sk-container-id-32 label.sk-toggleable__label-arrow:hover:before {color: black;}#sk-container-id-32 div.sk-estimator:hover label.sk-toggleable__label-arrow:before {color: black;}#sk-container-id-32 div.sk-toggleable__content {max-height: 0;max-width: 0;overflow: hidden;text-align: left;background-color: #f0f8ff;}#sk-container-id-32 div.sk-toggleable__content pre {margin: 0.2em;color: black;border-radius: 0.25em;background-color: #f0f8ff;}#sk-container-id-32 input.sk-toggleable__control:checked~div.sk-toggleable__content {max-height: 200px;max-width: 100%;overflow: auto;}#sk-container-id-32 input.sk-toggleable__control:checked~label.sk-toggleable__label-arrow:before {content: \"▾\";}#sk-container-id-32 div.sk-estimator input.sk-toggleable__control:checked~label.sk-toggleable__label {background-color: #d4ebff;}#sk-container-id-32 div.sk-label input.sk-toggleable__control:checked~label.sk-toggleable__label {background-color: #d4ebff;}#sk-container-id-32 input.sk-hidden--visually {border: 0;clip: rect(1px 1px 1px 1px);clip: rect(1px, 1px, 1px, 1px);height: 1px;margin: -1px;overflow: hidden;padding: 0;position: absolute;width: 1px;}#sk-container-id-32 div.sk-estimator {font-family: monospace;background-color: #f0f8ff;border: 1px dotted black;border-radius: 0.25em;box-sizing: border-box;margin-bottom: 0.5em;}#sk-container-id-32 div.sk-estimator:hover {background-color: #d4ebff;}#sk-container-id-32 div.sk-parallel-item::after {content: \"\";width: 100%;border-bottom: 1px solid gray;flex-grow: 1;}#sk-container-id-32 div.sk-label:hover label.sk-toggleable__label {background-color: #d4ebff;}#sk-container-id-32 div.sk-serial::before {content: \"\";position: absolute;border-left: 1px solid gray;box-sizing: border-box;top: 0;bottom: 0;left: 50%;z-index: 0;}#sk-container-id-32 div.sk-serial {display: flex;flex-direction: column;align-items: center;background-color: white;padding-right: 0.2em;padding-left: 0.2em;position: relative;}#sk-container-id-32 div.sk-item {position: relative;z-index: 1;}#sk-container-id-32 div.sk-parallel {display: flex;align-items: stretch;justify-content: center;background-color: white;position: relative;}#sk-container-id-32 div.sk-item::before, #sk-container-id-32 div.sk-parallel-item::before {content: \"\";position: absolute;border-left: 1px solid gray;box-sizing: border-box;top: 0;bottom: 0;left: 50%;z-index: -1;}#sk-container-id-32 div.sk-parallel-item {display: flex;flex-direction: column;z-index: 1;position: relative;background-color: white;}#sk-container-id-32 div.sk-parallel-item:first-child::after {align-self: flex-end;width: 50%;}#sk-container-id-32 div.sk-parallel-item:last-child::after {align-self: flex-start;width: 50%;}#sk-container-id-32 div.sk-parallel-item:only-child::after {width: 0;}#sk-container-id-32 div.sk-dashed-wrapped {border: 1px dashed gray;margin: 0 0.4em 0.5em 0.4em;box-sizing: border-box;padding-bottom: 0.4em;background-color: white;}#sk-container-id-32 div.sk-label label {font-family: monospace;font-weight: bold;display: inline-block;line-height: 1.2em;}#sk-container-id-32 div.sk-label-container {text-align: center;}#sk-container-id-32 div.sk-container {/* jupyter's `normalize.less` sets `[hidden] { display: none; }` but bootstrap.min.css set `[hidden] { display: none !important; }` so we also need the `!important` here to be able to override the default hidden behavior on the sphinx rendered scikit-learn.org. See: https://github.com/scikit-learn/scikit-learn/issues/21755 */display: inline-block !important;position: relative;}#sk-container-id-32 div.sk-text-repr-fallback {display: none;}</style><div id=\"sk-container-id-32\" class=\"sk-top-container\"><div class=\"sk-text-repr-fallback\"><pre>GridSearchCV(cv=StratifiedKFold(n_splits=3, random_state=21, shuffle=True),\n",
       "             estimator=Pipeline(steps=[(&#x27;vect&#x27;, CountVectorizer()),\n",
       "                                       (&#x27;est&#x27;, LogisticRegression())]),\n",
       "             n_jobs=-1,\n",
       "             param_grid=[{&#x27;est&#x27;: [XGBClassifier(base_score=None, booster=None,\n",
       "                                                callbacks=None,\n",
       "                                                class_weight=None,\n",
       "                                                colsample_bylevel=None,\n",
       "                                                colsample_bynode=None,\n",
       "                                                colsample_bytree=None,\n",
       "                                                early_stopping_round...\n",
       "                          &#x27;est__learning_rate&#x27;: [0.01, 0.1, 0.5, 1],\n",
       "                          &#x27;est__max_depth&#x27;: [7], &#x27;est__n_estimators&#x27;: [100],\n",
       "                          &#x27;est__reg_alpha&#x27;: [0.01, 0.05, 0.1, 0.5, 0, 1, 3],\n",
       "                          &#x27;est__reg_lambda&#x27;: [0.01, 0.05, 0.1, 0.5, 0, 1, 3],\n",
       "                          &#x27;vect&#x27;: [CountVectorizer(max_df=0.9,\n",
       "                                                   max_features=1024,\n",
       "                                                   min_df=2)],\n",
       "                          &#x27;vect__max_df&#x27;: [0.9], &#x27;vect__max_features&#x27;: [1024],\n",
       "                          &#x27;vect__min_df&#x27;: [2], &#x27;vect__ngram_range&#x27;: [(1, 1)]}],\n",
       "             return_train_score=True, scoring=&#x27;f1_macro&#x27;, verbose=2)</pre><b>In a Jupyter environment, please rerun this cell to show the HTML representation or trust the notebook. <br />On GitHub, the HTML representation is unable to render, please try loading this page with nbviewer.org.</b></div><div class=\"sk-container\" hidden><div class=\"sk-item sk-dashed-wrapped\"><div class=\"sk-label-container\"><div class=\"sk-label sk-toggleable\"><input class=\"sk-toggleable__control sk-hidden--visually\" id=\"sk-estimator-id-98\" type=\"checkbox\" ><label for=\"sk-estimator-id-98\" class=\"sk-toggleable__label sk-toggleable__label-arrow\">GridSearchCV</label><div class=\"sk-toggleable__content\"><pre>GridSearchCV(cv=StratifiedKFold(n_splits=3, random_state=21, shuffle=True),\n",
       "             estimator=Pipeline(steps=[(&#x27;vect&#x27;, CountVectorizer()),\n",
       "                                       (&#x27;est&#x27;, LogisticRegression())]),\n",
       "             n_jobs=-1,\n",
       "             param_grid=[{&#x27;est&#x27;: [XGBClassifier(base_score=None, booster=None,\n",
       "                                                callbacks=None,\n",
       "                                                class_weight=None,\n",
       "                                                colsample_bylevel=None,\n",
       "                                                colsample_bynode=None,\n",
       "                                                colsample_bytree=None,\n",
       "                                                early_stopping_round...\n",
       "                          &#x27;est__learning_rate&#x27;: [0.01, 0.1, 0.5, 1],\n",
       "                          &#x27;est__max_depth&#x27;: [7], &#x27;est__n_estimators&#x27;: [100],\n",
       "                          &#x27;est__reg_alpha&#x27;: [0.01, 0.05, 0.1, 0.5, 0, 1, 3],\n",
       "                          &#x27;est__reg_lambda&#x27;: [0.01, 0.05, 0.1, 0.5, 0, 1, 3],\n",
       "                          &#x27;vect&#x27;: [CountVectorizer(max_df=0.9,\n",
       "                                                   max_features=1024,\n",
       "                                                   min_df=2)],\n",
       "                          &#x27;vect__max_df&#x27;: [0.9], &#x27;vect__max_features&#x27;: [1024],\n",
       "                          &#x27;vect__min_df&#x27;: [2], &#x27;vect__ngram_range&#x27;: [(1, 1)]}],\n",
       "             return_train_score=True, scoring=&#x27;f1_macro&#x27;, verbose=2)</pre></div></div></div><div class=\"sk-parallel\"><div class=\"sk-parallel-item\"><div class=\"sk-item\"><div class=\"sk-label-container\"><div class=\"sk-label sk-toggleable\"><input class=\"sk-toggleable__control sk-hidden--visually\" id=\"sk-estimator-id-99\" type=\"checkbox\" ><label for=\"sk-estimator-id-99\" class=\"sk-toggleable__label sk-toggleable__label-arrow\">estimator: Pipeline</label><div class=\"sk-toggleable__content\"><pre>Pipeline(steps=[(&#x27;vect&#x27;, CountVectorizer()), (&#x27;est&#x27;, LogisticRegression())])</pre></div></div></div><div class=\"sk-serial\"><div class=\"sk-item\"><div class=\"sk-serial\"><div class=\"sk-item\"><div class=\"sk-estimator sk-toggleable\"><input class=\"sk-toggleable__control sk-hidden--visually\" id=\"sk-estimator-id-100\" type=\"checkbox\" ><label for=\"sk-estimator-id-100\" class=\"sk-toggleable__label sk-toggleable__label-arrow\">CountVectorizer</label><div class=\"sk-toggleable__content\"><pre>CountVectorizer()</pre></div></div></div><div class=\"sk-item\"><div class=\"sk-estimator sk-toggleable\"><input class=\"sk-toggleable__control sk-hidden--visually\" id=\"sk-estimator-id-101\" type=\"checkbox\" ><label for=\"sk-estimator-id-101\" class=\"sk-toggleable__label sk-toggleable__label-arrow\">LogisticRegression</label><div class=\"sk-toggleable__content\"><pre>LogisticRegression()</pre></div></div></div></div></div></div></div></div></div></div></div></div>"
      ],
      "text/plain": [
       "GridSearchCV(cv=StratifiedKFold(n_splits=3, random_state=21, shuffle=True),\n",
       "             estimator=Pipeline(steps=[('vect', CountVectorizer()),\n",
       "                                       ('est', LogisticRegression())]),\n",
       "             n_jobs=-1,\n",
       "             param_grid=[{'est': [XGBClassifier(base_score=None, booster=None,\n",
       "                                                callbacks=None,\n",
       "                                                class_weight=None,\n",
       "                                                colsample_bylevel=None,\n",
       "                                                colsample_bynode=None,\n",
       "                                                colsample_bytree=None,\n",
       "                                                early_stopping_round...\n",
       "                          'est__learning_rate': [0.01, 0.1, 0.5, 1],\n",
       "                          'est__max_depth': [7], 'est__n_estimators': [100],\n",
       "                          'est__reg_alpha': [0.01, 0.05, 0.1, 0.5, 0, 1, 3],\n",
       "                          'est__reg_lambda': [0.01, 0.05, 0.1, 0.5, 0, 1, 3],\n",
       "                          'vect': [CountVectorizer(max_df=0.9,\n",
       "                                                   max_features=1024,\n",
       "                                                   min_df=2)],\n",
       "                          'vect__max_df': [0.9], 'vect__max_features': [1024],\n",
       "                          'vect__min_df': [2], 'vect__ngram_range': [(1, 1)]}],\n",
       "             return_train_score=True, scoring='f1_macro', verbose=2)"
      ]
     },
     "execution_count": 535,
     "metadata": {},
     "output_type": "execute_result"
    }
   ],
   "source": [
    "gs1.fit(filtered_sentence, Y)"
   ]
  },
  {
   "cell_type": "code",
   "execution_count": 536,
   "id": "e368346c",
   "metadata": {
    "ExecuteTime": {
     "end_time": "2022-12-11T21:31:37.790476Z",
     "start_time": "2022-12-11T21:31:37.777366Z"
    }
   },
   "outputs": [
    {
     "data": {
      "text/plain": [
       "0.7774630863470545"
      ]
     },
     "execution_count": 536,
     "metadata": {},
     "output_type": "execute_result"
    }
   ],
   "source": [
    "gs1.best_score_"
   ]
  },
  {
   "cell_type": "code",
   "execution_count": 537,
   "id": "b90686e9",
   "metadata": {
    "ExecuteTime": {
     "end_time": "2022-12-11T21:31:45.218966Z",
     "start_time": "2022-12-11T21:31:45.198855Z"
    }
   },
   "outputs": [
    {
     "data": {
      "text/plain": [
       "{'est': XGBClassifier(base_score=None, booster=None, callbacks=None, class_weight=None,\n",
       "               colsample_bylevel=None, colsample_bynode=None,\n",
       "               colsample_bytree=None, early_stopping_rounds=None,\n",
       "               enable_categorical=False, eval_metric=None, feature_types=None,\n",
       "               gamma=None, gpu_id=None, grow_policy=None, importance_type=None,\n",
       "               interaction_constraints=None, learning_rate=0.1, max_bin=None,\n",
       "               max_cat_threshold=None, max_cat_to_onehot=None,\n",
       "               max_delta_step=None, max_depth=7, max_leaves=None,\n",
       "               min_child_weight=None, missing=nan, monotone_constraints=None,\n",
       "               n_estimators=100, n_jobs=None, num_parallel_tree=None,\n",
       "               predictor=None, ...),\n",
       " 'est__class_weight': None,\n",
       " 'est__learning_rate': 0.1,\n",
       " 'est__max_depth': 7,\n",
       " 'est__n_estimators': 100,\n",
       " 'est__reg_alpha': 0.01,\n",
       " 'est__reg_lambda': 0.05,\n",
       " 'vect': CountVectorizer(max_df=0.9, max_features=1024, min_df=2),\n",
       " 'vect__max_df': 0.9,\n",
       " 'vect__max_features': 1024,\n",
       " 'vect__min_df': 2,\n",
       " 'vect__ngram_range': (1, 1)}"
      ]
     },
     "execution_count": 537,
     "metadata": {},
     "output_type": "execute_result"
    }
   ],
   "source": [
    "gs1.best_params_"
   ]
  },
  {
   "cell_type": "code",
   "execution_count": 541,
   "id": "edb47bc3",
   "metadata": {
    "ExecuteTime": {
     "end_time": "2022-12-11T21:32:42.382469Z",
     "start_time": "2022-12-11T21:32:42.318457Z"
    },
    "scrolled": true
   },
   "outputs": [
    {
     "name": "stdout",
     "output_type": "stream",
     "text": [
      "              precision    recall  f1-score   support\n",
      "\n",
      "           0       1.00      1.00      1.00        32\n",
      "           1       1.00      1.00      1.00        12\n",
      "           2       1.00      1.00      1.00        18\n",
      "           3       1.00      1.00      1.00        20\n",
      "           4       1.00      1.00      1.00        23\n",
      "           5       1.00      1.00      1.00        24\n",
      "           6       1.00      1.00      1.00        11\n",
      "           7       1.00      1.00      1.00        17\n",
      "           8       1.00      1.00      1.00        32\n",
      "           9       1.00      1.00      1.00        31\n",
      "          10       1.00      1.00      1.00        15\n",
      "          11       1.00      1.00      1.00        17\n",
      "          12       1.00      1.00      1.00        28\n",
      "          13       1.00      1.00      1.00        13\n",
      "          14       1.00      1.00      1.00        34\n",
      "          15       1.00      1.00      1.00        33\n",
      "          16       1.00      1.00      1.00        26\n",
      "          17       1.00      1.00      1.00        12\n",
      "          18       1.00      1.00      1.00        18\n",
      "          19       1.00      1.00      1.00        22\n",
      "          20       1.00      1.00      1.00        10\n",
      "          21       1.00      1.00      1.00        29\n",
      "          22       1.00      1.00      1.00        17\n",
      "          23       1.00      1.00      1.00        13\n",
      "          24       1.00      1.00      1.00         3\n",
      "\n",
      "    accuracy                           1.00       510\n",
      "   macro avg       1.00      1.00      1.00       510\n",
      "weighted avg       1.00      1.00      1.00       510\n",
      "\n"
     ]
    }
   ],
   "source": [
    "print(metrics.classification_report(Y, gs1.predict(filtered_sentence)))"
   ]
  },
  {
   "cell_type": "code",
   "execution_count": 577,
   "id": "60628b04",
   "metadata": {
    "ExecuteTime": {
     "end_time": "2022-12-11T21:51:45.347318Z",
     "start_time": "2022-12-11T21:51:45.175849Z"
    }
   },
   "outputs": [],
   "source": [
    "vectorizer = CountVectorizer(min_df=2, max_df=0.9, ngram_range=(1,2))\n",
    "X = vectorizer.fit_transform(filtered_sentence).toarray()\n",
    "\n",
    "X_train,  X_test, y_train, y_test = train_test_split(X, Y, test_size=1/3, random_state=42)\n",
    "\n"
   ]
  },
  {
   "cell_type": "code",
   "execution_count": 578,
   "id": "5e2173c9",
   "metadata": {
    "ExecuteTime": {
     "end_time": "2022-12-11T21:51:47.084076Z",
     "start_time": "2022-12-11T21:51:47.068572Z"
    }
   },
   "outputs": [
    {
     "data": {
      "text/plain": [
       "10065"
      ]
     },
     "execution_count": 578,
     "metadata": {},
     "output_type": "execute_result"
    }
   ],
   "source": [
    "len(vectorizer.get_feature_names_out())"
   ]
  },
  {
   "cell_type": "code",
   "execution_count": 579,
   "id": "516c8330",
   "metadata": {
    "ExecuteTime": {
     "end_time": "2022-12-11T21:51:48.495174Z",
     "start_time": "2022-12-11T21:51:48.470079Z"
    }
   },
   "outputs": [
    {
     "data": {
      "text/plain": [
       "array(['ааа', 'ааа иметь', 'абзац', ..., 'японский корпорация', 'ярлык',\n",
       "       'ящик'], dtype=object)"
      ]
     },
     "execution_count": 579,
     "metadata": {},
     "output_type": "execute_result"
    }
   ],
   "source": [
    "vectorizer.get_feature_names_out()"
   ]
  },
  {
   "cell_type": "code",
   "execution_count": 581,
   "id": "c994145c",
   "metadata": {
    "ExecuteTime": {
     "end_time": "2022-12-11T21:52:18.419506Z",
     "start_time": "2022-12-11T21:52:02.170362Z"
    }
   },
   "outputs": [],
   "source": [
    "clf = xgb.XGBClassifier(alpha=1, reg_lambda=0, learning_rate=0.01)\n",
    "clf.fit(X_train, y_train)\n",
    "y_pred = clf.predict(X_test)"
   ]
  },
  {
   "cell_type": "code",
   "execution_count": 582,
   "id": "9f731e05",
   "metadata": {
    "ExecuteTime": {
     "end_time": "2022-12-11T21:52:18.482210Z",
     "start_time": "2022-12-11T21:52:18.419506Z"
    }
   },
   "outputs": [
    {
     "name": "stdout",
     "output_type": "stream",
     "text": [
      "              precision    recall  f1-score   support\n",
      "\n",
      "           0       0.92      0.92      0.92        12\n",
      "           1       1.00      0.25      0.40         4\n",
      "           2       0.62      1.00      0.77         5\n",
      "           3       1.00      0.89      0.94         9\n",
      "           4       0.67      0.67      0.67         9\n",
      "           5       1.00      0.67      0.80         6\n",
      "           6       0.50      1.00      0.67         1\n",
      "           7       0.33      0.40      0.36         5\n",
      "           8       1.00      0.89      0.94         9\n",
      "           9       0.92      1.00      0.96        11\n",
      "          10       1.00      1.00      1.00         6\n",
      "          11       1.00      0.67      0.80         6\n",
      "          12       0.43      0.33      0.38         9\n",
      "          13       1.00      0.75      0.86         4\n",
      "          14       0.67      1.00      0.80        12\n",
      "          15       0.77      0.83      0.80        12\n",
      "          16       0.77      0.91      0.83        11\n",
      "          17       0.60      0.75      0.67         4\n",
      "          18       1.00      1.00      1.00         4\n",
      "          19       1.00      1.00      1.00         9\n",
      "          20       0.50      0.50      0.50         2\n",
      "          21       0.38      0.50      0.43         6\n",
      "          22       1.00      0.75      0.86         8\n",
      "          23       1.00      0.40      0.57         5\n",
      "          24       0.00      0.00      0.00         1\n",
      "\n",
      "    accuracy                           0.78       170\n",
      "   macro avg       0.76      0.72      0.72       170\n",
      "weighted avg       0.81      0.78      0.78       170\n",
      "\n",
      "              precision    recall  f1-score   support\n",
      "\n",
      "           0       0.95      0.95      0.95        20\n",
      "           1       1.00      1.00      1.00         8\n",
      "           2       1.00      1.00      1.00        13\n",
      "           3       1.00      0.91      0.95        11\n",
      "           4       0.93      1.00      0.97        14\n",
      "           5       0.95      1.00      0.97        18\n",
      "           6       1.00      0.90      0.95        10\n",
      "           7       0.91      0.83      0.87        12\n",
      "           8       1.00      1.00      1.00        23\n",
      "           9       0.95      0.95      0.95        20\n",
      "          10       1.00      1.00      1.00         9\n",
      "          11       1.00      1.00      1.00        11\n",
      "          12       0.90      0.95      0.92        19\n",
      "          13       1.00      1.00      1.00         9\n",
      "          14       0.88      0.95      0.91        22\n",
      "          15       0.95      0.95      0.95        21\n",
      "          16       1.00      1.00      1.00        15\n",
      "          17       1.00      1.00      1.00         8\n",
      "          18       1.00      1.00      1.00        14\n",
      "          19       0.92      0.92      0.92        13\n",
      "          20       1.00      0.88      0.93         8\n",
      "          21       1.00      1.00      1.00        23\n",
      "          22       0.90      1.00      0.95         9\n",
      "          23       1.00      0.88      0.93         8\n",
      "          24       1.00      0.50      0.67         2\n",
      "\n",
      "    accuracy                           0.96       340\n",
      "   macro avg       0.97      0.94      0.95       340\n",
      "weighted avg       0.96      0.96      0.96       340\n",
      "\n"
     ]
    }
   ],
   "source": [
    "print(metrics.classification_report(y_test, y_pred))\n",
    "print(metrics.classification_report(y_train, clf.predict(X_train)))"
   ]
  },
  {
   "cell_type": "code",
   "execution_count": 553,
   "id": "a809b17b",
   "metadata": {
    "ExecuteTime": {
     "end_time": "2022-12-11T21:39:55.000225Z",
     "start_time": "2022-12-11T21:39:54.993153Z"
    }
   },
   "outputs": [],
   "source": [
    "category_to_id = {}\n",
    "for idx, i in enumerate(uniques):\n",
    "    category_to_id[i] = idx"
   ]
  },
  {
   "cell_type": "code",
   "execution_count": 556,
   "id": "bc980a1a",
   "metadata": {
    "ExecuteTime": {
     "end_time": "2022-12-11T21:41:13.427819Z",
     "start_time": "2022-12-11T21:41:13.361712Z"
    }
   },
   "outputs": [],
   "source": [
    "from sklearn.feature_selection import chi2"
   ]
  },
  {
   "cell_type": "code",
   "execution_count": 595,
   "id": "92ceee69",
   "metadata": {
    "ExecuteTime": {
     "end_time": "2022-12-12T15:14:01.895701Z",
     "start_time": "2022-12-12T15:14:00.662824Z"
    }
   },
   "outputs": [
    {
     "name": "stdout",
     "output_type": "stream",
     "text": [
      "\n",
      "==> Affiliate:\n",
      "['аффилировать', 'нижеподписавшийся', 'офисный', 'элемент', 'сеть', 'сетевой', 'программа', 'слияние', 'партнёр', 'партнёрский']\n",
      "\n",
      "==> Agency:\n",
      "['вкладчик', 'правомочный', 'сберегательный', 'федеральный', 'банк', 'агент', 'агентский', 'подписка', 'акция', 'предложение']\n",
      "\n",
      "==> Co_Branding:\n",
      "['онлайн', 'сервис', 'центр', 'карьера', 'брендинговый', 'сайт', 'ко', 'кобрендинговый', 'брендинг', 'кобрендинг']\n",
      "\n",
      "==> Collaboration:\n",
      "['электроэнергия', 'комитет', 'прийти', 'мвт', 'хайдянь', 'собрание', 'проект', 'платформа', 'совет', 'сотрудничество']\n",
      "\n",
      "==> Consulting:\n",
      "['кредиторский', 'эльзас', 'предварительно', 'услуга', 'консультация', 'подрядчик', 'командировочный', 'евро', 'консультационный', 'консультант']\n",
      "\n",
      "==> Development:\n",
      "['ферментация', 'биотехнология', 'комбинированный', 'статья', 'тз', 'застройщик', 'антитело', 'коммерциализация', 'разработчик', 'разработка']\n",
      "\n",
      "==> Distributor:\n",
      "['принципал', 'скидка', 'напечатать', 'назначать', 'продукция', 'эксклюзивный', 'территория', 'продукт', 'дистрибьюторский', 'дистрибьютор']\n",
      "\n",
      "==> Endorsement:\n",
      "['игрок', 'кэти', 'одобрение', 'клюшка', 'изображение', 'одежда', 'профессионал', 'гольф', 'знаменитость', 'подтверждение']\n",
      "\n",
      "==> Franchise:\n",
      "['франчайзинг', 'взнос', 'руководство', 'обучение', 'наш', 'франчайзер', 'правообладатель', 'франчайзинговый', 'франчайзи', 'франшиза']\n",
      "\n",
      "==> Hosting:\n",
      "['неразборчивый', 'депонирование', 'веб', 'сервер', 'сайт', 'клиент', 'доступ', 'обеспечение', 'программный', 'хостинг']\n",
      "\n",
      "==> IP:\n",
      "['патент', 'библиотека', 'статья', 'зарезервировать', 'аризона', 'покупатель', 'продавец', 'собственность', 'интеллектуальный', 'раздел']\n",
      "\n",
      "==> Joint Venture:\n",
      "['уполномоченный', 'генеральный', 'точность', 'дж', 'нижеподписавшийся', 'должность', 'подача', 'предприятие', 'совместный', 'автор']\n",
      "\n",
      "==> License:\n",
      "['распространение', 'инвестиция', 'видео', 'потоковый', 'доменный', 'беспроводный', 'лицензионный', 'лицензиат', 'лицензиар', 'контент']\n",
      "\n",
      "==> Maintenance:\n",
      "['безусловный', 'поставщик', 'программный', 'поддержка', 'обеспечение', 'сегмент', 'оператор', 'настройка', 'технический', 'обслуживание']\n",
      "\n",
      "==> Manufacturing:\n",
      "['стремик', 'дэвенпорт', 'пластина', 'кит', 'плазма', 'премьер', 'наследие', 'производство', 'поправка', 'производственный']\n",
      "\n",
      "==> Marketing:\n",
      "['привилегированный', 'серия', 'погашение', 'старший', 'кровь', 'брокер', 'раздел', 'маркетинг', 'долговой', 'ремаркетинг']\n",
      "\n",
      "==> Non-Compete:\n",
      "['горячий', 'специальный', 'кайманов', 'индия', 'масло', 'рамочный', 'химический', 'мексика', 'жидкость', 'неконкуренция']\n",
      "\n",
      "==> Outsourcing:\n",
      "['заказчик', 'чертёж', 'управление', 'фотография', 'подрядчик', 'совещание', 'услуга', 'редактирование', 'аутсорсинговый', 'аутсорсинг']\n",
      "\n",
      "==> Promotion:\n",
      "['фармацевтикалс', 'потребитель', 'врач', 'продвижение', 'целевой', 'эфирный', 'еженедельный', 'рекламный', 'организатор', 'браузер']\n",
      "\n",
      "==> Reseller:\n",
      "['периодически', 'организация', 'онтарио', 'перепродажа', 'животное', 'реселлер', 'реселлера', 'портал', 'торговый', 'посредник']\n",
      "\n",
      "==> Service:\n",
      "['счёт', 'получатель', 'федеративный', 'дебиторский', 'суб', 'оказание', 'консультант', 'сервисера', 'услуга', 'фонд']\n",
      "\n",
      "==> Sponsorship:\n",
      "['рекламный', 'стадион', 'сезон', 'мероприятие', 'сайт', 'команда', 'гоночный', 'спонсорство', 'спонсорский', 'спонсор']\n",
      "\n",
      "==> Strategic Alliance:\n",
      "['кокс', 'друг', 'аппарат', 'исследование', 'слуховой', 'ютк', 'газификация', 'союз', 'альянс', 'стратегический']\n",
      "\n",
      "==> Supply:\n",
      "['ингредиент', 'заказ', 'продукт', 'клетка', 'продавец', 'поставлять', 'биомасса', 'покупатель', 'фунт', 'поставка']\n",
      "\n",
      "==> Transportation:\n",
      "['фрахт', 'природный', 'транспортный', 'нефть', 'транспортировка', 'трубопровод', 'газ', 'перевозка', 'перевозчик', 'грузоотправитель']\n",
      "['перевозчик грузоотправитель', 'договор перевозка', 'количество газ', 'грузоотправитель перевозчик', 'суточный количество', 'сырой нефть', 'внимание грузоотправитель', 'максимальный суточный', 'природный газ', 'транспортный услуга']\n"
     ]
    }
   ],
   "source": [
    "# Finding the three most correlated terms with each of the product categories\n",
    "N = 10\n",
    "\n",
    "for Product, category_id in sorted(category_to_id.items()):\n",
    "    with open(f'{Product}.txt', 'w') as f:\n",
    "        features_chi2 = chi2(X, Y == category_id)\n",
    "        indices = np.argsort(features_chi2[0])\n",
    "        feature_names = np.array(vectorizer.get_feature_names_out())[indices]\n",
    "        unigrams = [v for v in feature_names if len(v.split(' ')) == 1]\n",
    "        bigrams = [v for v in feature_names if len(v.split(' ')) == 2]\n",
    "        for v in unigrams[-N:]:\n",
    "            f.write(f'{v}\\n')\n",
    "        for v in bigrams[-N:]:\n",
    "            f.write(f'{v}\\n')\n",
    "            \n",
    "        print(\"\\n==> %s:\" %(Product))\n",
    "        print(unigrams[-N:])\n",
    "print(bigrams[-N:])"
   ]
  },
  {
   "cell_type": "code",
   "execution_count": 586,
   "id": "f38ed772",
   "metadata": {
    "ExecuteTime": {
     "end_time": "2022-12-11T21:54:08.881733Z",
     "start_time": "2022-12-11T21:53:59.914873Z"
    }
   },
   "outputs": [],
   "source": [
    "models = [\n",
    "    RandomForestClassifier(n_estimators=100, max_depth=5, random_state=0),\n",
    "    LinearSVC(),\n",
    "    MultinomialNB(),\n",
    "    LogisticRegression(random_state=0),\n",
    "]\n",
    "\n",
    "# 5 Cross-validation\n",
    "CV = 2\n",
    "cv_df = pd.DataFrame(index=range(CV * len(models)))\n",
    "\n",
    "entries = []\n",
    "for model in models:\n",
    "    model_name = model.__class__.__name__\n",
    "    accuracies = cross_val_score(model, X, Y, scoring='accuracy', cv=CV)\n",
    "    for fold_idx, accuracy in enumerate(accuracies):\n",
    "        entries.append((model_name, fold_idx, accuracy))\n",
    "    \n",
    "cv_df = pd.DataFrame(entries, columns=['model_name', 'fold_idx', 'accuracy'])"
   ]
  },
  {
   "cell_type": "code",
   "execution_count": 587,
   "id": "7eb1e459",
   "metadata": {
    "ExecuteTime": {
     "end_time": "2022-12-11T21:54:08.897608Z",
     "start_time": "2022-12-11T21:54:08.881733Z"
    }
   },
   "outputs": [
    {
     "data": {
      "text/html": [
       "<div>\n",
       "<style scoped>\n",
       "    .dataframe tbody tr th:only-of-type {\n",
       "        vertical-align: middle;\n",
       "    }\n",
       "\n",
       "    .dataframe tbody tr th {\n",
       "        vertical-align: top;\n",
       "    }\n",
       "\n",
       "    .dataframe thead th {\n",
       "        text-align: right;\n",
       "    }\n",
       "</style>\n",
       "<table border=\"1\" class=\"dataframe\">\n",
       "  <thead>\n",
       "    <tr style=\"text-align: right;\">\n",
       "      <th></th>\n",
       "      <th>Mean Accuracy</th>\n",
       "      <th>Standard deviation</th>\n",
       "    </tr>\n",
       "    <tr>\n",
       "      <th>model_name</th>\n",
       "      <th></th>\n",
       "      <th></th>\n",
       "    </tr>\n",
       "  </thead>\n",
       "  <tbody>\n",
       "    <tr>\n",
       "      <th>LinearSVC</th>\n",
       "      <td>0.688235</td>\n",
       "      <td>0.052686</td>\n",
       "    </tr>\n",
       "    <tr>\n",
       "      <th>LogisticRegression</th>\n",
       "      <td>0.652941</td>\n",
       "      <td>0.030503</td>\n",
       "    </tr>\n",
       "    <tr>\n",
       "      <th>MultinomialNB</th>\n",
       "      <td>0.547059</td>\n",
       "      <td>0.002773</td>\n",
       "    </tr>\n",
       "    <tr>\n",
       "      <th>RandomForestClassifier</th>\n",
       "      <td>0.598039</td>\n",
       "      <td>0.002773</td>\n",
       "    </tr>\n",
       "  </tbody>\n",
       "</table>\n",
       "</div>"
      ],
      "text/plain": [
       "                        Mean Accuracy  Standard deviation\n",
       "model_name                                               \n",
       "LinearSVC                    0.688235            0.052686\n",
       "LogisticRegression           0.652941            0.030503\n",
       "MultinomialNB                0.547059            0.002773\n",
       "RandomForestClassifier       0.598039            0.002773"
      ]
     },
     "execution_count": 587,
     "metadata": {},
     "output_type": "execute_result"
    }
   ],
   "source": [
    "mean_accuracy = cv_df.groupby('model_name').accuracy.mean()\n",
    "std_accuracy = cv_df.groupby('model_name').accuracy.std()\n",
    "\n",
    "acc = pd.concat([mean_accuracy, std_accuracy], axis= 1, \n",
    "          ignore_index=True)\n",
    "acc.columns = ['Mean Accuracy', 'Standard deviation']\n",
    "acc"
   ]
  },
  {
   "cell_type": "code",
   "execution_count": 585,
   "id": "2b463a36",
   "metadata": {
    "ExecuteTime": {
     "end_time": "2022-12-11T21:53:01.148010Z",
     "start_time": "2022-12-11T21:53:01.090004Z"
    }
   },
   "outputs": [
    {
     "name": "stdout",
     "output_type": "stream",
     "text": [
      "\t\t\t\tCLASSIFICATIION METRICS\n",
      "\n",
      "                    precision    recall  f1-score   support\n",
      "\n",
      "       Distributor       0.95      0.95      0.95        20\n",
      "         Promotion       1.00      1.00      1.00         8\n",
      "            Supply       1.00      1.00      1.00        13\n",
      "           Hosting       1.00      0.91      0.95        11\n",
      "     Joint Venture       0.93      1.00      0.97        14\n",
      "       Endorsement       0.95      1.00      0.97        18\n",
      "        Consulting       1.00      0.90      0.95        10\n",
      "         Marketing       0.91      0.83      0.87        12\n",
      "Strategic Alliance       1.00      1.00      1.00        23\n",
      "       Sponsorship       0.95      0.95      0.95        20\n",
      "         Franchise       1.00      1.00      1.00         9\n",
      "                IP       1.00      1.00      1.00        11\n",
      "           Service       0.90      0.95      0.92        19\n",
      "            Agency       1.00      1.00      1.00         9\n",
      "       Maintenance       0.88      0.95      0.91        22\n",
      "           License       0.95      0.95      0.95        21\n",
      "     Collaboration       1.00      1.00      1.00        15\n",
      "          Reseller       1.00      1.00      1.00         8\n",
      "       Outsourcing       1.00      1.00      1.00        14\n",
      "       Co_Branding       0.92      0.92      0.92        13\n",
      "         Affiliate       1.00      0.88      0.93         8\n",
      "       Development       1.00      1.00      1.00        23\n",
      "     Manufacturing       0.90      1.00      0.95         9\n",
      "    Transportation       1.00      0.88      0.93         8\n",
      "       Non-Compete       1.00      0.50      0.67         2\n",
      "\n",
      "          accuracy                           0.96       340\n",
      "         macro avg       0.97      0.94      0.95       340\n",
      "      weighted avg       0.96      0.96      0.96       340\n",
      "\n"
     ]
    }
   ],
   "source": [
    "# Classification report\n",
    "print('\\t\\t\\t\\tCLASSIFICATIION METRICS\\n')\n",
    "print(metrics.classification_report(y_train, clf.predict(X_train), \n",
    "                                    target_names= uniques))"
   ]
  },
  {
   "cell_type": "code",
   "execution_count": null,
   "id": "54cbcaf0",
   "metadata": {},
   "outputs": [],
   "source": []
  }
 ],
 "metadata": {
  "kernelspec": {
   "display_name": "Python 3 (ipykernel)",
   "language": "python",
   "name": "python3"
  },
  "language_info": {
   "codemirror_mode": {
    "name": "ipython",
    "version": 3
   },
   "file_extension": ".py",
   "mimetype": "text/x-python",
   "name": "python",
   "nbconvert_exporter": "python",
   "pygments_lexer": "ipython3",
   "version": "3.9.15"
  }
 },
 "nbformat": 4,
 "nbformat_minor": 5
}
