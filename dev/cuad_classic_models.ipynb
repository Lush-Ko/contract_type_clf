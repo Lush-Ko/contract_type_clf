{
 "cells": [
  {
   "cell_type": "code",
   "execution_count": 1,
   "id": "e3731062",
   "metadata": {
    "ExecuteTime": {
     "end_time": "2023-01-14T19:38:49.878186Z",
     "start_time": "2023-01-14T19:38:46.422287Z"
    }
   },
   "outputs": [],
   "source": [
    "import pickle\n",
    "import numpy as np\n",
    "import pandas as pd\n",
    "import xgboost as xgb\n",
    "from xgboost import XGBClassifier\n",
    "from nltk.corpus import stopwords\n",
    "\n",
    "import sklearn\n",
    "from sklearn import metrics\n",
    "from sklearn.pipeline import Pipeline\n",
    "from sklearn.feature_extraction.text import CountVectorizer, TfidfVectorizer\n",
    "from sklearn.model_selection import StratifiedKFold, GridSearchCV, ParameterGrid, train_test_split, cross_val_score\n",
    "\n",
    "from sklearn.svm import SVC, LinearSVC\n",
    "from sklearn.naive_bayes import GaussianNB\n",
    "from sklearn.ensemble import RandomForestClassifier\n",
    "from sklearn.linear_model import LogisticRegression\n",
    "from sklearn.multiclass import OneVsRestClassifier\n",
    "\n",
    "import warnings\n",
    "warnings.filterwarnings(\"ignore\")"
   ]
  },
  {
   "cell_type": "code",
   "execution_count": 3,
   "id": "98b96996",
   "metadata": {
    "ExecuteTime": {
     "end_time": "2023-01-14T19:38:54.906719Z",
     "start_time": "2023-01-14T19:38:53.508319Z"
    }
   },
   "outputs": [],
   "source": [
    "data = pd.read_csv('../data/CUAD_data/translated_data.csv', index_col=0)"
   ]
  },
  {
   "cell_type": "code",
   "execution_count": 4,
   "id": "069f872c",
   "metadata": {
    "ExecuteTime": {
     "end_time": "2023-01-14T19:38:55.913555Z",
     "start_time": "2023-01-14T19:38:55.884497Z"
    }
   },
   "outputs": [],
   "source": [
    "stop_words = stopwords.words('russian')\n",
    "stop_words.extend([\"это\", 'все', 'весь', 'включая', 'отношения', 'цель', \"имя\", \"свой\", \"время\", \"любой\", \"соглашение\", \n",
    "                   \"сторона\", \"настоящий\", \"право\", \"компания\", \"соответствие\", \"который\", \"должный\", \"мочь\", \"также\"])"
   ]
  },
  {
   "cell_type": "code",
   "execution_count": 5,
   "id": "381bfc05",
   "metadata": {
    "ExecuteTime": {
     "end_time": "2023-01-14T19:38:57.445016Z",
     "start_time": "2023-01-14T19:38:57.126746Z"
    }
   },
   "outputs": [],
   "source": [
    "filtered_sentence = []\n",
    "\n",
    "for text in data.processed_text_ru.to_numpy():\n",
    "    sent = []\n",
    "    for word in text.split(' ')[0:200]:\n",
    "        if word not in stop_words:\n",
    "            sent.append(word)\n",
    "    filtered_sentence.append(' '.join(sent))"
   ]
  },
  {
   "cell_type": "code",
   "execution_count": 6,
   "id": "f457fe89",
   "metadata": {
    "ExecuteTime": {
     "end_time": "2023-01-14T19:38:58.878044Z",
     "start_time": "2023-01-14T19:38:58.842173Z"
    }
   },
   "outputs": [
    {
     "data": {
      "text/plain": [
       "Index(['Distributor', 'Promotion', 'Supply', 'Hosting', 'Joint Venture',\n",
       "       'Endorsement', 'Consulting', 'Marketing', 'Strategic Alliance',\n",
       "       'Sponsorship', 'Franchise', 'IP', 'Service', 'Agency', 'Maintenance',\n",
       "       'License', 'Collaboration', 'Reseller', 'Outsourcing', 'Co_Branding',\n",
       "       'Affiliate', 'Development', 'Manufacturing', 'Transportation',\n",
       "       'Non-Compete'],\n",
       "      dtype='object')"
      ]
     },
     "execution_count": 6,
     "metadata": {},
     "output_type": "execute_result"
    }
   ],
   "source": [
    "codes, uniques = pd.factorize(data.target)\n",
    "Y = codes\n",
    "data['codes'] = codes\n",
    "uniques"
   ]
  },
  {
   "cell_type": "code",
   "execution_count": 7,
   "id": "41b875ee",
   "metadata": {
    "ExecuteTime": {
     "end_time": "2023-01-14T19:39:01.862654Z",
     "start_time": "2023-01-14T19:39:01.856331Z"
    }
   },
   "outputs": [],
   "source": [
    "rand_state = 21"
   ]
  },
  {
   "cell_type": "code",
   "execution_count": 8,
   "id": "70f16c6a",
   "metadata": {
    "ExecuteTime": {
     "end_time": "2023-01-14T19:39:03.821526Z",
     "start_time": "2023-01-14T19:39:03.817527Z"
    }
   },
   "outputs": [],
   "source": [
    "pipe = Pipeline(steps=[('vect', CountVectorizer()),\n",
    "                        ('est', LogisticRegression())])"
   ]
  },
  {
   "cell_type": "code",
   "execution_count": 19,
   "id": "5f0f2d46",
   "metadata": {
    "ExecuteTime": {
     "end_time": "2023-01-14T19:41:46.149489Z",
     "start_time": "2023-01-14T19:41:46.142408Z"
    }
   },
   "outputs": [],
   "source": [
    "X_train, X_test, y_train, y_test = train_test_split(\n",
    "                                    filtered_sentence, Y, shuffle=True, stratify=Y, random_state=42, test_size=0.2)"
   ]
  },
  {
   "cell_type": "markdown",
   "id": "69367abc",
   "metadata": {},
   "source": [
    "# Подбор модели"
   ]
  },
  {
   "cell_type": "code",
   "execution_count": 20,
   "id": "e01558ef",
   "metadata": {
    "ExecuteTime": {
     "end_time": "2023-01-14T19:41:47.191769Z",
     "start_time": "2023-01-14T19:41:47.178574Z"
    }
   },
   "outputs": [],
   "source": [
    "param_grid = [\n",
    "  {'vect': [CountVectorizer(), TfidfVectorizer()],\n",
    "   'vect__min_df': [2, 4, 6],\n",
    "   'vect__max_df': [0.9, 0.95],\n",
    "   'vect__ngram_range': [(1, 1), (1, 2)],\n",
    "   'est': [LogisticRegression()],\n",
    "   'est__C': np.logspace(-3, 2, 6),\n",
    "   'est__class_weight': [None, 'balanced'],\n",
    "   'est__random_state': [rand_state]},\n",
    "  {'vect': [CountVectorizer(), TfidfVectorizer()],\n",
    "   'vect__min_df': [2, 4, 6],\n",
    "   'vect__max_df': [0.9, 0.95],\n",
    "   'vect__ngram_range': [(1, 1), (1, 2)],\n",
    "   'est': [RandomForestClassifier(), XGBClassifier()],\n",
    "   'est__n_estimators': [100, 250, 500],\n",
    "   'est__class_weight': [None, 'balanced'],\n",
    "   'est__max_depth': [3, 5, 7]},\n",
    "  {'vect': [CountVectorizer()],\n",
    "   'vect__min_df': [2, 4, 6],\n",
    "   'vect__max_df': [0.9, 0.95],\n",
    "   'vect__ngram_range': [(1, 1), (1, 2)],\n",
    "   'est': [GaussianNB()]}\n",
    " ]\n"
   ]
  },
  {
   "cell_type": "code",
   "execution_count": 21,
   "id": "a62148be",
   "metadata": {
    "ExecuteTime": {
     "end_time": "2023-01-14T19:41:48.121741Z",
     "start_time": "2023-01-14T19:41:48.106315Z"
    }
   },
   "outputs": [],
   "source": [
    "skf = StratifiedKFold(n_splits=3,\n",
    "                      shuffle=True,\n",
    "                      random_state=rand_state)"
   ]
  },
  {
   "cell_type": "code",
   "execution_count": 22,
   "id": "4560e924",
   "metadata": {
    "ExecuteTime": {
     "end_time": "2023-01-14T19:41:48.736392Z",
     "start_time": "2023-01-14T19:41:48.717397Z"
    }
   },
   "outputs": [],
   "source": [
    "gs = GridSearchCV(estimator=pipe, param_grid=param_grid, scoring='f1_macro', n_jobs=-1, cv=skf, verbose=1, return_train_score=True)\n"
   ]
  },
  {
   "cell_type": "code",
   "execution_count": 23,
   "id": "a2e4e849",
   "metadata": {
    "ExecuteTime": {
     "end_time": "2023-01-14T20:02:30.447764Z",
     "start_time": "2023-01-14T19:42:02.546518Z"
    }
   },
   "outputs": [
    {
     "name": "stdout",
     "output_type": "stream",
     "text": [
      "Fitting 3 folds for each of 1164 candidates, totalling 3492 fits\n"
     ]
    },
    {
     "data": {
      "text/html": [
       "<style>#sk-container-id-1 {color: black;background-color: white;}#sk-container-id-1 pre{padding: 0;}#sk-container-id-1 div.sk-toggleable {background-color: white;}#sk-container-id-1 label.sk-toggleable__label {cursor: pointer;display: block;width: 100%;margin-bottom: 0;padding: 0.3em;box-sizing: border-box;text-align: center;}#sk-container-id-1 label.sk-toggleable__label-arrow:before {content: \"▸\";float: left;margin-right: 0.25em;color: #696969;}#sk-container-id-1 label.sk-toggleable__label-arrow:hover:before {color: black;}#sk-container-id-1 div.sk-estimator:hover label.sk-toggleable__label-arrow:before {color: black;}#sk-container-id-1 div.sk-toggleable__content {max-height: 0;max-width: 0;overflow: hidden;text-align: left;background-color: #f0f8ff;}#sk-container-id-1 div.sk-toggleable__content pre {margin: 0.2em;color: black;border-radius: 0.25em;background-color: #f0f8ff;}#sk-container-id-1 input.sk-toggleable__control:checked~div.sk-toggleable__content {max-height: 200px;max-width: 100%;overflow: auto;}#sk-container-id-1 input.sk-toggleable__control:checked~label.sk-toggleable__label-arrow:before {content: \"▾\";}#sk-container-id-1 div.sk-estimator input.sk-toggleable__control:checked~label.sk-toggleable__label {background-color: #d4ebff;}#sk-container-id-1 div.sk-label input.sk-toggleable__control:checked~label.sk-toggleable__label {background-color: #d4ebff;}#sk-container-id-1 input.sk-hidden--visually {border: 0;clip: rect(1px 1px 1px 1px);clip: rect(1px, 1px, 1px, 1px);height: 1px;margin: -1px;overflow: hidden;padding: 0;position: absolute;width: 1px;}#sk-container-id-1 div.sk-estimator {font-family: monospace;background-color: #f0f8ff;border: 1px dotted black;border-radius: 0.25em;box-sizing: border-box;margin-bottom: 0.5em;}#sk-container-id-1 div.sk-estimator:hover {background-color: #d4ebff;}#sk-container-id-1 div.sk-parallel-item::after {content: \"\";width: 100%;border-bottom: 1px solid gray;flex-grow: 1;}#sk-container-id-1 div.sk-label:hover label.sk-toggleable__label {background-color: #d4ebff;}#sk-container-id-1 div.sk-serial::before {content: \"\";position: absolute;border-left: 1px solid gray;box-sizing: border-box;top: 0;bottom: 0;left: 50%;z-index: 0;}#sk-container-id-1 div.sk-serial {display: flex;flex-direction: column;align-items: center;background-color: white;padding-right: 0.2em;padding-left: 0.2em;position: relative;}#sk-container-id-1 div.sk-item {position: relative;z-index: 1;}#sk-container-id-1 div.sk-parallel {display: flex;align-items: stretch;justify-content: center;background-color: white;position: relative;}#sk-container-id-1 div.sk-item::before, #sk-container-id-1 div.sk-parallel-item::before {content: \"\";position: absolute;border-left: 1px solid gray;box-sizing: border-box;top: 0;bottom: 0;left: 50%;z-index: -1;}#sk-container-id-1 div.sk-parallel-item {display: flex;flex-direction: column;z-index: 1;position: relative;background-color: white;}#sk-container-id-1 div.sk-parallel-item:first-child::after {align-self: flex-end;width: 50%;}#sk-container-id-1 div.sk-parallel-item:last-child::after {align-self: flex-start;width: 50%;}#sk-container-id-1 div.sk-parallel-item:only-child::after {width: 0;}#sk-container-id-1 div.sk-dashed-wrapped {border: 1px dashed gray;margin: 0 0.4em 0.5em 0.4em;box-sizing: border-box;padding-bottom: 0.4em;background-color: white;}#sk-container-id-1 div.sk-label label {font-family: monospace;font-weight: bold;display: inline-block;line-height: 1.2em;}#sk-container-id-1 div.sk-label-container {text-align: center;}#sk-container-id-1 div.sk-container {/* jupyter's `normalize.less` sets `[hidden] { display: none; }` but bootstrap.min.css set `[hidden] { display: none !important; }` so we also need the `!important` here to be able to override the default hidden behavior on the sphinx rendered scikit-learn.org. See: https://github.com/scikit-learn/scikit-learn/issues/21755 */display: inline-block !important;position: relative;}#sk-container-id-1 div.sk-text-repr-fallback {display: none;}</style><div id=\"sk-container-id-1\" class=\"sk-top-container\"><div class=\"sk-text-repr-fallback\"><pre>GridSearchCV(cv=StratifiedKFold(n_splits=3, random_state=21, shuffle=True),\n",
       "             estimator=Pipeline(steps=[(&#x27;vect&#x27;, CountVectorizer()),\n",
       "                                       (&#x27;est&#x27;, LogisticRegression())]),\n",
       "             n_jobs=-1,\n",
       "             param_grid=[{&#x27;est&#x27;: [LogisticRegression()],\n",
       "                          &#x27;est__C&#x27;: array([1.e-03, 1.e-02, 1.e-01, 1.e+00, 1.e+01, 1.e+02]),\n",
       "                          &#x27;est__class_weight&#x27;: [None, &#x27;balanced&#x27;],\n",
       "                          &#x27;est__random_state&#x27;: [21],\n",
       "                          &#x27;vect&#x27;: [CountVecto...\n",
       "                          &#x27;vect&#x27;: [CountVectorizer(),\n",
       "                                   TfidfVectorizer(max_df=0.95, min_df=4,\n",
       "                                                   ngram_range=(1, 2))],\n",
       "                          &#x27;vect__max_df&#x27;: [0.9, 0.95],\n",
       "                          &#x27;vect__min_df&#x27;: [2, 4, 6],\n",
       "                          &#x27;vect__ngram_range&#x27;: [(1, 1), (1, 2)]},\n",
       "                         {&#x27;est&#x27;: [GaussianNB()], &#x27;vect&#x27;: [CountVectorizer()],\n",
       "                          &#x27;vect__max_df&#x27;: [0.9, 0.95],\n",
       "                          &#x27;vect__min_df&#x27;: [2, 4, 6],\n",
       "                          &#x27;vect__ngram_range&#x27;: [(1, 1), (1, 2)]}],\n",
       "             return_train_score=True, scoring=&#x27;f1_macro&#x27;, verbose=1)</pre><b>In a Jupyter environment, please rerun this cell to show the HTML representation or trust the notebook. <br />On GitHub, the HTML representation is unable to render, please try loading this page with nbviewer.org.</b></div><div class=\"sk-container\" hidden><div class=\"sk-item sk-dashed-wrapped\"><div class=\"sk-label-container\"><div class=\"sk-label sk-toggleable\"><input class=\"sk-toggleable__control sk-hidden--visually\" id=\"sk-estimator-id-1\" type=\"checkbox\" ><label for=\"sk-estimator-id-1\" class=\"sk-toggleable__label sk-toggleable__label-arrow\">GridSearchCV</label><div class=\"sk-toggleable__content\"><pre>GridSearchCV(cv=StratifiedKFold(n_splits=3, random_state=21, shuffle=True),\n",
       "             estimator=Pipeline(steps=[(&#x27;vect&#x27;, CountVectorizer()),\n",
       "                                       (&#x27;est&#x27;, LogisticRegression())]),\n",
       "             n_jobs=-1,\n",
       "             param_grid=[{&#x27;est&#x27;: [LogisticRegression()],\n",
       "                          &#x27;est__C&#x27;: array([1.e-03, 1.e-02, 1.e-01, 1.e+00, 1.e+01, 1.e+02]),\n",
       "                          &#x27;est__class_weight&#x27;: [None, &#x27;balanced&#x27;],\n",
       "                          &#x27;est__random_state&#x27;: [21],\n",
       "                          &#x27;vect&#x27;: [CountVecto...\n",
       "                          &#x27;vect&#x27;: [CountVectorizer(),\n",
       "                                   TfidfVectorizer(max_df=0.95, min_df=4,\n",
       "                                                   ngram_range=(1, 2))],\n",
       "                          &#x27;vect__max_df&#x27;: [0.9, 0.95],\n",
       "                          &#x27;vect__min_df&#x27;: [2, 4, 6],\n",
       "                          &#x27;vect__ngram_range&#x27;: [(1, 1), (1, 2)]},\n",
       "                         {&#x27;est&#x27;: [GaussianNB()], &#x27;vect&#x27;: [CountVectorizer()],\n",
       "                          &#x27;vect__max_df&#x27;: [0.9, 0.95],\n",
       "                          &#x27;vect__min_df&#x27;: [2, 4, 6],\n",
       "                          &#x27;vect__ngram_range&#x27;: [(1, 1), (1, 2)]}],\n",
       "             return_train_score=True, scoring=&#x27;f1_macro&#x27;, verbose=1)</pre></div></div></div><div class=\"sk-parallel\"><div class=\"sk-parallel-item\"><div class=\"sk-item\"><div class=\"sk-label-container\"><div class=\"sk-label sk-toggleable\"><input class=\"sk-toggleable__control sk-hidden--visually\" id=\"sk-estimator-id-2\" type=\"checkbox\" ><label for=\"sk-estimator-id-2\" class=\"sk-toggleable__label sk-toggleable__label-arrow\">estimator: Pipeline</label><div class=\"sk-toggleable__content\"><pre>Pipeline(steps=[(&#x27;vect&#x27;, CountVectorizer()), (&#x27;est&#x27;, LogisticRegression())])</pre></div></div></div><div class=\"sk-serial\"><div class=\"sk-item\"><div class=\"sk-serial\"><div class=\"sk-item\"><div class=\"sk-estimator sk-toggleable\"><input class=\"sk-toggleable__control sk-hidden--visually\" id=\"sk-estimator-id-3\" type=\"checkbox\" ><label for=\"sk-estimator-id-3\" class=\"sk-toggleable__label sk-toggleable__label-arrow\">CountVectorizer</label><div class=\"sk-toggleable__content\"><pre>CountVectorizer()</pre></div></div></div><div class=\"sk-item\"><div class=\"sk-estimator sk-toggleable\"><input class=\"sk-toggleable__control sk-hidden--visually\" id=\"sk-estimator-id-4\" type=\"checkbox\" ><label for=\"sk-estimator-id-4\" class=\"sk-toggleable__label sk-toggleable__label-arrow\">LogisticRegression</label><div class=\"sk-toggleable__content\"><pre>LogisticRegression()</pre></div></div></div></div></div></div></div></div></div></div></div></div>"
      ],
      "text/plain": [
       "GridSearchCV(cv=StratifiedKFold(n_splits=3, random_state=21, shuffle=True),\n",
       "             estimator=Pipeline(steps=[('vect', CountVectorizer()),\n",
       "                                       ('est', LogisticRegression())]),\n",
       "             n_jobs=-1,\n",
       "             param_grid=[{'est': [LogisticRegression()],\n",
       "                          'est__C': array([1.e-03, 1.e-02, 1.e-01, 1.e+00, 1.e+01, 1.e+02]),\n",
       "                          'est__class_weight': [None, 'balanced'],\n",
       "                          'est__random_state': [21],\n",
       "                          'vect': [CountVecto...\n",
       "                          'vect': [CountVectorizer(),\n",
       "                                   TfidfVectorizer(max_df=0.95, min_df=4,\n",
       "                                                   ngram_range=(1, 2))],\n",
       "                          'vect__max_df': [0.9, 0.95],\n",
       "                          'vect__min_df': [2, 4, 6],\n",
       "                          'vect__ngram_range': [(1, 1), (1, 2)]},\n",
       "                         {'est': [GaussianNB()], 'vect': [CountVectorizer()],\n",
       "                          'vect__max_df': [0.9, 0.95],\n",
       "                          'vect__min_df': [2, 4, 6],\n",
       "                          'vect__ngram_range': [(1, 1), (1, 2)]}],\n",
       "             return_train_score=True, scoring='f1_macro', verbose=1)"
      ]
     },
     "execution_count": 23,
     "metadata": {},
     "output_type": "execute_result"
    }
   ],
   "source": [
    "gs.fit(X_train, y_train)"
   ]
  },
  {
   "cell_type": "code",
   "execution_count": 24,
   "id": "f3d48eae",
   "metadata": {
    "ExecuteTime": {
     "end_time": "2023-01-14T20:03:20.137112Z",
     "start_time": "2023-01-14T20:03:20.116878Z"
    }
   },
   "outputs": [
    {
     "data": {
      "text/html": [
       "<style>#sk-container-id-2 {color: black;background-color: white;}#sk-container-id-2 pre{padding: 0;}#sk-container-id-2 div.sk-toggleable {background-color: white;}#sk-container-id-2 label.sk-toggleable__label {cursor: pointer;display: block;width: 100%;margin-bottom: 0;padding: 0.3em;box-sizing: border-box;text-align: center;}#sk-container-id-2 label.sk-toggleable__label-arrow:before {content: \"▸\";float: left;margin-right: 0.25em;color: #696969;}#sk-container-id-2 label.sk-toggleable__label-arrow:hover:before {color: black;}#sk-container-id-2 div.sk-estimator:hover label.sk-toggleable__label-arrow:before {color: black;}#sk-container-id-2 div.sk-toggleable__content {max-height: 0;max-width: 0;overflow: hidden;text-align: left;background-color: #f0f8ff;}#sk-container-id-2 div.sk-toggleable__content pre {margin: 0.2em;color: black;border-radius: 0.25em;background-color: #f0f8ff;}#sk-container-id-2 input.sk-toggleable__control:checked~div.sk-toggleable__content {max-height: 200px;max-width: 100%;overflow: auto;}#sk-container-id-2 input.sk-toggleable__control:checked~label.sk-toggleable__label-arrow:before {content: \"▾\";}#sk-container-id-2 div.sk-estimator input.sk-toggleable__control:checked~label.sk-toggleable__label {background-color: #d4ebff;}#sk-container-id-2 div.sk-label input.sk-toggleable__control:checked~label.sk-toggleable__label {background-color: #d4ebff;}#sk-container-id-2 input.sk-hidden--visually {border: 0;clip: rect(1px 1px 1px 1px);clip: rect(1px, 1px, 1px, 1px);height: 1px;margin: -1px;overflow: hidden;padding: 0;position: absolute;width: 1px;}#sk-container-id-2 div.sk-estimator {font-family: monospace;background-color: #f0f8ff;border: 1px dotted black;border-radius: 0.25em;box-sizing: border-box;margin-bottom: 0.5em;}#sk-container-id-2 div.sk-estimator:hover {background-color: #d4ebff;}#sk-container-id-2 div.sk-parallel-item::after {content: \"\";width: 100%;border-bottom: 1px solid gray;flex-grow: 1;}#sk-container-id-2 div.sk-label:hover label.sk-toggleable__label {background-color: #d4ebff;}#sk-container-id-2 div.sk-serial::before {content: \"\";position: absolute;border-left: 1px solid gray;box-sizing: border-box;top: 0;bottom: 0;left: 50%;z-index: 0;}#sk-container-id-2 div.sk-serial {display: flex;flex-direction: column;align-items: center;background-color: white;padding-right: 0.2em;padding-left: 0.2em;position: relative;}#sk-container-id-2 div.sk-item {position: relative;z-index: 1;}#sk-container-id-2 div.sk-parallel {display: flex;align-items: stretch;justify-content: center;background-color: white;position: relative;}#sk-container-id-2 div.sk-item::before, #sk-container-id-2 div.sk-parallel-item::before {content: \"\";position: absolute;border-left: 1px solid gray;box-sizing: border-box;top: 0;bottom: 0;left: 50%;z-index: -1;}#sk-container-id-2 div.sk-parallel-item {display: flex;flex-direction: column;z-index: 1;position: relative;background-color: white;}#sk-container-id-2 div.sk-parallel-item:first-child::after {align-self: flex-end;width: 50%;}#sk-container-id-2 div.sk-parallel-item:last-child::after {align-self: flex-start;width: 50%;}#sk-container-id-2 div.sk-parallel-item:only-child::after {width: 0;}#sk-container-id-2 div.sk-dashed-wrapped {border: 1px dashed gray;margin: 0 0.4em 0.5em 0.4em;box-sizing: border-box;padding-bottom: 0.4em;background-color: white;}#sk-container-id-2 div.sk-label label {font-family: monospace;font-weight: bold;display: inline-block;line-height: 1.2em;}#sk-container-id-2 div.sk-label-container {text-align: center;}#sk-container-id-2 div.sk-container {/* jupyter's `normalize.less` sets `[hidden] { display: none; }` but bootstrap.min.css set `[hidden] { display: none !important; }` so we also need the `!important` here to be able to override the default hidden behavior on the sphinx rendered scikit-learn.org. See: https://github.com/scikit-learn/scikit-learn/issues/21755 */display: inline-block !important;position: relative;}#sk-container-id-2 div.sk-text-repr-fallback {display: none;}</style><div id=\"sk-container-id-2\" class=\"sk-top-container\"><div class=\"sk-text-repr-fallback\"><pre>Pipeline(steps=[(&#x27;vect&#x27;,\n",
       "                 TfidfVectorizer(max_df=0.95, min_df=4, ngram_range=(1, 2))),\n",
       "                (&#x27;est&#x27;,\n",
       "                 RandomForestClassifier(class_weight=&#x27;balanced&#x27;, max_depth=7,\n",
       "                                        n_estimators=250))])</pre><b>In a Jupyter environment, please rerun this cell to show the HTML representation or trust the notebook. <br />On GitHub, the HTML representation is unable to render, please try loading this page with nbviewer.org.</b></div><div class=\"sk-container\" hidden><div class=\"sk-item sk-dashed-wrapped\"><div class=\"sk-label-container\"><div class=\"sk-label sk-toggleable\"><input class=\"sk-toggleable__control sk-hidden--visually\" id=\"sk-estimator-id-5\" type=\"checkbox\" ><label for=\"sk-estimator-id-5\" class=\"sk-toggleable__label sk-toggleable__label-arrow\">Pipeline</label><div class=\"sk-toggleable__content\"><pre>Pipeline(steps=[(&#x27;vect&#x27;,\n",
       "                 TfidfVectorizer(max_df=0.95, min_df=4, ngram_range=(1, 2))),\n",
       "                (&#x27;est&#x27;,\n",
       "                 RandomForestClassifier(class_weight=&#x27;balanced&#x27;, max_depth=7,\n",
       "                                        n_estimators=250))])</pre></div></div></div><div class=\"sk-serial\"><div class=\"sk-item\"><div class=\"sk-estimator sk-toggleable\"><input class=\"sk-toggleable__control sk-hidden--visually\" id=\"sk-estimator-id-6\" type=\"checkbox\" ><label for=\"sk-estimator-id-6\" class=\"sk-toggleable__label sk-toggleable__label-arrow\">TfidfVectorizer</label><div class=\"sk-toggleable__content\"><pre>TfidfVectorizer(max_df=0.95, min_df=4, ngram_range=(1, 2))</pre></div></div></div><div class=\"sk-item\"><div class=\"sk-estimator sk-toggleable\"><input class=\"sk-toggleable__control sk-hidden--visually\" id=\"sk-estimator-id-7\" type=\"checkbox\" ><label for=\"sk-estimator-id-7\" class=\"sk-toggleable__label sk-toggleable__label-arrow\">RandomForestClassifier</label><div class=\"sk-toggleable__content\"><pre>RandomForestClassifier(class_weight=&#x27;balanced&#x27;, max_depth=7, n_estimators=250)</pre></div></div></div></div></div></div></div>"
      ],
      "text/plain": [
       "Pipeline(steps=[('vect',\n",
       "                 TfidfVectorizer(max_df=0.95, min_df=4, ngram_range=(1, 2))),\n",
       "                ('est',\n",
       "                 RandomForestClassifier(class_weight='balanced', max_depth=7,\n",
       "                                        n_estimators=250))])"
      ]
     },
     "execution_count": 24,
     "metadata": {},
     "output_type": "execute_result"
    }
   ],
   "source": [
    "gs.best_estimator_"
   ]
  },
  {
   "cell_type": "code",
   "execution_count": 25,
   "id": "35f24b9d",
   "metadata": {
    "ExecuteTime": {
     "end_time": "2023-01-14T20:03:31.542676Z",
     "start_time": "2023-01-14T20:03:31.527384Z"
    }
   },
   "outputs": [
    {
     "data": {
      "text/plain": [
       "{'est': RandomForestClassifier(class_weight='balanced', max_depth=7, n_estimators=250),\n",
       " 'est__class_weight': 'balanced',\n",
       " 'est__max_depth': 7,\n",
       " 'est__n_estimators': 250,\n",
       " 'vect': TfidfVectorizer(max_df=0.95, min_df=4, ngram_range=(1, 2)),\n",
       " 'vect__max_df': 0.95,\n",
       " 'vect__min_df': 4,\n",
       " 'vect__ngram_range': (1, 2)}"
      ]
     },
     "execution_count": 25,
     "metadata": {},
     "output_type": "execute_result"
    }
   ],
   "source": [
    "gs.best_params_"
   ]
  },
  {
   "cell_type": "code",
   "execution_count": 27,
   "id": "b49e8fed",
   "metadata": {
    "ExecuteTime": {
     "end_time": "2023-01-14T20:03:36.774167Z",
     "start_time": "2023-01-14T20:03:36.756669Z"
    }
   },
   "outputs": [
    {
     "data": {
      "text/plain": [
       "0.7755805025605188"
      ]
     },
     "execution_count": 27,
     "metadata": {},
     "output_type": "execute_result"
    }
   ],
   "source": [
    "gs.best_score_"
   ]
  },
  {
   "cell_type": "code",
   "execution_count": 28,
   "id": "acdf5034",
   "metadata": {
    "ExecuteTime": {
     "end_time": "2023-01-14T20:03:39.445310Z",
     "start_time": "2023-01-14T20:03:39.426021Z"
    }
   },
   "outputs": [],
   "source": [
    "df = pd.DataFrame(gs.cv_results_).sort_values('mean_test_score', ascending=False)"
   ]
  },
  {
   "cell_type": "markdown",
   "id": "af6b758b",
   "metadata": {},
   "source": [
    "# Подбор параметров модели для снижения переобучения"
   ]
  },
  {
   "cell_type": "code",
   "execution_count": 33,
   "id": "858a25c5",
   "metadata": {
    "ExecuteTime": {
     "end_time": "2023-01-14T20:05:59.520458Z",
     "start_time": "2023-01-14T20:05:59.511458Z"
    }
   },
   "outputs": [],
   "source": [
    "\n",
    "param_grid_RF = [\n",
    "  {'vect': [CountVectorizer()],\n",
    "   'vect__min_df': [1],\n",
    "   'vect__max_df': [0.85],\n",
    "   'vect__ngram_range': [(1, 2), (1, 1)],\n",
    "   'est': [RandomForestClassifier()],\n",
    "   'est__n_estimators': [400, 500, 600],\n",
    "   'est__class_weight': ['balanced'],\n",
    "   'est__max_depth': [3, 4],\n",
    "   'est__random_state': [rand_state],\n",
    "   'est__min_samples_leaf': [2, 3],\n",
    "   }\n",
    " ]\n"
   ]
  },
  {
   "cell_type": "code",
   "execution_count": 34,
   "id": "a10c0fce",
   "metadata": {
    "ExecuteTime": {
     "end_time": "2023-01-14T20:06:00.054215Z",
     "start_time": "2023-01-14T20:06:00.044143Z"
    }
   },
   "outputs": [],
   "source": [
    "gs_RF = GridSearchCV(estimator=pipe, param_grid=param_grid_RF, scoring='f1_macro', n_jobs=-1, cv=skf, verbose=2, return_train_score=True)\n"
   ]
  },
  {
   "cell_type": "code",
   "execution_count": 35,
   "id": "9535bca5",
   "metadata": {
    "ExecuteTime": {
     "end_time": "2023-01-14T20:06:15.381445Z",
     "start_time": "2023-01-14T20:06:00.473029Z"
    }
   },
   "outputs": [
    {
     "name": "stdout",
     "output_type": "stream",
     "text": [
      "Fitting 3 folds for each of 24 candidates, totalling 72 fits\n"
     ]
    },
    {
     "data": {
      "text/html": [
       "<style>#sk-container-id-4 {color: black;background-color: white;}#sk-container-id-4 pre{padding: 0;}#sk-container-id-4 div.sk-toggleable {background-color: white;}#sk-container-id-4 label.sk-toggleable__label {cursor: pointer;display: block;width: 100%;margin-bottom: 0;padding: 0.3em;box-sizing: border-box;text-align: center;}#sk-container-id-4 label.sk-toggleable__label-arrow:before {content: \"▸\";float: left;margin-right: 0.25em;color: #696969;}#sk-container-id-4 label.sk-toggleable__label-arrow:hover:before {color: black;}#sk-container-id-4 div.sk-estimator:hover label.sk-toggleable__label-arrow:before {color: black;}#sk-container-id-4 div.sk-toggleable__content {max-height: 0;max-width: 0;overflow: hidden;text-align: left;background-color: #f0f8ff;}#sk-container-id-4 div.sk-toggleable__content pre {margin: 0.2em;color: black;border-radius: 0.25em;background-color: #f0f8ff;}#sk-container-id-4 input.sk-toggleable__control:checked~div.sk-toggleable__content {max-height: 200px;max-width: 100%;overflow: auto;}#sk-container-id-4 input.sk-toggleable__control:checked~label.sk-toggleable__label-arrow:before {content: \"▾\";}#sk-container-id-4 div.sk-estimator input.sk-toggleable__control:checked~label.sk-toggleable__label {background-color: #d4ebff;}#sk-container-id-4 div.sk-label input.sk-toggleable__control:checked~label.sk-toggleable__label {background-color: #d4ebff;}#sk-container-id-4 input.sk-hidden--visually {border: 0;clip: rect(1px 1px 1px 1px);clip: rect(1px, 1px, 1px, 1px);height: 1px;margin: -1px;overflow: hidden;padding: 0;position: absolute;width: 1px;}#sk-container-id-4 div.sk-estimator {font-family: monospace;background-color: #f0f8ff;border: 1px dotted black;border-radius: 0.25em;box-sizing: border-box;margin-bottom: 0.5em;}#sk-container-id-4 div.sk-estimator:hover {background-color: #d4ebff;}#sk-container-id-4 div.sk-parallel-item::after {content: \"\";width: 100%;border-bottom: 1px solid gray;flex-grow: 1;}#sk-container-id-4 div.sk-label:hover label.sk-toggleable__label {background-color: #d4ebff;}#sk-container-id-4 div.sk-serial::before {content: \"\";position: absolute;border-left: 1px solid gray;box-sizing: border-box;top: 0;bottom: 0;left: 50%;z-index: 0;}#sk-container-id-4 div.sk-serial {display: flex;flex-direction: column;align-items: center;background-color: white;padding-right: 0.2em;padding-left: 0.2em;position: relative;}#sk-container-id-4 div.sk-item {position: relative;z-index: 1;}#sk-container-id-4 div.sk-parallel {display: flex;align-items: stretch;justify-content: center;background-color: white;position: relative;}#sk-container-id-4 div.sk-item::before, #sk-container-id-4 div.sk-parallel-item::before {content: \"\";position: absolute;border-left: 1px solid gray;box-sizing: border-box;top: 0;bottom: 0;left: 50%;z-index: -1;}#sk-container-id-4 div.sk-parallel-item {display: flex;flex-direction: column;z-index: 1;position: relative;background-color: white;}#sk-container-id-4 div.sk-parallel-item:first-child::after {align-self: flex-end;width: 50%;}#sk-container-id-4 div.sk-parallel-item:last-child::after {align-self: flex-start;width: 50%;}#sk-container-id-4 div.sk-parallel-item:only-child::after {width: 0;}#sk-container-id-4 div.sk-dashed-wrapped {border: 1px dashed gray;margin: 0 0.4em 0.5em 0.4em;box-sizing: border-box;padding-bottom: 0.4em;background-color: white;}#sk-container-id-4 div.sk-label label {font-family: monospace;font-weight: bold;display: inline-block;line-height: 1.2em;}#sk-container-id-4 div.sk-label-container {text-align: center;}#sk-container-id-4 div.sk-container {/* jupyter's `normalize.less` sets `[hidden] { display: none; }` but bootstrap.min.css set `[hidden] { display: none !important; }` so we also need the `!important` here to be able to override the default hidden behavior on the sphinx rendered scikit-learn.org. See: https://github.com/scikit-learn/scikit-learn/issues/21755 */display: inline-block !important;position: relative;}#sk-container-id-4 div.sk-text-repr-fallback {display: none;}</style><div id=\"sk-container-id-4\" class=\"sk-top-container\"><div class=\"sk-text-repr-fallback\"><pre>GridSearchCV(cv=StratifiedKFold(n_splits=3, random_state=21, shuffle=True),\n",
       "             estimator=Pipeline(steps=[(&#x27;vect&#x27;, CountVectorizer()),\n",
       "                                       (&#x27;est&#x27;, LogisticRegression())]),\n",
       "             n_jobs=-1,\n",
       "             param_grid=[{&#x27;est&#x27;: [RandomForestClassifier(class_weight=&#x27;balanced&#x27;,\n",
       "                                                         max_depth=4,\n",
       "                                                         min_samples_leaf=2,\n",
       "                                                         n_estimators=600,\n",
       "                                                         random_state=21)],\n",
       "                          &#x27;est__class_weight&#x27;: [&#x27;balanced&#x27;],\n",
       "                          &#x27;est__max_depth&#x27;: [3, 4],\n",
       "                          &#x27;est__min_samples_leaf&#x27;: [2, 3],\n",
       "                          &#x27;est__n_estimators&#x27;: [400, 500, 600],\n",
       "                          &#x27;est__random_state&#x27;: [21],\n",
       "                          &#x27;vect&#x27;: [CountVectorizer(max_df=0.85,\n",
       "                                                   ngram_range=(1, 2))],\n",
       "                          &#x27;vect__max_df&#x27;: [0.85], &#x27;vect__min_df&#x27;: [1],\n",
       "                          &#x27;vect__ngram_range&#x27;: [(1, 2), (1, 1)]}],\n",
       "             return_train_score=True, scoring=&#x27;f1_macro&#x27;, verbose=2)</pre><b>In a Jupyter environment, please rerun this cell to show the HTML representation or trust the notebook. <br />On GitHub, the HTML representation is unable to render, please try loading this page with nbviewer.org.</b></div><div class=\"sk-container\" hidden><div class=\"sk-item sk-dashed-wrapped\"><div class=\"sk-label-container\"><div class=\"sk-label sk-toggleable\"><input class=\"sk-toggleable__control sk-hidden--visually\" id=\"sk-estimator-id-12\" type=\"checkbox\" ><label for=\"sk-estimator-id-12\" class=\"sk-toggleable__label sk-toggleable__label-arrow\">GridSearchCV</label><div class=\"sk-toggleable__content\"><pre>GridSearchCV(cv=StratifiedKFold(n_splits=3, random_state=21, shuffle=True),\n",
       "             estimator=Pipeline(steps=[(&#x27;vect&#x27;, CountVectorizer()),\n",
       "                                       (&#x27;est&#x27;, LogisticRegression())]),\n",
       "             n_jobs=-1,\n",
       "             param_grid=[{&#x27;est&#x27;: [RandomForestClassifier(class_weight=&#x27;balanced&#x27;,\n",
       "                                                         max_depth=4,\n",
       "                                                         min_samples_leaf=2,\n",
       "                                                         n_estimators=600,\n",
       "                                                         random_state=21)],\n",
       "                          &#x27;est__class_weight&#x27;: [&#x27;balanced&#x27;],\n",
       "                          &#x27;est__max_depth&#x27;: [3, 4],\n",
       "                          &#x27;est__min_samples_leaf&#x27;: [2, 3],\n",
       "                          &#x27;est__n_estimators&#x27;: [400, 500, 600],\n",
       "                          &#x27;est__random_state&#x27;: [21],\n",
       "                          &#x27;vect&#x27;: [CountVectorizer(max_df=0.85,\n",
       "                                                   ngram_range=(1, 2))],\n",
       "                          &#x27;vect__max_df&#x27;: [0.85], &#x27;vect__min_df&#x27;: [1],\n",
       "                          &#x27;vect__ngram_range&#x27;: [(1, 2), (1, 1)]}],\n",
       "             return_train_score=True, scoring=&#x27;f1_macro&#x27;, verbose=2)</pre></div></div></div><div class=\"sk-parallel\"><div class=\"sk-parallel-item\"><div class=\"sk-item\"><div class=\"sk-label-container\"><div class=\"sk-label sk-toggleable\"><input class=\"sk-toggleable__control sk-hidden--visually\" id=\"sk-estimator-id-13\" type=\"checkbox\" ><label for=\"sk-estimator-id-13\" class=\"sk-toggleable__label sk-toggleable__label-arrow\">estimator: Pipeline</label><div class=\"sk-toggleable__content\"><pre>Pipeline(steps=[(&#x27;vect&#x27;, CountVectorizer()), (&#x27;est&#x27;, LogisticRegression())])</pre></div></div></div><div class=\"sk-serial\"><div class=\"sk-item\"><div class=\"sk-serial\"><div class=\"sk-item\"><div class=\"sk-estimator sk-toggleable\"><input class=\"sk-toggleable__control sk-hidden--visually\" id=\"sk-estimator-id-14\" type=\"checkbox\" ><label for=\"sk-estimator-id-14\" class=\"sk-toggleable__label sk-toggleable__label-arrow\">CountVectorizer</label><div class=\"sk-toggleable__content\"><pre>CountVectorizer()</pre></div></div></div><div class=\"sk-item\"><div class=\"sk-estimator sk-toggleable\"><input class=\"sk-toggleable__control sk-hidden--visually\" id=\"sk-estimator-id-15\" type=\"checkbox\" ><label for=\"sk-estimator-id-15\" class=\"sk-toggleable__label sk-toggleable__label-arrow\">LogisticRegression</label><div class=\"sk-toggleable__content\"><pre>LogisticRegression()</pre></div></div></div></div></div></div></div></div></div></div></div></div>"
      ],
      "text/plain": [
       "GridSearchCV(cv=StratifiedKFold(n_splits=3, random_state=21, shuffle=True),\n",
       "             estimator=Pipeline(steps=[('vect', CountVectorizer()),\n",
       "                                       ('est', LogisticRegression())]),\n",
       "             n_jobs=-1,\n",
       "             param_grid=[{'est': [RandomForestClassifier(class_weight='balanced',\n",
       "                                                         max_depth=4,\n",
       "                                                         min_samples_leaf=2,\n",
       "                                                         n_estimators=600,\n",
       "                                                         random_state=21)],\n",
       "                          'est__class_weight': ['balanced'],\n",
       "                          'est__max_depth': [3, 4],\n",
       "                          'est__min_samples_leaf': [2, 3],\n",
       "                          'est__n_estimators': [400, 500, 600],\n",
       "                          'est__random_state': [21],\n",
       "                          'vect': [CountVectorizer(max_df=0.85,\n",
       "                                                   ngram_range=(1, 2))],\n",
       "                          'vect__max_df': [0.85], 'vect__min_df': [1],\n",
       "                          'vect__ngram_range': [(1, 2), (1, 1)]}],\n",
       "             return_train_score=True, scoring='f1_macro', verbose=2)"
      ]
     },
     "execution_count": 35,
     "metadata": {},
     "output_type": "execute_result"
    }
   ],
   "source": [
    "gs_RF.fit(X_train, y_train)"
   ]
  },
  {
   "cell_type": "code",
   "execution_count": 36,
   "id": "cf041743",
   "metadata": {
    "ExecuteTime": {
     "end_time": "2023-01-14T20:06:19.895481Z",
     "start_time": "2023-01-14T20:06:19.880278Z"
    }
   },
   "outputs": [],
   "source": [
    "df_RF = pd.DataFrame(gs_RF.cv_results_).sort_values('mean_test_score', ascending=False)"
   ]
  },
  {
   "cell_type": "code",
   "execution_count": 37,
   "id": "69d99b10",
   "metadata": {
    "ExecuteTime": {
     "end_time": "2023-01-14T20:06:20.259084Z",
     "start_time": "2023-01-14T20:06:20.243009Z"
    }
   },
   "outputs": [
    {
     "data": {
      "text/plain": [
       "0.24004719139510847"
      ]
     },
     "execution_count": 37,
     "metadata": {},
     "output_type": "execute_result"
    }
   ],
   "source": [
    "overfitting_rate = (df_RF.iloc[0]['mean_train_score'] - df_RF.iloc[0]['mean_test_score']) / df_RF.iloc[0]['mean_train_score']\n",
    "overfitting_rate"
   ]
  },
  {
   "cell_type": "code",
   "execution_count": 38,
   "id": "7fe9c74e",
   "metadata": {
    "ExecuteTime": {
     "end_time": "2023-01-14T20:06:22.683153Z",
     "start_time": "2023-01-14T20:06:22.669166Z"
    }
   },
   "outputs": [
    {
     "data": {
      "text/plain": [
       "0.7323699586065427"
      ]
     },
     "execution_count": 38,
     "metadata": {},
     "output_type": "execute_result"
    }
   ],
   "source": [
    "gs_RF.best_score_"
   ]
  },
  {
   "cell_type": "code",
   "execution_count": 39,
   "id": "6ff62171",
   "metadata": {
    "ExecuteTime": {
     "end_time": "2023-01-14T20:06:24.731466Z",
     "start_time": "2023-01-14T20:06:24.714750Z"
    }
   },
   "outputs": [
    {
     "data": {
      "text/plain": [
       "{'est': RandomForestClassifier(class_weight='balanced', max_depth=4, min_samples_leaf=2,\n",
       "                        n_estimators=600, random_state=21),\n",
       " 'est__class_weight': 'balanced',\n",
       " 'est__max_depth': 4,\n",
       " 'est__min_samples_leaf': 2,\n",
       " 'est__n_estimators': 600,\n",
       " 'est__random_state': 21,\n",
       " 'vect': CountVectorizer(max_df=0.85, ngram_range=(1, 2)),\n",
       " 'vect__max_df': 0.85,\n",
       " 'vect__min_df': 1,\n",
       " 'vect__ngram_range': (1, 2)}"
      ]
     },
     "execution_count": 39,
     "metadata": {},
     "output_type": "execute_result"
    }
   ],
   "source": [
    "gs_RF.best_params_"
   ]
  },
  {
   "cell_type": "code",
   "execution_count": 40,
   "id": "7bfd9bc5",
   "metadata": {
    "ExecuteTime": {
     "end_time": "2023-01-14T20:06:27.318224Z",
     "start_time": "2023-01-14T20:06:27.106899Z"
    }
   },
   "outputs": [
    {
     "data": {
      "text/plain": [
       "array(['стратегический', 'хостинг', 'аутсорсинг', 'стратегический альянс',\n",
       "       'интеллектуальный', 'господин', 'спонсорский', 'посредник',\n",
       "       'поставка', 'интеллектуальный собственность', 'брендинг', 'акция',\n",
       "       'франшиза', 'торговый посредник', 'торговый', 'партнёрский',\n",
       "       'сотрудничество', 'услуга консультант', 'собственность', 'альянс',\n",
       "       'консультант', 'дама господин', 'грузоотправитель', 'привлечение',\n",
       "       'договор соглашаться', 'транспортный', 'консультант предоставлять',\n",
       "       'обслуживание', 'номинальный', 'франчайзи', 'альянс заключить',\n",
       "       'предложение', 'совместный брендинг', 'приложение сотрудничество',\n",
       "       'франчайзинговый', 'разработка', 'дистрибьютор', 'рекламный',\n",
       "       'перевозчик', 'партнёр', 'колумбия', 'производственный',\n",
       "       'приложение интеллектуальный', 'граница', 'кобрендинг',\n",
       "       'сберегательный', 'иметь офис', 'акция агентский', 'дама',\n",
       "       'полезный'], dtype=object)"
      ]
     },
     "execution_count": 40,
     "metadata": {},
     "output_type": "execute_result"
    }
   ],
   "source": [
    "fi = gs_RF.best_estimator_['est'].feature_importances_\n",
    "f_v = gs_RF.best_estimator_['vect'].get_feature_names_out()\n",
    "f_v[np.argsort(fi)[::-1]][0:50]"
   ]
  },
  {
   "cell_type": "code",
   "execution_count": 41,
   "id": "d397c151",
   "metadata": {
    "ExecuteTime": {
     "end_time": "2023-01-14T20:07:04.510438Z",
     "start_time": "2023-01-14T20:07:04.255554Z"
    },
    "scrolled": true
   },
   "outputs": [
    {
     "name": "stdout",
     "output_type": "stream",
     "text": [
      "              precision    recall  f1-score   support\n",
      "\n",
      "           0       0.92      0.92      0.92        26\n",
      "           1       1.00      0.90      0.95        10\n",
      "           2       0.88      1.00      0.93        14\n",
      "           3       0.89      1.00      0.94        16\n",
      "           4       1.00      0.94      0.97        18\n",
      "           5       1.00      0.95      0.97        19\n",
      "           6       0.75      1.00      0.86         9\n",
      "           7       1.00      0.64      0.78        14\n",
      "           8       0.93      1.00      0.96        26\n",
      "           9       0.96      1.00      0.98        25\n",
      "          10       1.00      1.00      1.00        12\n",
      "          11       0.82      1.00      0.90        14\n",
      "          12       0.94      0.77      0.85        22\n",
      "          13       0.91      1.00      0.95        10\n",
      "          14       0.92      0.89      0.91        27\n",
      "          15       0.90      1.00      0.95        26\n",
      "          16       0.95      1.00      0.98        21\n",
      "          17       0.91      1.00      0.95        10\n",
      "          18       1.00      1.00      1.00        14\n",
      "          19       1.00      1.00      1.00        18\n",
      "          20       1.00      1.00      1.00         8\n",
      "          21       1.00      0.70      0.82        23\n",
      "          22       0.93      1.00      0.97        14\n",
      "          23       1.00      1.00      1.00        10\n",
      "          24       1.00      1.00      1.00         2\n",
      "\n",
      "    accuracy                           0.94       408\n",
      "   macro avg       0.94      0.95      0.94       408\n",
      "weighted avg       0.94      0.94      0.94       408\n",
      "\n"
     ]
    }
   ],
   "source": [
    "print(metrics.classification_report(y_train, gs_RF.predict(X_train)))"
   ]
  },
  {
   "cell_type": "code",
   "execution_count": 42,
   "id": "22368e02",
   "metadata": {
    "ExecuteTime": {
     "end_time": "2023-01-14T20:08:26.745702Z",
     "start_time": "2023-01-14T20:08:23.236294Z"
    },
    "scrolled": true
   },
   "outputs": [
    {
     "name": "stdout",
     "output_type": "stream",
     "text": [
      "              precision    recall  f1-score   support\n",
      "\n",
      "           0       0.89      1.00      0.94         8\n",
      "           1       0.50      0.25      0.33         4\n",
      "           2       0.83      1.00      0.91         5\n",
      "           3       0.50      0.60      0.55         5\n",
      "           4       1.00      1.00      1.00         6\n",
      "           5       0.86      0.86      0.86         7\n",
      "           6       0.50      1.00      0.67         3\n",
      "           7       1.00      0.40      0.57         5\n",
      "           8       1.00      1.00      1.00         8\n",
      "           9       0.88      0.88      0.88         8\n",
      "          10       0.80      1.00      0.89         4\n",
      "          11       0.71      1.00      0.83         5\n",
      "          12       0.50      0.12      0.20         8\n",
      "          13       0.75      1.00      0.86         3\n",
      "          14       0.64      0.78      0.70         9\n",
      "          15       0.88      0.88      0.88         8\n",
      "          16       0.86      0.86      0.86         7\n",
      "          17       1.00      1.00      1.00         3\n",
      "          18       0.83      1.00      0.91         5\n",
      "          19       1.00      1.00      1.00         6\n",
      "          20       1.00      1.00      1.00         3\n",
      "          21       0.57      0.50      0.53         8\n",
      "          22       1.00      0.80      0.89         5\n",
      "          23       1.00      1.00      1.00         3\n",
      "\n",
      "    accuracy                           0.81       136\n",
      "   macro avg       0.81      0.83      0.80       136\n",
      "weighted avg       0.81      0.81      0.79       136\n",
      "\n",
      "              precision    recall  f1-score   support\n",
      "\n",
      "           0       0.88      0.78      0.82         9\n",
      "           1       0.00      0.00      0.00         3\n",
      "           2       0.57      0.80      0.67         5\n",
      "           3       0.62      0.83      0.71         6\n",
      "           4       1.00      0.67      0.80         6\n",
      "           5       0.83      0.83      0.83         6\n",
      "           6       0.60      1.00      0.75         3\n",
      "           7       0.00      0.00      0.00         5\n",
      "           8       0.82      1.00      0.90         9\n",
      "           9       0.80      1.00      0.89         8\n",
      "          10       1.00      1.00      1.00         4\n",
      "          11       0.50      1.00      0.67         4\n",
      "          12       0.67      0.57      0.62         7\n",
      "          13       0.80      1.00      0.89         4\n",
      "          14       0.57      0.44      0.50         9\n",
      "          15       0.88      0.78      0.82         9\n",
      "          16       0.75      0.86      0.80         7\n",
      "          17       1.00      0.75      0.86         4\n",
      "          18       1.00      1.00      1.00         4\n",
      "          19       1.00      0.67      0.80         6\n",
      "          20       0.67      1.00      0.80         2\n",
      "          21       0.40      0.29      0.33         7\n",
      "          22       0.40      0.80      0.53         5\n",
      "          23       1.00      0.67      0.80         3\n",
      "          24       0.00      0.00      0.00         1\n",
      "\n",
      "    accuracy                           0.73       136\n",
      "   macro avg       0.67      0.71      0.67       136\n",
      "weighted avg       0.71      0.73      0.70       136\n",
      "\n",
      "              precision    recall  f1-score   support\n",
      "\n",
      "           0       0.80      0.89      0.84         9\n",
      "           1       0.33      0.33      0.33         3\n",
      "           2       0.50      0.75      0.60         4\n",
      "           3       0.83      1.00      0.91         5\n",
      "           4       1.00      1.00      1.00         6\n",
      "           5       1.00      1.00      1.00         6\n",
      "           6       0.67      0.67      0.67         3\n",
      "           7       0.50      0.25      0.33         4\n",
      "           8       0.82      1.00      0.90         9\n",
      "           9       0.75      1.00      0.86         9\n",
      "          10       1.00      1.00      1.00         4\n",
      "          11       0.71      1.00      0.83         5\n",
      "          12       1.00      0.14      0.25         7\n",
      "          13       1.00      1.00      1.00         3\n",
      "          14       0.86      0.67      0.75         9\n",
      "          15       0.64      0.78      0.70         9\n",
      "          16       0.78      1.00      0.88         7\n",
      "          17       0.60      1.00      0.75         3\n",
      "          18       1.00      0.20      0.33         5\n",
      "          19       1.00      1.00      1.00         6\n",
      "          20       1.00      0.67      0.80         3\n",
      "          21       0.86      0.75      0.80         8\n",
      "          22       1.00      0.50      0.67         4\n",
      "          23       0.80      1.00      0.89         4\n",
      "          24       0.00      0.00      0.00         1\n",
      "\n",
      "    accuracy                           0.79       136\n",
      "   macro avg       0.78      0.74      0.72       136\n",
      "weighted avg       0.81      0.79      0.76       136\n",
      "\n"
     ]
    }
   ],
   "source": [
    "for train_index, test_index in skf.split(X_train, y_train):\n",
    "    X_train_cv = np.array(X_train)[train_index]\n",
    "    y_train_cv = y_train[train_index]\n",
    "    \n",
    "    X_test_cv = np.array(X_train)[test_index]\n",
    "    y_test_cv = y_train[test_index]\n",
    "    \n",
    "    model = Pipeline([('vect', CountVectorizer(max_df=0.85, ngram_range=(1, 2))), \n",
    "                      ('est', RandomForestClassifier(class_weight='balanced', max_depth=4, min_samples_leaf=2,\n",
    "                        n_estimators=600, random_state=21))])\n",
    "    \n",
    "    model.fit(X_train_cv, y_train_cv)\n",
    "    y_pred = model.predict(X_test_cv)\n",
    "    \n",
    "    print(metrics.classification_report(y_test_cv, y_pred))"
   ]
  },
  {
   "cell_type": "markdown",
   "id": "7606d6a1",
   "metadata": {},
   "source": [
    "# Обучение и выгрузка итоговой модели"
   ]
  },
  {
   "cell_type": "code",
   "execution_count": 44,
   "id": "2971f92f",
   "metadata": {
    "ExecuteTime": {
     "end_time": "2023-01-14T20:10:02.312711Z",
     "start_time": "2023-01-14T20:10:00.997677Z"
    }
   },
   "outputs": [
    {
     "name": "stdout",
     "output_type": "stream",
     "text": [
      "              precision    recall  f1-score   support\n",
      "\n",
      "           0       0.67      0.67      0.67         6\n",
      "           1       0.00      0.00      0.00         2\n",
      "           2       0.67      1.00      0.80         4\n",
      "           3       0.80      1.00      0.89         4\n",
      "           4       1.00      0.80      0.89         5\n",
      "           5       1.00      1.00      1.00         5\n",
      "           6       0.40      1.00      0.57         2\n",
      "           7       0.00      0.00      0.00         3\n",
      "           8       0.86      1.00      0.92         6\n",
      "           9       0.75      1.00      0.86         6\n",
      "          10       0.75      1.00      0.86         3\n",
      "          11       0.60      1.00      0.75         3\n",
      "          12       0.67      0.33      0.44         6\n",
      "          13       0.25      0.33      0.29         3\n",
      "          14       0.83      0.71      0.77         7\n",
      "          15       0.67      0.29      0.40         7\n",
      "          16       1.00      0.60      0.75         5\n",
      "          17       1.00      1.00      1.00         2\n",
      "          18       1.00      1.00      1.00         4\n",
      "          19       0.67      1.00      0.80         4\n",
      "          20       0.00      0.00      0.00         2\n",
      "          21       0.57      0.67      0.62         6\n",
      "          22       1.00      0.67      0.80         3\n",
      "          23       0.75      1.00      0.86         3\n",
      "          24       0.00      0.00      0.00         1\n",
      "\n",
      "    accuracy                           0.72       102\n",
      "   macro avg       0.64      0.68      0.64       102\n",
      "weighted avg       0.71      0.72      0.69       102\n",
      "\n"
     ]
    }
   ],
   "source": [
    "\n",
    "model = Pipeline([('vect', CountVectorizer(max_df=0.85, ngram_range=(1, 2))), \n",
    "                  ('est', RandomForestClassifier(class_weight='balanced', max_depth=4, min_samples_leaf=2,\n",
    "                    n_estimators=600, random_state=21))])\n",
    "\n",
    "model.fit(X_train, y_train)\n",
    "y_pred = model.predict(X_test)\n",
    "\n",
    "print(metrics.classification_report(y_test, y_pred))"
   ]
  },
  {
   "cell_type": "code",
   "execution_count": 45,
   "id": "cbeb3f77",
   "metadata": {
    "ExecuteTime": {
     "end_time": "2023-01-14T20:11:33.579676Z",
     "start_time": "2023-01-14T20:11:32.260192Z"
    }
   },
   "outputs": [
    {
     "data": {
      "text/html": [
       "<style>#sk-container-id-5 {color: black;background-color: white;}#sk-container-id-5 pre{padding: 0;}#sk-container-id-5 div.sk-toggleable {background-color: white;}#sk-container-id-5 label.sk-toggleable__label {cursor: pointer;display: block;width: 100%;margin-bottom: 0;padding: 0.3em;box-sizing: border-box;text-align: center;}#sk-container-id-5 label.sk-toggleable__label-arrow:before {content: \"▸\";float: left;margin-right: 0.25em;color: #696969;}#sk-container-id-5 label.sk-toggleable__label-arrow:hover:before {color: black;}#sk-container-id-5 div.sk-estimator:hover label.sk-toggleable__label-arrow:before {color: black;}#sk-container-id-5 div.sk-toggleable__content {max-height: 0;max-width: 0;overflow: hidden;text-align: left;background-color: #f0f8ff;}#sk-container-id-5 div.sk-toggleable__content pre {margin: 0.2em;color: black;border-radius: 0.25em;background-color: #f0f8ff;}#sk-container-id-5 input.sk-toggleable__control:checked~div.sk-toggleable__content {max-height: 200px;max-width: 100%;overflow: auto;}#sk-container-id-5 input.sk-toggleable__control:checked~label.sk-toggleable__label-arrow:before {content: \"▾\";}#sk-container-id-5 div.sk-estimator input.sk-toggleable__control:checked~label.sk-toggleable__label {background-color: #d4ebff;}#sk-container-id-5 div.sk-label input.sk-toggleable__control:checked~label.sk-toggleable__label {background-color: #d4ebff;}#sk-container-id-5 input.sk-hidden--visually {border: 0;clip: rect(1px 1px 1px 1px);clip: rect(1px, 1px, 1px, 1px);height: 1px;margin: -1px;overflow: hidden;padding: 0;position: absolute;width: 1px;}#sk-container-id-5 div.sk-estimator {font-family: monospace;background-color: #f0f8ff;border: 1px dotted black;border-radius: 0.25em;box-sizing: border-box;margin-bottom: 0.5em;}#sk-container-id-5 div.sk-estimator:hover {background-color: #d4ebff;}#sk-container-id-5 div.sk-parallel-item::after {content: \"\";width: 100%;border-bottom: 1px solid gray;flex-grow: 1;}#sk-container-id-5 div.sk-label:hover label.sk-toggleable__label {background-color: #d4ebff;}#sk-container-id-5 div.sk-serial::before {content: \"\";position: absolute;border-left: 1px solid gray;box-sizing: border-box;top: 0;bottom: 0;left: 50%;z-index: 0;}#sk-container-id-5 div.sk-serial {display: flex;flex-direction: column;align-items: center;background-color: white;padding-right: 0.2em;padding-left: 0.2em;position: relative;}#sk-container-id-5 div.sk-item {position: relative;z-index: 1;}#sk-container-id-5 div.sk-parallel {display: flex;align-items: stretch;justify-content: center;background-color: white;position: relative;}#sk-container-id-5 div.sk-item::before, #sk-container-id-5 div.sk-parallel-item::before {content: \"\";position: absolute;border-left: 1px solid gray;box-sizing: border-box;top: 0;bottom: 0;left: 50%;z-index: -1;}#sk-container-id-5 div.sk-parallel-item {display: flex;flex-direction: column;z-index: 1;position: relative;background-color: white;}#sk-container-id-5 div.sk-parallel-item:first-child::after {align-self: flex-end;width: 50%;}#sk-container-id-5 div.sk-parallel-item:last-child::after {align-self: flex-start;width: 50%;}#sk-container-id-5 div.sk-parallel-item:only-child::after {width: 0;}#sk-container-id-5 div.sk-dashed-wrapped {border: 1px dashed gray;margin: 0 0.4em 0.5em 0.4em;box-sizing: border-box;padding-bottom: 0.4em;background-color: white;}#sk-container-id-5 div.sk-label label {font-family: monospace;font-weight: bold;display: inline-block;line-height: 1.2em;}#sk-container-id-5 div.sk-label-container {text-align: center;}#sk-container-id-5 div.sk-container {/* jupyter's `normalize.less` sets `[hidden] { display: none; }` but bootstrap.min.css set `[hidden] { display: none !important; }` so we also need the `!important` here to be able to override the default hidden behavior on the sphinx rendered scikit-learn.org. See: https://github.com/scikit-learn/scikit-learn/issues/21755 */display: inline-block !important;position: relative;}#sk-container-id-5 div.sk-text-repr-fallback {display: none;}</style><div id=\"sk-container-id-5\" class=\"sk-top-container\"><div class=\"sk-text-repr-fallback\"><pre>Pipeline(steps=[(&#x27;vect&#x27;, CountVectorizer(max_df=0.85, ngram_range=(1, 2))),\n",
       "                (&#x27;est&#x27;,\n",
       "                 RandomForestClassifier(class_weight=&#x27;balanced&#x27;, max_depth=4,\n",
       "                                        min_samples_leaf=2, n_estimators=600,\n",
       "                                        random_state=21))])</pre><b>In a Jupyter environment, please rerun this cell to show the HTML representation or trust the notebook. <br />On GitHub, the HTML representation is unable to render, please try loading this page with nbviewer.org.</b></div><div class=\"sk-container\" hidden><div class=\"sk-item sk-dashed-wrapped\"><div class=\"sk-label-container\"><div class=\"sk-label sk-toggleable\"><input class=\"sk-toggleable__control sk-hidden--visually\" id=\"sk-estimator-id-16\" type=\"checkbox\" ><label for=\"sk-estimator-id-16\" class=\"sk-toggleable__label sk-toggleable__label-arrow\">Pipeline</label><div class=\"sk-toggleable__content\"><pre>Pipeline(steps=[(&#x27;vect&#x27;, CountVectorizer(max_df=0.85, ngram_range=(1, 2))),\n",
       "                (&#x27;est&#x27;,\n",
       "                 RandomForestClassifier(class_weight=&#x27;balanced&#x27;, max_depth=4,\n",
       "                                        min_samples_leaf=2, n_estimators=600,\n",
       "                                        random_state=21))])</pre></div></div></div><div class=\"sk-serial\"><div class=\"sk-item\"><div class=\"sk-estimator sk-toggleable\"><input class=\"sk-toggleable__control sk-hidden--visually\" id=\"sk-estimator-id-17\" type=\"checkbox\" ><label for=\"sk-estimator-id-17\" class=\"sk-toggleable__label sk-toggleable__label-arrow\">CountVectorizer</label><div class=\"sk-toggleable__content\"><pre>CountVectorizer(max_df=0.85, ngram_range=(1, 2))</pre></div></div></div><div class=\"sk-item\"><div class=\"sk-estimator sk-toggleable\"><input class=\"sk-toggleable__control sk-hidden--visually\" id=\"sk-estimator-id-18\" type=\"checkbox\" ><label for=\"sk-estimator-id-18\" class=\"sk-toggleable__label sk-toggleable__label-arrow\">RandomForestClassifier</label><div class=\"sk-toggleable__content\"><pre>RandomForestClassifier(class_weight=&#x27;balanced&#x27;, max_depth=4, min_samples_leaf=2,\n",
       "                       n_estimators=600, random_state=21)</pre></div></div></div></div></div></div></div>"
      ],
      "text/plain": [
       "Pipeline(steps=[('vect', CountVectorizer(max_df=0.85, ngram_range=(1, 2))),\n",
       "                ('est',\n",
       "                 RandomForestClassifier(class_weight='balanced', max_depth=4,\n",
       "                                        min_samples_leaf=2, n_estimators=600,\n",
       "                                        random_state=21))])"
      ]
     },
     "execution_count": 45,
     "metadata": {},
     "output_type": "execute_result"
    }
   ],
   "source": [
    "model = Pipeline([('vect', CountVectorizer(max_df=0.85, ngram_range=(1, 2))), \n",
    "                  ('est', RandomForestClassifier(class_weight='balanced', max_depth=4, min_samples_leaf=2,\n",
    "                    n_estimators=600, random_state=21))])\n",
    "\n",
    "model.fit(filtered_sentence, Y)"
   ]
  },
  {
   "cell_type": "code",
   "execution_count": 47,
   "id": "0196b2cd",
   "metadata": {
    "ExecuteTime": {
     "end_time": "2023-01-14T20:11:47.069434Z",
     "start_time": "2023-01-14T20:11:47.024975Z"
    }
   },
   "outputs": [],
   "source": [
    "with open('../models/CUAD_baseline_RF_14_01.pkl', 'wb') as f:\n",
    "    pickle.dump(model, f)"
   ]
  },
  {
   "cell_type": "code",
   "execution_count": 556,
   "id": "c056a58d",
   "metadata": {
    "ExecuteTime": {
     "end_time": "2022-12-11T21:41:13.427819Z",
     "start_time": "2022-12-11T21:41:13.361712Z"
    }
   },
   "outputs": [],
   "source": []
  }
 ],
 "metadata": {
  "kernelspec": {
   "display_name": "Python 3 (ipykernel)",
   "language": "python",
   "name": "python3"
  },
  "language_info": {
   "codemirror_mode": {
    "name": "ipython",
    "version": 3
   },
   "file_extension": ".py",
   "mimetype": "text/x-python",
   "name": "python",
   "nbconvert_exporter": "python",
   "pygments_lexer": "ipython3",
   "version": "3.9.15"
  }
 },
 "nbformat": 4,
 "nbformat_minor": 5
}
